{
  "nbformat": 4,
  "nbformat_minor": 0,
  "metadata": {
    "kernelspec": {
      "name": "python3",
      "display_name": "Python 3"
    },
    "language_info": {
      "codemirror_mode": {
        "name": "ipython",
        "version": 3
      },
      "file_extension": ".py",
      "mimetype": "text/x-python",
      "name": "python",
      "nbconvert_exporter": "python",
      "pygments_lexer": "ipython3",
      "version": "3.7.3"
    },
    "colab": {
      "name": "Automated Radiology Report Generation_attention.ipynb",
      "provenance": [],
      "collapsed_sections": [],
      "machine_shape": "hm"
    },
    "accelerator": "GPU"
  },
  "cells": [
    {
      "cell_type": "code",
      "metadata": {
        "id": "cuZ4I8kg4riG",
        "colab_type": "code",
        "outputId": "f10619ac-9f11-41b5-f4d4-f8f833704050",
        "colab": {
          "base_uri": "https://localhost:8080/",
          "height": 34
        }
      },
      "source": [
        "from google.colab import drive\n",
        "drive.mount('/content/drive')"
      ],
      "execution_count": 1,
      "outputs": [
        {
          "output_type": "stream",
          "text": [
            "Drive already mounted at /content/drive; to attempt to forcibly remount, call drive.mount(\"/content/drive\", force_remount=True).\n"
          ],
          "name": "stdout"
        }
      ]
    },
    {
      "cell_type": "code",
      "metadata": {
        "id": "rPHF-I972n_j",
        "colab_type": "code",
        "outputId": "d93090cd-0ecc-4972-cc6e-0570257179a5",
        "colab": {
          "base_uri": "https://localhost:8080/",
          "height": 34
        }
      },
      "source": [
        "import numpy as np\n",
        "from numpy import array\n",
        "import pandas as pd\n",
        "import matplotlib.pyplot as plt\n",
        "%matplotlib inline\n",
        "import string\n",
        "import os\n",
        "from PIL import Image\n",
        "import glob\n",
        "from pickle import dump, load\n",
        "from time import time\n",
        "\n",
        "from PIL import Image\n",
        "\n",
        "from keras.preprocessing import sequence\n",
        "from keras.preprocessing import image\n",
        "from keras.applications.inception_v3 import preprocess_input\n",
        "from keras.applications.densenet import DenseNet121\n",
        "\n",
        "from keras.layers import Input\n",
        "from keras.layers import Dropout\n",
        "from keras.layers.core import Dense\n",
        "from keras.models import Model\n",
        "from keras import backend as K\n",
        "#print(dir(keras.applications.densenet.DenseNet121))\n",
        "\n",
        "from time import time\n",
        "import pickle\n",
        "from pickle import dump, load\n",
        "import glob\n",
        "import os\n",
        "from random import shuffle\n",
        "import importlib\n",
        "from configparser import ConfigParser"
      ],
      "execution_count": 2,
      "outputs": [
        {
          "output_type": "stream",
          "text": [
            "Using TensorFlow backend.\n"
          ],
          "name": "stderr"
        }
      ]
    },
    {
      "cell_type": "code",
      "metadata": {
        "id": "1oiCdt9B2n_n",
        "colab_type": "code",
        "outputId": "172e4e94-0d62-40f2-c3df-995cc78813ef",
        "colab": {
          "base_uri": "https://localhost:8080/",
          "height": 51
        }
      },
      "source": [
        "!pip install pydot"
      ],
      "execution_count": 3,
      "outputs": [
        {
          "output_type": "stream",
          "text": [
            "Requirement already satisfied: pydot in /usr/local/lib/python3.6/dist-packages (1.3.0)\n",
            "Requirement already satisfied: pyparsing>=2.1.4 in /usr/local/lib/python3.6/dist-packages (from pydot) (2.4.2)\n"
          ],
          "name": "stdout"
        }
      ]
    },
    {
      "cell_type": "code",
      "metadata": {
        "id": "B2oqhzfc5F3Y",
        "colab_type": "code",
        "colab": {}
      },
      "source": [
        "os.chdir('/content/drive/My Drive/r_r_g_project')"
      ],
      "execution_count": 0,
      "outputs": []
    },
    {
      "cell_type": "code",
      "metadata": {
        "id": "HhP7dKet2n_p",
        "colab_type": "code",
        "outputId": "1af6e317-d25e-4c51-a42f-1a1759df5594",
        "colab": {
          "base_uri": "https://localhost:8080/",
          "height": 34
        }
      },
      "source": [
        "first_sent = load(open(\"para.pickle\", \"rb\"))\n",
        "print('Photos: train=%d' % len(first_sent))"
      ],
      "execution_count": 5,
      "outputs": [
        {
          "output_type": "stream",
          "text": [
            "Photos: train=3668\n"
          ],
          "name": "stdout"
        }
      ]
    },
    {
      "cell_type": "code",
      "metadata": {
        "id": "pQhxK8tg2n_u",
        "colab_type": "code",
        "outputId": "066a607f-efce-4af7-9da6-f76f064cfc62",
        "colab": {
          "base_uri": "https://localhost:8080/",
          "height": 34
        }
      },
      "source": [
        "indication_sent = load(open(\"indication_keys.pickle\", \"rb\"))\n",
        "print('Photos: train=%d' % len(indication_sent))"
      ],
      "execution_count": 6,
      "outputs": [
        {
          "output_type": "stream",
          "text": [
            "Photos: train=3668\n"
          ],
          "name": "stdout"
        }
      ]
    },
    {
      "cell_type": "code",
      "metadata": {
        "id": "w_KA0gOr2n_w",
        "colab_type": "code",
        "outputId": "2ccad1b0-5a6b-49d7-9f3b-668277d67caf",
        "colab": {
          "base_uri": "https://localhost:8080/",
          "height": 34
        }
      },
      "source": [
        "# convert the loaded descriptions into a vocabulary of words\n",
        "def to_vocabulary(descriptions):\n",
        "    # build a list of all description strings\n",
        "    all_desc = set()\n",
        "    for key in descriptions.keys():\n",
        "        [all_desc.update(d.split()) for d in descriptions[key]]\n",
        "    return all_desc\n",
        "\n",
        "# summarize vocabulary\n",
        "vocabulary = to_vocabulary(first_sent)\n",
        "print('Original Vocabulary Size: %d' % len(vocabulary))"
      ],
      "execution_count": 7,
      "outputs": [
        {
          "output_type": "stream",
          "text": [
            "Original Vocabulary Size: 2311\n"
          ],
          "name": "stdout"
        }
      ]
    },
    {
      "cell_type": "code",
      "metadata": {
        "id": "o4DnAA7r2n_y",
        "colab_type": "code",
        "outputId": "d18c06e5-b086-47bd-ab8c-e023c8a16880",
        "colab": {
          "base_uri": "https://localhost:8080/",
          "height": 34
        }
      },
      "source": [
        "all_indications = set()\n",
        "for key in indication_sent.keys():\n",
        "    all_indications.update(indication_sent[key].split())\n",
        "indicationVocab = all_indications\n",
        "print('Original Vocabulary Size: %d' % len(indicationVocab))"
      ],
      "execution_count": 8,
      "outputs": [
        {
          "output_type": "stream",
          "text": [
            "Original Vocabulary Size: 1572\n"
          ],
          "name": "stdout"
        }
      ]
    },
    {
      "cell_type": "code",
      "metadata": {
        "id": "hYOMHrx02n_z",
        "colab_type": "code",
        "colab": {}
      },
      "source": [
        "# Below path contains all the images\n",
        "images = 'NLMCXR_png/'\n",
        "# Create a list of all image names in the directory\n",
        "img = glob.glob(images + '*.png')"
      ],
      "execution_count": 0,
      "outputs": []
    },
    {
      "cell_type": "code",
      "metadata": {
        "id": "WdRMqJDaJMG1",
        "colab_type": "code",
        "outputId": "c1858bd8-29eb-4a20-f32e-2b64640e2801",
        "colab": {
          "base_uri": "https://localhost:8080/",
          "height": 34
        }
      },
      "source": [
        "len(img)"
      ],
      "execution_count": 10,
      "outputs": [
        {
          "output_type": "execute_result",
          "data": {
            "text/plain": [
              "7480"
            ]
          },
          "metadata": {
            "tags": []
          },
          "execution_count": 10
        }
      ]
    },
    {
      "cell_type": "code",
      "metadata": {
        "id": "j_7otx4NErFy",
        "colab_type": "code",
        "colab": {}
      },
      "source": [
        "with open(\"loaded_img_names.pkl\", \"wb\") as encoded_pickle:\n",
        "     pickle.dump(img, encoded_pickle)"
      ],
      "execution_count": 0,
      "outputs": []
    },
    {
      "cell_type": "code",
      "metadata": {
        "id": "wQCIcxJyBmGT",
        "colab_type": "code",
        "colab": {}
      },
      "source": [
        "# Removing duplicate images\n",
        "\n",
        "for _ in range(5):\n",
        "  for item in img:\n",
        "    if '(' in item:\n",
        "      img.remove(item) "
      ],
      "execution_count": 0,
      "outputs": []
    },
    {
      "cell_type": "code",
      "metadata": {
        "id": "2xxxeyYhKjNq",
        "colab_type": "code",
        "outputId": "bc8a3dd2-4bac-4998-a3b2-2b89a49c898e",
        "colab": {
          "base_uri": "https://localhost:8080/",
          "height": 34
        }
      },
      "source": [
        "[item for item in img if '(' in item]"
      ],
      "execution_count": 13,
      "outputs": [
        {
          "output_type": "execute_result",
          "data": {
            "text/plain": [
              "[]"
            ]
          },
          "metadata": {
            "tags": []
          },
          "execution_count": 13
        }
      ]
    },
    {
      "cell_type": "code",
      "metadata": {
        "id": "_m_EZDhnLFt9",
        "colab_type": "code",
        "outputId": "b84882be-1222-4e58-dee9-272a89f3d719",
        "colab": {
          "base_uri": "https://localhost:8080/",
          "height": 34
        }
      },
      "source": [
        "len(img)"
      ],
      "execution_count": 14,
      "outputs": [
        {
          "output_type": "execute_result",
          "data": {
            "text/plain": [
              "7470"
            ]
          },
          "metadata": {
            "tags": []
          },
          "execution_count": 14
        }
      ]
    },
    {
      "cell_type": "code",
      "metadata": {
        "id": "hH7h68FO2n_1",
        "colab_type": "code",
        "colab": {}
      },
      "source": [
        "train_img_paths = img[:int(len(img)*0.70)]\n",
        "valid_img_paths = img[int(len(img)*0.70): int(len(img)*0.70 + len(img)*0.20)]\n",
        "test_img_paths =  img[int(len(img)*0.70 + len(img)*0.20):]"
      ],
      "execution_count": 0,
      "outputs": []
    },
    {
      "cell_type": "code",
      "metadata": {
        "id": "5A0cX83NKinh",
        "colab_type": "code",
        "colab": {}
      },
      "source": [
        ""
      ],
      "execution_count": 0,
      "outputs": []
    },
    {
      "cell_type": "code",
      "metadata": {
        "id": "VDbZRYZw2n_3",
        "colab_type": "code",
        "outputId": "d3e42e39-31ce-403f-9c77-ebe4b9911d1c",
        "colab": {
          "base_uri": "https://localhost:8080/",
          "height": 68
        }
      },
      "source": [
        "print(\"No of images for training: \", len(train_img_paths))\n",
        "print(\"No of images for validating: \", len(valid_img_paths))\n",
        "print(\"No of images for testing: \", len(test_img_paths))"
      ],
      "execution_count": 16,
      "outputs": [
        {
          "output_type": "stream",
          "text": [
            "No of images for training:  5229\n",
            "No of images for validating:  1494\n",
            "No of images for testing:  747\n"
          ],
          "name": "stdout"
        }
      ]
    },
    {
      "cell_type": "code",
      "metadata": {
        "id": "sZYPgs2M2n_5",
        "colab_type": "code",
        "colab": {}
      },
      "source": [
        "def get_train_valid_test_data(img):\n",
        "    img = [item.split(\"/\")[-1] for item in img]\n",
        "    train_imgs = img[:int(len(img)*0.70)]\n",
        "    valid_imgs = img[int(len(img)*0.70): int(len(img)*0.70 + len(img)*0.20)]\n",
        "    test_imgs =  img[int(len(img)*0.70 + len(img)*0.20):]\n",
        "    return train_imgs, valid_imgs, test_imgs"
      ],
      "execution_count": 0,
      "outputs": []
    },
    {
      "cell_type": "code",
      "metadata": {
        "id": "v2XDK3wb2n_6",
        "colab_type": "code",
        "colab": {}
      },
      "source": [
        "train_imgs, valid_imgs, test_imgs = get_train_valid_test_data(img)"
      ],
      "execution_count": 0,
      "outputs": []
    },
    {
      "cell_type": "code",
      "metadata": {
        "id": "NXRyAGRU2n_8",
        "colab_type": "code",
        "colab": {}
      },
      "source": [
        "weights_path = \"best_weights.h5\""
      ],
      "execution_count": 0,
      "outputs": []
    },
    {
      "cell_type": "code",
      "metadata": {
        "id": "Oa2avriO2n_-",
        "colab_type": "code",
        "colab": {}
      },
      "source": [
        "class ModelFactory:\n",
        "    \"\"\"\n",
        "    Model facotry for Keras default models\n",
        "    \"\"\"\n",
        "\n",
        "    def __init__(self):\n",
        "        self.models_ = dict(\n",
        "            VGG16=dict(\n",
        "                input_shape=(224, 224, 3),\n",
        "                module_name=\"vgg16\",\n",
        "                last_conv_layer=\"block5_conv3\",\n",
        "            ),\n",
        "            VGG19=dict(\n",
        "                input_shape=(224, 224, 3),\n",
        "                module_name=\"vgg19\",\n",
        "                last_conv_layer=\"block5_conv4\",\n",
        "            ),\n",
        "            DenseNet121=dict(\n",
        "                input_shape=(224, 224, 3),\n",
        "                module_name=\"densenet\",\n",
        "                last_conv_layer=\"bn\",\n",
        "            ),\n",
        "            ResNet50=dict(\n",
        "                input_shape=(224, 224, 3),\n",
        "                module_name=\"resnet50\",\n",
        "                last_conv_layer=\"activation_49\",\n",
        "            ),\n",
        "            InceptionV3=dict(\n",
        "                input_shape=(299, 299, 3),\n",
        "                module_name=\"inception_v3\",\n",
        "                last_conv_layer=\"mixed10\",\n",
        "            ),\n",
        "            InceptionResNetV2=dict(\n",
        "                input_shape=(299, 299, 3),\n",
        "                module_name=\"inception_resnet_v2\",\n",
        "                last_conv_layer=\"conv_7b_ac\",\n",
        "            ),\n",
        "            NASNetMobile=dict(\n",
        "                input_shape=(224, 224, 3),\n",
        "                module_name=\"nasnet\",\n",
        "                last_conv_layer=\"activation_188\",\n",
        "            ),\n",
        "                        NASNetLarge=dict(\n",
        "                input_shape=(331, 331, 3),\n",
        "                module_name=\"nasnet\",\n",
        "                last_conv_layer=\"activation_260\",\n",
        "            ),\n",
        "        )\n",
        "\n",
        "    def get_last_conv_layer(self, model_name):\n",
        "        return self.models_[model_name][\"last_conv_layer\"]\n",
        "\n",
        "    def get_input_size(self, model_name):\n",
        "        return self.models_[model_name][\"input_shape\"][:2]\n",
        "\n",
        "    def get_model(self, model_name=\"DenseNet121\", use_base_weights=True,\n",
        "                  weights_path=None, input_shape=None):\n",
        "\n",
        "        if use_base_weights is True:\n",
        "            base_weights = \"imagenet\"\n",
        "        else:\n",
        "            base_weights = None\n",
        "\n",
        "        base_model_class = getattr(\n",
        "            importlib.import_module(\n",
        "                f\"keras.applications.{self.models_[model_name]['module_name']}\"\n",
        "            ),\n",
        "            model_name)\n",
        "\n",
        "        if input_shape is None:\n",
        "            input_shape = self.models_[model_name][\"input_shape\"]\n",
        "\n",
        "        img_input = Input(shape=input_shape)\n",
        "\n",
        "        base_model = base_model_class(\n",
        "            include_top=False,\n",
        "            input_tensor=img_input,\n",
        "            input_shape=input_shape,\n",
        "            weights=base_weights,\n",
        "            pooling=\"avg\")\n",
        "        x = base_model.output\n",
        "        predictions = Dense(14, activation=\"sigmoid\", name=\"predictions\")(x)\n",
        "        model = Model(inputs=img_input, outputs=predictions)\n",
        "\n",
        "        if weights_path == \"\":\n",
        "            weights_path = None\n",
        "        \n",
        "\n",
        "        if weights_path is not None:\n",
        "            print(f\"load model weights_path: {weights_path}\")\n",
        "            model.load_weights(weights_path)\n",
        "        return model"
      ],
      "execution_count": 0,
      "outputs": []
    },
    {
      "cell_type": "code",
      "metadata": {
        "id": "1aEySmdU2oAA",
        "colab_type": "code",
        "outputId": "da117045-a05f-4ec7-8ae0-8661c207dedc",
        "colab": {
          "base_uri": "https://localhost:8080/",
          "height": 1000
        }
      },
      "source": [
        "model_factory = ModelFactory()\n",
        "model = model_factory.get_model(\n",
        "    use_base_weights=False,\n",
        "    weights_path=weights_path)\n",
        "print(model.summary())"
      ],
      "execution_count": 21,
      "outputs": [
        {
          "output_type": "stream",
          "text": [
            "WARNING:tensorflow:From /usr/local/lib/python3.6/dist-packages/keras/backend/tensorflow_backend.py:66: The name tf.get_default_graph is deprecated. Please use tf.compat.v1.get_default_graph instead.\n",
            "\n",
            "WARNING:tensorflow:From /usr/local/lib/python3.6/dist-packages/keras/backend/tensorflow_backend.py:541: The name tf.placeholder is deprecated. Please use tf.compat.v1.placeholder instead.\n",
            "\n",
            "WARNING:tensorflow:From /usr/local/lib/python3.6/dist-packages/keras/backend/tensorflow_backend.py:4432: The name tf.random_uniform is deprecated. Please use tf.random.uniform instead.\n",
            "\n",
            "WARNING:tensorflow:From /usr/local/lib/python3.6/dist-packages/keras/backend/tensorflow_backend.py:190: The name tf.get_default_session is deprecated. Please use tf.compat.v1.get_default_session instead.\n",
            "\n",
            "WARNING:tensorflow:From /usr/local/lib/python3.6/dist-packages/keras/backend/tensorflow_backend.py:197: The name tf.ConfigProto is deprecated. Please use tf.compat.v1.ConfigProto instead.\n",
            "\n",
            "WARNING:tensorflow:From /usr/local/lib/python3.6/dist-packages/keras/backend/tensorflow_backend.py:2041: The name tf.nn.fused_batch_norm is deprecated. Please use tf.compat.v1.nn.fused_batch_norm instead.\n",
            "\n",
            "WARNING:tensorflow:From /usr/local/lib/python3.6/dist-packages/keras/backend/tensorflow_backend.py:4267: The name tf.nn.max_pool is deprecated. Please use tf.nn.max_pool2d instead.\n",
            "\n",
            "WARNING:tensorflow:From /usr/local/lib/python3.6/dist-packages/keras/backend/tensorflow_backend.py:4271: The name tf.nn.avg_pool is deprecated. Please use tf.nn.avg_pool2d instead.\n",
            "\n",
            "load model weights_path: best_weights.h5\n",
            "Model: \"model_1\"\n",
            "__________________________________________________________________________________________________\n",
            "Layer (type)                    Output Shape         Param #     Connected to                     \n",
            "==================================================================================================\n",
            "input_1 (InputLayer)            (None, 224, 224, 3)  0                                            \n",
            "__________________________________________________________________________________________________\n",
            "zero_padding2d_1 (ZeroPadding2D (None, 230, 230, 3)  0           input_1[0][0]                    \n",
            "__________________________________________________________________________________________________\n",
            "conv1/conv (Conv2D)             (None, 112, 112, 64) 9408        zero_padding2d_1[0][0]           \n",
            "__________________________________________________________________________________________________\n",
            "conv1/bn (BatchNormalization)   (None, 112, 112, 64) 256         conv1/conv[0][0]                 \n",
            "__________________________________________________________________________________________________\n",
            "conv1/relu (Activation)         (None, 112, 112, 64) 0           conv1/bn[0][0]                   \n",
            "__________________________________________________________________________________________________\n",
            "zero_padding2d_2 (ZeroPadding2D (None, 114, 114, 64) 0           conv1/relu[0][0]                 \n",
            "__________________________________________________________________________________________________\n",
            "pool1 (MaxPooling2D)            (None, 56, 56, 64)   0           zero_padding2d_2[0][0]           \n",
            "__________________________________________________________________________________________________\n",
            "conv2_block1_0_bn (BatchNormali (None, 56, 56, 64)   256         pool1[0][0]                      \n",
            "__________________________________________________________________________________________________\n",
            "conv2_block1_0_relu (Activation (None, 56, 56, 64)   0           conv2_block1_0_bn[0][0]          \n",
            "__________________________________________________________________________________________________\n",
            "conv2_block1_1_conv (Conv2D)    (None, 56, 56, 128)  8192        conv2_block1_0_relu[0][0]        \n",
            "__________________________________________________________________________________________________\n",
            "conv2_block1_1_bn (BatchNormali (None, 56, 56, 128)  512         conv2_block1_1_conv[0][0]        \n",
            "__________________________________________________________________________________________________\n",
            "conv2_block1_1_relu (Activation (None, 56, 56, 128)  0           conv2_block1_1_bn[0][0]          \n",
            "__________________________________________________________________________________________________\n",
            "conv2_block1_2_conv (Conv2D)    (None, 56, 56, 32)   36864       conv2_block1_1_relu[0][0]        \n",
            "__________________________________________________________________________________________________\n",
            "conv2_block1_concat (Concatenat (None, 56, 56, 96)   0           pool1[0][0]                      \n",
            "                                                                 conv2_block1_2_conv[0][0]        \n",
            "__________________________________________________________________________________________________\n",
            "conv2_block2_0_bn (BatchNormali (None, 56, 56, 96)   384         conv2_block1_concat[0][0]        \n",
            "__________________________________________________________________________________________________\n",
            "conv2_block2_0_relu (Activation (None, 56, 56, 96)   0           conv2_block2_0_bn[0][0]          \n",
            "__________________________________________________________________________________________________\n",
            "conv2_block2_1_conv (Conv2D)    (None, 56, 56, 128)  12288       conv2_block2_0_relu[0][0]        \n",
            "__________________________________________________________________________________________________\n",
            "conv2_block2_1_bn (BatchNormali (None, 56, 56, 128)  512         conv2_block2_1_conv[0][0]        \n",
            "__________________________________________________________________________________________________\n",
            "conv2_block2_1_relu (Activation (None, 56, 56, 128)  0           conv2_block2_1_bn[0][0]          \n",
            "__________________________________________________________________________________________________\n",
            "conv2_block2_2_conv (Conv2D)    (None, 56, 56, 32)   36864       conv2_block2_1_relu[0][0]        \n",
            "__________________________________________________________________________________________________\n",
            "conv2_block2_concat (Concatenat (None, 56, 56, 128)  0           conv2_block1_concat[0][0]        \n",
            "                                                                 conv2_block2_2_conv[0][0]        \n",
            "__________________________________________________________________________________________________\n",
            "conv2_block3_0_bn (BatchNormali (None, 56, 56, 128)  512         conv2_block2_concat[0][0]        \n",
            "__________________________________________________________________________________________________\n",
            "conv2_block3_0_relu (Activation (None, 56, 56, 128)  0           conv2_block3_0_bn[0][0]          \n",
            "__________________________________________________________________________________________________\n",
            "conv2_block3_1_conv (Conv2D)    (None, 56, 56, 128)  16384       conv2_block3_0_relu[0][0]        \n",
            "__________________________________________________________________________________________________\n",
            "conv2_block3_1_bn (BatchNormali (None, 56, 56, 128)  512         conv2_block3_1_conv[0][0]        \n",
            "__________________________________________________________________________________________________\n",
            "conv2_block3_1_relu (Activation (None, 56, 56, 128)  0           conv2_block3_1_bn[0][0]          \n",
            "__________________________________________________________________________________________________\n",
            "conv2_block3_2_conv (Conv2D)    (None, 56, 56, 32)   36864       conv2_block3_1_relu[0][0]        \n",
            "__________________________________________________________________________________________________\n",
            "conv2_block3_concat (Concatenat (None, 56, 56, 160)  0           conv2_block2_concat[0][0]        \n",
            "                                                                 conv2_block3_2_conv[0][0]        \n",
            "__________________________________________________________________________________________________\n",
            "conv2_block4_0_bn (BatchNormali (None, 56, 56, 160)  640         conv2_block3_concat[0][0]        \n",
            "__________________________________________________________________________________________________\n",
            "conv2_block4_0_relu (Activation (None, 56, 56, 160)  0           conv2_block4_0_bn[0][0]          \n",
            "__________________________________________________________________________________________________\n",
            "conv2_block4_1_conv (Conv2D)    (None, 56, 56, 128)  20480       conv2_block4_0_relu[0][0]        \n",
            "__________________________________________________________________________________________________\n",
            "conv2_block4_1_bn (BatchNormali (None, 56, 56, 128)  512         conv2_block4_1_conv[0][0]        \n",
            "__________________________________________________________________________________________________\n",
            "conv2_block4_1_relu (Activation (None, 56, 56, 128)  0           conv2_block4_1_bn[0][0]          \n",
            "__________________________________________________________________________________________________\n",
            "conv2_block4_2_conv (Conv2D)    (None, 56, 56, 32)   36864       conv2_block4_1_relu[0][0]        \n",
            "__________________________________________________________________________________________________\n",
            "conv2_block4_concat (Concatenat (None, 56, 56, 192)  0           conv2_block3_concat[0][0]        \n",
            "                                                                 conv2_block4_2_conv[0][0]        \n",
            "__________________________________________________________________________________________________\n",
            "conv2_block5_0_bn (BatchNormali (None, 56, 56, 192)  768         conv2_block4_concat[0][0]        \n",
            "__________________________________________________________________________________________________\n",
            "conv2_block5_0_relu (Activation (None, 56, 56, 192)  0           conv2_block5_0_bn[0][0]          \n",
            "__________________________________________________________________________________________________\n",
            "conv2_block5_1_conv (Conv2D)    (None, 56, 56, 128)  24576       conv2_block5_0_relu[0][0]        \n",
            "__________________________________________________________________________________________________\n",
            "conv2_block5_1_bn (BatchNormali (None, 56, 56, 128)  512         conv2_block5_1_conv[0][0]        \n",
            "__________________________________________________________________________________________________\n",
            "conv2_block5_1_relu (Activation (None, 56, 56, 128)  0           conv2_block5_1_bn[0][0]          \n",
            "__________________________________________________________________________________________________\n",
            "conv2_block5_2_conv (Conv2D)    (None, 56, 56, 32)   36864       conv2_block5_1_relu[0][0]        \n",
            "__________________________________________________________________________________________________\n",
            "conv2_block5_concat (Concatenat (None, 56, 56, 224)  0           conv2_block4_concat[0][0]        \n",
            "                                                                 conv2_block5_2_conv[0][0]        \n",
            "__________________________________________________________________________________________________\n",
            "conv2_block6_0_bn (BatchNormali (None, 56, 56, 224)  896         conv2_block5_concat[0][0]        \n",
            "__________________________________________________________________________________________________\n",
            "conv2_block6_0_relu (Activation (None, 56, 56, 224)  0           conv2_block6_0_bn[0][0]          \n",
            "__________________________________________________________________________________________________\n",
            "conv2_block6_1_conv (Conv2D)    (None, 56, 56, 128)  28672       conv2_block6_0_relu[0][0]        \n",
            "__________________________________________________________________________________________________\n",
            "conv2_block6_1_bn (BatchNormali (None, 56, 56, 128)  512         conv2_block6_1_conv[0][0]        \n",
            "__________________________________________________________________________________________________\n",
            "conv2_block6_1_relu (Activation (None, 56, 56, 128)  0           conv2_block6_1_bn[0][0]          \n",
            "__________________________________________________________________________________________________\n",
            "conv2_block6_2_conv (Conv2D)    (None, 56, 56, 32)   36864       conv2_block6_1_relu[0][0]        \n",
            "__________________________________________________________________________________________________\n",
            "conv2_block6_concat (Concatenat (None, 56, 56, 256)  0           conv2_block5_concat[0][0]        \n",
            "                                                                 conv2_block6_2_conv[0][0]        \n",
            "__________________________________________________________________________________________________\n",
            "pool2_bn (BatchNormalization)   (None, 56, 56, 256)  1024        conv2_block6_concat[0][0]        \n",
            "__________________________________________________________________________________________________\n",
            "pool2_relu (Activation)         (None, 56, 56, 256)  0           pool2_bn[0][0]                   \n",
            "__________________________________________________________________________________________________\n",
            "pool2_conv (Conv2D)             (None, 56, 56, 128)  32768       pool2_relu[0][0]                 \n",
            "__________________________________________________________________________________________________\n",
            "pool2_pool (AveragePooling2D)   (None, 28, 28, 128)  0           pool2_conv[0][0]                 \n",
            "__________________________________________________________________________________________________\n",
            "conv3_block1_0_bn (BatchNormali (None, 28, 28, 128)  512         pool2_pool[0][0]                 \n",
            "__________________________________________________________________________________________________\n",
            "conv3_block1_0_relu (Activation (None, 28, 28, 128)  0           conv3_block1_0_bn[0][0]          \n",
            "__________________________________________________________________________________________________\n",
            "conv3_block1_1_conv (Conv2D)    (None, 28, 28, 128)  16384       conv3_block1_0_relu[0][0]        \n",
            "__________________________________________________________________________________________________\n",
            "conv3_block1_1_bn (BatchNormali (None, 28, 28, 128)  512         conv3_block1_1_conv[0][0]        \n",
            "__________________________________________________________________________________________________\n",
            "conv3_block1_1_relu (Activation (None, 28, 28, 128)  0           conv3_block1_1_bn[0][0]          \n",
            "__________________________________________________________________________________________________\n",
            "conv3_block1_2_conv (Conv2D)    (None, 28, 28, 32)   36864       conv3_block1_1_relu[0][0]        \n",
            "__________________________________________________________________________________________________\n",
            "conv3_block1_concat (Concatenat (None, 28, 28, 160)  0           pool2_pool[0][0]                 \n",
            "                                                                 conv3_block1_2_conv[0][0]        \n",
            "__________________________________________________________________________________________________\n",
            "conv3_block2_0_bn (BatchNormali (None, 28, 28, 160)  640         conv3_block1_concat[0][0]        \n",
            "__________________________________________________________________________________________________\n",
            "conv3_block2_0_relu (Activation (None, 28, 28, 160)  0           conv3_block2_0_bn[0][0]          \n",
            "__________________________________________________________________________________________________\n",
            "conv3_block2_1_conv (Conv2D)    (None, 28, 28, 128)  20480       conv3_block2_0_relu[0][0]        \n",
            "__________________________________________________________________________________________________\n",
            "conv3_block2_1_bn (BatchNormali (None, 28, 28, 128)  512         conv3_block2_1_conv[0][0]        \n",
            "__________________________________________________________________________________________________\n",
            "conv3_block2_1_relu (Activation (None, 28, 28, 128)  0           conv3_block2_1_bn[0][0]          \n",
            "__________________________________________________________________________________________________\n",
            "conv3_block2_2_conv (Conv2D)    (None, 28, 28, 32)   36864       conv3_block2_1_relu[0][0]        \n",
            "__________________________________________________________________________________________________\n",
            "conv3_block2_concat (Concatenat (None, 28, 28, 192)  0           conv3_block1_concat[0][0]        \n",
            "                                                                 conv3_block2_2_conv[0][0]        \n",
            "__________________________________________________________________________________________________\n",
            "conv3_block3_0_bn (BatchNormali (None, 28, 28, 192)  768         conv3_block2_concat[0][0]        \n",
            "__________________________________________________________________________________________________\n",
            "conv3_block3_0_relu (Activation (None, 28, 28, 192)  0           conv3_block3_0_bn[0][0]          \n",
            "__________________________________________________________________________________________________\n",
            "conv3_block3_1_conv (Conv2D)    (None, 28, 28, 128)  24576       conv3_block3_0_relu[0][0]        \n",
            "__________________________________________________________________________________________________\n",
            "conv3_block3_1_bn (BatchNormali (None, 28, 28, 128)  512         conv3_block3_1_conv[0][0]        \n",
            "__________________________________________________________________________________________________\n",
            "conv3_block3_1_relu (Activation (None, 28, 28, 128)  0           conv3_block3_1_bn[0][0]          \n",
            "__________________________________________________________________________________________________\n",
            "conv3_block3_2_conv (Conv2D)    (None, 28, 28, 32)   36864       conv3_block3_1_relu[0][0]        \n",
            "__________________________________________________________________________________________________\n",
            "conv3_block3_concat (Concatenat (None, 28, 28, 224)  0           conv3_block2_concat[0][0]        \n",
            "                                                                 conv3_block3_2_conv[0][0]        \n",
            "__________________________________________________________________________________________________\n",
            "conv3_block4_0_bn (BatchNormali (None, 28, 28, 224)  896         conv3_block3_concat[0][0]        \n",
            "__________________________________________________________________________________________________\n",
            "conv3_block4_0_relu (Activation (None, 28, 28, 224)  0           conv3_block4_0_bn[0][0]          \n",
            "__________________________________________________________________________________________________\n",
            "conv3_block4_1_conv (Conv2D)    (None, 28, 28, 128)  28672       conv3_block4_0_relu[0][0]        \n",
            "__________________________________________________________________________________________________\n",
            "conv3_block4_1_bn (BatchNormali (None, 28, 28, 128)  512         conv3_block4_1_conv[0][0]        \n",
            "__________________________________________________________________________________________________\n",
            "conv3_block4_1_relu (Activation (None, 28, 28, 128)  0           conv3_block4_1_bn[0][0]          \n",
            "__________________________________________________________________________________________________\n",
            "conv3_block4_2_conv (Conv2D)    (None, 28, 28, 32)   36864       conv3_block4_1_relu[0][0]        \n",
            "__________________________________________________________________________________________________\n",
            "conv3_block4_concat (Concatenat (None, 28, 28, 256)  0           conv3_block3_concat[0][0]        \n",
            "                                                                 conv3_block4_2_conv[0][0]        \n",
            "__________________________________________________________________________________________________\n",
            "conv3_block5_0_bn (BatchNormali (None, 28, 28, 256)  1024        conv3_block4_concat[0][0]        \n",
            "__________________________________________________________________________________________________\n",
            "conv3_block5_0_relu (Activation (None, 28, 28, 256)  0           conv3_block5_0_bn[0][0]          \n",
            "__________________________________________________________________________________________________\n",
            "conv3_block5_1_conv (Conv2D)    (None, 28, 28, 128)  32768       conv3_block5_0_relu[0][0]        \n",
            "__________________________________________________________________________________________________\n",
            "conv3_block5_1_bn (BatchNormali (None, 28, 28, 128)  512         conv3_block5_1_conv[0][0]        \n",
            "__________________________________________________________________________________________________\n",
            "conv3_block5_1_relu (Activation (None, 28, 28, 128)  0           conv3_block5_1_bn[0][0]          \n",
            "__________________________________________________________________________________________________\n",
            "conv3_block5_2_conv (Conv2D)    (None, 28, 28, 32)   36864       conv3_block5_1_relu[0][0]        \n",
            "__________________________________________________________________________________________________\n",
            "conv3_block5_concat (Concatenat (None, 28, 28, 288)  0           conv3_block4_concat[0][0]        \n",
            "                                                                 conv3_block5_2_conv[0][0]        \n",
            "__________________________________________________________________________________________________\n",
            "conv3_block6_0_bn (BatchNormali (None, 28, 28, 288)  1152        conv3_block5_concat[0][0]        \n",
            "__________________________________________________________________________________________________\n",
            "conv3_block6_0_relu (Activation (None, 28, 28, 288)  0           conv3_block6_0_bn[0][0]          \n",
            "__________________________________________________________________________________________________\n",
            "conv3_block6_1_conv (Conv2D)    (None, 28, 28, 128)  36864       conv3_block6_0_relu[0][0]        \n",
            "__________________________________________________________________________________________________\n",
            "conv3_block6_1_bn (BatchNormali (None, 28, 28, 128)  512         conv3_block6_1_conv[0][0]        \n",
            "__________________________________________________________________________________________________\n",
            "conv3_block6_1_relu (Activation (None, 28, 28, 128)  0           conv3_block6_1_bn[0][0]          \n",
            "__________________________________________________________________________________________________\n",
            "conv3_block6_2_conv (Conv2D)    (None, 28, 28, 32)   36864       conv3_block6_1_relu[0][0]        \n",
            "__________________________________________________________________________________________________\n",
            "conv3_block6_concat (Concatenat (None, 28, 28, 320)  0           conv3_block5_concat[0][0]        \n",
            "                                                                 conv3_block6_2_conv[0][0]        \n",
            "__________________________________________________________________________________________________\n",
            "conv3_block7_0_bn (BatchNormali (None, 28, 28, 320)  1280        conv3_block6_concat[0][0]        \n",
            "__________________________________________________________________________________________________\n",
            "conv3_block7_0_relu (Activation (None, 28, 28, 320)  0           conv3_block7_0_bn[0][0]          \n",
            "__________________________________________________________________________________________________\n",
            "conv3_block7_1_conv (Conv2D)    (None, 28, 28, 128)  40960       conv3_block7_0_relu[0][0]        \n",
            "__________________________________________________________________________________________________\n",
            "conv3_block7_1_bn (BatchNormali (None, 28, 28, 128)  512         conv3_block7_1_conv[0][0]        \n",
            "__________________________________________________________________________________________________\n",
            "conv3_block7_1_relu (Activation (None, 28, 28, 128)  0           conv3_block7_1_bn[0][0]          \n",
            "__________________________________________________________________________________________________\n",
            "conv3_block7_2_conv (Conv2D)    (None, 28, 28, 32)   36864       conv3_block7_1_relu[0][0]        \n",
            "__________________________________________________________________________________________________\n",
            "conv3_block7_concat (Concatenat (None, 28, 28, 352)  0           conv3_block6_concat[0][0]        \n",
            "                                                                 conv3_block7_2_conv[0][0]        \n",
            "__________________________________________________________________________________________________\n",
            "conv3_block8_0_bn (BatchNormali (None, 28, 28, 352)  1408        conv3_block7_concat[0][0]        \n",
            "__________________________________________________________________________________________________\n",
            "conv3_block8_0_relu (Activation (None, 28, 28, 352)  0           conv3_block8_0_bn[0][0]          \n",
            "__________________________________________________________________________________________________\n",
            "conv3_block8_1_conv (Conv2D)    (None, 28, 28, 128)  45056       conv3_block8_0_relu[0][0]        \n",
            "__________________________________________________________________________________________________\n",
            "conv3_block8_1_bn (BatchNormali (None, 28, 28, 128)  512         conv3_block8_1_conv[0][0]        \n",
            "__________________________________________________________________________________________________\n",
            "conv3_block8_1_relu (Activation (None, 28, 28, 128)  0           conv3_block8_1_bn[0][0]          \n",
            "__________________________________________________________________________________________________\n",
            "conv3_block8_2_conv (Conv2D)    (None, 28, 28, 32)   36864       conv3_block8_1_relu[0][0]        \n",
            "__________________________________________________________________________________________________\n",
            "conv3_block8_concat (Concatenat (None, 28, 28, 384)  0           conv3_block7_concat[0][0]        \n",
            "                                                                 conv3_block8_2_conv[0][0]        \n",
            "__________________________________________________________________________________________________\n",
            "conv3_block9_0_bn (BatchNormali (None, 28, 28, 384)  1536        conv3_block8_concat[0][0]        \n",
            "__________________________________________________________________________________________________\n",
            "conv3_block9_0_relu (Activation (None, 28, 28, 384)  0           conv3_block9_0_bn[0][0]          \n",
            "__________________________________________________________________________________________________\n",
            "conv3_block9_1_conv (Conv2D)    (None, 28, 28, 128)  49152       conv3_block9_0_relu[0][0]        \n",
            "__________________________________________________________________________________________________\n",
            "conv3_block9_1_bn (BatchNormali (None, 28, 28, 128)  512         conv3_block9_1_conv[0][0]        \n",
            "__________________________________________________________________________________________________\n",
            "conv3_block9_1_relu (Activation (None, 28, 28, 128)  0           conv3_block9_1_bn[0][0]          \n",
            "__________________________________________________________________________________________________\n",
            "conv3_block9_2_conv (Conv2D)    (None, 28, 28, 32)   36864       conv3_block9_1_relu[0][0]        \n",
            "__________________________________________________________________________________________________\n",
            "conv3_block9_concat (Concatenat (None, 28, 28, 416)  0           conv3_block8_concat[0][0]        \n",
            "                                                                 conv3_block9_2_conv[0][0]        \n",
            "__________________________________________________________________________________________________\n",
            "conv3_block10_0_bn (BatchNormal (None, 28, 28, 416)  1664        conv3_block9_concat[0][0]        \n",
            "__________________________________________________________________________________________________\n",
            "conv3_block10_0_relu (Activatio (None, 28, 28, 416)  0           conv3_block10_0_bn[0][0]         \n",
            "__________________________________________________________________________________________________\n",
            "conv3_block10_1_conv (Conv2D)   (None, 28, 28, 128)  53248       conv3_block10_0_relu[0][0]       \n",
            "__________________________________________________________________________________________________\n",
            "conv3_block10_1_bn (BatchNormal (None, 28, 28, 128)  512         conv3_block10_1_conv[0][0]       \n",
            "__________________________________________________________________________________________________\n",
            "conv3_block10_1_relu (Activatio (None, 28, 28, 128)  0           conv3_block10_1_bn[0][0]         \n",
            "__________________________________________________________________________________________________\n",
            "conv3_block10_2_conv (Conv2D)   (None, 28, 28, 32)   36864       conv3_block10_1_relu[0][0]       \n",
            "__________________________________________________________________________________________________\n",
            "conv3_block10_concat (Concatena (None, 28, 28, 448)  0           conv3_block9_concat[0][0]        \n",
            "                                                                 conv3_block10_2_conv[0][0]       \n",
            "__________________________________________________________________________________________________\n",
            "conv3_block11_0_bn (BatchNormal (None, 28, 28, 448)  1792        conv3_block10_concat[0][0]       \n",
            "__________________________________________________________________________________________________\n",
            "conv3_block11_0_relu (Activatio (None, 28, 28, 448)  0           conv3_block11_0_bn[0][0]         \n",
            "__________________________________________________________________________________________________\n",
            "conv3_block11_1_conv (Conv2D)   (None, 28, 28, 128)  57344       conv3_block11_0_relu[0][0]       \n",
            "__________________________________________________________________________________________________\n",
            "conv3_block11_1_bn (BatchNormal (None, 28, 28, 128)  512         conv3_block11_1_conv[0][0]       \n",
            "__________________________________________________________________________________________________\n",
            "conv3_block11_1_relu (Activatio (None, 28, 28, 128)  0           conv3_block11_1_bn[0][0]         \n",
            "__________________________________________________________________________________________________\n",
            "conv3_block11_2_conv (Conv2D)   (None, 28, 28, 32)   36864       conv3_block11_1_relu[0][0]       \n",
            "__________________________________________________________________________________________________\n",
            "conv3_block11_concat (Concatena (None, 28, 28, 480)  0           conv3_block10_concat[0][0]       \n",
            "                                                                 conv3_block11_2_conv[0][0]       \n",
            "__________________________________________________________________________________________________\n",
            "conv3_block12_0_bn (BatchNormal (None, 28, 28, 480)  1920        conv3_block11_concat[0][0]       \n",
            "__________________________________________________________________________________________________\n",
            "conv3_block12_0_relu (Activatio (None, 28, 28, 480)  0           conv3_block12_0_bn[0][0]         \n",
            "__________________________________________________________________________________________________\n",
            "conv3_block12_1_conv (Conv2D)   (None, 28, 28, 128)  61440       conv3_block12_0_relu[0][0]       \n",
            "__________________________________________________________________________________________________\n",
            "conv3_block12_1_bn (BatchNormal (None, 28, 28, 128)  512         conv3_block12_1_conv[0][0]       \n",
            "__________________________________________________________________________________________________\n",
            "conv3_block12_1_relu (Activatio (None, 28, 28, 128)  0           conv3_block12_1_bn[0][0]         \n",
            "__________________________________________________________________________________________________\n",
            "conv3_block12_2_conv (Conv2D)   (None, 28, 28, 32)   36864       conv3_block12_1_relu[0][0]       \n",
            "__________________________________________________________________________________________________\n",
            "conv3_block12_concat (Concatena (None, 28, 28, 512)  0           conv3_block11_concat[0][0]       \n",
            "                                                                 conv3_block12_2_conv[0][0]       \n",
            "__________________________________________________________________________________________________\n",
            "pool3_bn (BatchNormalization)   (None, 28, 28, 512)  2048        conv3_block12_concat[0][0]       \n",
            "__________________________________________________________________________________________________\n",
            "pool3_relu (Activation)         (None, 28, 28, 512)  0           pool3_bn[0][0]                   \n",
            "__________________________________________________________________________________________________\n",
            "pool3_conv (Conv2D)             (None, 28, 28, 256)  131072      pool3_relu[0][0]                 \n",
            "__________________________________________________________________________________________________\n",
            "pool3_pool (AveragePooling2D)   (None, 14, 14, 256)  0           pool3_conv[0][0]                 \n",
            "__________________________________________________________________________________________________\n",
            "conv4_block1_0_bn (BatchNormali (None, 14, 14, 256)  1024        pool3_pool[0][0]                 \n",
            "__________________________________________________________________________________________________\n",
            "conv4_block1_0_relu (Activation (None, 14, 14, 256)  0           conv4_block1_0_bn[0][0]          \n",
            "__________________________________________________________________________________________________\n",
            "conv4_block1_1_conv (Conv2D)    (None, 14, 14, 128)  32768       conv4_block1_0_relu[0][0]        \n",
            "__________________________________________________________________________________________________\n",
            "conv4_block1_1_bn (BatchNormali (None, 14, 14, 128)  512         conv4_block1_1_conv[0][0]        \n",
            "__________________________________________________________________________________________________\n",
            "conv4_block1_1_relu (Activation (None, 14, 14, 128)  0           conv4_block1_1_bn[0][0]          \n",
            "__________________________________________________________________________________________________\n",
            "conv4_block1_2_conv (Conv2D)    (None, 14, 14, 32)   36864       conv4_block1_1_relu[0][0]        \n",
            "__________________________________________________________________________________________________\n",
            "conv4_block1_concat (Concatenat (None, 14, 14, 288)  0           pool3_pool[0][0]                 \n",
            "                                                                 conv4_block1_2_conv[0][0]        \n",
            "__________________________________________________________________________________________________\n",
            "conv4_block2_0_bn (BatchNormali (None, 14, 14, 288)  1152        conv4_block1_concat[0][0]        \n",
            "__________________________________________________________________________________________________\n",
            "conv4_block2_0_relu (Activation (None, 14, 14, 288)  0           conv4_block2_0_bn[0][0]          \n",
            "__________________________________________________________________________________________________\n",
            "conv4_block2_1_conv (Conv2D)    (None, 14, 14, 128)  36864       conv4_block2_0_relu[0][0]        \n",
            "__________________________________________________________________________________________________\n",
            "conv4_block2_1_bn (BatchNormali (None, 14, 14, 128)  512         conv4_block2_1_conv[0][0]        \n",
            "__________________________________________________________________________________________________\n",
            "conv4_block2_1_relu (Activation (None, 14, 14, 128)  0           conv4_block2_1_bn[0][0]          \n",
            "__________________________________________________________________________________________________\n",
            "conv4_block2_2_conv (Conv2D)    (None, 14, 14, 32)   36864       conv4_block2_1_relu[0][0]        \n",
            "__________________________________________________________________________________________________\n",
            "conv4_block2_concat (Concatenat (None, 14, 14, 320)  0           conv4_block1_concat[0][0]        \n",
            "                                                                 conv4_block2_2_conv[0][0]        \n",
            "__________________________________________________________________________________________________\n",
            "conv4_block3_0_bn (BatchNormali (None, 14, 14, 320)  1280        conv4_block2_concat[0][0]        \n",
            "__________________________________________________________________________________________________\n",
            "conv4_block3_0_relu (Activation (None, 14, 14, 320)  0           conv4_block3_0_bn[0][0]          \n",
            "__________________________________________________________________________________________________\n",
            "conv4_block3_1_conv (Conv2D)    (None, 14, 14, 128)  40960       conv4_block3_0_relu[0][0]        \n",
            "__________________________________________________________________________________________________\n",
            "conv4_block3_1_bn (BatchNormali (None, 14, 14, 128)  512         conv4_block3_1_conv[0][0]        \n",
            "__________________________________________________________________________________________________\n",
            "conv4_block3_1_relu (Activation (None, 14, 14, 128)  0           conv4_block3_1_bn[0][0]          \n",
            "__________________________________________________________________________________________________\n",
            "conv4_block3_2_conv (Conv2D)    (None, 14, 14, 32)   36864       conv4_block3_1_relu[0][0]        \n",
            "__________________________________________________________________________________________________\n",
            "conv4_block3_concat (Concatenat (None, 14, 14, 352)  0           conv4_block2_concat[0][0]        \n",
            "                                                                 conv4_block3_2_conv[0][0]        \n",
            "__________________________________________________________________________________________________\n",
            "conv4_block4_0_bn (BatchNormali (None, 14, 14, 352)  1408        conv4_block3_concat[0][0]        \n",
            "__________________________________________________________________________________________________\n",
            "conv4_block4_0_relu (Activation (None, 14, 14, 352)  0           conv4_block4_0_bn[0][0]          \n",
            "__________________________________________________________________________________________________\n",
            "conv4_block4_1_conv (Conv2D)    (None, 14, 14, 128)  45056       conv4_block4_0_relu[0][0]        \n",
            "__________________________________________________________________________________________________\n",
            "conv4_block4_1_bn (BatchNormali (None, 14, 14, 128)  512         conv4_block4_1_conv[0][0]        \n",
            "__________________________________________________________________________________________________\n",
            "conv4_block4_1_relu (Activation (None, 14, 14, 128)  0           conv4_block4_1_bn[0][0]          \n",
            "__________________________________________________________________________________________________\n",
            "conv4_block4_2_conv (Conv2D)    (None, 14, 14, 32)   36864       conv4_block4_1_relu[0][0]        \n",
            "__________________________________________________________________________________________________\n",
            "conv4_block4_concat (Concatenat (None, 14, 14, 384)  0           conv4_block3_concat[0][0]        \n",
            "                                                                 conv4_block4_2_conv[0][0]        \n",
            "__________________________________________________________________________________________________\n",
            "conv4_block5_0_bn (BatchNormali (None, 14, 14, 384)  1536        conv4_block4_concat[0][0]        \n",
            "__________________________________________________________________________________________________\n",
            "conv4_block5_0_relu (Activation (None, 14, 14, 384)  0           conv4_block5_0_bn[0][0]          \n",
            "__________________________________________________________________________________________________\n",
            "conv4_block5_1_conv (Conv2D)    (None, 14, 14, 128)  49152       conv4_block5_0_relu[0][0]        \n",
            "__________________________________________________________________________________________________\n",
            "conv4_block5_1_bn (BatchNormali (None, 14, 14, 128)  512         conv4_block5_1_conv[0][0]        \n",
            "__________________________________________________________________________________________________\n",
            "conv4_block5_1_relu (Activation (None, 14, 14, 128)  0           conv4_block5_1_bn[0][0]          \n",
            "__________________________________________________________________________________________________\n",
            "conv4_block5_2_conv (Conv2D)    (None, 14, 14, 32)   36864       conv4_block5_1_relu[0][0]        \n",
            "__________________________________________________________________________________________________\n",
            "conv4_block5_concat (Concatenat (None, 14, 14, 416)  0           conv4_block4_concat[0][0]        \n",
            "                                                                 conv4_block5_2_conv[0][0]        \n",
            "__________________________________________________________________________________________________\n",
            "conv4_block6_0_bn (BatchNormali (None, 14, 14, 416)  1664        conv4_block5_concat[0][0]        \n",
            "__________________________________________________________________________________________________\n",
            "conv4_block6_0_relu (Activation (None, 14, 14, 416)  0           conv4_block6_0_bn[0][0]          \n",
            "__________________________________________________________________________________________________\n",
            "conv4_block6_1_conv (Conv2D)    (None, 14, 14, 128)  53248       conv4_block6_0_relu[0][0]        \n",
            "__________________________________________________________________________________________________\n",
            "conv4_block6_1_bn (BatchNormali (None, 14, 14, 128)  512         conv4_block6_1_conv[0][0]        \n",
            "__________________________________________________________________________________________________\n",
            "conv4_block6_1_relu (Activation (None, 14, 14, 128)  0           conv4_block6_1_bn[0][0]          \n",
            "__________________________________________________________________________________________________\n",
            "conv4_block6_2_conv (Conv2D)    (None, 14, 14, 32)   36864       conv4_block6_1_relu[0][0]        \n",
            "__________________________________________________________________________________________________\n",
            "conv4_block6_concat (Concatenat (None, 14, 14, 448)  0           conv4_block5_concat[0][0]        \n",
            "                                                                 conv4_block6_2_conv[0][0]        \n",
            "__________________________________________________________________________________________________\n",
            "conv4_block7_0_bn (BatchNormali (None, 14, 14, 448)  1792        conv4_block6_concat[0][0]        \n",
            "__________________________________________________________________________________________________\n",
            "conv4_block7_0_relu (Activation (None, 14, 14, 448)  0           conv4_block7_0_bn[0][0]          \n",
            "__________________________________________________________________________________________________\n",
            "conv4_block7_1_conv (Conv2D)    (None, 14, 14, 128)  57344       conv4_block7_0_relu[0][0]        \n",
            "__________________________________________________________________________________________________\n",
            "conv4_block7_1_bn (BatchNormali (None, 14, 14, 128)  512         conv4_block7_1_conv[0][0]        \n",
            "__________________________________________________________________________________________________\n",
            "conv4_block7_1_relu (Activation (None, 14, 14, 128)  0           conv4_block7_1_bn[0][0]          \n",
            "__________________________________________________________________________________________________\n",
            "conv4_block7_2_conv (Conv2D)    (None, 14, 14, 32)   36864       conv4_block7_1_relu[0][0]        \n",
            "__________________________________________________________________________________________________\n",
            "conv4_block7_concat (Concatenat (None, 14, 14, 480)  0           conv4_block6_concat[0][0]        \n",
            "                                                                 conv4_block7_2_conv[0][0]        \n",
            "__________________________________________________________________________________________________\n",
            "conv4_block8_0_bn (BatchNormali (None, 14, 14, 480)  1920        conv4_block7_concat[0][0]        \n",
            "__________________________________________________________________________________________________\n",
            "conv4_block8_0_relu (Activation (None, 14, 14, 480)  0           conv4_block8_0_bn[0][0]          \n",
            "__________________________________________________________________________________________________\n",
            "conv4_block8_1_conv (Conv2D)    (None, 14, 14, 128)  61440       conv4_block8_0_relu[0][0]        \n",
            "__________________________________________________________________________________________________\n",
            "conv4_block8_1_bn (BatchNormali (None, 14, 14, 128)  512         conv4_block8_1_conv[0][0]        \n",
            "__________________________________________________________________________________________________\n",
            "conv4_block8_1_relu (Activation (None, 14, 14, 128)  0           conv4_block8_1_bn[0][0]          \n",
            "__________________________________________________________________________________________________\n",
            "conv4_block8_2_conv (Conv2D)    (None, 14, 14, 32)   36864       conv4_block8_1_relu[0][0]        \n",
            "__________________________________________________________________________________________________\n",
            "conv4_block8_concat (Concatenat (None, 14, 14, 512)  0           conv4_block7_concat[0][0]        \n",
            "                                                                 conv4_block8_2_conv[0][0]        \n",
            "__________________________________________________________________________________________________\n",
            "conv4_block9_0_bn (BatchNormali (None, 14, 14, 512)  2048        conv4_block8_concat[0][0]        \n",
            "__________________________________________________________________________________________________\n",
            "conv4_block9_0_relu (Activation (None, 14, 14, 512)  0           conv4_block9_0_bn[0][0]          \n",
            "__________________________________________________________________________________________________\n",
            "conv4_block9_1_conv (Conv2D)    (None, 14, 14, 128)  65536       conv4_block9_0_relu[0][0]        \n",
            "__________________________________________________________________________________________________\n",
            "conv4_block9_1_bn (BatchNormali (None, 14, 14, 128)  512         conv4_block9_1_conv[0][0]        \n",
            "__________________________________________________________________________________________________\n",
            "conv4_block9_1_relu (Activation (None, 14, 14, 128)  0           conv4_block9_1_bn[0][0]          \n",
            "__________________________________________________________________________________________________\n",
            "conv4_block9_2_conv (Conv2D)    (None, 14, 14, 32)   36864       conv4_block9_1_relu[0][0]        \n",
            "__________________________________________________________________________________________________\n",
            "conv4_block9_concat (Concatenat (None, 14, 14, 544)  0           conv4_block8_concat[0][0]        \n",
            "                                                                 conv4_block9_2_conv[0][0]        \n",
            "__________________________________________________________________________________________________\n",
            "conv4_block10_0_bn (BatchNormal (None, 14, 14, 544)  2176        conv4_block9_concat[0][0]        \n",
            "__________________________________________________________________________________________________\n",
            "conv4_block10_0_relu (Activatio (None, 14, 14, 544)  0           conv4_block10_0_bn[0][0]         \n",
            "__________________________________________________________________________________________________\n",
            "conv4_block10_1_conv (Conv2D)   (None, 14, 14, 128)  69632       conv4_block10_0_relu[0][0]       \n",
            "__________________________________________________________________________________________________\n",
            "conv4_block10_1_bn (BatchNormal (None, 14, 14, 128)  512         conv4_block10_1_conv[0][0]       \n",
            "__________________________________________________________________________________________________\n",
            "conv4_block10_1_relu (Activatio (None, 14, 14, 128)  0           conv4_block10_1_bn[0][0]         \n",
            "__________________________________________________________________________________________________\n",
            "conv4_block10_2_conv (Conv2D)   (None, 14, 14, 32)   36864       conv4_block10_1_relu[0][0]       \n",
            "__________________________________________________________________________________________________\n",
            "conv4_block10_concat (Concatena (None, 14, 14, 576)  0           conv4_block9_concat[0][0]        \n",
            "                                                                 conv4_block10_2_conv[0][0]       \n",
            "__________________________________________________________________________________________________\n",
            "conv4_block11_0_bn (BatchNormal (None, 14, 14, 576)  2304        conv4_block10_concat[0][0]       \n",
            "__________________________________________________________________________________________________\n",
            "conv4_block11_0_relu (Activatio (None, 14, 14, 576)  0           conv4_block11_0_bn[0][0]         \n",
            "__________________________________________________________________________________________________\n",
            "conv4_block11_1_conv (Conv2D)   (None, 14, 14, 128)  73728       conv4_block11_0_relu[0][0]       \n",
            "__________________________________________________________________________________________________\n",
            "conv4_block11_1_bn (BatchNormal (None, 14, 14, 128)  512         conv4_block11_1_conv[0][0]       \n",
            "__________________________________________________________________________________________________\n",
            "conv4_block11_1_relu (Activatio (None, 14, 14, 128)  0           conv4_block11_1_bn[0][0]         \n",
            "__________________________________________________________________________________________________\n",
            "conv4_block11_2_conv (Conv2D)   (None, 14, 14, 32)   36864       conv4_block11_1_relu[0][0]       \n",
            "__________________________________________________________________________________________________\n",
            "conv4_block11_concat (Concatena (None, 14, 14, 608)  0           conv4_block10_concat[0][0]       \n",
            "                                                                 conv4_block11_2_conv[0][0]       \n",
            "__________________________________________________________________________________________________\n",
            "conv4_block12_0_bn (BatchNormal (None, 14, 14, 608)  2432        conv4_block11_concat[0][0]       \n",
            "__________________________________________________________________________________________________\n",
            "conv4_block12_0_relu (Activatio (None, 14, 14, 608)  0           conv4_block12_0_bn[0][0]         \n",
            "__________________________________________________________________________________________________\n",
            "conv4_block12_1_conv (Conv2D)   (None, 14, 14, 128)  77824       conv4_block12_0_relu[0][0]       \n",
            "__________________________________________________________________________________________________\n",
            "conv4_block12_1_bn (BatchNormal (None, 14, 14, 128)  512         conv4_block12_1_conv[0][0]       \n",
            "__________________________________________________________________________________________________\n",
            "conv4_block12_1_relu (Activatio (None, 14, 14, 128)  0           conv4_block12_1_bn[0][0]         \n",
            "__________________________________________________________________________________________________\n",
            "conv4_block12_2_conv (Conv2D)   (None, 14, 14, 32)   36864       conv4_block12_1_relu[0][0]       \n",
            "__________________________________________________________________________________________________\n",
            "conv4_block12_concat (Concatena (None, 14, 14, 640)  0           conv4_block11_concat[0][0]       \n",
            "                                                                 conv4_block12_2_conv[0][0]       \n",
            "__________________________________________________________________________________________________\n",
            "conv4_block13_0_bn (BatchNormal (None, 14, 14, 640)  2560        conv4_block12_concat[0][0]       \n",
            "__________________________________________________________________________________________________\n",
            "conv4_block13_0_relu (Activatio (None, 14, 14, 640)  0           conv4_block13_0_bn[0][0]         \n",
            "__________________________________________________________________________________________________\n",
            "conv4_block13_1_conv (Conv2D)   (None, 14, 14, 128)  81920       conv4_block13_0_relu[0][0]       \n",
            "__________________________________________________________________________________________________\n",
            "conv4_block13_1_bn (BatchNormal (None, 14, 14, 128)  512         conv4_block13_1_conv[0][0]       \n",
            "__________________________________________________________________________________________________\n",
            "conv4_block13_1_relu (Activatio (None, 14, 14, 128)  0           conv4_block13_1_bn[0][0]         \n",
            "__________________________________________________________________________________________________\n",
            "conv4_block13_2_conv (Conv2D)   (None, 14, 14, 32)   36864       conv4_block13_1_relu[0][0]       \n",
            "__________________________________________________________________________________________________\n",
            "conv4_block13_concat (Concatena (None, 14, 14, 672)  0           conv4_block12_concat[0][0]       \n",
            "                                                                 conv4_block13_2_conv[0][0]       \n",
            "__________________________________________________________________________________________________\n",
            "conv4_block14_0_bn (BatchNormal (None, 14, 14, 672)  2688        conv4_block13_concat[0][0]       \n",
            "__________________________________________________________________________________________________\n",
            "conv4_block14_0_relu (Activatio (None, 14, 14, 672)  0           conv4_block14_0_bn[0][0]         \n",
            "__________________________________________________________________________________________________\n",
            "conv4_block14_1_conv (Conv2D)   (None, 14, 14, 128)  86016       conv4_block14_0_relu[0][0]       \n",
            "__________________________________________________________________________________________________\n",
            "conv4_block14_1_bn (BatchNormal (None, 14, 14, 128)  512         conv4_block14_1_conv[0][0]       \n",
            "__________________________________________________________________________________________________\n",
            "conv4_block14_1_relu (Activatio (None, 14, 14, 128)  0           conv4_block14_1_bn[0][0]         \n",
            "__________________________________________________________________________________________________\n",
            "conv4_block14_2_conv (Conv2D)   (None, 14, 14, 32)   36864       conv4_block14_1_relu[0][0]       \n",
            "__________________________________________________________________________________________________\n",
            "conv4_block14_concat (Concatena (None, 14, 14, 704)  0           conv4_block13_concat[0][0]       \n",
            "                                                                 conv4_block14_2_conv[0][0]       \n",
            "__________________________________________________________________________________________________\n",
            "conv4_block15_0_bn (BatchNormal (None, 14, 14, 704)  2816        conv4_block14_concat[0][0]       \n",
            "__________________________________________________________________________________________________\n",
            "conv4_block15_0_relu (Activatio (None, 14, 14, 704)  0           conv4_block15_0_bn[0][0]         \n",
            "__________________________________________________________________________________________________\n",
            "conv4_block15_1_conv (Conv2D)   (None, 14, 14, 128)  90112       conv4_block15_0_relu[0][0]       \n",
            "__________________________________________________________________________________________________\n",
            "conv4_block15_1_bn (BatchNormal (None, 14, 14, 128)  512         conv4_block15_1_conv[0][0]       \n",
            "__________________________________________________________________________________________________\n",
            "conv4_block15_1_relu (Activatio (None, 14, 14, 128)  0           conv4_block15_1_bn[0][0]         \n",
            "__________________________________________________________________________________________________\n",
            "conv4_block15_2_conv (Conv2D)   (None, 14, 14, 32)   36864       conv4_block15_1_relu[0][0]       \n",
            "__________________________________________________________________________________________________\n",
            "conv4_block15_concat (Concatena (None, 14, 14, 736)  0           conv4_block14_concat[0][0]       \n",
            "                                                                 conv4_block15_2_conv[0][0]       \n",
            "__________________________________________________________________________________________________\n",
            "conv4_block16_0_bn (BatchNormal (None, 14, 14, 736)  2944        conv4_block15_concat[0][0]       \n",
            "__________________________________________________________________________________________________\n",
            "conv4_block16_0_relu (Activatio (None, 14, 14, 736)  0           conv4_block16_0_bn[0][0]         \n",
            "__________________________________________________________________________________________________\n",
            "conv4_block16_1_conv (Conv2D)   (None, 14, 14, 128)  94208       conv4_block16_0_relu[0][0]       \n",
            "__________________________________________________________________________________________________\n",
            "conv4_block16_1_bn (BatchNormal (None, 14, 14, 128)  512         conv4_block16_1_conv[0][0]       \n",
            "__________________________________________________________________________________________________\n",
            "conv4_block16_1_relu (Activatio (None, 14, 14, 128)  0           conv4_block16_1_bn[0][0]         \n",
            "__________________________________________________________________________________________________\n",
            "conv4_block16_2_conv (Conv2D)   (None, 14, 14, 32)   36864       conv4_block16_1_relu[0][0]       \n",
            "__________________________________________________________________________________________________\n",
            "conv4_block16_concat (Concatena (None, 14, 14, 768)  0           conv4_block15_concat[0][0]       \n",
            "                                                                 conv4_block16_2_conv[0][0]       \n",
            "__________________________________________________________________________________________________\n",
            "conv4_block17_0_bn (BatchNormal (None, 14, 14, 768)  3072        conv4_block16_concat[0][0]       \n",
            "__________________________________________________________________________________________________\n",
            "conv4_block17_0_relu (Activatio (None, 14, 14, 768)  0           conv4_block17_0_bn[0][0]         \n",
            "__________________________________________________________________________________________________\n",
            "conv4_block17_1_conv (Conv2D)   (None, 14, 14, 128)  98304       conv4_block17_0_relu[0][0]       \n",
            "__________________________________________________________________________________________________\n",
            "conv4_block17_1_bn (BatchNormal (None, 14, 14, 128)  512         conv4_block17_1_conv[0][0]       \n",
            "__________________________________________________________________________________________________\n",
            "conv4_block17_1_relu (Activatio (None, 14, 14, 128)  0           conv4_block17_1_bn[0][0]         \n",
            "__________________________________________________________________________________________________\n",
            "conv4_block17_2_conv (Conv2D)   (None, 14, 14, 32)   36864       conv4_block17_1_relu[0][0]       \n",
            "__________________________________________________________________________________________________\n",
            "conv4_block17_concat (Concatena (None, 14, 14, 800)  0           conv4_block16_concat[0][0]       \n",
            "                                                                 conv4_block17_2_conv[0][0]       \n",
            "__________________________________________________________________________________________________\n",
            "conv4_block18_0_bn (BatchNormal (None, 14, 14, 800)  3200        conv4_block17_concat[0][0]       \n",
            "__________________________________________________________________________________________________\n",
            "conv4_block18_0_relu (Activatio (None, 14, 14, 800)  0           conv4_block18_0_bn[0][0]         \n",
            "__________________________________________________________________________________________________\n",
            "conv4_block18_1_conv (Conv2D)   (None, 14, 14, 128)  102400      conv4_block18_0_relu[0][0]       \n",
            "__________________________________________________________________________________________________\n",
            "conv4_block18_1_bn (BatchNormal (None, 14, 14, 128)  512         conv4_block18_1_conv[0][0]       \n",
            "__________________________________________________________________________________________________\n",
            "conv4_block18_1_relu (Activatio (None, 14, 14, 128)  0           conv4_block18_1_bn[0][0]         \n",
            "__________________________________________________________________________________________________\n",
            "conv4_block18_2_conv (Conv2D)   (None, 14, 14, 32)   36864       conv4_block18_1_relu[0][0]       \n",
            "__________________________________________________________________________________________________\n",
            "conv4_block18_concat (Concatena (None, 14, 14, 832)  0           conv4_block17_concat[0][0]       \n",
            "                                                                 conv4_block18_2_conv[0][0]       \n",
            "__________________________________________________________________________________________________\n",
            "conv4_block19_0_bn (BatchNormal (None, 14, 14, 832)  3328        conv4_block18_concat[0][0]       \n",
            "__________________________________________________________________________________________________\n",
            "conv4_block19_0_relu (Activatio (None, 14, 14, 832)  0           conv4_block19_0_bn[0][0]         \n",
            "__________________________________________________________________________________________________\n",
            "conv4_block19_1_conv (Conv2D)   (None, 14, 14, 128)  106496      conv4_block19_0_relu[0][0]       \n",
            "__________________________________________________________________________________________________\n",
            "conv4_block19_1_bn (BatchNormal (None, 14, 14, 128)  512         conv4_block19_1_conv[0][0]       \n",
            "__________________________________________________________________________________________________\n",
            "conv4_block19_1_relu (Activatio (None, 14, 14, 128)  0           conv4_block19_1_bn[0][0]         \n",
            "__________________________________________________________________________________________________\n",
            "conv4_block19_2_conv (Conv2D)   (None, 14, 14, 32)   36864       conv4_block19_1_relu[0][0]       \n",
            "__________________________________________________________________________________________________\n",
            "conv4_block19_concat (Concatena (None, 14, 14, 864)  0           conv4_block18_concat[0][0]       \n",
            "                                                                 conv4_block19_2_conv[0][0]       \n",
            "__________________________________________________________________________________________________\n",
            "conv4_block20_0_bn (BatchNormal (None, 14, 14, 864)  3456        conv4_block19_concat[0][0]       \n",
            "__________________________________________________________________________________________________\n",
            "conv4_block20_0_relu (Activatio (None, 14, 14, 864)  0           conv4_block20_0_bn[0][0]         \n",
            "__________________________________________________________________________________________________\n",
            "conv4_block20_1_conv (Conv2D)   (None, 14, 14, 128)  110592      conv4_block20_0_relu[0][0]       \n",
            "__________________________________________________________________________________________________\n",
            "conv4_block20_1_bn (BatchNormal (None, 14, 14, 128)  512         conv4_block20_1_conv[0][0]       \n",
            "__________________________________________________________________________________________________\n",
            "conv4_block20_1_relu (Activatio (None, 14, 14, 128)  0           conv4_block20_1_bn[0][0]         \n",
            "__________________________________________________________________________________________________\n",
            "conv4_block20_2_conv (Conv2D)   (None, 14, 14, 32)   36864       conv4_block20_1_relu[0][0]       \n",
            "__________________________________________________________________________________________________\n",
            "conv4_block20_concat (Concatena (None, 14, 14, 896)  0           conv4_block19_concat[0][0]       \n",
            "                                                                 conv4_block20_2_conv[0][0]       \n",
            "__________________________________________________________________________________________________\n",
            "conv4_block21_0_bn (BatchNormal (None, 14, 14, 896)  3584        conv4_block20_concat[0][0]       \n",
            "__________________________________________________________________________________________________\n",
            "conv4_block21_0_relu (Activatio (None, 14, 14, 896)  0           conv4_block21_0_bn[0][0]         \n",
            "__________________________________________________________________________________________________\n",
            "conv4_block21_1_conv (Conv2D)   (None, 14, 14, 128)  114688      conv4_block21_0_relu[0][0]       \n",
            "__________________________________________________________________________________________________\n",
            "conv4_block21_1_bn (BatchNormal (None, 14, 14, 128)  512         conv4_block21_1_conv[0][0]       \n",
            "__________________________________________________________________________________________________\n",
            "conv4_block21_1_relu (Activatio (None, 14, 14, 128)  0           conv4_block21_1_bn[0][0]         \n",
            "__________________________________________________________________________________________________\n",
            "conv4_block21_2_conv (Conv2D)   (None, 14, 14, 32)   36864       conv4_block21_1_relu[0][0]       \n",
            "__________________________________________________________________________________________________\n",
            "conv4_block21_concat (Concatena (None, 14, 14, 928)  0           conv4_block20_concat[0][0]       \n",
            "                                                                 conv4_block21_2_conv[0][0]       \n",
            "__________________________________________________________________________________________________\n",
            "conv4_block22_0_bn (BatchNormal (None, 14, 14, 928)  3712        conv4_block21_concat[0][0]       \n",
            "__________________________________________________________________________________________________\n",
            "conv4_block22_0_relu (Activatio (None, 14, 14, 928)  0           conv4_block22_0_bn[0][0]         \n",
            "__________________________________________________________________________________________________\n",
            "conv4_block22_1_conv (Conv2D)   (None, 14, 14, 128)  118784      conv4_block22_0_relu[0][0]       \n",
            "__________________________________________________________________________________________________\n",
            "conv4_block22_1_bn (BatchNormal (None, 14, 14, 128)  512         conv4_block22_1_conv[0][0]       \n",
            "__________________________________________________________________________________________________\n",
            "conv4_block22_1_relu (Activatio (None, 14, 14, 128)  0           conv4_block22_1_bn[0][0]         \n",
            "__________________________________________________________________________________________________\n",
            "conv4_block22_2_conv (Conv2D)   (None, 14, 14, 32)   36864       conv4_block22_1_relu[0][0]       \n",
            "__________________________________________________________________________________________________\n",
            "conv4_block22_concat (Concatena (None, 14, 14, 960)  0           conv4_block21_concat[0][0]       \n",
            "                                                                 conv4_block22_2_conv[0][0]       \n",
            "__________________________________________________________________________________________________\n",
            "conv4_block23_0_bn (BatchNormal (None, 14, 14, 960)  3840        conv4_block22_concat[0][0]       \n",
            "__________________________________________________________________________________________________\n",
            "conv4_block23_0_relu (Activatio (None, 14, 14, 960)  0           conv4_block23_0_bn[0][0]         \n",
            "__________________________________________________________________________________________________\n",
            "conv4_block23_1_conv (Conv2D)   (None, 14, 14, 128)  122880      conv4_block23_0_relu[0][0]       \n",
            "__________________________________________________________________________________________________\n",
            "conv4_block23_1_bn (BatchNormal (None, 14, 14, 128)  512         conv4_block23_1_conv[0][0]       \n",
            "__________________________________________________________________________________________________\n",
            "conv4_block23_1_relu (Activatio (None, 14, 14, 128)  0           conv4_block23_1_bn[0][0]         \n",
            "__________________________________________________________________________________________________\n",
            "conv4_block23_2_conv (Conv2D)   (None, 14, 14, 32)   36864       conv4_block23_1_relu[0][0]       \n",
            "__________________________________________________________________________________________________\n",
            "conv4_block23_concat (Concatena (None, 14, 14, 992)  0           conv4_block22_concat[0][0]       \n",
            "                                                                 conv4_block23_2_conv[0][0]       \n",
            "__________________________________________________________________________________________________\n",
            "conv4_block24_0_bn (BatchNormal (None, 14, 14, 992)  3968        conv4_block23_concat[0][0]       \n",
            "__________________________________________________________________________________________________\n",
            "conv4_block24_0_relu (Activatio (None, 14, 14, 992)  0           conv4_block24_0_bn[0][0]         \n",
            "__________________________________________________________________________________________________\n",
            "conv4_block24_1_conv (Conv2D)   (None, 14, 14, 128)  126976      conv4_block24_0_relu[0][0]       \n",
            "__________________________________________________________________________________________________\n",
            "conv4_block24_1_bn (BatchNormal (None, 14, 14, 128)  512         conv4_block24_1_conv[0][0]       \n",
            "__________________________________________________________________________________________________\n",
            "conv4_block24_1_relu (Activatio (None, 14, 14, 128)  0           conv4_block24_1_bn[0][0]         \n",
            "__________________________________________________________________________________________________\n",
            "conv4_block24_2_conv (Conv2D)   (None, 14, 14, 32)   36864       conv4_block24_1_relu[0][0]       \n",
            "__________________________________________________________________________________________________\n",
            "conv4_block24_concat (Concatena (None, 14, 14, 1024) 0           conv4_block23_concat[0][0]       \n",
            "                                                                 conv4_block24_2_conv[0][0]       \n",
            "__________________________________________________________________________________________________\n",
            "pool4_bn (BatchNormalization)   (None, 14, 14, 1024) 4096        conv4_block24_concat[0][0]       \n",
            "__________________________________________________________________________________________________\n",
            "pool4_relu (Activation)         (None, 14, 14, 1024) 0           pool4_bn[0][0]                   \n",
            "__________________________________________________________________________________________________\n",
            "pool4_conv (Conv2D)             (None, 14, 14, 512)  524288      pool4_relu[0][0]                 \n",
            "__________________________________________________________________________________________________\n",
            "pool4_pool (AveragePooling2D)   (None, 7, 7, 512)    0           pool4_conv[0][0]                 \n",
            "__________________________________________________________________________________________________\n",
            "conv5_block1_0_bn (BatchNormali (None, 7, 7, 512)    2048        pool4_pool[0][0]                 \n",
            "__________________________________________________________________________________________________\n",
            "conv5_block1_0_relu (Activation (None, 7, 7, 512)    0           conv5_block1_0_bn[0][0]          \n",
            "__________________________________________________________________________________________________\n",
            "conv5_block1_1_conv (Conv2D)    (None, 7, 7, 128)    65536       conv5_block1_0_relu[0][0]        \n",
            "__________________________________________________________________________________________________\n",
            "conv5_block1_1_bn (BatchNormali (None, 7, 7, 128)    512         conv5_block1_1_conv[0][0]        \n",
            "__________________________________________________________________________________________________\n",
            "conv5_block1_1_relu (Activation (None, 7, 7, 128)    0           conv5_block1_1_bn[0][0]          \n",
            "__________________________________________________________________________________________________\n",
            "conv5_block1_2_conv (Conv2D)    (None, 7, 7, 32)     36864       conv5_block1_1_relu[0][0]        \n",
            "__________________________________________________________________________________________________\n",
            "conv5_block1_concat (Concatenat (None, 7, 7, 544)    0           pool4_pool[0][0]                 \n",
            "                                                                 conv5_block1_2_conv[0][0]        \n",
            "__________________________________________________________________________________________________\n",
            "conv5_block2_0_bn (BatchNormali (None, 7, 7, 544)    2176        conv5_block1_concat[0][0]        \n",
            "__________________________________________________________________________________________________\n",
            "conv5_block2_0_relu (Activation (None, 7, 7, 544)    0           conv5_block2_0_bn[0][0]          \n",
            "__________________________________________________________________________________________________\n",
            "conv5_block2_1_conv (Conv2D)    (None, 7, 7, 128)    69632       conv5_block2_0_relu[0][0]        \n",
            "__________________________________________________________________________________________________\n",
            "conv5_block2_1_bn (BatchNormali (None, 7, 7, 128)    512         conv5_block2_1_conv[0][0]        \n",
            "__________________________________________________________________________________________________\n",
            "conv5_block2_1_relu (Activation (None, 7, 7, 128)    0           conv5_block2_1_bn[0][0]          \n",
            "__________________________________________________________________________________________________\n",
            "conv5_block2_2_conv (Conv2D)    (None, 7, 7, 32)     36864       conv5_block2_1_relu[0][0]        \n",
            "__________________________________________________________________________________________________\n",
            "conv5_block2_concat (Concatenat (None, 7, 7, 576)    0           conv5_block1_concat[0][0]        \n",
            "                                                                 conv5_block2_2_conv[0][0]        \n",
            "__________________________________________________________________________________________________\n",
            "conv5_block3_0_bn (BatchNormali (None, 7, 7, 576)    2304        conv5_block2_concat[0][0]        \n",
            "__________________________________________________________________________________________________\n",
            "conv5_block3_0_relu (Activation (None, 7, 7, 576)    0           conv5_block3_0_bn[0][0]          \n",
            "__________________________________________________________________________________________________\n",
            "conv5_block3_1_conv (Conv2D)    (None, 7, 7, 128)    73728       conv5_block3_0_relu[0][0]        \n",
            "__________________________________________________________________________________________________\n",
            "conv5_block3_1_bn (BatchNormali (None, 7, 7, 128)    512         conv5_block3_1_conv[0][0]        \n",
            "__________________________________________________________________________________________________\n",
            "conv5_block3_1_relu (Activation (None, 7, 7, 128)    0           conv5_block3_1_bn[0][0]          \n",
            "__________________________________________________________________________________________________\n",
            "conv5_block3_2_conv (Conv2D)    (None, 7, 7, 32)     36864       conv5_block3_1_relu[0][0]        \n",
            "__________________________________________________________________________________________________\n",
            "conv5_block3_concat (Concatenat (None, 7, 7, 608)    0           conv5_block2_concat[0][0]        \n",
            "                                                                 conv5_block3_2_conv[0][0]        \n",
            "__________________________________________________________________________________________________\n",
            "conv5_block4_0_bn (BatchNormali (None, 7, 7, 608)    2432        conv5_block3_concat[0][0]        \n",
            "__________________________________________________________________________________________________\n",
            "conv5_block4_0_relu (Activation (None, 7, 7, 608)    0           conv5_block4_0_bn[0][0]          \n",
            "__________________________________________________________________________________________________\n",
            "conv5_block4_1_conv (Conv2D)    (None, 7, 7, 128)    77824       conv5_block4_0_relu[0][0]        \n",
            "__________________________________________________________________________________________________\n",
            "conv5_block4_1_bn (BatchNormali (None, 7, 7, 128)    512         conv5_block4_1_conv[0][0]        \n",
            "__________________________________________________________________________________________________\n",
            "conv5_block4_1_relu (Activation (None, 7, 7, 128)    0           conv5_block4_1_bn[0][0]          \n",
            "__________________________________________________________________________________________________\n",
            "conv5_block4_2_conv (Conv2D)    (None, 7, 7, 32)     36864       conv5_block4_1_relu[0][0]        \n",
            "__________________________________________________________________________________________________\n",
            "conv5_block4_concat (Concatenat (None, 7, 7, 640)    0           conv5_block3_concat[0][0]        \n",
            "                                                                 conv5_block4_2_conv[0][0]        \n",
            "__________________________________________________________________________________________________\n",
            "conv5_block5_0_bn (BatchNormali (None, 7, 7, 640)    2560        conv5_block4_concat[0][0]        \n",
            "__________________________________________________________________________________________________\n",
            "conv5_block5_0_relu (Activation (None, 7, 7, 640)    0           conv5_block5_0_bn[0][0]          \n",
            "__________________________________________________________________________________________________\n",
            "conv5_block5_1_conv (Conv2D)    (None, 7, 7, 128)    81920       conv5_block5_0_relu[0][0]        \n",
            "__________________________________________________________________________________________________\n",
            "conv5_block5_1_bn (BatchNormali (None, 7, 7, 128)    512         conv5_block5_1_conv[0][0]        \n",
            "__________________________________________________________________________________________________\n",
            "conv5_block5_1_relu (Activation (None, 7, 7, 128)    0           conv5_block5_1_bn[0][0]          \n",
            "__________________________________________________________________________________________________\n",
            "conv5_block5_2_conv (Conv2D)    (None, 7, 7, 32)     36864       conv5_block5_1_relu[0][0]        \n",
            "__________________________________________________________________________________________________\n",
            "conv5_block5_concat (Concatenat (None, 7, 7, 672)    0           conv5_block4_concat[0][0]        \n",
            "                                                                 conv5_block5_2_conv[0][0]        \n",
            "__________________________________________________________________________________________________\n",
            "conv5_block6_0_bn (BatchNormali (None, 7, 7, 672)    2688        conv5_block5_concat[0][0]        \n",
            "__________________________________________________________________________________________________\n",
            "conv5_block6_0_relu (Activation (None, 7, 7, 672)    0           conv5_block6_0_bn[0][0]          \n",
            "__________________________________________________________________________________________________\n",
            "conv5_block6_1_conv (Conv2D)    (None, 7, 7, 128)    86016       conv5_block6_0_relu[0][0]        \n",
            "__________________________________________________________________________________________________\n",
            "conv5_block6_1_bn (BatchNormali (None, 7, 7, 128)    512         conv5_block6_1_conv[0][0]        \n",
            "__________________________________________________________________________________________________\n",
            "conv5_block6_1_relu (Activation (None, 7, 7, 128)    0           conv5_block6_1_bn[0][0]          \n",
            "__________________________________________________________________________________________________\n",
            "conv5_block6_2_conv (Conv2D)    (None, 7, 7, 32)     36864       conv5_block6_1_relu[0][0]        \n",
            "__________________________________________________________________________________________________\n",
            "conv5_block6_concat (Concatenat (None, 7, 7, 704)    0           conv5_block5_concat[0][0]        \n",
            "                                                                 conv5_block6_2_conv[0][0]        \n",
            "__________________________________________________________________________________________________\n",
            "conv5_block7_0_bn (BatchNormali (None, 7, 7, 704)    2816        conv5_block6_concat[0][0]        \n",
            "__________________________________________________________________________________________________\n",
            "conv5_block7_0_relu (Activation (None, 7, 7, 704)    0           conv5_block7_0_bn[0][0]          \n",
            "__________________________________________________________________________________________________\n",
            "conv5_block7_1_conv (Conv2D)    (None, 7, 7, 128)    90112       conv5_block7_0_relu[0][0]        \n",
            "__________________________________________________________________________________________________\n",
            "conv5_block7_1_bn (BatchNormali (None, 7, 7, 128)    512         conv5_block7_1_conv[0][0]        \n",
            "__________________________________________________________________________________________________\n",
            "conv5_block7_1_relu (Activation (None, 7, 7, 128)    0           conv5_block7_1_bn[0][0]          \n",
            "__________________________________________________________________________________________________\n",
            "conv5_block7_2_conv (Conv2D)    (None, 7, 7, 32)     36864       conv5_block7_1_relu[0][0]        \n",
            "__________________________________________________________________________________________________\n",
            "conv5_block7_concat (Concatenat (None, 7, 7, 736)    0           conv5_block6_concat[0][0]        \n",
            "                                                                 conv5_block7_2_conv[0][0]        \n",
            "__________________________________________________________________________________________________\n",
            "conv5_block8_0_bn (BatchNormali (None, 7, 7, 736)    2944        conv5_block7_concat[0][0]        \n",
            "__________________________________________________________________________________________________\n",
            "conv5_block8_0_relu (Activation (None, 7, 7, 736)    0           conv5_block8_0_bn[0][0]          \n",
            "__________________________________________________________________________________________________\n",
            "conv5_block8_1_conv (Conv2D)    (None, 7, 7, 128)    94208       conv5_block8_0_relu[0][0]        \n",
            "__________________________________________________________________________________________________\n",
            "conv5_block8_1_bn (BatchNormali (None, 7, 7, 128)    512         conv5_block8_1_conv[0][0]        \n",
            "__________________________________________________________________________________________________\n",
            "conv5_block8_1_relu (Activation (None, 7, 7, 128)    0           conv5_block8_1_bn[0][0]          \n",
            "__________________________________________________________________________________________________\n",
            "conv5_block8_2_conv (Conv2D)    (None, 7, 7, 32)     36864       conv5_block8_1_relu[0][0]        \n",
            "__________________________________________________________________________________________________\n",
            "conv5_block8_concat (Concatenat (None, 7, 7, 768)    0           conv5_block7_concat[0][0]        \n",
            "                                                                 conv5_block8_2_conv[0][0]        \n",
            "__________________________________________________________________________________________________\n",
            "conv5_block9_0_bn (BatchNormali (None, 7, 7, 768)    3072        conv5_block8_concat[0][0]        \n",
            "__________________________________________________________________________________________________\n",
            "conv5_block9_0_relu (Activation (None, 7, 7, 768)    0           conv5_block9_0_bn[0][0]          \n",
            "__________________________________________________________________________________________________\n",
            "conv5_block9_1_conv (Conv2D)    (None, 7, 7, 128)    98304       conv5_block9_0_relu[0][0]        \n",
            "__________________________________________________________________________________________________\n",
            "conv5_block9_1_bn (BatchNormali (None, 7, 7, 128)    512         conv5_block9_1_conv[0][0]        \n",
            "__________________________________________________________________________________________________\n",
            "conv5_block9_1_relu (Activation (None, 7, 7, 128)    0           conv5_block9_1_bn[0][0]          \n",
            "__________________________________________________________________________________________________\n",
            "conv5_block9_2_conv (Conv2D)    (None, 7, 7, 32)     36864       conv5_block9_1_relu[0][0]        \n",
            "__________________________________________________________________________________________________\n",
            "conv5_block9_concat (Concatenat (None, 7, 7, 800)    0           conv5_block8_concat[0][0]        \n",
            "                                                                 conv5_block9_2_conv[0][0]        \n",
            "__________________________________________________________________________________________________\n",
            "conv5_block10_0_bn (BatchNormal (None, 7, 7, 800)    3200        conv5_block9_concat[0][0]        \n",
            "__________________________________________________________________________________________________\n",
            "conv5_block10_0_relu (Activatio (None, 7, 7, 800)    0           conv5_block10_0_bn[0][0]         \n",
            "__________________________________________________________________________________________________\n",
            "conv5_block10_1_conv (Conv2D)   (None, 7, 7, 128)    102400      conv5_block10_0_relu[0][0]       \n",
            "__________________________________________________________________________________________________\n",
            "conv5_block10_1_bn (BatchNormal (None, 7, 7, 128)    512         conv5_block10_1_conv[0][0]       \n",
            "__________________________________________________________________________________________________\n",
            "conv5_block10_1_relu (Activatio (None, 7, 7, 128)    0           conv5_block10_1_bn[0][0]         \n",
            "__________________________________________________________________________________________________\n",
            "conv5_block10_2_conv (Conv2D)   (None, 7, 7, 32)     36864       conv5_block10_1_relu[0][0]       \n",
            "__________________________________________________________________________________________________\n",
            "conv5_block10_concat (Concatena (None, 7, 7, 832)    0           conv5_block9_concat[0][0]        \n",
            "                                                                 conv5_block10_2_conv[0][0]       \n",
            "__________________________________________________________________________________________________\n",
            "conv5_block11_0_bn (BatchNormal (None, 7, 7, 832)    3328        conv5_block10_concat[0][0]       \n",
            "__________________________________________________________________________________________________\n",
            "conv5_block11_0_relu (Activatio (None, 7, 7, 832)    0           conv5_block11_0_bn[0][0]         \n",
            "__________________________________________________________________________________________________\n",
            "conv5_block11_1_conv (Conv2D)   (None, 7, 7, 128)    106496      conv5_block11_0_relu[0][0]       \n",
            "__________________________________________________________________________________________________\n",
            "conv5_block11_1_bn (BatchNormal (None, 7, 7, 128)    512         conv5_block11_1_conv[0][0]       \n",
            "__________________________________________________________________________________________________\n",
            "conv5_block11_1_relu (Activatio (None, 7, 7, 128)    0           conv5_block11_1_bn[0][0]         \n",
            "__________________________________________________________________________________________________\n",
            "conv5_block11_2_conv (Conv2D)   (None, 7, 7, 32)     36864       conv5_block11_1_relu[0][0]       \n",
            "__________________________________________________________________________________________________\n",
            "conv5_block11_concat (Concatena (None, 7, 7, 864)    0           conv5_block10_concat[0][0]       \n",
            "                                                                 conv5_block11_2_conv[0][0]       \n",
            "__________________________________________________________________________________________________\n",
            "conv5_block12_0_bn (BatchNormal (None, 7, 7, 864)    3456        conv5_block11_concat[0][0]       \n",
            "__________________________________________________________________________________________________\n",
            "conv5_block12_0_relu (Activatio (None, 7, 7, 864)    0           conv5_block12_0_bn[0][0]         \n",
            "__________________________________________________________________________________________________\n",
            "conv5_block12_1_conv (Conv2D)   (None, 7, 7, 128)    110592      conv5_block12_0_relu[0][0]       \n",
            "__________________________________________________________________________________________________\n",
            "conv5_block12_1_bn (BatchNormal (None, 7, 7, 128)    512         conv5_block12_1_conv[0][0]       \n",
            "__________________________________________________________________________________________________\n",
            "conv5_block12_1_relu (Activatio (None, 7, 7, 128)    0           conv5_block12_1_bn[0][0]         \n",
            "__________________________________________________________________________________________________\n",
            "conv5_block12_2_conv (Conv2D)   (None, 7, 7, 32)     36864       conv5_block12_1_relu[0][0]       \n",
            "__________________________________________________________________________________________________\n",
            "conv5_block12_concat (Concatena (None, 7, 7, 896)    0           conv5_block11_concat[0][0]       \n",
            "                                                                 conv5_block12_2_conv[0][0]       \n",
            "__________________________________________________________________________________________________\n",
            "conv5_block13_0_bn (BatchNormal (None, 7, 7, 896)    3584        conv5_block12_concat[0][0]       \n",
            "__________________________________________________________________________________________________\n",
            "conv5_block13_0_relu (Activatio (None, 7, 7, 896)    0           conv5_block13_0_bn[0][0]         \n",
            "__________________________________________________________________________________________________\n",
            "conv5_block13_1_conv (Conv2D)   (None, 7, 7, 128)    114688      conv5_block13_0_relu[0][0]       \n",
            "__________________________________________________________________________________________________\n",
            "conv5_block13_1_bn (BatchNormal (None, 7, 7, 128)    512         conv5_block13_1_conv[0][0]       \n",
            "__________________________________________________________________________________________________\n",
            "conv5_block13_1_relu (Activatio (None, 7, 7, 128)    0           conv5_block13_1_bn[0][0]         \n",
            "__________________________________________________________________________________________________\n",
            "conv5_block13_2_conv (Conv2D)   (None, 7, 7, 32)     36864       conv5_block13_1_relu[0][0]       \n",
            "__________________________________________________________________________________________________\n",
            "conv5_block13_concat (Concatena (None, 7, 7, 928)    0           conv5_block12_concat[0][0]       \n",
            "                                                                 conv5_block13_2_conv[0][0]       \n",
            "__________________________________________________________________________________________________\n",
            "conv5_block14_0_bn (BatchNormal (None, 7, 7, 928)    3712        conv5_block13_concat[0][0]       \n",
            "__________________________________________________________________________________________________\n",
            "conv5_block14_0_relu (Activatio (None, 7, 7, 928)    0           conv5_block14_0_bn[0][0]         \n",
            "__________________________________________________________________________________________________\n",
            "conv5_block14_1_conv (Conv2D)   (None, 7, 7, 128)    118784      conv5_block14_0_relu[0][0]       \n",
            "__________________________________________________________________________________________________\n",
            "conv5_block14_1_bn (BatchNormal (None, 7, 7, 128)    512         conv5_block14_1_conv[0][0]       \n",
            "__________________________________________________________________________________________________\n",
            "conv5_block14_1_relu (Activatio (None, 7, 7, 128)    0           conv5_block14_1_bn[0][0]         \n",
            "__________________________________________________________________________________________________\n",
            "conv5_block14_2_conv (Conv2D)   (None, 7, 7, 32)     36864       conv5_block14_1_relu[0][0]       \n",
            "__________________________________________________________________________________________________\n",
            "conv5_block14_concat (Concatena (None, 7, 7, 960)    0           conv5_block13_concat[0][0]       \n",
            "                                                                 conv5_block14_2_conv[0][0]       \n",
            "__________________________________________________________________________________________________\n",
            "conv5_block15_0_bn (BatchNormal (None, 7, 7, 960)    3840        conv5_block14_concat[0][0]       \n",
            "__________________________________________________________________________________________________\n",
            "conv5_block15_0_relu (Activatio (None, 7, 7, 960)    0           conv5_block15_0_bn[0][0]         \n",
            "__________________________________________________________________________________________________\n",
            "conv5_block15_1_conv (Conv2D)   (None, 7, 7, 128)    122880      conv5_block15_0_relu[0][0]       \n",
            "__________________________________________________________________________________________________\n",
            "conv5_block15_1_bn (BatchNormal (None, 7, 7, 128)    512         conv5_block15_1_conv[0][0]       \n",
            "__________________________________________________________________________________________________\n",
            "conv5_block15_1_relu (Activatio (None, 7, 7, 128)    0           conv5_block15_1_bn[0][0]         \n",
            "__________________________________________________________________________________________________\n",
            "conv5_block15_2_conv (Conv2D)   (None, 7, 7, 32)     36864       conv5_block15_1_relu[0][0]       \n",
            "__________________________________________________________________________________________________\n",
            "conv5_block15_concat (Concatena (None, 7, 7, 992)    0           conv5_block14_concat[0][0]       \n",
            "                                                                 conv5_block15_2_conv[0][0]       \n",
            "__________________________________________________________________________________________________\n",
            "conv5_block16_0_bn (BatchNormal (None, 7, 7, 992)    3968        conv5_block15_concat[0][0]       \n",
            "__________________________________________________________________________________________________\n",
            "conv5_block16_0_relu (Activatio (None, 7, 7, 992)    0           conv5_block16_0_bn[0][0]         \n",
            "__________________________________________________________________________________________________\n",
            "conv5_block16_1_conv (Conv2D)   (None, 7, 7, 128)    126976      conv5_block16_0_relu[0][0]       \n",
            "__________________________________________________________________________________________________\n",
            "conv5_block16_1_bn (BatchNormal (None, 7, 7, 128)    512         conv5_block16_1_conv[0][0]       \n",
            "__________________________________________________________________________________________________\n",
            "conv5_block16_1_relu (Activatio (None, 7, 7, 128)    0           conv5_block16_1_bn[0][0]         \n",
            "__________________________________________________________________________________________________\n",
            "conv5_block16_2_conv (Conv2D)   (None, 7, 7, 32)     36864       conv5_block16_1_relu[0][0]       \n",
            "__________________________________________________________________________________________________\n",
            "conv5_block16_concat (Concatena (None, 7, 7, 1024)   0           conv5_block15_concat[0][0]       \n",
            "                                                                 conv5_block16_2_conv[0][0]       \n",
            "__________________________________________________________________________________________________\n",
            "bn (BatchNormalization)         (None, 7, 7, 1024)   4096        conv5_block16_concat[0][0]       \n",
            "__________________________________________________________________________________________________\n",
            "relu (Activation)               (None, 7, 7, 1024)   0           bn[0][0]                         \n",
            "__________________________________________________________________________________________________\n",
            "avg_pool (GlobalAveragePooling2 (None, 1024)         0           relu[0][0]                       \n",
            "__________________________________________________________________________________________________\n",
            "predictions (Dense)             (None, 14)           14350       avg_pool[0][0]                   \n",
            "==================================================================================================\n",
            "Total params: 7,051,854\n",
            "Trainable params: 6,968,206\n",
            "Non-trainable params: 83,648\n",
            "__________________________________________________________________________________________________\n",
            "None\n"
          ],
          "name": "stdout"
        }
      ]
    },
    {
      "cell_type": "code",
      "metadata": {
        "id": "OQ3QeRti2oAC",
        "colab_type": "code",
        "colab": {}
      },
      "source": [
        "def load_image(image_path):\n",
        "        image = Image.open(image_path)\n",
        "        image_array = np.asarray(image.convert(\"RGB\"))\n",
        "        image_array = image_array / 255.\n",
        "        image_array = np.resize(image_array, (1,224,224,3))\n",
        "        return image_array"
      ],
      "execution_count": 0,
      "outputs": []
    },
    {
      "cell_type": "code",
      "metadata": {
        "id": "I7Gw0WpD2oAD",
        "colab_type": "code",
        "colab": {}
      },
      "source": [
        "def get_img_encoding(img):\n",
        "    #img = load_image(train_img_paths[0])\n",
        "    img = load_image(img)\n",
        "    get_last_but_one_layer_output = K.function([model.layers[0].input],\n",
        "                                        [model.layers[-2].output])\n",
        "    layer_output = get_last_but_one_layer_output([img])\n",
        "    return layer_output[0].squeeze()"
      ],
      "execution_count": 0,
      "outputs": []
    },
    {
      "cell_type": "code",
      "metadata": {
        "id": "q7lSOwnq2oAF",
        "colab_type": "code",
        "colab": {}
      },
      "source": [
        "sample_img_encoding = get_img_encoding(img[0])"
      ],
      "execution_count": 0,
      "outputs": []
    },
    {
      "cell_type": "code",
      "metadata": {
        "id": "OktAYrjR2oAH",
        "colab_type": "code",
        "outputId": "6fe376cb-3ff6-47f7-cfd1-e47fcb34d3d3",
        "colab": {
          "base_uri": "https://localhost:8080/",
          "height": 34
        }
      },
      "source": [
        "sample_img_encoding.shape"
      ],
      "execution_count": 25,
      "outputs": [
        {
          "output_type": "execute_result",
          "data": {
            "text/plain": [
              "(1024,)"
            ]
          },
          "metadata": {
            "tags": []
          },
          "execution_count": 25
        }
      ]
    },
    {
      "cell_type": "code",
      "metadata": {
        "id": "SjjIuXFl2oAJ",
        "colab_type": "code",
        "colab": {}
      },
      "source": [
        "# # Call the funtion to encode all the train images\n",
        "# # This will take a while on CPU - Execute this only once\n",
        "# start = time()\n",
        "# encoding_train = {}\n",
        "# for img in train_imgs:\n",
        "#     encoding_train[img[len(images):]] = get_img_encoding(img)\n",
        "# print(\"Time taken in seconds =\", time()-start)"
      ],
      "execution_count": 0,
      "outputs": []
    },
    {
      "cell_type": "code",
      "metadata": {
        "id": "MaM-UCyT2oAL",
        "colab_type": "code",
        "colab": {}
      },
      "source": [
        "# len(encoding_train)"
      ],
      "execution_count": 0,
      "outputs": []
    },
    {
      "cell_type": "code",
      "metadata": {
        "id": "3fePD8jq2oAO",
        "colab_type": "code",
        "colab": {}
      },
      "source": [
        "# import pickle\n",
        "# # Save the bottleneck train features to disk\n",
        "# with open(\"PavanPickle/encoded_train_images.pkl\", \"wb\") as encoded_pickle:\n",
        "#     pickle.dump(encoding_train, encoded_pickle)"
      ],
      "execution_count": 0,
      "outputs": []
    },
    {
      "cell_type": "code",
      "metadata": {
        "id": "Lel7sGor2oAS",
        "colab_type": "code",
        "colab": {}
      },
      "source": [
        "# # Call the funtion to encode all the test images - Execute this only once\n",
        "# start = time()\n",
        "# encoding_test = {}\n",
        "# for img in valid_imgs:\n",
        "#     encoding_test[img[len(images):]] = get_img_encoding(img)\n",
        "# print(\"Time taken in seconds =\", time()-start)"
      ],
      "execution_count": 0,
      "outputs": []
    },
    {
      "cell_type": "code",
      "metadata": {
        "id": "SPVffmDS2oAT",
        "colab_type": "code",
        "colab": {}
      },
      "source": [
        "# len(encoding_test)"
      ],
      "execution_count": 0,
      "outputs": []
    },
    {
      "cell_type": "code",
      "metadata": {
        "id": "Z_KFpf7u2oAV",
        "colab_type": "code",
        "colab": {}
      },
      "source": [
        "# # Save the bottleneck train features to disk\n",
        "# with open(\"PavanPickle/encoded_test_images.pkl\", \"wb\") as encoded_pickle:\n",
        "#     pickle.dump(encoding_test, encoded_pickle)"
      ],
      "execution_count": 0,
      "outputs": []
    },
    {
      "cell_type": "code",
      "metadata": {
        "id": "l4Pjgw5t2oAW",
        "colab_type": "code",
        "outputId": "33dab0e3-983e-4d20-db54-db3545368dfc",
        "colab": {
          "base_uri": "https://localhost:8080/",
          "height": 34
        }
      },
      "source": [
        "train_features = load(open(\"encoded_train_images.pkl\", \"rb\"))\n",
        "print('Photos: train=%d' % len(train_features))"
      ],
      "execution_count": 32,
      "outputs": [
        {
          "output_type": "stream",
          "text": [
            "Photos: train=5091\n"
          ],
          "name": "stdout"
        }
      ]
    },
    {
      "cell_type": "code",
      "metadata": {
        "id": "VTCFMUe22oAa",
        "colab_type": "code",
        "outputId": "d9b37e06-ad71-4c1e-d64f-370164257005",
        "colab": {
          "base_uri": "https://localhost:8080/",
          "height": 34
        }
      },
      "source": [
        "encoding_test = load(open(\"encoded_test_images.pkl\", \"rb\"))\n",
        "print('Photos: train=%d' % len(encoding_test))"
      ],
      "execution_count": 33,
      "outputs": [
        {
          "output_type": "stream",
          "text": [
            "Photos: train=1455\n"
          ],
          "name": "stdout"
        }
      ]
    },
    {
      "cell_type": "code",
      "metadata": {
        "id": "9Te6A8hX2oAe",
        "colab_type": "code",
        "outputId": "7d099b28-7372-424e-caac-a4b59ca2d5c0",
        "colab": {
          "base_uri": "https://localhost:8080/",
          "height": 34
        }
      },
      "source": [
        "# Create a list of all the training captions\n",
        "all_captions = []\n",
        "for key, val in first_sent.items():\n",
        "    for cap in val:\n",
        "        all_captions.append(cap)\n",
        "len(all_captions)"
      ],
      "execution_count": 34,
      "outputs": [
        {
          "output_type": "execute_result",
          "data": {
            "text/plain": [
              "3668"
            ]
          },
          "metadata": {
            "tags": []
          },
          "execution_count": 34
        }
      ]
    },
    {
      "cell_type": "code",
      "metadata": {
        "id": "ZopEuT6g2oAi",
        "colab_type": "code",
        "outputId": "0d2e0827-7077-4fa2-8bca-e0a0050fb61e",
        "colab": {
          "base_uri": "https://localhost:8080/",
          "height": 34
        }
      },
      "source": [
        "# Create a list of all the training indications\n",
        "all_indications = []\n",
        "for key, val in indication_sent.items():\n",
        "    all_indications.append(val)\n",
        "len(all_indications)"
      ],
      "execution_count": 35,
      "outputs": [
        {
          "output_type": "execute_result",
          "data": {
            "text/plain": [
              "3668"
            ]
          },
          "metadata": {
            "tags": []
          },
          "execution_count": 35
        }
      ]
    },
    {
      "cell_type": "code",
      "metadata": {
        "id": "u7hWHUAn2oAj",
        "colab_type": "code",
        "outputId": "6150cca9-48ec-4cbb-d59c-a941db7dd7d3",
        "colab": {
          "base_uri": "https://localhost:8080/",
          "height": 34
        }
      },
      "source": [
        "len(indication_sent)"
      ],
      "execution_count": 36,
      "outputs": [
        {
          "output_type": "execute_result",
          "data": {
            "text/plain": [
              "3668"
            ]
          },
          "metadata": {
            "tags": []
          },
          "execution_count": 36
        }
      ]
    },
    {
      "cell_type": "code",
      "metadata": {
        "id": "mQaW6jhd2oAl",
        "colab_type": "code",
        "colab": {}
      },
      "source": [
        "# load clean descriptions into memory\n",
        "def load_clean_descriptions(desc, dataset):\n",
        "    descriptions = dict()\n",
        "    for key, val in desc.items():\n",
        "        image_id, image_desc = key, val\n",
        "        image_id = image_id+'.png'\n",
        "        # skip images not in the set\n",
        "        if image_id in dataset:\n",
        "            # create list\n",
        "            if image_id not in descriptions:\n",
        "                descriptions[image_id] = list()\n",
        "            # wrap description in tokens\n",
        "            desc = ''.join(image_desc)\n",
        "            # store\n",
        "            descriptions[image_id].append(desc)\n",
        "    return descriptions"
      ],
      "execution_count": 0,
      "outputs": []
    },
    {
      "cell_type": "code",
      "metadata": {
        "id": "4Usu5gkM2oAm",
        "colab_type": "code",
        "colab": {}
      },
      "source": [
        "# dataset = list()\n",
        "# for img in train_imgs:\n",
        "#     identifier = img[len(images):]\n",
        "#     dataset.append(identifier)"
      ],
      "execution_count": 0,
      "outputs": []
    },
    {
      "cell_type": "code",
      "metadata": {
        "id": "pUM1HcHn2oAo",
        "colab_type": "code",
        "outputId": "f213c2cc-eacc-4eb9-efde-661a9308a630",
        "colab": {
          "base_uri": "https://localhost:8080/",
          "height": 34
        }
      },
      "source": [
        "# descriptions\n",
        "train_descriptions = load_clean_descriptions(first_sent, train_imgs)\n",
        "print('Descriptions: train=%d' % len(train_descriptions))"
      ],
      "execution_count": 39,
      "outputs": [
        {
          "output_type": "stream",
          "text": [
            "Descriptions: train=2572\n"
          ],
          "name": "stdout"
        }
      ]
    },
    {
      "cell_type": "code",
      "metadata": {
        "id": "qswBVUCr2oAq",
        "colab_type": "code",
        "outputId": "7491cdee-d7ad-416e-edd8-369d1404f979",
        "colab": {
          "base_uri": "https://localhost:8080/",
          "height": 34
        }
      },
      "source": [
        "# descriptions\n",
        "train_indications = load_clean_descriptions(indication_sent, train_imgs)\n",
        "print('Descriptions: indication=%d' % len(train_indications))"
      ],
      "execution_count": 40,
      "outputs": [
        {
          "output_type": "stream",
          "text": [
            "Descriptions: indication=2572\n"
          ],
          "name": "stdout"
        }
      ]
    },
    {
      "cell_type": "code",
      "metadata": {
        "id": "-EMYkaHS2oAs",
        "colab_type": "code",
        "outputId": "97214efc-4f14-4614-fdae-1c585b5cf1bf",
        "colab": {
          "base_uri": "https://localhost:8080/",
          "height": 34
        }
      },
      "source": [
        "# Create a list of all the training captions\n",
        "all_train_captions = []\n",
        "for key, val in train_descriptions.items():\n",
        "    for cap in val:\n",
        "        all_train_captions.append(cap)\n",
        "len(all_train_captions)"
      ],
      "execution_count": 41,
      "outputs": [
        {
          "output_type": "execute_result",
          "data": {
            "text/plain": [
              "2572"
            ]
          },
          "metadata": {
            "tags": []
          },
          "execution_count": 41
        }
      ]
    },
    {
      "cell_type": "code",
      "metadata": {
        "id": "FUhqWLw_2oAu",
        "colab_type": "code",
        "outputId": "0c0e2068-1f76-40b8-e64b-e8de7c05fc0a",
        "colab": {
          "base_uri": "https://localhost:8080/",
          "height": 34
        }
      },
      "source": [
        "# Create a list of all the training captions\n",
        "all_train_indications = []\n",
        "for key, val in train_indications.items():\n",
        "    for cap in val:\n",
        "        all_train_indications.append(cap)\n",
        "len(all_train_indications)"
      ],
      "execution_count": 42,
      "outputs": [
        {
          "output_type": "execute_result",
          "data": {
            "text/plain": [
              "2572"
            ]
          },
          "metadata": {
            "tags": []
          },
          "execution_count": 42
        }
      ]
    },
    {
      "cell_type": "code",
      "metadata": {
        "id": "1TRr6NK_2oAw",
        "colab_type": "code",
        "outputId": "76410d00-4f7d-4df9-fc2f-20d51fee561e",
        "colab": {
          "base_uri": "https://localhost:8080/",
          "height": 34
        }
      },
      "source": [
        "# Consider only words which occur at least 10 times in the corpus\n",
        "word_count_threshold = 1\n",
        "word_counts = {}\n",
        "nsents = 0\n",
        "for sent in all_train_captions:\n",
        "    nsents += 1\n",
        "    for w in sent.split(' '):\n",
        "        word_counts[w] = word_counts.get(w, 0) + 1\n",
        "\n",
        "vocab = [w for w in word_counts if word_counts[w] >= word_count_threshold]\n",
        "print('preprocessed words %d -> %d' % (len(word_counts), len(vocab)))"
      ],
      "execution_count": 43,
      "outputs": [
        {
          "output_type": "stream",
          "text": [
            "preprocessed words 2037 -> 2037\n"
          ],
          "name": "stdout"
        }
      ]
    },
    {
      "cell_type": "code",
      "metadata": {
        "id": "84-nbzc82oAy",
        "colab_type": "code",
        "outputId": "be0ddbd9-cc78-4f45-e2bf-3d63121e4cc2",
        "colab": {
          "base_uri": "https://localhost:8080/",
          "height": 34
        }
      },
      "source": [
        "# Consider only words which occur at least 10 times in the corpus\n",
        "indication_count_threshold = 1\n",
        "indication_counts = {}\n",
        "nsents = 0\n",
        "for sent in all_train_indications:\n",
        "    nsents += 1\n",
        "    for w in sent.split(' '):\n",
        "        indication_counts[w] = indication_counts.get(w, 0) + 1\n",
        "\n",
        "indicationVocab = [w for w in indication_counts if indication_counts[w] >= indication_count_threshold]\n",
        "print('preprocessed words %d -> %d' % (len(indication_counts), len(indicationVocab)))"
      ],
      "execution_count": 44,
      "outputs": [
        {
          "output_type": "stream",
          "text": [
            "preprocessed words 1282 -> 1282\n"
          ],
          "name": "stdout"
        }
      ]
    },
    {
      "cell_type": "code",
      "metadata": {
        "id": "kEVQNBaK2oAz",
        "colab_type": "code",
        "colab": {}
      },
      "source": [
        "ixtoword = {}\n",
        "wordtoix = {}\n",
        "\n",
        "ix = 1\n",
        "for w in vocab:\n",
        "    wordtoix[w] = ix\n",
        "    ixtoword[ix] = w\n",
        "    ix += 1"
      ],
      "execution_count": 0,
      "outputs": []
    },
    {
      "cell_type": "code",
      "metadata": {
        "id": "xmBVbPah2oA1",
        "colab_type": "code",
        "outputId": "d696bc6b-e1fe-4f53-dfd3-b3b56812dbaf",
        "colab": {
          "base_uri": "https://localhost:8080/",
          "height": 34
        }
      },
      "source": [
        "vocab_size = len(ixtoword) + 1 # one for appended 0's\n",
        "vocab_size"
      ],
      "execution_count": 46,
      "outputs": [
        {
          "output_type": "execute_result",
          "data": {
            "text/plain": [
              "2038"
            ]
          },
          "metadata": {
            "tags": []
          },
          "execution_count": 46
        }
      ]
    },
    {
      "cell_type": "code",
      "metadata": {
        "id": "mxsWRMHI2oA3",
        "colab_type": "code",
        "colab": {}
      },
      "source": [
        "ixtoindicationWord = {}\n",
        "indicationWordtoix = {}\n",
        "\n",
        "ix = 1\n",
        "for w in indicationVocab:\n",
        "    indicationWordtoix[w] = ix\n",
        "    ixtoindicationWord[ix] = w\n",
        "    ix += 1"
      ],
      "execution_count": 0,
      "outputs": []
    },
    {
      "cell_type": "code",
      "metadata": {
        "id": "mfcsd7UL2oA4",
        "colab_type": "code",
        "outputId": "17938915-e983-4a3f-bed0-d496e5ff0a69",
        "colab": {
          "base_uri": "https://localhost:8080/",
          "height": 34
        }
      },
      "source": [
        "IndicationVocab_size = len(ixtoindicationWord) + 1 # one for appended 0's\n",
        "IndicationVocab_size"
      ],
      "execution_count": 48,
      "outputs": [
        {
          "output_type": "execute_result",
          "data": {
            "text/plain": [
              "1283"
            ]
          },
          "metadata": {
            "tags": []
          },
          "execution_count": 48
        }
      ]
    },
    {
      "cell_type": "code",
      "metadata": {
        "id": "PMoyiu0p2oA7",
        "colab_type": "code",
        "outputId": "1f76a100-3e64-4f4d-997a-abcc02ccb1c0",
        "colab": {
          "base_uri": "https://localhost:8080/",
          "height": 34
        }
      },
      "source": [
        "# convert a dictionary of clean descriptions to a list of descriptions\n",
        "def to_lines(descriptions):\n",
        "    all_desc = list()\n",
        "    for key in descriptions.keys():\n",
        "        [all_desc.append(d) for d in descriptions[key]]\n",
        "    return all_desc\n",
        "\n",
        "# calculate the length of the description with the most words\n",
        "def max_length(descriptions):\n",
        "    lines = to_lines(descriptions)\n",
        "    return max(len(d.split()) for d in lines)\n",
        "\n",
        "# determine the maximum sequence length\n",
        "max_length = max_length(train_descriptions)\n",
        "print('Description Length: %d' % max_length)"
      ],
      "execution_count": 49,
      "outputs": [
        {
          "output_type": "stream",
          "text": [
            "Description Length: 152\n"
          ],
          "name": "stdout"
        }
      ]
    },
    {
      "cell_type": "code",
      "metadata": {
        "id": "nj3PAbe92oA9",
        "colab_type": "code",
        "colab": {}
      },
      "source": [
        "all_Indication_desc = list()\n",
        "for key in train_indications.keys():\n",
        "    for d in train_indications[key]:\n",
        "        all_Indication_desc.append(d)"
      ],
      "execution_count": 0,
      "outputs": []
    },
    {
      "cell_type": "code",
      "metadata": {
        "id": "QyIHmfsg2oA_",
        "colab_type": "code",
        "outputId": "17f2bfeb-e229-4ee3-cf80-1d21d9e2d1bd",
        "colab": {
          "base_uri": "https://localhost:8080/",
          "height": 34
        }
      },
      "source": [
        "max_Indication_length = max(len(d.split()) for d in all_Indication_desc)\n",
        "max_Indication_length"
      ],
      "execution_count": 51,
      "outputs": [
        {
          "output_type": "execute_result",
          "data": {
            "text/plain": [
              "40"
            ]
          },
          "metadata": {
            "tags": []
          },
          "execution_count": 51
        }
      ]
    },
    {
      "cell_type": "code",
      "metadata": {
        "id": "dC-zfC0J2oBB",
        "colab_type": "code",
        "colab": {}
      },
      "source": [
        "# data generator, intended to be used in a call to model.fit_generator()\n",
        "def data_generator(descriptions, photos, indications, wordtoix, indicationWordtoix, max_Indication_length,max_length, num_photos_per_batch):\n",
        "    X1, X2, X3, y = list(), list(), list(), list()\n",
        "    n=0\n",
        "    # loop for ever over images\n",
        "    while 1:\n",
        "        for key, desc_list in descriptions.items():\n",
        "            n+=1\n",
        "            # retrieve the photo feature\n",
        "            photo = photos[key]\n",
        "            for indication in indications[key]:\n",
        "                indicationSeq = [indicationWordtoix[word] for word in indication.split(' ') if word in indicationWordtoix]\n",
        "            indicationSeq = pad_sequences([indicationSeq], maxlen=max_Indication_length)[0]\n",
        "            for desc in desc_list:\n",
        "                # encode the sequence\n",
        "                seq = [wordtoix[word] for word in desc.split(' ') if word in wordtoix]\n",
        "                # split one sequence into multiple X, y pairs\n",
        "                for i in range(1, len(seq)):\n",
        "                    # split into input and output pair\n",
        "                    in_seq, out_seq = seq[:i], seq[i]\n",
        "                    # pad input sequence\n",
        "                    in_seq = pad_sequences([in_seq], maxlen=max_length)[0]\n",
        "                    # encode output sequence\n",
        "                    out_seq = to_categorical([out_seq], num_classes=vocab_size)[0]\n",
        "                    # store\n",
        "                    X1.append(photo)\n",
        "                    X2.append(indicationSeq)\n",
        "                    X3.append(in_seq)\n",
        "                    y.append(out_seq)\n",
        "            # yield the batch data\n",
        "            if n==num_photos_per_batch:\n",
        "                yield [[array(X1), array(X2), array(X3)], array(y)]\n",
        "                X1, X2, X3, y = list(), list(), list(), list()\n",
        "                n=0"
      ],
      "execution_count": 0,
      "outputs": []
    },
    {
      "cell_type": "code",
      "metadata": {
        "id": "Lxdp6D3Q2oBD",
        "colab_type": "code",
        "colab": {}
      },
      "source": [
        "# !pip install gensim"
      ],
      "execution_count": 0,
      "outputs": []
    },
    {
      "cell_type": "code",
      "metadata": {
        "id": "Aa7NZvtr2oBF",
        "colab_type": "code",
        "colab": {}
      },
      "source": [
        "from gensim.models import KeyedVectors"
      ],
      "execution_count": 0,
      "outputs": []
    },
    {
      "cell_type": "code",
      "metadata": {
        "id": "IXLoxgHdIPtr",
        "colab_type": "code",
        "colab": {}
      },
      "source": [
        "# Required first time\n",
        "# !git clone https://github.com/facebookresearch/fastText.git"
      ],
      "execution_count": 0,
      "outputs": []
    },
    {
      "cell_type": "code",
      "metadata": {
        "id": "rK9TE58wIkkZ",
        "colab_type": "code",
        "colab": {}
      },
      "source": [
        "# cd fastText"
      ],
      "execution_count": 0,
      "outputs": []
    },
    {
      "cell_type": "code",
      "metadata": {
        "id": "RC0_td__Ip0y",
        "colab_type": "code",
        "colab": {}
      },
      "source": [
        "# pip install ."
      ],
      "execution_count": 0,
      "outputs": []
    },
    {
      "cell_type": "code",
      "metadata": {
        "id": "B4oBDFKO2oBG",
        "colab_type": "code",
        "colab": {}
      },
      "source": [
        "# word_vectors = KeyedVectors.load_word2vec_format('/content/drive/My Drive/r_r_g_project/WordEmbeddings/BioWordVec_PubMed_MIMICIII_d200.vec.bin',binary=True)"
      ],
      "execution_count": 0,
      "outputs": []
    },
    {
      "cell_type": "code",
      "metadata": {
        "id": "lqLvlQO32oBI",
        "colab_type": "code",
        "colab": {}
      },
      "source": [
        "# medic_vector = word_vectors.get_vector('clinical')"
      ],
      "execution_count": 0,
      "outputs": []
    },
    {
      "cell_type": "code",
      "metadata": {
        "id": "YDMkjB332oBL",
        "colab_type": "code",
        "colab": {}
      },
      "source": [
        "# embeddings_index = {} # empty dictionary\n",
        "# i = 0\n",
        "# for item in word_vectors.vocab:\n",
        "#     word = item\n",
        "#     coefs = np.asarray(word_vectors.get_vector(word), dtype='float32')\n",
        "#     embeddings_index[word] = coefs\n",
        "#     i+=1\n",
        "# print('Found %s word vectors.' % len(embeddings_index))"
      ],
      "execution_count": 0,
      "outputs": []
    },
    {
      "cell_type": "code",
      "metadata": {
        "id": "ia0wfK-i2oBM",
        "colab_type": "code",
        "colab": {}
      },
      "source": [
        "# embedding_dim = 200\n",
        "\n",
        "# # Get 200-dim dense vector for each of the 10000 words in out vocabulary\n",
        "# embedding_matrix = np.zeros((vocab_size, embedding_dim))\n",
        "\n",
        "# for word, i in wordtoix.items():\n",
        "#     #if i < max_words:\n",
        "#     embedding_vector = embeddings_index.get(word)\n",
        "#     if embedding_vector is not None:\n",
        "#         # Words not found in the embedding index will be all zeros\n",
        "#         embedding_matrix[i] = embedding_vector"
      ],
      "execution_count": 0,
      "outputs": []
    },
    {
      "cell_type": "code",
      "metadata": {
        "id": "rLUqn9hS2oBN",
        "colab_type": "code",
        "colab": {}
      },
      "source": [
        "\n",
        "\n",
        "# # Get 200-dim dense vector for each of the 10000 words in out vocabulary\n",
        "# indication_embedding_matrix = np.zeros((IndicationVocab_size, embedding_dim))\n",
        "\n",
        "# for word, i in indicationWordtoix.items():\n",
        "#     #if i < max_words:\n",
        "#     indicationembedding_vector = embeddings_index.get(word)\n",
        "#     if indicationembedding_vector is not None:\n",
        "#         # Words not found in the embedding index will be all zeros\n",
        "#         indication_embedding_matrix[i] = indicationembedding_vector"
      ],
      "execution_count": 0,
      "outputs": []
    },
    {
      "cell_type": "code",
      "metadata": {
        "id": "9rqCpHgebQyu",
        "colab_type": "code",
        "colab": {}
      },
      "source": [
        "embedding_dim = 200"
      ],
      "execution_count": 0,
      "outputs": []
    },
    {
      "cell_type": "code",
      "metadata": {
        "id": "Si4-0QB0bZ2d",
        "colab_type": "code",
        "colab": {}
      },
      "source": [
        "with open(\"/content/drive/My Drive/r_r_g_project/embedding_matrix.pkl\", \"rb\") as encoded_pickle:\n",
        "    embedding_matrix = load(encoded_pickle)"
      ],
      "execution_count": 0,
      "outputs": []
    },
    {
      "cell_type": "code",
      "metadata": {
        "id": "rj4WY0tfbaeR",
        "colab_type": "code",
        "colab": {}
      },
      "source": [
        "with open(\"/content/drive/My Drive/r_r_g_project/indication_embedding_matrix.pkl\", \"rb\") as encoded_pickle:\n",
        "    indication_embedding_matrix = load(encoded_pickle)"
      ],
      "execution_count": 0,
      "outputs": []
    },
    {
      "cell_type": "code",
      "metadata": {
        "id": "iluDI7zb2oBO",
        "colab_type": "code",
        "outputId": "77a8dfe1-13c2-496f-e9ad-21dd44227d20",
        "colab": {
          "base_uri": "https://localhost:8080/",
          "height": 34
        }
      },
      "source": [
        "embedding_matrix.shape"
      ],
      "execution_count": 66,
      "outputs": [
        {
          "output_type": "execute_result",
          "data": {
            "text/plain": [
              "(2029, 200)"
            ]
          },
          "metadata": {
            "tags": []
          },
          "execution_count": 66
        }
      ]
    },
    {
      "cell_type": "code",
      "metadata": {
        "id": "qdqW250z2oBP",
        "colab_type": "code",
        "outputId": "9cc5c65a-c5a6-4946-9410-441c8519b77e",
        "colab": {
          "base_uri": "https://localhost:8080/",
          "height": 34
        }
      },
      "source": [
        "indication_embedding_matrix.shape"
      ],
      "execution_count": 67,
      "outputs": [
        {
          "output_type": "execute_result",
          "data": {
            "text/plain": [
              "(1292, 200)"
            ]
          },
          "metadata": {
            "tags": []
          },
          "execution_count": 67
        }
      ]
    },
    {
      "cell_type": "code",
      "metadata": {
        "id": "WPg7cMjb2oBT",
        "colab_type": "code",
        "colab": {}
      },
      "source": [
        "import keras\n",
        "from keras.preprocessing import sequence\n",
        "from keras.models import Sequential\n",
        "from keras.layers import LSTM, Embedding, TimeDistributed, Dense, RepeatVector,\\\n",
        "                         Activation, Flatten, Reshape, concatenate, Dropout, BatchNormalization\n",
        "from keras.optimizers import Adam, RMSprop\n",
        "from keras.layers.wrappers import Bidirectional\n",
        "from keras.layers.merge import add\n",
        "from keras.applications.inception_v3 import InceptionV3\n",
        "from keras.preprocessing import image\n",
        "from keras.models import Model\n",
        "from keras import Input, layers\n",
        "from keras import optimizers\n",
        "from keras.applications.inception_v3 import preprocess_input\n",
        "from keras.preprocessing.text import Tokenizer\n",
        "from keras.preprocessing.sequence import pad_sequences\n",
        "from keras.utils import to_categorical"
      ],
      "execution_count": 0,
      "outputs": []
    },
    {
      "cell_type": "code",
      "metadata": {
        "id": "QCTwgVIW2oBV",
        "colab_type": "code",
        "colab": {}
      },
      "source": [
        "IndicationVocab_size = IndicationVocab_size+9\n",
        "vocab_size = vocab_size-9"
      ],
      "execution_count": 0,
      "outputs": []
    },
    {
      "cell_type": "code",
      "metadata": {
        "id": "Q8p4ExQQ2oBX",
        "colab_type": "code",
        "colab": {
          "base_uri": "https://localhost:8080/",
          "height": 139
        },
        "outputId": "1b84a7eb-3112-4159-f688-c02d91ca2c11"
      },
      "source": [
        "imageFeature = Input(shape=(1024,))\n",
        "indication = Input(shape=(max_Indication_length,))\n",
        "indication1 = Embedding(IndicationVocab_size, embedding_dim)(indication)\n",
        "indication2 = Flatten()(indication1)\n",
        "imgIndi = keras.layers.concatenate([imageFeature, indication2],axis=1)\n",
        "fe1 = Dropout(0.5)(imgIndi)\n",
        "fe2 = Dense(500, activation='relu')(fe1)\n",
        "findings = Input(shape=(max_length,))\n",
        "se1 = Embedding(vocab_size, embedding_dim, mask_zero=True)(findings)\n",
        "se2 = Dropout(0.5)(se1)\n",
        "se3 = LSTM(500, return_sequences=True,return_state=True)(se2)\n",
        "se4, hs3, cs3 = LSTM(500,return_state=True)(se3)\n",
        "#se3 = Bidirectional(LSTM(256, return_sequences=True))(se2)\n",
        "#se4 = LSTM(256)(se3)\n",
        "decoder1 = add([fe2, se4, cs3])\n",
        "decoder2 = Dense(256, activation='relu')(decoder1)\n",
        "outputs = Dense(vocab_size, activation='softmax')(decoder2)\n",
        "newModel = Model(inputs=[imageFeature, indication, findings], outputs=outputs)"
      ],
      "execution_count": 70,
      "outputs": [
        {
          "output_type": "stream",
          "text": [
            "WARNING:tensorflow:From /usr/local/lib/python3.6/dist-packages/keras/backend/tensorflow_backend.py:3733: calling dropout (from tensorflow.python.ops.nn_ops) with keep_prob is deprecated and will be removed in a future version.\n",
            "Instructions for updating:\n",
            "Please use `rate` instead of `keep_prob`. Rate should be set to `rate = 1 - keep_prob`.\n",
            "WARNING:tensorflow:From /usr/local/lib/python3.6/dist-packages/keras/backend/tensorflow_backend.py:3239: add_dispatch_support.<locals>.wrapper (from tensorflow.python.ops.array_ops) is deprecated and will be removed in a future version.\n",
            "Instructions for updating:\n",
            "Use tf.where in 2.0, which has the same broadcast rule as np.where\n"
          ],
          "name": "stdout"
        }
      ]
    },
    {
      "cell_type": "code",
      "metadata": {
        "id": "abQOe6mK2oBY",
        "colab_type": "code",
        "colab": {}
      },
      "source": [
        "# from keras.utils import plot_model\n",
        "# plot_model(newModel, to_file='model.png')"
      ],
      "execution_count": 0,
      "outputs": []
    },
    {
      "cell_type": "code",
      "metadata": {
        "id": "_PosgZXX2oBZ",
        "colab_type": "code",
        "colab": {}
      },
      "source": [
        "# inputs1 = Input(shape=(1024,))\n",
        "# fe1 = Dropout(0.5)(inputs1)\n",
        "# fe2 = Dense(256, activation='relu')(fe1)\n",
        "# inputs2 = Input(shape=(max_length,))\n",
        "# se1 = Embedding(vocab_size, embedding_dim, mask_zero=True)(inputs2)\n",
        "# se2 = Dropout(0.5)(se1)\n",
        "# se3 = LSTM(256, return_sequences=True,return_state=True)(se2)\n",
        "# se4, hs3, cs3 = LSTM(256,return_state=True)(se3)\n",
        "# decoder1 = add([fe2, se4, cs3])\n",
        "# decoder2 = Dense(256, activation='relu')(decoder1)\n",
        "# outputs = Dense(vocab_size, activation='softmax')(decoder2)\n",
        "# newModel = Model(inputs=[inputs1, inputs2], outputs=outputs)"
      ],
      "execution_count": 0,
      "outputs": []
    },
    {
      "cell_type": "code",
      "metadata": {
        "id": "fCsJetpa2oBb",
        "colab_type": "code",
        "outputId": "9b795e81-3770-470c-f942-6c947163a409",
        "colab": {
          "base_uri": "https://localhost:8080/",
          "height": 748
        }
      },
      "source": [
        "newModel.summary()"
      ],
      "execution_count": 73,
      "outputs": [
        {
          "output_type": "stream",
          "text": [
            "Model: \"model_2\"\n",
            "__________________________________________________________________________________________________\n",
            "Layer (type)                    Output Shape         Param #     Connected to                     \n",
            "==================================================================================================\n",
            "input_3 (InputLayer)            (None, 40)           0                                            \n",
            "__________________________________________________________________________________________________\n",
            "embedding_1 (Embedding)         (None, 40, 200)      258400      input_3[0][0]                    \n",
            "__________________________________________________________________________________________________\n",
            "input_4 (InputLayer)            (None, 152)          0                                            \n",
            "__________________________________________________________________________________________________\n",
            "input_2 (InputLayer)            (None, 1024)         0                                            \n",
            "__________________________________________________________________________________________________\n",
            "flatten_1 (Flatten)             (None, 8000)         0           embedding_1[0][0]                \n",
            "__________________________________________________________________________________________________\n",
            "embedding_2 (Embedding)         (None, 152, 200)     405800      input_4[0][0]                    \n",
            "__________________________________________________________________________________________________\n",
            "concatenate_1 (Concatenate)     (None, 9024)         0           input_2[0][0]                    \n",
            "                                                                 flatten_1[0][0]                  \n",
            "__________________________________________________________________________________________________\n",
            "dropout_2 (Dropout)             (None, 152, 200)     0           embedding_2[0][0]                \n",
            "__________________________________________________________________________________________________\n",
            "dropout_1 (Dropout)             (None, 9024)         0           concatenate_1[0][0]              \n",
            "__________________________________________________________________________________________________\n",
            "lstm_1 (LSTM)                   [(None, 152, 500), ( 1402000     dropout_2[0][0]                  \n",
            "__________________________________________________________________________________________________\n",
            "dense_1 (Dense)                 (None, 500)          4512500     dropout_1[0][0]                  \n",
            "__________________________________________________________________________________________________\n",
            "lstm_2 (LSTM)                   [(None, 500), (None, 2002000     lstm_1[0][0]                     \n",
            "                                                                 lstm_1[0][1]                     \n",
            "                                                                 lstm_1[0][2]                     \n",
            "__________________________________________________________________________________________________\n",
            "add_1 (Add)                     (None, 500)          0           dense_1[0][0]                    \n",
            "                                                                 lstm_2[0][0]                     \n",
            "                                                                 lstm_2[0][2]                     \n",
            "__________________________________________________________________________________________________\n",
            "dense_2 (Dense)                 (None, 256)          128256      add_1[0][0]                      \n",
            "__________________________________________________________________________________________________\n",
            "dense_3 (Dense)                 (None, 2029)         521453      dense_2[0][0]                    \n",
            "==================================================================================================\n",
            "Total params: 9,230,409\n",
            "Trainable params: 9,230,409\n",
            "Non-trainable params: 0\n",
            "__________________________________________________________________________________________________\n"
          ],
          "name": "stdout"
        }
      ]
    },
    {
      "cell_type": "code",
      "metadata": {
        "id": "3UokS_SB2oBc",
        "colab_type": "code",
        "outputId": "96b8a6f6-1d4a-49ae-ef33-edc8d76bb5b9",
        "colab": {
          "base_uri": "https://localhost:8080/",
          "height": 34
        }
      },
      "source": [
        "newModel.layers[1]"
      ],
      "execution_count": 74,
      "outputs": [
        {
          "output_type": "execute_result",
          "data": {
            "text/plain": [
              "<keras.layers.embeddings.Embedding at 0x7f2cd993e5f8>"
            ]
          },
          "metadata": {
            "tags": []
          },
          "execution_count": 74
        }
      ]
    },
    {
      "cell_type": "code",
      "metadata": {
        "id": "y85xvDgf2oBd",
        "colab_type": "code",
        "outputId": "bd1175a0-94f2-464c-f34a-c753176cedc1",
        "colab": {
          "base_uri": "https://localhost:8080/",
          "height": 34
        }
      },
      "source": [
        "newModel.layers[5]"
      ],
      "execution_count": 75,
      "outputs": [
        {
          "output_type": "execute_result",
          "data": {
            "text/plain": [
              "<keras.layers.embeddings.Embedding at 0x7f2cd98e0390>"
            ]
          },
          "metadata": {
            "tags": []
          },
          "execution_count": 75
        }
      ]
    },
    {
      "cell_type": "code",
      "metadata": {
        "id": "KIVymlM62oBf",
        "colab_type": "code",
        "colab": {}
      },
      "source": [
        "newModel.layers[1].set_weights([indication_embedding_matrix])\n",
        "newModel.layers[1].trainable = False"
      ],
      "execution_count": 0,
      "outputs": []
    },
    {
      "cell_type": "code",
      "metadata": {
        "id": "rlrjLhHg2oBf",
        "colab_type": "code",
        "colab": {}
      },
      "source": [
        "newModel.layers[5].set_weights([embedding_matrix])\n",
        "newModel.layers[5].trainable = False"
      ],
      "execution_count": 0,
      "outputs": []
    },
    {
      "cell_type": "code",
      "metadata": {
        "id": "iBro5n722oBh",
        "colab_type": "code",
        "outputId": "f6aa7735-7054-41ed-dee2-3725ce9d7f98",
        "colab": {
          "base_uri": "https://localhost:8080/",
          "height": 71
        }
      },
      "source": [
        "newModel.compile(loss='categorical_crossentropy', optimizer='adam')"
      ],
      "execution_count": 78,
      "outputs": [
        {
          "output_type": "stream",
          "text": [
            "WARNING:tensorflow:From /usr/local/lib/python3.6/dist-packages/keras/optimizers.py:793: The name tf.train.Optimizer is deprecated. Please use tf.compat.v1.train.Optimizer instead.\n",
            "\n"
          ],
          "name": "stdout"
        }
      ]
    },
    {
      "cell_type": "code",
      "metadata": {
        "id": "6yXGd03I2oBj",
        "colab_type": "code",
        "colab": {}
      },
      "source": [
        "newModel.optimizer.lr = 0.0001\n",
        "epochs = 5\n",
        "number_pics_per_bath = 6\n",
        "steps = len(train_descriptions)//number_pics_per_bath"
      ],
      "execution_count": 0,
      "outputs": []
    },
    {
      "cell_type": "code",
      "metadata": {
        "id": "RlcdcUAQLqpQ",
        "colab_type": "code",
        "outputId": "5156be7d-8f5a-4763-9d3c-786901fb0c17",
        "colab": {
          "base_uri": "https://localhost:8080/",
          "height": 54
        }
      },
      "source": [
        "train_descriptions.keys()"
      ],
      "execution_count": 80,
      "outputs": [
        {
          "output_type": "execute_result",
          "data": {
            "text/plain": [
              "dict_keys(['CXR1_1_IM-0001-3001.png', 'CXR17_IM-0460-1001.png', 'CXR171_IM-0468-1001.png', 'CXR172_IM-0474-1001.png', 'CXR1720_IM-0475-0001-0001.png', 'CXR1721_IM-0476-1001.png', 'CXR1722_IM-0476-1001.png', 'CXR1723_IM-0477-1001.png', 'CXR1724_IM-0478-1001.png', 'CXR1725_IM-0478-1001.png', 'CXR1726_IM-0479-1001.png', 'CXR1727_IM-0479-1001.png', 'CXR1728_IM-0479-1001.png', 'CXR1729_IM-0480-1001.png', 'CXR173_IM-0481-1001.png', 'CXR1730_IM-0481-1001.png', 'CXR1731_IM-0481-1001.png', 'CXR1732_IM-0482-1001.png', 'CXR1733_IM-0483-0001-0001.png', 'CXR1734_IM-0484-1001.png', 'CXR1735_IM-0484-1001.png', 'CXR1736_IM-0484-1001.png', 'CXR1737_IM-0485-1001.png', 'CXR1738_IM-0486-1001.png', 'CXR1739_IM-0487-1001.png', 'CXR174_IM-0488-1001.png', 'CXR1740_IM-0488-1001.png', 'CXR1742_IM-0489-1001.png', 'CXR1743_IM-0489-1001.png', 'CXR1744_IM-0489-1001.png', 'CXR1745_IM-0489-1001.png', 'CXR1746_IM-0489-1001.png', 'CXR1747_IM-0490-1001.png', 'CXR1748_IM-0490-1001.png', 'CXR175_IM-0492-1001.png', 'CXR1750_IM-0493-1001.png', 'CXR1751_IM-0494-1001.png', 'CXR1752_IM-0494-1001.png', 'CXR1753_IM-0494-1001.png', 'CXR1754_IM-0494-1001.png', 'CXR1755_IM-0494-1001.png', 'CXR1756_IM-0494-1001.png', 'CXR1757_IM-0495-1001.png', 'CXR1758_IM-0495-1001.png', 'CXR1759_IM-0495-1001.png', 'CXR176_IM-0496-1001.png', 'CXR1760_IM-0497-1001.png', 'CXR1762_IM-0497-1001.png', 'CXR1763_IM-0497-1001.png', 'CXR1764_IM-0498-1001.png', 'CXR1765_IM-0499-1001.png', 'CXR1766_IM-0500-1001.png', 'CXR1767_IM-0501-0001-0001.png', 'CXR1768_IM-0502-12012.png', 'CXR1769_IM-0503-1001.png', 'CXR177_IM-0503-1001.png', 'CXR1770_IM-0504-1001.png', 'CXR1771_IM-0505-1001.png', 'CXR1773_IM-0506-1001.png', 'CXR1774_IM-0507-2001.png', 'CXR1775_IM-0508-1001.png', 'CXR1776_IM-0508-1001.png', 'CXR1777_IM-0509-1001.png', 'CXR1779_IM-0509-1001.png', 'CXR1780_IM-0509-1001.png', 'CXR1781_IM-0509-1001.png', 'CXR1782_IM-0510-1001.png', 'CXR1783_IM-0511-2001.png', 'CXR1784_IM-0512-1001.png', 'CXR1785_IM-0512-1001.png', 'CXR1786_IM-0512-1001.png', 'CXR1787_IM-0513-1001.png', 'CXR1788_IM-0513-1001.png', 'CXR1789_IM-0513-1001.png', 'CXR179_IM-0514-1001.png', 'CXR1790_IM-0515-1001.png', 'CXR1791_IM-0515-1001.png', 'CXR1792_IM-0515-1001.png', 'CXR1794_IM-0515-1001.png', 'CXR1795_IM-0516-1001.png', 'CXR1796_IM-0517-1002.png', 'CXR1797_IM-0517-1001.png', 'CXR1798_IM-0518-1001.png', 'CXR1799_IM-0519-1001.png', 'CXR1800_IM-0520-1001.png', 'CXR1801_IM-0520-1001.png', 'CXR1802_IM-0521-1001.png', 'CXR1803_IM-0521-1001.png', 'CXR1804_IM-0522-82050001.png', 'CXR1805_IM-0523-1001.png', 'CXR1807_IM-0524-1001.png', 'CXR1808_IM-0524-1001.png', 'CXR1809_IM-0524-1001.png', 'CXR181_IM-0524-1001.png', 'CXR1810_IM-0524-1001.png', 'CXR1811_IM-0525-1001.png', 'CXR1812_IM-0525-1001.png', 'CXR1813_IM-0526-1001.png', 'CXR1814_IM-0527-1001.png', 'CXR1815_IM-0527-1001.png', 'CXR1816_IM-0528-1001.png', 'CXR1818_IM-0530-1001.png', 'CXR1819_IM-0530-1001-0001.png', 'CXR182_IM-0531-1001.png', 'CXR1820_IM-0532-1001.png', 'CXR1821_IM-0532-1002.png', 'CXR1822_IM-0533-1001.png', 'CXR1823_IM-0534-1001.png', 'CXR1824_IM-0535-1001.png', 'CXR1825_IM-0535-1001.png', 'CXR1826_IM-0535-0001.png', 'CXR1827_IM-0535-1001.png', 'CXR1828_IM-0536-1001.png', 'CXR1829_IM-0537-1001.png', 'CXR1831_IM-0538-2001.png', 'CXR1832_IM-0538-1001.png', 'CXR1833_IM-0539-1001.png', 'CXR1834_IM-0539-1001.png', 'CXR1835_IM-0539-1001.png', 'CXR1836_IM-0540-2002.png', 'CXR2_IM-0652-1001.png', 'CXR22_IM-0810-1001.png', 'CXR220_IM-0811-1001.png', 'CXR2208_IM-0815-1001.png', 'CXR2209_IM-0816-1001.png', 'CXR221_IM-0817-1001.png', 'CXR2210_IM-0817-1001.png', 'CXR2211_IM-0818-1001.png', 'CXR2212_IM-0819-1001.png', 'CXR2213_IM-0819-1001.png', 'CXR2215_IM-0820-1001.png', 'CXR2216_IM-0821-85075001.png', 'CXR2217_IM-0822-0001-0001.png', 'CXR2218_IM-0823-1001.png', 'CXR2219_IM-0823-1001.png', 'CXR222_IM-0823-1001.png', 'CXR2221_IM-0825-1001.png', 'CXR2222_IM-0826-1001.png', 'CXR2223_IM-0827-1001.png', 'CXR2224_IM-0828-1001.png', 'CXR2225_IM-0829-3001.png', 'CXR2226_IM-0830-12001.png', 'CXR2228_IM-0831-1001.png', 'CXR2229_IM-0831-1001.png', 'CXR223_IM-0831-1001.png', 'CXR2230_IM-0831-1001.png', 'CXR2231_IM-0831-1001.png', 'CXR2232_IM-0832-1001.png', 'CXR2233_IM-0832-1001.png', 'CXR2234_IM-0833-1001.png', 'CXR2235_IM-0833-1001.png', 'CXR2236_IM-0833-1001.png', 'CXR2237_IM-0834-2002.png', 'CXR2238_IM-0835-1001.png', 'CXR2239_IM-0836-1001.png', 'CXR224_IM-0837-1001.png', 'CXR2240_IM-0838-1001.png', 'CXR2242_IM-0840-1001.png', 'CXR2243_IM-0840-1001.png', 'CXR2244_IM-0841-2002.png', 'CXR2245_IM-0842-1001.png', 'CXR2246_IM-0843-1001.png', 'CXR2247_IM-0844-1001.png', 'CXR2248_IM-0844-1001.png', 'CXR2249_IM-0844-1001.png', 'CXR225_IM-0844-1001.png', 'CXR2250_IM-0844-1001.png', 'CXR2251_IM-0844-1001.png', 'CXR2252_IM-0844-1001.png', 'CXR2253_IM-0845-1002001.png', 'CXR2254_IM-0846-1001.png', 'CXR2255_IM-0847-3001.png', 'CXR2256_IM-0848-1001.png', 'CXR2257_IM-0849-1001.png', 'CXR2258_IM-0849-1001.png', 'CXR2259_IM-0850-1001.png', 'CXR226_IM-0851-1001.png', 'CXR2260_IM-0852-1001.png', 'CXR2261_IM-0852-1001.png', 'CXR2262_IM-0852-1001.png', 'CXR2263_IM-0853-1001.png', 'CXR2264_IM-0854-1001.png', 'CXR2265_IM-0855-1001.png', 'CXR2266_IM-0855-1001.png', 'CXR2267_IM-0856-1001.png', 'CXR2268_IM-0857-1001.png', 'CXR2269_IM-0858-1001.png', 'CXR227_IM-0859-1001.png', 'CXR2270_IM-0859-1001.png', 'CXR2271_IM-0860-1001.png', 'CXR2272_IM-0861-1001.png', 'CXR2273_IM-0861-1001.png', 'CXR2274_IM-0861-1001.png', 'CXR2275_IM-0862-1001.png', 'CXR2276_IM-0863-1001-0001.png', 'CXR2277_IM-0864-1001.png', 'CXR2278_IM-0864-1001.png', 'CXR2279_IM-0865-2001.png', 'CXR228_IM-0866-3001.png', 'CXR2280_IM-0867-1001-0001.png', 'CXR2282_IM-0869-1001.png', 'CXR2283_IM-0870-1001.png', 'CXR2285_IM-0870-1001.png', 'CXR2286_IM-0871-1001.png', 'CXR2287_IM-0872-1001.png', 'CXR2288_IM-0872-1001.png', 'CXR2289_IM-0873-1001.png', 'CXR229_IM-0873-1001.png', 'CXR2290_IM-0874-1001.png', 'CXR2291_IM-0874-1001.png', 'CXR2292_IM-0874-1001.png', 'CXR2293_IM-0875-1001.png', 'CXR2294_IM-0876-1001.png', 'CXR2295_IM-0876-1001.png', 'CXR2296_IM-0876-1001.png', 'CXR2297_IM-0877-1001.png', 'CXR2299_IM-0878-1001.png', 'CXR23_IM-0879-1001.png', 'CXR230_IM-0880-0001-0001.png', 'CXR2300_IM-0881-1001.png', 'CXR2301_IM-0881-1001.png', 'CXR2302_IM-0882-1001.png', 'CXR2303_IM-0882-1001.png', 'CXR2304_IM-0882-1001.png', 'CXR2305_IM-0882-1001.png', 'CXR2306_IM-0882-1001.png', 'CXR2307_IM-0882-1001.png', 'CXR2308_IM-0883-1001.png', 'CXR2310_IM-0885-1001.png', 'CXR2311_IM-0886-1001.png', 'CXR2312_IM-0887-1001.png', 'CXR2313_IM-0888-1002001.png', 'CXR2314_IM-0889-1001.png', 'CXR2315_IM-0889-1002.png', 'CXR2316_IM-0889-1001.png', 'CXR2317_IM-0890-1001.png', 'CXR2318_IM-0891-1001.png', 'CXR2319_IM-0892-2002.png', 'CXR2320_IM-0894-1001.png', 'CXR2321_IM-0894-1001.png', 'CXR2322_IM-0894-1001.png', 'CXR2323_IM-0895-12012.png', 'CXR2324_IM-0895-1001.png', 'CXR2325_IM-0896-1001.png', 'CXR2326_IM-0897-1001.png', 'CXR2327_IM-0898-1001.png', 'CXR2328_IM-0898-1001.png', 'CXR233_IM-0899-1001.png', 'CXR2331_IM-0900-1001.png', 'CXR2332_IM-0900-1001.png', 'CXR2334_IM-0902-1001.png', 'CXR2335_IM-0902-1001.png', 'CXR2336_IM-0903-1001.png', 'CXR2338_IM-0905-1001.png', 'CXR2339_IM-0905-1001.png', 'CXR234_IM-0906-0001-0001.png', 'CXR2340_IM-0907-1001.png', 'CXR2341_IM-0907-1001.png', 'CXR2342_IM-0907-1001.png', 'CXR2343_IM-0908-1001.png', 'CXR2344_IM-0909-1001.png', 'CXR2345_IM-0910-1001.png', 'CXR2347_IM-0912-1001.png', 'CXR2348_IM-0913-1001.png', 'CXR2349_IM-0914-1001.png', 'CXR235_IM-0915-2001.png', 'CXR2350_IM-0916-1001.png', 'CXR2351_IM-0917-1001.png', 'CXR2352_IM-0918-1002.png', 'CXR2353_IM-0918-1001.png', 'CXR2354_IM-0918-1001.png', 'CXR2355_IM-0919-1001.png', 'CXR2356_IM-0920-1001.png', 'CXR2357_IM-0921-1001.png', 'CXR2358_IM-0922-0001-0001.png', 'CXR2359_IM-0923-2001.png', 'CXR236_IM-0924-1001.png', 'CXR2360_IM-0925-1001.png', 'CXR2361_IM-0926-1001.png', 'CXR2362_IM-0926-1001.png', 'CXR2363_IM-0926-1001.png', 'CXR2364_IM-0927-1001.png', 'CXR2365_IM-0927-2001.png', 'CXR2366_IM-0928-1001.png', 'CXR2367_IM-0928-1001.png', 'CXR2368_IM-0928-1001.png', 'CXR2369_IM-0929-2001.png', 'CXR237_IM-0930-1001.png', 'CXR2370_IM-0931-1001.png', 'CXR2371_IM-0932-1001.png', 'CXR2372_IM-0933-0001-0001.png', 'CXR2373_IM-0934-1001.png', 'CXR2374_IM-0935-84550001.png', 'CXR2375_IM-0936-1001.png', 'CXR2376_IM-0936-1001.png', 'CXR2377_IM-0937-1001.png', 'CXR2378_IM-0938-1001.png', 'CXR2379_IM-0939-1001.png', 'CXR238_IM-0939-1001.png', 'CXR2380_IM-0940-1001.png', 'CXR2381_IM-0941-1001.png', 'CXR2382_IM-0941-1001.png', 'CXR2383_IM-0941-1001.png', 'CXR2384_IM-0942-1001.png', 'CXR2385_IM-0942-1001.png', 'CXR2386_IM-0942-1001.png', 'CXR2387_IM-0943-1001.png', 'CXR2388_IM-0944-1001.png', 'CXR2389_IM-0944-1001.png', 'CXR239_IM-0944-1001.png', 'CXR2390_IM-0944-1001.png', 'CXR2391_IM-0944-1001.png', 'CXR2392_IM-0944-1001.png', 'CXR2393_IM-0944-1001.png', 'CXR2394_IM-0944-1001.png', 'CXR2395_IM-0944-1001.png', 'CXR2396_IM-0945-1001.png', 'CXR2397_IM-0946-1001.png', 'CXR2398_IM-0947-12012.png', 'CXR24_IM-0949-1001.png', 'CXR240_IM-0950-1001.png', 'CXR2400_IM-0950-1001.png', 'CXR2401_IM-0950-1001.png', 'CXR2402_IM-0951-1001.png', 'CXR2403_IM-0951-1001.png', 'CXR2404_IM-0952-1001.png', 'CXR2405_IM-0953-1001.png', 'CXR2406_IM-0954-1001.png', 'CXR2407_IM-0954-1001.png', 'CXR2408_IM-0955-2001.png', 'CXR2409_IM-0955-1001.png', 'CXR241_IM-0955-1001.png', 'CXR2410_IM-0956-1001.png', 'CXR2411_IM-0957-0001-0001.png', 'CXR2412_IM-0958-1001.png', 'CXR2413_IM-0959-1001.png', 'CXR2415_IM-0961-1001.png', 'CXR2416_IM-0961-1001.png', 'CXR2417_IM-0961-1001.png', 'CXR2418_IM-0962-5001.png', 'CXR2419_IM-0963-1001.png', 'CXR242_IM-0963-1001.png', 'CXR2420_IM-0964-0001-0001.png', 'CXR2422_IM-0965-1001.png', 'CXR2423_IM-0965-1001.png', 'CXR2424_IM-0966-1001.png', 'CXR2425_IM-0967-1001.png', 'CXR2427_IM-0969-4001.png', 'CXR2428_IM-0970-1001.png', 'CXR2431_IM-0973-1001.png', 'CXR2432_IM-0974-1001.png', 'CXR2433_IM-0975-1001.png', 'CXR2434_IM-0976-1001.png', 'CXR2435_IM-0976-1001.png', 'CXR2436_IM-0976-1001.png', 'CXR2437_IM-0977-2002.png', 'CXR2438_IM-0978-1001.png', 'CXR2439_IM-0978-1001.png', 'CXR244_IM-0978-1001.png', 'CXR2440_IM-0978-1001.png', 'CXR2441_IM-0978-1001.png', 'CXR2442_IM-0979-1001.png', 'CXR2443_IM-0980-1001.png', 'CXR2444_IM-0980-1001.png', 'CXR2445_IM-0981-2002.png', 'CXR2446_IM-0982-1001.png', 'CXR2447_IM-0983-1001.png', 'CXR2448_IM-0983-1001.png', 'CXR2449_IM-0984-1001.png', 'CXR245_IM-0985-1001.png', 'CXR2450_IM-0986-1001.png', 'CXR2451_IM-0987-1001.png', 'CXR2453_IM-0988-1001.png', 'CXR2454_IM-0989-1001.png', 'CXR2455_IM-0989-1001.png', 'CXR2456_IM-0989-1001.png', 'CXR2457_IM-0989-1001.png', 'CXR2458_IM-0990-1001.png', 'CXR2459_IM-0991-1001.png', 'CXR246_IM-0992-1002001.png', 'CXR2460_IM-0993-1001.png', 'CXR2461_IM-0994-0001-0001.png', 'CXR2462_IM-0995-1001.png', 'CXR2463_IM-0996-1001.png', 'CXR2464_IM-0997-1001.png', 'CXR2465_IM-0997-1001.png', 'CXR2466_IM-0997-1001.png', 'CXR2467_IM-0997-1001.png', 'CXR2468_IM-0998-1001.png', 'CXR2469_IM-0999-1001.png', 'CXR247_IM-1000-1001.png', 'CXR2470_IM-1001-1001.png', 'CXR2471_IM-1002-1001.png', 'CXR2473_IM-1003-1001.png', 'CXR2474_IM-1003-1001.png', 'CXR2475_IM-1004-1001.png', 'CXR2476_IM-1005-1001.png', 'CXR2477_IM-1006-1001.png', 'CXR2478_IM-1007-1001.png', 'CXR248_IM-1008-85149002.png', 'CXR2480_IM-1009-1001.png', 'CXR2481_IM-1010-12012.png', 'CXR2482_IM-1011-0001-0001.png', 'CXR2483_IM-1012-1001.png', 'CXR2484_IM-1012-1001.png', 'CXR2485_IM-1013-1001.png', 'CXR2486_IM-1014-1001.png', 'CXR2487_IM-1014-1001.png', 'CXR2488_IM-1015-1001.png', 'CXR2489_IM-1016-1001.png', 'CXR249_IM-1016-1001.png', 'CXR2490_IM-1017-1001.png', 'CXR2491_IM-1017-1001.png', 'CXR2492_IM-1018-1001.png', 'CXR2493_IM-1019-4001.png', 'CXR2494_IM-1020-1001.png', 'CXR2495_IM-1021-1001.png', 'CXR2497_IM-1022-1001.png', 'CXR2498_IM-1022-1001.png', 'CXR2499_IM-1023-1001.png', 'CXR25_IM-1024-2001.png', 'CXR250_IM-1025-1001.png', 'CXR2501_IM-1027-1001.png', 'CXR2502_IM-1027-1001-0001.png', 'CXR2503_IM-1028-1001.png', 'CXR2504_IM-1029-1001.png', 'CXR2505_IM-1029-1001.png', 'CXR2506_IM-1029-1001.png', 'CXR2507_IM-1030-2001.png', 'CXR2509_IM-1031-1001.png', 'CXR251_IM-1032-1001.png', 'CXR2510_IM-1033-1001.png', 'CXR2511_IM-1034-1001.png', 'CXR2512_IM-1034-1001.png', 'CXR2513_IM-1035-1001.png', 'CXR2514_IM-1036-1001.png', 'CXR2515_IM-1036-1001.png', 'CXR2516_IM-1036-1001.png', 'CXR2517_IM-1036-1001.png', 'CXR2518_IM-1036-1001.png', 'CXR2519_IM-1037-1001.png', 'CXR252_IM-1038-1001.png', 'CXR2520_IM-1039-27001.png', 'CXR2522_IM-1040-1001.png', 'CXR2523_IM-1041-1001.png', 'CXR2524_IM-1042-1001.png', 'CXR2526_IM-1043-1001.png', 'CXR2527_IM-1043-1001.png', 'CXR2528_IM-1044-1001.png', 'CXR2529_IM-1044-1001.png', 'CXR253_IM-1045-1001.png', 'CXR2530_IM-1045-1001.png', 'CXR2531_IM-1045-1001.png', 'CXR2532_IM-1046-1001.png', 'CXR2533_IM-1047-1001.png', 'CXR2536_IM-1049-1001.png', 'CXR2537_IM-1049-1001.png', 'CXR2538_IM-1050-1001.png', 'CXR2539_IM-1050-1001.png', 'CXR254_IM-1051-1001.png', 'CXR2540_IM-1052-1001.png', 'CXR2541_IM-1053-2001.png', 'CXR2542_IM-1053-1001.png', 'CXR2543_IM-1054-1001.png', 'CXR2544_IM-1054-1001.png', 'CXR2545_IM-1054-1001.png', 'CXR2546_IM-1055-1001.png', 'CXR2548_IM-1056-0001-0001.png', 'CXR2549_IM-1057-1001.png', 'CXR255_IM-1058-1001.png', 'CXR2550_IM-1058-1001.png', 'CXR2551_IM-1058-1001.png', 'CXR2552_IM-1058-1001.png', 'CXR2553_IM-1059-1001.png', 'CXR2554_IM-1059-1001.png', 'CXR2555_IM-1060-1001.png', 'CXR2557_IM-1061-2001.png', 'CXR2558_IM-1062-10001.png', 'CXR2559_IM-1063-1001.png', 'CXR256_IM-1064-1001.png', 'CXR2560_IM-1064-1001.png', 'CXR2561_IM-1064-1001.png', 'CXR2562_IM-1065-1001.png', 'CXR2563_IM-1066-1001.png', 'CXR2564_IM-1067-1001.png', 'CXR2565_IM-1068-1002.png', 'CXR2566_IM-1068-1001.png', 'CXR2567_IM-1069-2002.png', 'CXR2568_IM-1070-1001.png', 'CXR2569_IM-1071-1001.png', 'CXR257_IM-1072-1001.png', 'CXR2570_IM-1073-1001.png', 'CXR2572_IM-1073-1001.png', 'CXR2573_IM-1074-1001.png', 'CXR2574_IM-1074-1001.png', 'CXR2575_IM-1075-1001.png', 'CXR2576_IM-1076-1001.png', 'CXR2577_IM-1077-1001.png', 'CXR2578_IM-1078-1001.png', 'CXR2579_IM-1078-1001.png', 'CXR258_IM-1078-1001.png', 'CXR2580_IM-1078-1001.png', 'CXR2581_IM-1079-1001.png', 'CXR2582_IM-1080-1001.png', 'CXR2583_IM-1081-1001.png', 'CXR2584_IM-1081-1001.png', 'CXR2585_IM-1082-1001.png', 'CXR2586_IM-1083-1001.png', 'CXR2588_IM-1083-1001.png', 'CXR2589_IM-1083-1001.png', 'CXR259_IM-1083-1001.png', 'CXR2590_IM-1083-1001.png', 'CXR2591_IM-1083-1001.png', 'CXR2592_IM-1084-1001.png', 'CXR2593_IM-1084-1001.png', 'CXR2594_IM-1085-1001.png', 'CXR2595_IM-1086-1001.png', 'CXR2596_IM-1086-1001.png', 'CXR2597_IM-1087-1001.png', 'CXR2599_IM-1089-1001.png', 'CXR26_IM-1090-1001.png', 'CXR260_IM-1090-1001.png', 'CXR2600_IM-1091-1001.png', 'CXR2604_IM-1094-1001.png', 'CXR2605_IM-1095-1001.png', 'CXR2607_IM-1097-2002.png', 'CXR2608_IM-1098-1001.png', 'CXR2609_IM-1099-2001.png', 'CXR261_IM-1100-1001.png', 'CXR2610_IM-1101-1001.png', 'CXR2611_IM-1102-1001.png', 'CXR2612_IM-1103-1001.png', 'CXR2613_IM-1104-1001.png', 'CXR2614_IM-1105-1001.png', 'CXR2615_IM-1106-1001.png', 'CXR2616_IM-1106-1001.png', 'CXR2617_IM-1106-1001.png', 'CXR2618_IM-1107-1001.png', 'CXR2619_IM-1108-1001.png', 'CXR262_IM-1109-1001.png', 'CXR2620_IM-1109-1001.png', 'CXR2621_IM-1109-1001.png', 'CXR2622_IM-1110-1001.png', 'CXR2623_IM-1111-1001.png', 'CXR2624_IM-1111-1001.png', 'CXR2625_IM-1112-0001-0001.png', 'CXR2626_IM-1113-1001.png', 'CXR2627_IM-1114-2001.png', 'CXR2628_IM-1115-1001.png', 'CXR2629_IM-1116-1001.png', 'CXR2631_IM-1118-1001.png', 'CXR2632_IM-1119-1001.png', 'CXR2633_IM-1120-2002.png', 'CXR2636_IM-1121-1001.png', 'CXR2637_IM-1122-1001.png', 'CXR2638_IM-1123-1001.png', 'CXR2639_IM-1124-2001.png', 'CXR264_IM-1125-1001.png', 'CXR2640_IM-1126-2001.png', 'CXR2642_IM-1128-1001.png', 'CXR2643_IM-1129-1001.png', 'CXR2644_IM-1130-1001.png', 'CXR2645_IM-1131-1001.png', 'CXR2646_IM-1131-1001.png', 'CXR2647_IM-1132-1001.png', 'CXR2651_IM-1136-1001.png', 'CXR2652_IM-1136-1001.png', 'CXR2653_IM-1137-1001.png', 'CXR2654_IM-1137-1001.png', 'CXR2655_IM-1137-1001.png', 'CXR2657_IM-1139-0001-0001.png', 'CXR2658_IM-1140-1001.png', 'CXR2659_IM-1140-1001.png', 'CXR266_IM-1141-2001.png', 'CXR2660_IM-1142-1001.png', 'CXR2661_IM-1142-1001.png', 'CXR2662_IM-1143-2002.png', 'CXR2663_IM-1144-1001.png', 'CXR2664_IM-1145-1001.png', 'CXR2665_IM-1145-1001.png', 'CXR2666_IM-1145-1001.png', 'CXR2667_IM-1146-1001.png', 'CXR2668_IM-1147-2001.png', 'CXR2669_IM-1147-1001.png', 'CXR267_IM-1147-1001.png', 'CXR2670_IM-1148-1001.png', 'CXR2671_IM-1148-1001-0001.png', 'CXR2672_IM-1148-1001.png', 'CXR2673_IM-1149-1001.png', 'CXR2674_IM-1149-1001.png', 'CXR2676_IM-1151-1001.png', 'CXR2677_IM-1151-1001.png', 'CXR2679_IM-1153-1001.png', 'CXR268_IM-1153-1001.png', 'CXR2680_IM-1154-1001.png', 'CXR2681_IM-1154-1001.png', 'CXR2683_IM-1156-1001.png', 'CXR2684_IM-1157-1001.png', 'CXR2685_IM-1158-1001.png', 'CXR2686_IM-1158-1001.png', 'CXR2687_IM-1158-1001.png', 'CXR2688_IM-1159-2001.png', 'CXR2689_IM-1160-1002001.png', 'CXR269_IM-1161-1001.png', 'CXR2690_IM-1162-1003002.png', 'CXR2691_IM-1163-1001.png', 'CXR2692_IM-1164-1001.png', 'CXR2693_IM-1165-1001.png', 'CXR2694_IM-1165-1001.png', 'CXR2695_IM-1166-1001.png', 'CXR2696_IM-1166-1001.png', 'CXR2698_IM-1167-1001.png', 'CXR2699_IM-1167-1001.png', 'CXR27_IM-1168-2002.png', 'CXR270_IM-1168-1001.png', 'CXR2700_IM-1169-1001.png', 'CXR2701_IM-1169-1001.png', 'CXR2702_IM-1170-1001.png', 'CXR2704_IM-1171-1001.png', 'CXR2705_IM-1171-1001.png', 'CXR2706_IM-1172-1001.png', 'CXR2708_IM-1174-1001.png', 'CXR2709_IM-1175-1001.png', 'CXR271_IM-1176-1001.png', 'CXR2710_IM-1177-1001.png', 'CXR2711_IM-1178-0001-0001.png', 'CXR2712_IM-1179-1001.png', 'CXR2713_IM-1180-1001.png', 'CXR2714_IM-1180-1001.png', 'CXR2715_IM-1180-1001.png', 'CXR2716_IM-1181-1001.png', 'CXR2717_IM-1181-1001-0001.png', 'CXR2718_IM-1182-1001.png', 'CXR2719_IM-1182-1001.png', 'CXR272_IM-1182-1001.png', 'CXR2720_IM-1182-1001.png', 'CXR2721_IM-1183-1001.png', 'CXR2722_IM-1184-1001.png', 'CXR2723_IM-1185-1001.png', 'CXR2724_IM-1186-1001.png', 'CXR2725_IM-1186-1001.png', 'CXR2726_IM-1186-1001.png', 'CXR2727_IM-1187-1001.png', 'CXR2728_IM-1187-1001.png', 'CXR2729_IM-1187-1001.png', 'CXR273_IM-1188-1001.png', 'CXR2730_IM-1189-1001.png', 'CXR2731_IM-1189-1001.png', 'CXR2733_IM-1189-1001.png', 'CXR2734_IM-1189-1001.png', 'CXR2735_IM-1189-1001.png', 'CXR2737_IM-1191-4004.png', 'CXR2738_IM-1192-1001.png', 'CXR2739_IM-1193-1001.png', 'CXR274_IM-1194-1001.png', 'CXR2740_IM-1195-1001.png', 'CXR2741_IM-1196-1001.png', 'CXR2742_IM-1197-1001.png', 'CXR2743_IM-1197-1001.png', 'CXR2744_IM-1197-1001.png', 'CXR2745_IM-1197-1001.png', 'CXR2746_IM-1198-1001.png', 'CXR2747_IM-1198-1001.png', 'CXR2748_IM-1198-1001.png', 'CXR2749_IM-1199-1001.png', 'CXR275_IM-1200-1001.png', 'CXR2750_IM-1200-1001.png', 'CXR2751_IM-1201-1001.png', 'CXR2752_IM-1202-0001-0001.png', 'CXR2753_IM-1203-1001.png', 'CXR2754_IM-1204-2002.png', 'CXR2755_IM-1204-1001.png', 'CXR2756_IM-1205-1001.png', 'CXR2758_IM-1206-1001.png', 'CXR2759_IM-1207-1001.png', 'CXR276_IM-1207-1001.png', 'CXR2760_IM-1207-1001.png', 'CXR2761_IM-1208-1001.png', 'CXR2762_IM-1208-1001.png', 'CXR2763_IM-1209-1001.png', 'CXR2764_IM-1209-1001.png', 'CXR2766_IM-1211-3001.png', 'CXR2767_IM-1212-1001.png', 'CXR2768_IM-1212-1001.png', 'CXR2769_IM-1212-1001.png', 'CXR277_IM-1213-1001.png', 'CXR2770_IM-1213-1001.png', 'CXR2771_IM-1213-1001.png', 'CXR2772_IM-1213-1001.png', 'CXR2773_IM-1214-1001.png', 'CXR2774_IM-1215-1001.png', 'CXR2775_IM-1216-3001.png', 'CXR2776_IM-1217-1001.png', 'CXR2777_IM-1217-1001.png', 'CXR2778_IM-1218-1001.png', 'CXR2779_IM-1218-1001.png', 'CXR278_IM-1218-1001.png', 'CXR2780_IM-1218-1002.png', 'CXR2781_IM-1219-1001.png', 'CXR2782_IM-1220-1001.png', 'CXR2783_IM-1220-1001.png', 'CXR2784_IM-1220-1001.png', 'CXR2785_IM-1220-1001.png', 'CXR2786_IM-1221-1001.png', 'CXR2787_IM-1222-1001.png', 'CXR2788_IM-1222-1001.png', 'CXR2789_IM-1223-8001.png', 'CXR279_IM-1224-1001-0001.png', 'CXR2790_IM-1224-1001.png', 'CXR2791_IM-1225-2001.png', 'CXR2792_IM-1226-1001.png', 'CXR2793_IM-1226-1001.png', 'CXR2794_IM-1226-1001.png', 'CXR2795_IM-1227-1001.png', 'CXR2796_IM-1228-1001.png', 'CXR2797_IM-1229-1001.png', 'CXR2798_IM-1230-2001.png', 'CXR2799_IM-1231-1001.png', 'CXR28_IM-1231-1001.png', 'CXR280_IM-1232-1001.png', 'CXR2801_IM-1233-2002.png', 'CXR2802_IM-1234-1001.png', 'CXR2803_IM-1234-1001.png', 'CXR2804_IM-1235-1001.png', 'CXR2805_IM-1235-1001.png', 'CXR2806_IM-1236-1001.png', 'CXR2807_IM-1237-1001.png', 'CXR2808_IM-1238-1001.png', 'CXR2809_IM-1238-1001.png', 'CXR2810_IM-1238-1001.png', 'CXR2811_IM-1238-1001.png', 'CXR2812_IM-1239-1001.png', 'CXR2813_IM-1239-1001.png', 'CXR2814_IM-1239-1001.png', 'CXR2815_IM-1240-1001.png', 'CXR2817_IM-1241-1001.png', 'CXR2818_IM-1242-1001.png', 'CXR2819_IM-1243-1001.png', 'CXR282_IM-1243-1001.png', 'CXR2820_IM-1244-1001.png', 'CXR2821_IM-1244-1001.png', 'CXR2822_IM-1244-0001.png', 'CXR2824_IM-1245-13001.png', 'CXR2826_IM-1246-1001.png', 'CXR2827_IM-1246-1001.png', 'CXR2828_IM-1247-1001.png', 'CXR2829_IM-1247-1001.png', 'CXR283_IM-1248-1001.png', 'CXR2830_IM-1248-1001.png', 'CXR2831_IM-1249-1001.png', 'CXR2832_IM-1249-1001.png', 'CXR2833_IM-1249-1001.png', 'CXR2835_IM-1251-1001.png', 'CXR2836_IM-1252-1001.png', 'CXR2837_IM-1252-1001.png', 'CXR2838_IM-1252-1001.png', 'CXR2839_IM-1252-1001.png', 'CXR284_IM-1252-1001.png', 'CXR2840_IM-1253-1001-0001.png', 'CXR2842_IM-1254-1001.png', 'CXR2843_IM-1254-1001-0001.png', 'CXR2844_IM-1254-1001.png', 'CXR2845_IM-1254-1001.png', 'CXR2847_IM-1256-1001.png', 'CXR2848_IM-1256-1001.png', 'CXR285_IM-1258-1001.png', 'CXR2850_IM-1259-2002.png', 'CXR2851_IM-1260-0001-0001.png', 'CXR2852_IM-1261-2001.png', 'CXR2854_IM-1262-1001.png', 'CXR2855_IM-1263-1001.png', 'CXR2856_IM-1263-1001.png', 'CXR2857_IM-1264-1001.png', 'CXR2858_IM-1265-1001.png', 'CXR2859_IM-1266-1001.png', 'CXR286_IM-1267-2001.png', 'CXR2860_IM-1268-1001.png', 'CXR2861_IM-1269-2001.png', 'CXR2862_IM-1270-1001.png', 'CXR2863_IM-1271-2001.png', 'CXR2864_IM-1272-1001.png', 'CXR2865_IM-1273-1001.png', 'CXR2866_IM-1273-1001.png', 'CXR2867_IM-1274-1001.png', 'CXR2868_IM-1275-1001.png', 'CXR287_IM-1276-1001.png', 'CXR2870_IM-1276-1001.png', 'CXR2871_IM-1277-1001.png', 'CXR2873_IM-1279-2002.png', 'CXR2874_IM-1280-1001.png', 'CXR2876_IM-1282-1001.png', 'CXR2877_IM-1283-1001.png', 'CXR2879_IM-1284-1001.png', 'CXR288_IM-1284-1001.png', 'CXR2880_IM-1284-1001.png', 'CXR2882_IM-1286-1001.png', 'CXR2884_IM-1286-1001.png', 'CXR2885_IM-1287-2001.png', 'CXR2886_IM-1288-0001-0001.png', 'CXR2887_IM-1289-1001.png', 'CXR2888_IM-1290-0001-0001.png', 'CXR2889_IM-1291-1001.png', 'CXR289_IM-1292-0001-0001.png', 'CXR2890_IM-1293-22001.png', 'CXR2891_IM-1294-1001.png', 'CXR2892_IM-1295-1001.png', 'CXR2893_IM-1295-1001.png', 'CXR2894_IM-1296-4001-0001.png', 'CXR2895_IM-1297-1001.png', 'CXR2897_IM-1299-1001.png', 'CXR2898_IM-1300-0001-0001.png', 'CXR2899_IM-1301-1001.png', 'CXR29_IM-1302-1001.png', 'CXR290_IM-1303-1001.png', 'CXR2901_IM-1305-1001.png', 'CXR2902_IM-1306-3001.png', 'CXR2903_IM-1307-1001.png', 'CXR2904_IM-1308-1001.png', 'CXR2905_IM-1309-1001.png', 'CXR2906_IM-1310-1001.png', 'CXR2908_IM-1312-1001.png', 'CXR2909_IM-1313-1001.png', 'CXR291_IM-1313-1001.png', 'CXR2910_IM-1314-1001.png', 'CXR2911_IM-1314-1001.png', 'CXR2915_IM-1317-2001.png', 'CXR2916_IM-1318-1001.png', 'CXR2917_IM-1319-1001.png', 'CXR2918_IM-1320-1001.png', 'CXR2919_IM-1321-2001.png', 'CXR292_IM-1322-1001.png', 'CXR2920_IM-1323-1001.png', 'CXR2922_IM-1325-1001.png', 'CXR2923_IM-1326-1001.png', 'CXR2924_IM-1327-1001.png', 'CXR2925_IM-1327-1001.png', 'CXR2926_IM-1328-1001.png', 'CXR2927_IM-1329-1001.png', 'CXR2928_IM-1330-1001.png', 'CXR2929_IM-1331-1001.png', 'CXR293_IM-1332-1001.png', 'CXR2930_IM-1333-1002001.png', 'CXR2931_IM-1334-1001.png', 'CXR2932_IM-1335-1001.png', 'CXR2933_IM-1336-1001.png', 'CXR2934_IM-1337-1001.png', 'CXR2935_IM-1337-1001.png', 'CXR2936_IM-1338-1002001.png', 'CXR2937_IM-1339-1001.png', 'CXR2938_IM-1339-1001.png', 'CXR2939_IM-1339-1001.png', 'CXR294_IM-1340-2001.png', 'CXR2940_IM-1341-1001.png', 'CXR2941_IM-1342-1001.png', 'CXR2942_IM-1343-1001.png', 'CXR2943_IM-1343-1001.png', 'CXR2944_IM-1344-1001.png', 'CXR2945_IM-1345-12012.png', 'CXR2946_IM-1346-1001.png', 'CXR2947_IM-1347-1001.png', 'CXR2948_IM-1348-1001.png', 'CXR2949_IM-1348-1001.png', 'CXR295_IM-1348-1001.png', 'CXR2950_IM-1348-1001.png', 'CXR2951_IM-1349-1001.png', 'CXR2953_IM-1351-1001.png', 'CXR2954_IM-1352-1001.png', 'CXR2955_IM-1352-1001.png', 'CXR2956_IM-1353-1001.png', 'CXR2957_IM-1354-1002.png', 'CXR2958_IM-1354-1001.png', 'CXR2959_IM-1354-1001.png', 'CXR296_IM-1354-1001.png', 'CXR2960_IM-1354-1001.png', 'CXR2961_IM-1355-1001.png', 'CXR2962_IM-1355-1001.png', 'CXR2963_IM-1356-1001.png', 'CXR2964_IM-1357-2001.png', 'CXR2965_IM-1358-1001.png', 'CXR2966_IM-1359-1001.png', 'CXR2967_IM-1360-1001.png', 'CXR2968_IM-1360-1001.png', 'CXR2969_IM-1360-1001.png', 'CXR297_IM-1361-2001.png', 'CXR2970_IM-1362-1001.png', 'CXR2972_IM-1363-1001.png', 'CXR2974_IM-1364-1001.png', 'CXR2975_IM-1364-1001.png', 'CXR2976_IM-1365-2002.png', 'CXR2977_IM-1366-1001.png', 'CXR2978_IM-1367-1001.png', 'CXR2979_IM-1368-1001-0001.png', 'CXR298_IM-1369-1001.png', 'CXR2980_IM-1370-1002001.png', 'CXR2981_IM-1371-1001.png', 'CXR2982_IM-1371-1001.png', 'CXR2983_IM-1371-1001.png', 'CXR2984_IM-1372-1001.png', 'CXR2985_IM-1373-1001.png', 'CXR2986_IM-1374-1001.png', 'CXR2988_IM-1375-1001.png', 'CXR2989_IM-1376-1001.png', 'CXR299_IM-1377-1001.png', 'CXR2991_IM-1378-1001.png', 'CXR2992_IM-1379-2002.png', 'CXR2993_IM-1380-1001.png', 'CXR2994_IM-1380-1001.png', 'CXR2995_IM-1381-1001.png', 'CXR2996_IM-1381-1001.png', 'CXR2997_IM-1381-1001.png', 'CXR2998_IM-1382-1001.png', 'CXR2999_IM-1383-0001-0001.png', 'CXR3_IM-1384-1001.png', 'CXR30_IM-1385-1001.png', 'CXR300_IM-1385-1001.png', 'CXR3000_IM-1386-0001-0001.png', 'CXR3001_IM-1387-2001.png', 'CXR3002_IM-1388-1001.png', 'CXR3003_IM-1388-1001.png', 'CXR3004_IM-1388-1001.png', 'CXR3005_IM-1388-1001.png', 'CXR3006_IM-1388-1001.png', 'CXR3008_IM-1389-1001.png', 'CXR3009_IM-1389-1001.png', 'CXR301_IM-1389-1001.png', 'CXR3010_IM-1389-1001.png', 'CXR3011_IM-1390-1001.png', 'CXR3012_IM-1390-1001.png', 'CXR3013_IM-1391-0001-0001.png', 'CXR3014_IM-1392-1001.png', 'CXR3015_IM-1392-1001.png', 'CXR3016_IM-1392-1001.png', 'CXR3017_IM-1393-1001.png', 'CXR3018_IM-1393-1001.png', 'CXR3019_IM-1393-1001.png', 'CXR302_IM-1394-1001.png', 'CXR3020_IM-1395-1001.png', 'CXR3021_IM-1396-2001.png', 'CXR3022_IM-1397-1001.png', 'CXR3023_IM-1398-1001.png', 'CXR3024_IM-1399-1001.png', 'CXR3025_IM-1400-1001.png', 'CXR3026_IM-1401-1001.png', 'CXR3027_IM-1402-1001.png', 'CXR3028_IM-1403-1001.png', 'CXR3029_IM-1404-1001.png', 'CXR303_IM-1404-1001.png', 'CXR3030_IM-1405-3001.png', 'CXR3031_IM-1406-1001.png', 'CXR3032_IM-1407-1001.png', 'CXR3033_IM-1408-1001.png', 'CXR3034_IM-1408-1001.png', 'CXR3036_IM-1409-1001.png', 'CXR3037_IM-1410-1001.png', 'CXR3038_IM-1411-1001.png', 'CXR3039_IM-1412-1001.png', 'CXR304_IM-1413-12012.png', 'CXR3040_IM-1414-12012.png', 'CXR3041_IM-1415-1001.png', 'CXR3043_IM-1417-2001.png', 'CXR3044_IM-1418-1001.png', 'CXR3045_IM-1418-1001.png', 'CXR3046_IM-1418-1001.png', 'CXR3047_IM-1418-1001.png', 'CXR3049_IM-1420-1001.png', 'CXR3050_IM-1420-1001.png', 'CXR3051_IM-1420-1001.png', 'CXR3052_IM-1420-1001.png', 'CXR3053_IM-1421-1001.png', 'CXR3054_IM-1422-2002.png', 'CXR3057_IM-1424-1001-0001.png', 'CXR3058_IM-1425-12012.png', 'CXR3059_IM-1425-1001.png', 'CXR306_IM-1426-1001.png', 'CXR3061_IM-1427-2001.png', 'CXR3062_IM-1428-1001.png', 'CXR3063_IM-1428-1001.png', 'CXR3064_IM-1428-1001.png', 'CXR3065_IM-1429-1001.png', 'CXR3066_IM-1430-1001.png', 'CXR3067_IM-1430-1001.png', 'CXR3069_IM-1432-1001.png', 'CXR307_IM-1432-1001.png', 'CXR3070_IM-1432-1001.png', 'CXR3071_IM-1433-1001.png', 'CXR3072_IM-1433-1001.png', 'CXR3073_IM-1434-1001.png', 'CXR3074_IM-1435-1001.png', 'CXR3075_IM-1436-1001.png', 'CXR3076_IM-1437-1001.png', 'CXR3077_IM-1438-1001.png', 'CXR3078_IM-1438-1001.png', 'CXR3079_IM-1438-1001.png', 'CXR308_IM-1439-1001.png', 'CXR3080_IM-1440-1001.png', 'CXR3081_IM-1440-1001.png', 'CXR3082_IM-1441-1001.png', 'CXR3083_IM-1442-7001.png', 'CXR3084_IM-1443-1001.png', 'CXR3085_IM-1444-1001.png', 'CXR3086_IM-1444-1001.png', 'CXR3087_IM-1444-1001.png', 'CXR3088_IM-1444-1001.png', 'CXR3089_IM-1444-1001.png', 'CXR309_IM-1444-1001.png', 'CXR3090_IM-1445-1001.png', 'CXR3091_IM-1445-1001.png', 'CXR3092_IM-1445-1001.png', 'CXR3093_IM-1446-1001.png', 'CXR3094_IM-1447-2001.png', 'CXR3095_IM-1448-1001.png', 'CXR3096_IM-1448-1001.png', 'CXR3097_IM-1449-1001.png', 'CXR3098_IM-1450-1001.png', 'CXR3099_IM-1450-1001.png', 'CXR31_IM-1450-1001.png', 'CXR310_IM-1451-0001-0001.png', 'CXR3100_IM-1452-1001.png', 'CXR3101_IM-1453-1001.png', 'CXR3102_IM-1454-1001.png', 'CXR3103_IM-1454-1001.png', 'CXR3104_IM-1455-1001.png', 'CXR3105_IM-1456-1001.png', 'CXR3106_IM-1456-1001.png', 'CXR3108_IM-1457-1001.png', 'CXR3109_IM-1458-1001.png', 'CXR3110_IM-1460-1001.png', 'CXR3111_IM-1461-1001.png', 'CXR3112_IM-1461-1001.png', 'CXR3113_IM-1462-1001.png', 'CXR3114_IM-1462-1001.png', 'CXR3115_IM-1463-1001.png', 'CXR3116_IM-1464-1001.png', 'CXR3117_IM-1465-1001.png', 'CXR3118_IM-1466-1001.png', 'CXR3119_IM-1466-1001.png', 'CXR312_IM-1466-1001.png', 'CXR3120_IM-1466-1001.png', 'CXR3121_IM-1466-1001.png', 'CXR3122_IM-1467-1001.png', 'CXR3123_IM-1468-1001.png', 'CXR3124_IM-1468-1001.png', 'CXR3125_IM-1469-1001.png', 'CXR3126_IM-1470-1001.png', 'CXR3127_IM-1470-1001.png', 'CXR3128_IM-1471-1001.png', 'CXR3129_IM-1471-2001.png', 'CXR313_IM-1472-1001.png', 'CXR3130_IM-1472-1001.png', 'CXR3131_IM-1473-1001.png', 'CXR3132_IM-1473-1001.png', 'CXR3133_IM-1474-1001.png', 'CXR3134_IM-1474-1001.png', 'CXR3135_IM-1474-1001.png', 'CXR3136_IM-1475-1001.png', 'CXR3137_IM-1476-1001.png', 'CXR3138_IM-1476-1001.png', 'CXR3139_IM-1476-1001.png', 'CXR314_IM-1477-1001.png', 'CXR3140_IM-1477-1001.png', 'CXR3141_IM-1477-1001.png', 'CXR3142_IM-1477-1001.png', 'CXR3143_IM-1477-1001.png', 'CXR3144_IM-1478-1001.png', 'CXR3145_IM-1479-1001.png', 'CXR3146_IM-1479-1001.png', 'CXR3147_IM-1480-1001.png', 'CXR3148_IM-1480-1001.png', 'CXR3149_IM-1480-1001.png', 'CXR315_IM-1481-1001.png', 'CXR3150_IM-1482-3001.png', 'CXR3152_IM-1484-1001.png', 'CXR3153_IM-1485-1001.png', 'CXR3154_IM-1486-2001.png', 'CXR3155_IM-1486-1001.png', 'CXR3156_IM-1486-1001.png', 'CXR3157_IM-1487-1001.png', 'CXR3158_IM-1487-1001.png', 'CXR3159_IM-1487-1001-0001.png', 'CXR316_IM-1487-1001.png', 'CXR3162_IM-1487-1001.png', 'CXR3163_IM-1488-1001.png', 'CXR3164_IM-1489-0001-0001.png', 'CXR3165_IM-1490-1001.png', 'CXR3166_IM-1491-1001.png', 'CXR3167_IM-1491-1001.png', 'CXR3168_IM-1492-1001.png', 'CXR3169_IM-1492-1001.png', 'CXR317_IM-1493-1001.png', 'CXR3170_IM-1494-1001.png', 'CXR3171_IM-1494-1001.png', 'CXR3172_IM-1494-1001.png', 'CXR3173_IM-1495-2002.png', 'CXR3174_IM-1496-1001.png', 'CXR3175_IM-1497-1001.png', 'CXR3176_IM-1497-1001.png', 'CXR3177_IM-1497-1001.png', 'CXR3178_IM-1498-1001.png', 'CXR3179_IM-1499-1001.png', 'CXR318_IM-1500-1001.png', 'CXR3180_IM-1500-2001.png', 'CXR3181_IM-1500-1001.png', 'CXR3182_IM-1501-0001-0001.png', 'CXR3183_IM-1502-1001.png', 'CXR3184_IM-1503-1001.png', 'CXR3185_IM-1503-1001.png', 'CXR3186_IM-1503-1001.png', 'CXR3187_IM-1503-1001.png', 'CXR3188_IM-1504-1001.png', 'CXR3189_IM-1505-1001.png', 'CXR319_IM-1505-1001.png', 'CXR3190_IM-1505-1001.png', 'CXR3191_IM-1505-1001.png', 'CXR3192_IM-1505-1001.png', 'CXR3193_IM-1505-1001.png', 'CXR3194_IM-1505-1001.png', 'CXR3195_IM-1506-0001-0001.png', 'CXR3196_IM-1507-1001.png', 'CXR3197_IM-1508-1001.png', 'CXR3198_IM-1509-3001.png', 'CXR3199_IM-1510-1001.png', 'CXR32_IM-1511-1001.png', 'CXR320_IM-1511-1001.png', 'CXR3200_IM-1512-1001.png', 'CXR3201_IM-1513-1001.png', 'CXR3202_IM-1513-1001.png', 'CXR3203_IM-1513-1001.png', 'CXR3204_IM-1513-1001.png', 'CXR3205_IM-1513-1001.png', 'CXR3206_IM-1513-1001.png', 'CXR3207_IM-1514-1001.png', 'CXR3208_IM-1515-1001.png', 'CXR3209_IM-1515-1001.png', 'CXR321_IM-1516-0001-0001.png', 'CXR3210_IM-1517-1001.png', 'CXR3211_IM-1517-1001-0001.png', 'CXR3212_IM-1517-1001.png', 'CXR3214_IM-1519-1001.png', 'CXR3215_IM-1520-1002.png', 'CXR3216_IM-1520-1001.png', 'CXR3218_IM-1520-1001.png', 'CXR3219_IM-1520-1001.png', 'CXR322_IM-1521-1001.png', 'CXR3220_IM-1522-1001.png', 'CXR3221_IM-1522-1002.png', 'CXR3222_IM-1522-1001.png', 'CXR3223_IM-1523-1001.png', 'CXR3224_IM-1524-1001.png', 'CXR3225_IM-1525-1001.png', 'CXR3226_IM-1525-1001.png', 'CXR3227_IM-1525-1001.png', 'CXR3228_IM-1526-1001.png', 'CXR3229_IM-1526-1001.png', 'CXR323_IM-1526-1001.png', 'CXR3230_IM-1527-1001.png', 'CXR3231_IM-1528-1001.png', 'CXR3232_IM-1529-1001.png', 'CXR3233_IM-1530-1001.png', 'CXR3234_IM-1531-1001.png', 'CXR3235_IM-1532-1001.png', 'CXR3236_IM-1533-1001.png', 'CXR3237_IM-1534-1001.png', 'CXR3238_IM-1534-1001.png', 'CXR3239_IM-1534-1001.png', 'CXR324_IM-1534-1001.png', 'CXR3240_IM-1534-1001.png', 'CXR3241_IM-1534-1001.png', 'CXR3242_IM-1534-1001.png', 'CXR3243_IM-1535-0001-0001.png', 'CXR3244_IM-1536-1001.png', 'CXR3245_IM-1537-1001.png', 'CXR3246_IM-1538-1001.png', 'CXR3247_IM-1538-1001.png', 'CXR3248_IM-1538-1001.png', 'CXR3249_IM-1539-1001.png', 'CXR325_IM-1539-1001.png', 'CXR3250_IM-1540-1001-0001.png', 'CXR3251_IM-1541-1001.png', 'CXR3252_IM-1542-1001.png', 'CXR3253_IM-1542-1001.png', 'CXR3254_IM-1543-1001.png', 'CXR3256_IM-1543-1001.png', 'CXR3257_IM-1544-1001.png', 'CXR3258_IM-1544-1001.png', 'CXR3259_IM-1545-1001.png', 'CXR326_IM-1546-12012.png', 'CXR3260_IM-1547-1001.png', 'CXR3261_IM-1547-1001.png', 'CXR3262_IM-1548-1001.png', 'CXR3263_IM-1549-1001.png', 'CXR3264_IM-1550-1001.png', 'CXR3265_IM-1551-1001.png', 'CXR3266_IM-1551-1001.png', 'CXR3267_IM-1551-1001.png', 'CXR3268_IM-1551-1001.png', 'CXR3269_IM-1552-1001.png', 'CXR327_IM-1552-1001.png', 'CXR3270_IM-1552-1001.png', 'CXR3271_IM-1552-1001.png', 'CXR3272_IM-1553-1001.png', 'CXR3273_IM-1554-1001.png', 'CXR3274_IM-1555-0001-0001.png', 'CXR3275_IM-1556-1002001.png', 'CXR3277_IM-1558-1001.png', 'CXR3278_IM-1559-0001.png', 'CXR3279_IM-1560-1001.png', 'CXR328_IM-1560-1001.png', 'CXR3280_IM-1561-1001.png', 'CXR3281_IM-1562-1001.png', 'CXR3282_IM-1563-1001.png', 'CXR3283_IM-1564-1001.png', 'CXR3285_IM-1566-1001.png', 'CXR3286_IM-1567-1001.png', 'CXR3287_IM-1568-2002.png', 'CXR3288_IM-1569-1001.png', 'CXR3289_IM-1570-1001.png', 'CXR329_IM-1571-1003002.png', 'CXR3290_IM-1572-1001.png', 'CXR3291_IM-1572-1001.png', 'CXR3292_IM-1572-1001.png', 'CXR3294_IM-1573-1001.png', 'CXR3296_IM-1575-1001-0001.png', 'CXR3297_IM-1575-1001.png', 'CXR3298_IM-1575-1001.png', 'CXR3299_IM-1575-1001.png', 'CXR33_IM-1576-12012.png', 'CXR330_IM-1577-0001-0001.png', 'CXR3300_IM-1578-1001.png', 'CXR3301_IM-1579-1001.png', 'CXR3302_IM-1579-1001.png', 'CXR3304_IM-1581-1001.png', 'CXR3305_IM-1581-1001.png', 'CXR3307_IM-1582-1002001.png', 'CXR3309_IM-1583-1001.png', 'CXR331_IM-1584-1001.png', 'CXR3310_IM-1585-1001.png', 'CXR3311_IM-1586-1001.png', 'CXR3312_IM-1586-1001.png', 'CXR3313_IM-1586-1001.png', 'CXR3314_IM-1586-1001.png', 'CXR3315_IM-1586-1001.png', 'CXR3316_IM-1586-1001.png', 'CXR3317_IM-1587-1001.png', 'CXR3318_IM-1587-1001.png', 'CXR3319_IM-1588-1001.png', 'CXR332_IM-1588-1001.png', 'CXR3320_IM-1588-1001.png', 'CXR3321_IM-1588-1001.png', 'CXR3322_IM-1588-1001.png', 'CXR3324_IM-1590-1001.png', 'CXR3325_IM-1591-1001.png', 'CXR3326_IM-1592-1001.png', 'CXR3327_IM-1593-1001.png', 'CXR3328_IM-1594-1001.png', 'CXR3329_IM-1594-1001.png', 'CXR333_IM-1594-1001.png', 'CXR3330_IM-1594-1001.png', 'CXR3331_IM-1595-1001.png', 'CXR3332_IM-1596-1001.png', 'CXR3333_IM-1597-1001.png', 'CXR3334_IM-1598-1001.png', 'CXR3335_IM-1598-1001.png', 'CXR3336_IM-1598-1001.png', 'CXR3337_IM-1598-1001.png', 'CXR3338_IM-1599-1001.png', 'CXR3339_IM-1599-1001.png', 'CXR334_IM-1600-1001.png', 'CXR3340_IM-1601-1001.png', 'CXR3341_IM-1602-1001.png', 'CXR3342_IM-1603-1001.png', 'CXR3343_IM-1603-1001.png', 'CXR3344_IM-1603-1001.png', 'CXR3345_IM-1603-1001.png', 'CXR3346_IM-1604-1001.png', 'CXR3347_IM-1605-2001.png', 'CXR3348_IM-1605-1001.png', 'CXR3349_IM-1606-1001.png', 'CXR335_IM-1606-1001.png', 'CXR3350_IM-1607-0001-0001.png', 'CXR3352_IM-1608-1001.png', 'CXR3354_IM-1609-1001.png', 'CXR3355_IM-1609-1001.png', 'CXR3356_IM-1610-1001.png', 'CXR3357_IM-1610-1001.png', 'CXR3358_IM-1611-1001.png', 'CXR3359_IM-1612-2001.png', 'CXR336_IM-1613-1001.png', 'CXR3360_IM-1613-1001.png', 'CXR3361_IM-1614-1001.png', 'CXR3362_IM-1615-1001.png', 'CXR3363_IM-1616-1001.png', 'CXR3364_IM-1617-2001.png', 'CXR3365_IM-1618-1001.png', 'CXR3366_IM-1618-1001.png', 'CXR3368_IM-1620-0001-0001.png', 'CXR3369_IM-1621-1001.png', 'CXR337_IM-1622-1001.png', 'CXR3370_IM-1622-1001.png', 'CXR3371_IM-1623-1001.png', 'CXR3372_IM-1623-1001.png', 'CXR3373_IM-1623-1001.png', 'CXR3374_IM-1624-1001.png', 'CXR3375_IM-1624-1001.png', 'CXR3377_IM-1626-1002001.png', 'CXR3378_IM-1627-1001.png', 'CXR3379_IM-1627-1001.png', 'CXR338_IM-1628-1001.png', 'CXR3380_IM-1628-1001.png', 'CXR3381_IM-1628-1001.png', 'CXR3382_IM-1629-0001-0001.png', 'CXR3383_IM-1630-1001.png', 'CXR3384_IM-1631-1001.png', 'CXR3385_IM-1632-1001.png', 'CXR3386_IM-1633-1001.png', 'CXR3387_IM-1633-1001.png', 'CXR3388_IM-1633-1001.png', 'CXR3389_IM-1634-1001.png', 'CXR339_IM-1635-1001.png', 'CXR3390_IM-1636-1001.png', 'CXR3391_IM-1637-1001.png', 'CXR3392_IM-1637-1001.png', 'CXR3393_IM-1637-1001.png', 'CXR3394_IM-1638-1001.png', 'CXR3395_IM-1639-0001-0001.png', 'CXR3396_IM-1640-1001.png', 'CXR3398_IM-1642-2001.png', 'CXR34_IM-1644-1001.png', 'CXR340_IM-1644-1001.png', 'CXR3400_IM-1644-1001.png', 'CXR3401_IM-1645-1001.png', 'CXR3402_IM-1646-1001.png', 'CXR3403_IM-1647-1001.png', 'CXR3404_IM-1647-1001.png', 'CXR3405_IM-1647-1001.png', 'CXR3406_IM-1647-1001.png', 'CXR3407_IM-1647-1001.png', 'CXR3408_IM-1648-1001.png', 'CXR3409_IM-1648-1001.png', 'CXR341_IM-1648-1001.png', 'CXR3410_IM-1648-1001.png', 'CXR3411_IM-1649-0001-0001.png', 'CXR3412_IM-1650-1001-0001.png', 'CXR3413_IM-1650-1001.png', 'CXR3414_IM-1650-1001.png', 'CXR3415_IM-1650-1001.png', 'CXR3416_IM-1651-0001-0001.png', 'CXR3417_IM-1652-1001.png', 'CXR3418_IM-1653-1001.png', 'CXR3419_IM-1654-12012.png', 'CXR342_IM-1655-0001-0001.png', 'CXR3420_IM-1656-1001.png', 'CXR3421_IM-1656-1001.png', 'CXR3422_IM-1656-1001.png', 'CXR3423_IM-1656-1001.png', 'CXR3424_IM-1656-1001.png', 'CXR3426_IM-1656-1001.png', 'CXR3427_IM-1657-1001.png', 'CXR3428_IM-1657-1001.png', 'CXR3429_IM-1657-1001.png', 'CXR343_IM-1658-1001.png', 'CXR3430_IM-1659-1001.png', 'CXR3431_IM-1660-1001.png', 'CXR3432_IM-1661-1001.png', 'CXR3433_IM-1662-1001.png', 'CXR3435_IM-1662-1001.png', 'CXR3436_IM-1663-1001.png', 'CXR3437_IM-1663-1001.png', 'CXR3438_IM-1664-1001.png', 'CXR3439_IM-1664-1001.png', 'CXR344_IM-1664-1001.png', 'CXR3440_IM-1665-1001.png', 'CXR3441_IM-1666-1001.png', 'CXR3442_IM-1667-1001.png', 'CXR3443_IM-1667-1001.png', 'CXR3444_IM-1667-1001.png', 'CXR3445_IM-1668-1001.png', 'CXR3446_IM-1669-1001.png', 'CXR3448_IM-1671-2001.png', 'CXR3449_IM-1672-1001.png', 'CXR345_IM-1672-1001.png', 'CXR3450_IM-1673-1001.png', 'CXR3451_IM-1674-1001.png', 'CXR3452_IM-1675-1001.png', 'CXR3453_IM-1676-0001-0001.png', 'CXR3454_IM-1677-2001.png', 'CXR3455_IM-1677-1001.png', 'CXR3456_IM-1678-1001.png', 'CXR3457_IM-1678-1001.png', 'CXR3458_IM-1678-1001.png', 'CXR3459_IM-1679-1001.png', 'CXR346_IM-1680-12012.png', 'CXR3460_IM-1681-1001.png', 'CXR3461_IM-1682-1001.png', 'CXR3462_IM-1683-1001.png', 'CXR3464_IM-1683-1001.png', 'CXR3465_IM-1683-1001.png', 'CXR3466_IM-1683-1001.png', 'CXR3467_IM-1684-0001-0001.png', 'CXR3468_IM-1684-0001-0001.png', 'CXR3469_IM-1685-1001.png', 'CXR347_IM-1686-1001.png', 'CXR3470_IM-1686-1001.png', 'CXR3471_IM-1687-2002.png', 'CXR3472_IM-1688-1001.png', 'CXR3473_IM-1688-2002.png', 'CXR3474_IM-1688-1001.png', 'CXR3475_IM-1688-1001.png', 'CXR3477_IM-1690-2001.png', 'CXR3478_IM-1690-1001.png', 'CXR3479_IM-1690-1001.png', 'CXR348_IM-1690-1001.png', 'CXR3480_IM-1691-1001.png', 'CXR3481_IM-1692-1001.png', 'CXR3482_IM-1692-1001.png', 'CXR3483_IM-1692-1001.png', 'CXR3485_IM-1694-2002.png', 'CXR3486_IM-1695-1001.png', 'CXR3487_IM-1696-1001.png', 'CXR3488_IM-1696-1001.png', 'CXR3489_IM-1696-1001.png', 'CXR349_IM-1697-1001.png', 'CXR3490_IM-1697-1001.png', 'CXR3491_IM-1698-1001.png', 'CXR3492_IM-1698-1001.png', 'CXR3493_IM-1698-1001.png', 'CXR3494_IM-1699-1001.png', 'CXR3495_IM-1700-1001.png', 'CXR3498_IM-1702-1001.png', 'CXR3499_IM-1703-2002.png', 'CXR35_IM-1704-1001.png', 'CXR350_IM-1705-0001-0001.png', 'CXR3500_IM-1706-1001.png', 'CXR3501_IM-1706-1001.png', 'CXR3502_IM-1707-1001.png', 'CXR3504_IM-1707-1001.png', 'CXR3505_IM-1707-1001.png', 'CXR3506_IM-1708-1001.png', 'CXR3507_IM-1709-1001.png', 'CXR3508_IM-1710-1001.png', 'CXR3509_IM-1711-0001-0001.png', 'CXR351_IM-1712-1001.png', 'CXR3510_IM-1713-1001.png', 'CXR3511_IM-1714-1001.png', 'CXR3512_IM-1714-1001.png', 'CXR3513_IM-1715-1001.png', 'CXR3514_IM-1715-1001.png', 'CXR3515_IM-1715-1001.png', 'CXR3516_IM-1715-1001.png', 'CXR3518_IM-1717-1001.png', 'CXR3519_IM-1717-1001.png', 'CXR352_IM-1718-1001.png', 'CXR3520_IM-1718-1001.png', 'CXR3521_IM-1719-1001.png', 'CXR3522_IM-1720-1001.png', 'CXR3523_IM-1721-1001.png', 'CXR3524_IM-1721-1001.png', 'CXR3525_IM-1722-1001.png', 'CXR3526_IM-1723-1001.png', 'CXR3527_IM-1724-1001.png', 'CXR3528_IM-1725-2002.png', 'CXR3529_IM-1725-1001.png', 'CXR353_IM-1726-1001.png', 'CXR3530_IM-1726-1001.png', 'CXR3531_IM-1726-1001.png', 'CXR3532_IM-1726-1001.png', 'CXR3533_IM-1726-1001.png', 'CXR3534_IM-1727-1001.png', 'CXR3535_IM-1728-0001-0001.png', 'CXR3536_IM-1729-4004.png', 'CXR3537_IM-1730-1001.png', 'CXR3538_IM-1731-1001.png', 'CXR3539_IM-1731-1001.png', 'CXR354_IM-1731-1001.png', 'CXR3540_IM-1732-1001.png', 'CXR3541_IM-1733-0001-0001.png', 'CXR3542_IM-1734-1001.png', 'CXR3543_IM-1735-2001.png', 'CXR3544_IM-1736-1001.png', 'CXR3545_IM-1737-2002.png', 'CXR3546_IM-1738-2001.png', 'CXR3547_IM-1739-1001.png', 'CXR3548_IM-1739-1001.png', 'CXR3549_IM-1739-1001-0001.png', 'CXR355_IM-1739-1001.png', 'CXR3550_IM-1740-1001.png', 'CXR3551_IM-1740-1001.png', 'CXR3552_IM-1741-1001.png', 'CXR3553_IM-1741-1001.png', 'CXR3556_IM-1741-1001-0001.png', 'CXR3557_IM-1742-0001-0001.png', 'CXR3559_IM-1744-1001.png', 'CXR356_IM-1744-1001.png', 'CXR3560_IM-1745-1001.png', 'CXR3561_IM-1746-1001.png', 'CXR3562_IM-1747-1001.png', 'CXR3563_IM-1748-2002.png', 'CXR3564_IM-1749-0001-0001.png', 'CXR3565_IM-1750-1001.png', 'CXR3566_IM-1751-1001.png', 'CXR3567_IM-1752-1001.png', 'CXR3568_IM-1753-1001.png', 'CXR3569_IM-1753-1001.png', 'CXR357_IM-1753-1001.png', 'CXR3570_IM-1754-1001.png', 'CXR3571_IM-1754-2001.png', 'CXR3572_IM-1755-84853001.png', 'CXR3573_IM-1756-1001.png', 'CXR3574_IM-1756-1001.png', 'CXR3575_IM-1757-1001.png', 'CXR3576_IM-1757-1001.png', 'CXR3577_IM-1758-1001.png', 'CXR3578_IM-1758-1001.png', 'CXR3579_IM-1759-1001.png', 'CXR358_IM-1759-1001.png', 'CXR3580_IM-1760-1001.png', 'CXR3581_IM-1761-1001.png', 'CXR3582_IM-1761-1001.png', 'CXR3583_IM-1762-1001.png', 'CXR3585_IM-1763-1001.png', 'CXR3586_IM-1764-1001.png', 'CXR3587_IM-1765-1001.png', 'CXR3588_IM-1766-1001.png', 'CXR3589_IM-1767-1001.png', 'CXR359_IM-1768-1001.png', 'CXR3590_IM-1769-1001.png', 'CXR3591_IM-1770-1001-0001.png', 'CXR3592_IM-1771-1001.png', 'CXR3593_IM-1772-1001.png', 'CXR3594_IM-1772-1001.png', 'CXR3595_IM-1773-0001-0001.png', 'CXR3596_IM-1774-1001.png', 'CXR3597_IM-1775-1001.png', 'CXR3598_IM-1775-1001.png', 'CXR3599_IM-1775-1001.png', 'CXR36_IM-1776-1001.png', 'CXR360_IM-1776-1001.png', 'CXR3600_IM-1776-1001.png', 'CXR3601_IM-1777-2002.png', 'CXR3602_IM-1778-1001.png', 'CXR3603_IM-1779-1001.png', 'CXR3604_IM-1780-0001-0001.png', 'CXR3605_IM-1781-1001.png', 'CXR3606_IM-1781-1001.png', 'CXR3607_IM-1781-1001.png', 'CXR3608_IM-1781-1001.png', 'CXR3609_IM-1782-2001.png', 'CXR361_IM-1783-1001.png', 'CXR3610_IM-1783-1001.png', 'CXR3611_IM-1784-0001-0001.png', 'CXR3612_IM-1785-1001.png', 'CXR3613_IM-1786-2002.png', 'CXR3614_IM-1787-2001.png', 'CXR3615_IM-1788-1001.png', 'CXR3616_IM-1789-2002.png', 'CXR3617_IM-1789-1001.png', 'CXR3618_IM-1790-82420001.png', 'CXR3619_IM-1791-1001.png', 'CXR362_IM-1791-1001.png', 'CXR3620_IM-1791-1001-0001.png', 'CXR3621_IM-1792-3001.png', 'CXR3623_IM-1793-1001.png', 'CXR3624_IM-1794-1001.png', 'CXR3625_IM-1794-1001.png', 'CXR3626_IM-1794-1001.png', 'CXR3628_IM-1796-1001.png', 'CXR3629_IM-1797-1001.png', 'CXR363_IM-1798-2001.png', 'CXR3630_IM-1798-1001.png', 'CXR3631_IM-1798-3001.png', 'CXR3632_IM-1799-1001.png', 'CXR3633_IM-1800-1001.png', 'CXR3634_IM-1801-1001.png', 'CXR3635_IM-1802-1001.png', 'CXR3636_IM-1803-1001.png', 'CXR3637_IM-1804-1001.png', 'CXR3638_IM-1804-1001.png', 'CXR3639_IM-1804-1001.png', 'CXR364_IM-1804-1001.png', 'CXR3640_IM-1804-1001.png', 'CXR3641_IM-1805-1001.png', 'CXR3642_IM-1806-1001.png', 'CXR3643_IM-1806-1001.png', 'CXR3644_IM-1807-1001.png', 'CXR3646_IM-1808-0001-0001.png', 'CXR3647_IM-1809-1001.png', 'CXR3648_IM-1810-2001.png', 'CXR3649_IM-1811-2001.png', 'CXR365_IM-1812-1001.png', 'CXR3650_IM-1813-1001.png', 'CXR3651_IM-1813-1001.png', 'CXR3652_IM-1814-1001.png', 'CXR3653_IM-1815-1001.png', 'CXR3654_IM-1816-1001.png', 'CXR3655_IM-1817-1001.png', 'CXR3656_IM-1817-1001.png', 'CXR3657_IM-1818-1001.png', 'CXR3658_IM-1819-1001.png', 'CXR3659_IM-1819-1001.png', 'CXR366_IM-1820-1001.png', 'CXR3660_IM-1820-1001.png', 'CXR3661_IM-1821-1001.png', 'CXR3662_IM-1821-1001.png', 'CXR3663_IM-1822-1001.png', 'CXR3664_IM-1822-1001.png', 'CXR3665_IM-1823-1001.png', 'CXR3666_IM-1824-1001.png', 'CXR3667_IM-1824-2001.png', 'CXR3668_IM-1825-1001.png', 'CXR3669_IM-1826-1001.png', 'CXR367_IM-1826-1001.png', 'CXR3670_IM-1826-1001.png', 'CXR3671_IM-1827-1001.png', 'CXR3672_IM-1828-1001.png', 'CXR3673_IM-1828-1001.png', 'CXR3674_IM-1829-0001-0001.png', 'CXR3675_IM-1829-0001-0001.png', 'CXR3676_IM-1829-0001-0001.png', 'CXR3677_IM-1830-1001.png', 'CXR3678_IM-1831-1001.png', 'CXR3679_IM-1831-1001.png', 'CXR368_IM-1832-1001.png', 'CXR3680_IM-1832-1001.png', 'CXR3681_IM-1833-0001-0001.png', 'CXR3682_IM-1834-1001.png', 'CXR3683_IM-1835-3001.png', 'CXR3684_IM-1836-1001.png', 'CXR3685_IM-1836-1001.png', 'CXR3686_IM-1837-0001-0001.png', 'CXR3687_IM-1838-1001.png', 'CXR3688_IM-1839-0001-0001.png', 'CXR3689_IM-1840-1001.png', 'CXR3690_IM-1841-1001.png', 'CXR3691_IM-1842-1001.png', 'CXR3692_IM-1843-1001.png', 'CXR3693_IM-1844-1001.png', 'CXR3694_IM-1845-1001.png', 'CXR3695_IM-1845-1001.png', 'CXR3696_IM-1846-1001.png', 'CXR3697_IM-1846-1001.png', 'CXR3698_IM-1846-1001.png', 'CXR3699_IM-1846-1001.png', 'CXR37_IM-1847-0001-0001.png', 'CXR370_IM-1848-1001.png', 'CXR3700_IM-1848-1001.png', 'CXR3701_IM-1848-1001.png', 'CXR3702_IM-1849-22001.png', 'CXR3703_IM-1850-1001.png', 'CXR3704_IM-1851-1001.png', 'CXR3705_IM-1851-1001-0001.png', 'CXR3706_IM-1851-1001.png', 'CXR3707_IM-1851-1001.png', 'CXR3708_IM-1852-1001.png', 'CXR3709_IM-1852-1001.png', 'CXR371_IM-1852-1001.png', 'CXR3712_IM-1854-1001.png', 'CXR3713_IM-1855-1001.png', 'CXR3714_IM-1856-1001.png', 'CXR3715_IM-1856-1001.png', 'CXR3716_IM-1856-1001.png', 'CXR3717_IM-1856-1001.png', 'CXR3719_IM-1857-1001.png', 'CXR372_IM-1858-0001-0001.png', 'CXR3720_IM-1859-1001.png', 'CXR3721_IM-1859-1001.png', 'CXR3722_IM-1859-1001.png', 'CXR3723_IM-1860-1001.png', 'CXR3724_IM-1860-1001.png', 'CXR3725_IM-1861-1001.png', 'CXR3726_IM-1862-1001.png', 'CXR3727_IM-1863-1001.png', 'CXR3728_IM-1864-1001.png', 'CXR3729_IM-1864-1001.png', 'CXR373_IM-1864-1001.png', 'CXR3730_IM-1864-1001.png', 'CXR3731_IM-1865-1001.png', 'CXR3732_IM-1866-1001.png', 'CXR3733_IM-1866-1001.png', 'CXR3734_IM-1866-1001.png', 'CXR3735_IM-1866-1001.png', 'CXR3737_IM-1867-1001.png', 'CXR3738_IM-1867-1001.png', 'CXR3739_IM-1868-1001.png', 'CXR374_IM-1868-1001.png', 'CXR3740_IM-1868-1001.png', 'CXR3741_IM-1869-1002001.png', 'CXR3742_IM-1869-1002001.png', 'CXR3743_IM-1870-1001.png', 'CXR3744_IM-1871-0001-0001.png', 'CXR3745_IM-1872-1001.png', 'CXR3746_IM-1872-1001.png', 'CXR3747_IM-1873-1001.png', 'CXR3748_IM-1874-1001.png', 'CXR3749_IM-1874-1001.png', 'CXR375_IM-1874-1001.png', 'CXR3750_IM-1874-1001.png', 'CXR3751_IM-1875-1001.png', 'CXR3752_IM-1876-1001.png', 'CXR3753_IM-1877-1001.png', 'CXR3754_IM-1878-1001.png', 'CXR3755_IM-1879-1001.png', 'CXR3756_IM-1880-1001.png', 'CXR3757_IM-1881-12012.png', 'CXR3758_IM-1882-1001.png', 'CXR3759_IM-1883-1001.png', 'CXR376_IM-1883-1001.png', 'CXR3760_IM-1883-1001.png', 'CXR3761_IM-1883-1001.png', 'CXR3762_IM-1883-1001.png', 'CXR3763_IM-1883-1001.png', 'CXR3764_IM-1884-1001.png', 'CXR3765_IM-1884-1001.png', 'CXR3766_IM-1885-1001.png', 'CXR3767_IM-1886-2001.png', 'CXR3768_IM-1887-1001.png', 'CXR3769_IM-1888-4001.png', 'CXR377_IM-1889-1001.png', 'CXR3770_IM-1890-1001.png', 'CXR3771_IM-1890-1001.png', 'CXR3772_IM-1891-1001.png', 'CXR3773_IM-1891-1001.png', 'CXR3774_IM-1892-1001.png', 'CXR3775_IM-1893-1001.png', 'CXR3776_IM-1893-1001.png', 'CXR3777_IM-1894-1001.png', 'CXR3778_IM-1894-1001.png', 'CXR3779_IM-1894-1001.png', 'CXR378_IM-1895-3001.png', 'CXR3780_IM-1896-1001.png', 'CXR3781_IM-1897-1001.png', 'CXR3783_IM-1898-1001.png', 'CXR3784_IM-1898-1001.png', 'CXR3785_IM-1898-1001.png', 'CXR3786_IM-1899-1001.png', 'CXR3787_IM-1900-1001.png', 'CXR3789_IM-1902-1001.png', 'CXR379_IM-1903-2001.png', 'CXR3790_IM-1904-0001-0001.png', 'CXR3791_IM-1905-1001.png', 'CXR3792_IM-1906-1001.png', 'CXR3793_IM-1907-1001.png', 'CXR3794_IM-1908-1001.png', 'CXR3795_IM-1909-1001.png', 'CXR3796_IM-1909-1001.png', 'CXR3797_IM-1910-0001-0001.png', 'CXR3798_IM-1911-1001.png', 'CXR3799_IM-1911-2001.png', 'CXR38_IM-1911-1001.png', 'CXR380_IM-1911-1001.png', 'CXR3801_IM-1912-1001.png', 'CXR3802_IM-1912-1001-0001.png', 'CXR3803_IM-1913-2001.png', 'CXR3804_IM-1914-1001.png', 'CXR3805_IM-1915-1001.png', 'CXR3806_IM-1916-2001.png', 'CXR3807_IM-1917-1001.png', 'CXR3808_IM-1918-1001.png', 'CXR3809_IM-1919-1002001.png', 'CXR3810_IM-1920-1001.png', 'CXR3811_IM-1921-1001.png', 'CXR3813_IM-1922-1001.png', 'CXR3814_IM-1923-1001.png', 'CXR3815_IM-1924-1001.png', 'CXR3816_IM-1925-1001.png', 'CXR3817_IM-1925-1001.png', 'CXR3818_IM-1925-1001.png', 'CXR3819_IM-1926-1001.png', 'CXR382_IM-1927-1001.png', 'CXR3820_IM-1928-1001.png', 'CXR3821_IM-1929-1001.png', 'CXR3822_IM-1930-1001.png', 'CXR3823_IM-1930-1001.png', 'CXR3824_IM-1931-1001.png', 'CXR3825_IM-1931-1001.png', 'CXR3826_IM-1932-1001.png', 'CXR3827_IM-1932-1001.png', 'CXR3828_IM-1932-1001.png', 'CXR3829_IM-1932-1001.png', 'CXR383_IM-1932-1001.png', 'CXR3830_IM-1933-1001.png', 'CXR3831_IM-1934-1001.png', 'CXR3832_IM-1935-1002001.png', 'CXR3833_IM-1936-1001.png', 'CXR3834_IM-1937-1001.png', 'CXR3835_IM-1938-3001.png', 'CXR3836_IM-1939-1001.png', 'CXR3837_IM-1939-1001.png', 'CXR3839_IM-1940-1001.png', 'CXR3840_IM-1941-1001.png', 'CXR3841_IM-1942-1001.png', 'CXR3842_IM-1943-1001.png', 'CXR3843_IM-1944-1001.png', 'CXR3844_IM-1945-1001.png', 'CXR3845_IM-1945-1001.png', 'CXR3846_IM-1946-1001.png', 'CXR3847_IM-1946-1001.png', 'CXR3848_IM-1946-1001-0001.png', 'CXR3849_IM-1947-1001.png', 'CXR385_IM-1948-1001.png', 'CXR3850_IM-1948-1001.png', 'CXR3851_IM-1948-1001.png', 'CXR3852_IM-1949-1001.png', 'CXR3853_IM-1950-1001.png', 'CXR3854_IM-1950-1001.png', 'CXR3855_IM-1950-1001.png', 'CXR3856_IM-1951-1001.png', 'CXR3857_IM-1952-1001.png', 'CXR3858_IM-1953-1001.png', 'CXR386_IM-1954-1001.png', 'CXR3860_IM-1954-1001.png', 'CXR3861_IM-1955-1001.png', 'CXR3862_IM-1956-1001.png', 'CXR3863_IM-1957-1001.png', 'CXR3865_IM-1958-1001.png', 'CXR3866_IM-1959-0001-0001.png', 'CXR3867_IM-1960-1001.png', 'CXR3868_IM-1961-1001.png', 'CXR3869_IM-1962-1001.png', 'CXR387_IM-1962-1001.png', 'CXR3870_IM-1963-1001.png', 'CXR3871_IM-1964-1001.png', 'CXR3872_IM-1964-1001.png', 'CXR3873_IM-1965-1001.png', 'CXR3874_IM-1966-1001.png', 'CXR3875_IM-1967-1001.png', 'CXR3876_IM-1967-1001.png', 'CXR3877_IM-1967-1001.png', 'CXR3878_IM-1968-1001.png', 'CXR3879_IM-1968-1001.png', 'CXR388_IM-1968-1001.png', 'CXR3880_IM-1968-1001.png', 'CXR3881_IM-1969-1001.png', 'CXR3882_IM-1970-1001.png', 'CXR3883_IM-1971-1001.png', 'CXR3884_IM-1971-1001.png', 'CXR3885_IM-1971-1001.png', 'CXR3886_IM-1971-1001.png', 'CXR3887_IM-1972-1001.png', 'CXR3889_IM-1973-1001.png', 'CXR389_IM-1973-1001.png', 'CXR3890_IM-1973-1001.png', 'CXR3891_IM-1973-1001.png', 'CXR3892_IM-1974-0001-0001.png', 'CXR3893_IM-1975-2001.png', 'CXR3894_IM-1976-1001.png', 'CXR3895_IM-1977-1001.png', 'CXR3897_IM-1978-1001.png', 'CXR3898_IM-1978-1001.png', 'CXR3899_IM-1978-1001.png', 'CXR39_IM-1978-1001.png', 'CXR390_IM-1979-1001.png', 'CXR3900_IM-1980-1001.png', 'CXR3901_IM-1980-1001.png', 'CXR3902_IM-1981-1001.png', 'CXR3903_IM-1982-1001.png', 'CXR3904_IM-1983-1001.png', 'CXR3905_IM-1984-1001.png', 'CXR3907_IM-1985-1001.png', 'CXR3908_IM-1985-1001.png', 'CXR3909_IM-1986-1001.png', 'CXR391_IM-1986-1001.png', 'CXR3910_IM-1987-1001.png', 'CXR3911_IM-1987-1001.png', 'CXR3912_IM-1988-1001.png', 'CXR3913_IM-1989-84584001.png', 'CXR3915_IM-1990-1001.png', 'CXR3916_IM-1991-1001.png', 'CXR3917_IM-1992-1001.png', 'CXR3918_IM-1992-1001.png', 'CXR3919_IM-1992-1001.png', 'CXR392_IM-1993-1001.png', 'CXR3921_IM-1995-1001.png', 'CXR3922_IM-1996-0001-0001.png', 'CXR3923_IM-1997-2002.png', 'CXR3925_IM-1999-1002001.png', 'CXR3926_IM-2000-2001.png', 'CXR3927_IM-2000-1001.png', 'CXR3928_IM-2000-1001.png', 'CXR3929_IM-2001-0001-0001.png', 'CXR393_IM-2002-1001.png', 'CXR3930_IM-2003-1001.png', 'CXR3931_IM-2003-1001.png', 'CXR3932_IM-2004-1002.png', 'CXR3933_IM-2004-1001.png', 'CXR3934_IM-2005-0001.png', 'CXR3935_IM-2006-1001.png', 'CXR3936_IM-2007-1001.png', 'CXR3937_IM-2008-1001.png', 'CXR3938_IM-2009-1001.png', 'CXR3939_IM-2010-1001.png', 'CXR394_IM-2010-1001.png', 'CXR3940_IM-2011-1001.png', 'CXR3941_IM-2012-0001-0001.png', 'CXR3942_IM-2013-1001.png', 'CXR3943_IM-2013-1001.png', 'CXR3944_IM-2014-1001.png', 'CXR3945_IM-2014-1001.png', 'CXR3946_IM-2015-1001.png', 'CXR3947_IM-2016-1001.png', 'CXR3948_IM-2017-1001.png', 'CXR3949_IM-2018-2001.png', 'CXR395_IM-2019-1001.png', 'CXR3951_IM-2019-1001.png', 'CXR3952_IM-2020-1001.png', 'CXR3953_IM-2021-1001.png', 'CXR3954_IM-2021-1001.png', 'CXR3955_IM-2021-1001.png', 'CXR3956_IM-2021-1001.png', 'CXR3957_IM-2022-1001.png', 'CXR3958_IM-2022-1001.png', 'CXR3959_IM-2023-1001.png', 'CXR396_IM-2024-2002.png', 'CXR3960_IM-2025-1001.png', 'CXR3961_IM-2026-1001.png', 'CXR3962_IM-2027-1001.png', 'CXR3964_IM-2028-1001.png', 'CXR3965_IM-2028-1001-0001.png', 'CXR3966_IM-2028-1001.png', 'CXR3967_IM-2028-1001.png', 'CXR3968_IM-2029-1001.png', 'CXR3969_IM-2030-1001.png', 'CXR397_IM-2030-1001.png', 'CXR3970_IM-2031-1001.png', 'CXR3971_IM-2031-1001.png', 'CXR3972_IM-2032-1001.png', 'CXR3974_IM-2034-2002.png', 'CXR3975_IM-2035-1001.png', 'CXR3976_IM-2035-1001.png', 'CXR3977_IM-2036-1001.png', 'CXR3978_IM-2037-0001-0001.png', 'CXR3979_IM-2038-1001.png', 'CXR398_IM-2039-1001.png', 'CXR3980_IM-2039-1001.png', 'CXR3981_IM-2039-1001.png', 'CXR3982_IM-2039-1001.png', 'CXR3983_IM-2039-1001.png', 'CXR3984_IM-2040-1001.png', 'CXR3985_IM-2041-1001.png', 'CXR3986_IM-2041-1001.png', 'CXR3987_IM-2041-1001.png', 'CXR3988_IM-2041-1001.png', 'CXR3989_IM-2042-1001.png', 'CXR399_IM-2043-1001.png', 'CXR3991_IM-2044-1001.png', 'CXR3992_IM-2044-1001.png', 'CXR3993_IM-2044-1001.png', 'CXR3994_IM-2045-1001.png', 'CXR3995_IM-2046-1001.png', 'CXR3996_IM-2047-1001.png', 'CXR3997_IM-2048-1001.png', 'CXR3998_IM-2048-1001.png', 'CXR3999_IM-2049-1001.png', 'CXR4_IM-2050-1001.png', 'CXR40_IM-2050-1001.png', 'CXR400_IM-2050-1001.png', 'CXR401_IM-2051-1001.png', 'CXR402_IM-2051-1001.png', 'CXR403_IM-2052-1001.png', 'CXR404_IM-2052-1001.png', 'CXR405_IM-2053-1001.png', 'CXR406_IM-2054-1001.png', 'CXR407_IM-2054-1001.png', 'CXR408_IM-2054-1001.png', 'CXR409_IM-2055-2001.png', 'CXR41_IM-2055-1001.png', 'CXR410_IM-2056-1002.png', 'CXR411_IM-2056-1001.png', 'CXR412_IM-2056-1001.png', 'CXR413_IM-2056-1001.png', 'CXR414_IM-2057-1001.png', 'CXR415_IM-2058-2002.png', 'CXR416_IM-2059-1001.png', 'CXR417_IM-2060-1001.png', 'CXR418_IM-2061-2001.png', 'CXR419_IM-2062-1001.png', 'CXR42_IM-2063-1001.png', 'CXR420_IM-2064-1001.png', 'CXR421_IM-2064-1001.png', 'CXR422_IM-2065-5001.png', 'CXR423_IM-2066-0001-0001.png', 'CXR425_IM-2068-1001.png', 'CXR426_IM-2069-3001.png', 'CXR427_IM-2070-1001.png', 'CXR428_IM-2070-1001.png', 'CXR429_IM-2070-1001.png', 'CXR43_IM-2070-1001.png', 'CXR430_IM-2071-1001.png', 'CXR431_IM-2072-1001.png', 'CXR432_IM-2072-1001.png', 'CXR433_IM-2073-1001.png', 'CXR434_IM-2074-1001.png', 'CXR435_IM-2075-1001.png', 'CXR436_IM-2076-1001-0001.png', 'CXR437_IM-2077-1001.png', 'CXR438_IM-2078-1001.png', 'CXR439_IM-2078-1001.png', 'CXR44_IM-2078-1001.png', 'CXR440_IM-2078-1001.png', 'CXR441_IM-2078-1001.png', 'CXR442_IM-2078-1001.png', 'CXR443_IM-2078-1001.png', 'CXR444_IM-2079-1001.png', 'CXR445_IM-2079-1001.png', 'CXR446_IM-2080-1001.png', 'CXR448_IM-2080-1001.png', 'CXR449_IM-2080-1001.png', 'CXR45_IM-2081-1001.png', 'CXR450_IM-2082-1001.png', 'CXR451_IM-2082-1001.png', 'CXR452_IM-2083-1001.png', 'CXR453_IM-2084-1001.png', 'CXR454_IM-2085-1001.png', 'CXR455_IM-2086-1001.png', 'CXR456_IM-2087-1001.png', 'CXR457_IM-2088-1001-0001.png', 'CXR458_IM-2089-1001.png', 'CXR459_IM-2090-1001.png', 'CXR46_IM-2090-1001.png', 'CXR460_IM-2090-1001.png', 'CXR461_IM-2090-1001.png', 'CXR462_IM-2090-1001.png', 'CXR463_IM-2091-1001.png', 'CXR464_IM-2092-12012.png', 'CXR465_IM-2093-0001-0001.png', 'CXR466_IM-2094-2002.png', 'CXR468_IM-2096-1001.png', 'CXR469_IM-2097-1001.png', 'CXR47_IM-2098-1001.png', 'CXR470_IM-2099-2001.png', 'CXR471_IM-2099-2002.png', 'CXR472_IM-2100-1001.png', 'CXR473_IM-2101-1001.png', 'CXR474_IM-2101-1001.png', 'CXR475_IM-2101-1001.png', 'CXR476_IM-2101-1001.png', 'CXR477_IM-2101-1001.png', 'CXR478_IM-2101-1001-0001.png', 'CXR479_IM-2102-1001.png', 'CXR48_IM-2103-1001.png', 'CXR480_IM-2104-1001.png', 'CXR481_IM-2105-1001.png', 'CXR482_IM-2106-2001.png', 'CXR483_IM-2107-1001.png', 'CXR484_IM-2108-1001.png', 'CXR485_IM-2109-1001.png', 'CXR486_IM-2110-1001.png', 'CXR487_IM-2110-1001.png', 'CXR488_IM-2110-1001.png', 'CXR489_IM-2110-1001.png', 'CXR49_IM-2110-1001.png', 'CXR490_IM-2110-1001.png', 'CXR491_IM-2111-1001.png', 'CXR492_IM-2112-2002.png', 'CXR493_IM-2113-1001.png', 'CXR494_IM-2114-1001.png', 'CXR495_IM-2114-1001.png', 'CXR496_IM-2114-1001.png', 'CXR497_IM-2114-1001.png', 'CXR498_IM-2115-1001.png', 'CXR499_IM-2116-1001.png', 'CXR5_IM-2117-1003002.png', 'CXR50_IM-2118-1001.png', 'CXR500_IM-2119-2001.png', 'CXR501_IM-2120-1001.png', 'CXR502_IM-2120-1001.png', 'CXR503_IM-2121-1001.png', 'CXR504_IM-2122-1001.png', 'CXR505_IM-2123-1001.png', 'CXR506_IM-2124-1001.png', 'CXR507_IM-2125-1001.png', 'CXR508_IM-2125-1001.png', 'CXR509_IM-2125-1001.png', 'CXR51_IM-2125-1001.png', 'CXR510_IM-2126-1001.png', 'CXR511_IM-2127-1001.png', 'CXR512_IM-2127-1001.png', 'CXR513_IM-2128-1001.png', 'CXR514_IM-2129-1001.png', 'CXR515_IM-2129-1001.png', 'CXR516_IM-2130-1001.png', 'CXR517_IM-2130-2002.png', 'CXR518_IM-2131-1001.png', 'CXR519_IM-2131-1001.png', 'CXR52_IM-2131-1001.png', 'CXR520_IM-2131-1001.png', 'CXR521_IM-2132-1001.png', 'CXR522_IM-2133-1002001.png', 'CXR523_IM-2134-2001.png', 'CXR524_IM-2135-0001-0001.png', 'CXR525_IM-2136-1001.png', 'CXR527_IM-2137-1001.png', 'CXR529_IM-2137-1001.png', 'CXR53_IM-2138-1001.png', 'CXR530_IM-2139-1001.png', 'CXR531_IM-2140-1001.png', 'CXR532_IM-2140-1001.png', 'CXR533_IM-2140-1001.png', 'CXR534_IM-2141-1001.png', 'CXR535_IM-2142-1001.png', 'CXR536_IM-2143-1001.png', 'CXR537_IM-2143-1001.png', 'CXR538_IM-2144-1001.png', 'CXR539_IM-2145-1001.png', 'CXR54_IM-2145-1001.png', 'CXR540_IM-2146-2001.png', 'CXR541_IM-2147-1001.png', 'CXR543_IM-2148-1001.png', 'CXR544_IM-2148-1001.png', 'CXR545_IM-2149-1001.png', 'CXR546_IM-2150-1001.png', 'CXR547_IM-2151-1001.png', 'CXR548_IM-2152-1001.png', 'CXR549_IM-2153-1001.png', 'CXR55_IM-2154-1001.png', 'CXR550_IM-2154-1001.png', 'CXR551_IM-2154-1001.png', 'CXR552_IM-2155-1001.png', 'CXR553_IM-2155-2001.png', 'CXR554_IM-2155-1001.png', 'CXR555_IM-2156-1001.png', 'CXR556_IM-2156-1001-0001.png', 'CXR557_IM-2157-1001.png', 'CXR558_IM-2158-0001-0001.png', 'CXR559_IM-2159-1001.png', 'CXR56_IM-2160-2002.png', 'CXR560_IM-2161-1001.png', 'CXR562_IM-2163-1001.png', 'CXR563_IM-2164-1001.png', 'CXR564_IM-2165-1001.png', 'CXR565_IM-2166-1001.png', 'CXR567_IM-2167-1001.png', 'CXR568_IM-2168-1001.png', 'CXR569_IM-2169-0001-0001.png', 'CXR57_IM-2170-1001-0001.png', 'CXR570_IM-2170-1001.png', 'CXR571_IM-2170-1001.png', 'CXR572_IM-2170-1001.png', 'CXR573_IM-2171-12012.png', 'CXR575_IM-2173-1001.png', 'CXR576_IM-2174-1001.png', 'CXR577_IM-2175-1001.png', 'CXR578_IM-2176-1001.png', 'CXR579_IM-2176-1001.png', 'CXR58_IM-2177-1001.png', 'CXR580_IM-2177-2002.png', 'CXR581_IM-2178-1001.png', 'CXR582_IM-2179-1001.png', 'CXR583_IM-2180-1001.png', 'CXR584_IM-2181-1001.png', 'CXR585_IM-2181-1001.png', 'CXR586_IM-2182-1001.png', 'CXR587_IM-2182-1001.png', 'CXR588_IM-2183-1001.png', 'CXR589_IM-2183-1001.png', 'CXR59_IM-2184-1001.png', 'CXR590_IM-2185-2001.png', 'CXR591_IM-2186-1001.png', 'CXR592_IM-2186-1001.png', 'CXR593_IM-2186-1001.png', 'CXR594_IM-2187-1001.png', 'CXR595_IM-2187-1001.png', 'CXR596_IM-2188-25001.png', 'CXR598_IM-2190-12012.png', 'CXR599_IM-2191-1001.png', 'CXR6_IM-2192-1001.png', 'CXR60_IM-2192-1001.png', 'CXR600_IM-2192-1001.png', 'CXR601_IM-2192-1001.png', 'CXR602_IM-2192-1001.png', 'CXR603_IM-2193-1001.png', 'CXR604_IM-2193-1001.png', 'CXR605_IM-2194-1001.png', 'CXR606_IM-2195-1001.png', 'CXR607_IM-2196-1001.png', 'CXR608_IM-2196-1001.png', 'CXR609_IM-2197-1001.png', 'CXR61_IM-2197-1001.png', 'CXR610_IM-2197-1001.png', 'CXR611_IM-2198-1001.png', 'CXR612_IM-2199-1001.png', 'CXR613_IM-2200-1001.png', 'CXR615_IM-2200-1001.png', 'CXR616_IM-2200-1001.png', 'CXR617_IM-2200-1001.png', 'CXR618_IM-2201-1001.png', 'CXR619_IM-2202-1002.png', 'CXR62_IM-2202-1001.png', 'CXR620_IM-2202-1001.png', 'CXR621_IM-2203-1001.png', 'CXR622_IM-2204-1001.png', 'CXR623_IM-2205-2002.png', 'CXR624_IM-2206-1001.png', 'CXR626_IM-2206-1001.png', 'CXR627_IM-2207-1001.png', 'CXR628_IM-2208-3001.png', 'CXR629_IM-2209-1001.png', 'CXR63_IM-2210-0001-0001.png', 'CXR630_IM-2211-1001.png', 'CXR631_IM-2212-1001.png', 'CXR632_IM-2213-1001.png', 'CXR633_IM-2213-1001.png', 'CXR634_IM-2214-1001.png', 'CXR635_IM-2215-1001.png', 'CXR636_IM-2215-1001.png', 'CXR637_IM-2216-2001.png', 'CXR638_IM-2217-1001.png', 'CXR639_IM-2218-1001.png', 'CXR64_IM-2218-2001.png', 'CXR640_IM-2219-1001.png', 'CXR641_IM-2220-1001.png', 'CXR642_IM-2221-0001-0001.png', 'CXR643_IM-2222-1001.png', 'CXR644_IM-2223-1001.png', 'CXR645_IM-2224-1001.png', 'CXR646_IM-2225-1001.png', 'CXR648_IM-2226-1001.png', 'CXR649_IM-2227-1001.png', 'CXR65_IM-2228-2001.png', 'CXR650_IM-2228-2001.png', 'CXR651_IM-2229-1001.png', 'CXR652_IM-2229-1001.png', 'CXR653_IM-2230-1001.png', 'CXR654_IM-2231-1001.png', 'CXR655_IM-2231-1001.png', 'CXR656_IM-2232-84570001.png', 'CXR657_IM-2233-0001-0001.png', 'CXR658_IM-2234-1001.png', 'CXR659_IM-2235-1001.png', 'CXR66_IM-2236-1001.png', 'CXR660_IM-2237-0001-0001.png', 'CXR661_IM-2238-2002.png', 'CXR662_IM-2238-1001.png', 'CXR663_IM-2239-1001.png', 'CXR664_IM-2240-1001.png', 'CXR665_IM-2240-1001.png', 'CXR666_IM-2241-1001.png', 'CXR667_IM-2241-1001.png', 'CXR668_IM-2242-1001.png', 'CXR669_IM-2242-2001.png', 'CXR67_IM-2243-13001.png', 'CXR670_IM-2244-85049001.png', 'CXR671_IM-2245-1001.png', 'CXR672_IM-2246-1001.png', 'CXR674_IM-2247-1001.png', 'CXR675_IM-2247-1001.png', 'CXR676_IM-2248-1001.png', 'CXR677_IM-2249-1001.png', 'CXR679_IM-2251-1001.png', 'CXR68_IM-2251-1001.png', 'CXR680_IM-2251-1001.png', 'CXR681_IM-2252-0001-0001.png', 'CXR682_IM-2253-1001.png', 'CXR683_IM-2254-1001.png', 'CXR684_IM-2254-1001.png', 'CXR685_IM-2254-1001.png', 'CXR686_IM-2254-1001.png', 'CXR687_IM-2255-1001.png', 'CXR688_IM-2256-1001.png', 'CXR689_IM-2257-1001.png', 'CXR69_IM-2258-1001.png', 'CXR690_IM-2258-1001.png', 'CXR691_IM-2258-1001.png', 'CXR692_IM-2258-1001.png', 'CXR693_IM-2259-1001.png', 'CXR694_IM-2260-1001.png', 'CXR695_IM-2261-1001.png', 'CXR696_IM-2261-1001-0001.png', 'CXR697_IM-2262-2002.png', 'CXR698_IM-2263-1001.png', 'CXR699_IM-2263-1001.png', 'CXR7_IM-2263-1001.png', 'CXR70_IM-2264-2001.png', 'CXR700_IM-2265-1001.png', 'CXR701_IM-2266-1001.png', 'CXR702_IM-2267-1001.png', 'CXR703_IM-2267-1001.png', 'CXR704_IM-2267-1001.png', 'CXR705_IM-2268-1001.png', 'CXR706_IM-2269-1001.png', 'CXR707_IM-2270-1001.png', 'CXR708_IM-2271-1001.png', 'CXR71_IM-2273-1001.png', 'CXR710_IM-2273-1001.png', 'CXR711_IM-2273-1001.png', 'CXR712_IM-2274-0001-0001.png', 'CXR713_IM-2275-1001.png', 'CXR714_IM-2276-1001.png', 'CXR715_IM-2277-2001.png', 'CXR716_IM-2278-0001-0001.png', 'CXR717_IM-2279-1001.png', 'CXR718_IM-2280-1001.png', 'CXR719_IM-2280-1001.png', 'CXR72_IM-2280-1001.png', 'CXR720_IM-2281-1001.png', 'CXR721_IM-2282-1001.png', 'CXR722_IM-2282-1001.png', 'CXR723_IM-2283-1001.png', 'CXR725_IM-2285-1001.png', 'CXR726_IM-2286-1001.png', 'CXR727_IM-2287-1001.png', 'CXR728_IM-2287-1001.png', 'CXR729_IM-2288-1001.png', 'CXR73_IM-2289-1001.png', 'CXR730_IM-2290-1001.png', 'CXR731_IM-2291-1001.png', 'CXR732_IM-2292-1001-0001.png', 'CXR733_IM-2293-0001-0001.png', 'CXR734_IM-2293-0001-0001.png', 'CXR735_IM-2294-1001.png', 'CXR736_IM-2295-1001-0001.png', 'CXR737_IM-2295-1001.png', 'CXR738_IM-2296-1001.png', 'CXR739_IM-2296-1001.png', 'CXR741_IM-2297-1001.png', 'CXR742_IM-2298-1001.png', 'CXR743_IM-2299-1001.png', 'CXR744_IM-2299-1001.png', 'CXR745_IM-2299-1001.png', 'CXR746_IM-2300-2001.png', 'CXR748_IM-2302-1001.png', 'CXR749_IM-2302-1001.png', 'CXR75_IM-2303-1001.png', 'CXR750_IM-2304-1001.png', 'CXR751_IM-2305-1001.png', 'CXR752_IM-2305-1001.png', 'CXR753_IM-2306-1001.png', 'CXR754_IM-2306-1001.png', 'CXR755_IM-2306-1001.png', 'CXR756_IM-2307-1001.png', 'CXR757_IM-2308-1001.png', 'CXR758_IM-2309-1001.png', 'CXR759_IM-2309-1001.png', 'CXR76_IM-2309-1001.png', 'CXR760_IM-2310-1001.png', 'CXR761_IM-2310-1001.png', 'CXR762_IM-2310-1001.png', 'CXR763_IM-2310-1001.png', 'CXR764_IM-2311-2001.png', 'CXR765_IM-2311-2001.png', 'CXR766_IM-2311-1001.png', 'CXR767_IM-2312-1001.png', 'CXR768_IM-2313-1001.png', 'CXR769_IM-2314-1001.png', 'CXR77_IM-2315-1001-0001.png', 'CXR770_IM-2316-1001.png', 'CXR771_IM-2316-1001.png', 'CXR773_IM-2318-1001.png', 'CXR774_IM-2318-1001.png', 'CXR776_IM-2319-1001.png', 'CXR777_IM-2320-2001.png', 'CXR778_IM-2321-1001.png', 'CXR779_IM-2321-1001.png', 'CXR78_IM-2322-1001.png', 'CXR780_IM-2323-1001.png', 'CXR781_IM-2323-1001.png', 'CXR782_IM-2324-1001.png', 'CXR783_IM-2325-1001.png', 'CXR784_IM-2325-1001-0001.png', 'CXR785_IM-2325-1001.png', 'CXR786_IM-2326-1001.png', 'CXR788_IM-2328-1001.png', 'CXR79_IM-2329-1001.png', 'CXR790_IM-2329-1001.png', 'CXR791_IM-2330-1001.png', 'CXR792_IM-2330-1001.png', 'CXR793_IM-2330-1001.png', 'CXR794_IM-2331-1001.png', 'CXR795_IM-2331-1001.png', 'CXR796_IM-2332-1001.png', 'CXR797_IM-2332-1001.png', 'CXR798_IM-2332-1001.png', 'CXR799_IM-2333-1001.png', 'CXR8_IM-2333-1001.png', 'CXR80_IM-2333-1001.png', 'CXR801_IM-2335-1001.png', 'CXR802_IM-2336-3001.png', 'CXR804_IM-2338-1001.png', 'CXR805_IM-2339-1001.png', 'CXR806_IM-2340-0001-0001.png', 'CXR808_IM-2341-1001.png', 'CXR809_IM-2342-1001.png', 'CXR810_IM-2343-1001.png', 'CXR811_IM-2343-1001.png', 'CXR812_IM-2343-1001.png', 'CXR813_IM-2344-1001.png', 'CXR814_IM-2345-1001.png', 'CXR815_IM-2346-1001.png', 'CXR817_IM-2348-0001-0001.png', 'CXR818_IM-2349-1001.png', 'CXR819_IM-2349-1001.png', 'CXR82_IM-2350-3001.png', 'CXR820_IM-2351-1001.png', 'CXR821_IM-2351-1001.png', 'CXR822_IM-2352-1001.png', 'CXR824_IM-2354-1001.png', 'CXR825_IM-2355-1001.png', 'CXR826_IM-2355-1001.png', 'CXR827_IM-2356-1001.png', 'CXR828_IM-2357-1001.png', 'CXR829_IM-2358-1001.png', 'CXR83_IM-2358-1001.png', 'CXR830_IM-2358-1001.png', 'CXR831_IM-2358-1001.png', 'CXR832_IM-2359-1001.png', 'CXR833_IM-2359-1001.png', 'CXR834_IM-2359-1001.png', 'CXR835_IM-2360-1001.png', 'CXR836_IM-2360-1001.png', 'CXR837_IM-2361-1001.png', 'CXR838_IM-2362-1001.png', 'CXR839_IM-2363-1001.png', 'CXR84_IM-2363-1001.png', 'CXR840_IM-2364-0001-0001.png', 'CXR841_IM-2365-1001.png', 'CXR842_IM-2366-1001.png', 'CXR843_IM-2366-1001.png', 'CXR844_IM-2367-1001.png', 'CXR845_IM-2367-1001.png', 'CXR846_IM-2368-0001-0001.png', 'CXR847_IM-2369-1001.png', 'CXR849_IM-2371-1001.png', 'CXR85_IM-2372-1001.png', 'CXR850_IM-2373-0001-0001.png', 'CXR853_IM-2375-1001.png', 'CXR854_IM-2376-1001.png', 'CXR855_IM-2376-1001.png', 'CXR856_IM-2377-1001.png', 'CXR857_IM-2378-1001.png', 'CXR858_IM-2379-1001.png', 'CXR859_IM-2380-1001.png', 'CXR86_IM-2380-1001.png', 'CXR860_IM-2381-2001.png', 'CXR861_IM-2382-1001.png', 'CXR862_IM-2383-1001.png', 'CXR863_IM-2383-1001.png', 'CXR864_IM-2384-1001.png', 'CXR865_IM-2385-1001.png', 'CXR867_IM-2387-1001.png', 'CXR868_IM-2388-1001.png', 'CXR869_IM-2389-1001.png', 'CXR87_IM-2390-1001.png', 'CXR870_IM-2391-1001.png', 'CXR871_IM-2391-1001.png', 'CXR872_IM-2391-1001.png', 'CXR875_IM-2392-1001.png', 'CXR877_IM-2392-1001.png', 'CXR878_IM-2392-1001.png', 'CXR879_IM-2393-12012.png', 'CXR880_IM-2395-1001.png', 'CXR881_IM-2396-1001.png', 'CXR882_IM-2397-0001-0001.png', 'CXR883_IM-2398-1002.png', 'CXR884_IM-2398-1001.png', 'CXR886_IM-2400-1001.png', 'CXR887_IM-2400-1001.png', 'CXR888_IM-2401-1001.png', 'CXR889_IM-2401-1001.png', 'CXR89_IM-2402-1001.png', 'CXR890_IM-2403-1001.png', 'CXR891_IM-2403-1001.png', 'CXR892_IM-2403-1001.png', 'CXR893_IM-2403-1001.png', 'CXR894_IM-2404-0001-0001.png', 'CXR896_IM-2406-1001.png', 'CXR897_IM-2406-1001.png', 'CXR899_IM-2407-1001.png', 'CXR9_IM-2407-1001.png', 'CXR90_IM-2407-1001.png', 'CXR901_IM-2409-1001.png', 'CXR902_IM-2409-1001.png', 'CXR903_IM-2409-1001.png', 'CXR905_IM-2410-0001-0001.png', 'CXR906_IM-2411-1001.png', 'CXR907_IM-2412-82526002.png', 'CXR908_IM-2413-1001.png', 'CXR909_IM-2414-1001.png', 'CXR91_IM-2415-2001.png', 'CXR910_IM-2416-1001.png', 'CXR911_IM-2417-1001.png', 'CXR912_IM-2417-1001.png', 'CXR913_IM-2417-1001.png', 'CXR914_IM-2417-1001.png', 'CXR915_IM-2418-2002.png', 'CXR916_IM-2419-1001.png', 'CXR917_IM-2419-1001.png', 'CXR918_IM-2420-4001.png', 'CXR919_IM-2421-1001.png', 'CXR92_IM-2422-1001.png', 'CXR920_IM-2423-1001.png', 'CXR921_IM-2423-1001.png', 'CXR922_IM-2423-1001.png', 'CXR923_IM-2424-2001.png', 'CXR925_IM-2425-1001.png', 'CXR926_IM-2425-1001.png', 'CXR927_IM-2425-1001.png', 'CXR928_IM-2426-1001.png', 'CXR929_IM-2427-1001.png', 'CXR93_IM-2428-1001.png', 'CXR930_IM-2429-1001.png', 'CXR931_IM-2429-1001.png', 'CXR932_IM-2430-2001.png', 'CXR933_IM-2431-1001.png', 'CXR934_IM-2432-1001.png', 'CXR935_IM-2432-1001.png', 'CXR936_IM-2432-1001.png', 'CXR937_IM-2433-1001.png', 'CXR938_IM-2434-1001.png', 'CXR939_IM-2435-1001.png', 'CXR94_IM-2436-1001.png', 'CXR940_IM-2437-2001.png', 'CXR941_IM-2438-1001.png', 'CXR942_IM-2438-1001.png', 'CXR943_IM-2439-3003.png', 'CXR944_IM-2440-1001.png', 'CXR945_IM-2440-1001.png', 'CXR946_IM-2441-1001.png', 'CXR947_IM-2442-1001.png', 'CXR948_IM-2443-1001.png', 'CXR949_IM-2444-1001.png', 'CXR95_IM-2445-1001.png', 'CXR950_IM-2446-1003002.png', 'CXR951_IM-2447-1001.png', 'CXR952_IM-2447-2002.png', 'CXR953_IM-2447-1001.png', 'CXR954_IM-2448-12001.png', 'CXR955_IM-2449-1001.png', 'CXR956_IM-2449-1001.png', 'CXR957_IM-2449-1001.png', 'CXR958_IM-2449-1001.png', 'CXR959_IM-2449-1001.png', 'CXR96_IM-2450-2002.png', 'CXR960_IM-2451-11001.png', 'CXR961_IM-2452-84646001.png', 'CXR962_IM-2453-1002001.png', 'CXR963_IM-2454-1001.png', 'CXR964_IM-2454-1001.png', 'CXR965_IM-2455-1001.png', 'CXR966_IM-2456-1001.png', 'CXR967_IM-2457-2002.png', 'CXR968_IM-2458-1001.png', 'CXR969_IM-2459-1001.png', 'CXR97_IM-2460-1001.png', 'CXR970_IM-2460-2001.png', 'CXR971_IM-2461-1001.png', 'CXR972_IM-2461-1001-0001.png', 'CXR973_IM-2462-1001.png', 'CXR974_IM-2463-1001.png', 'CXR975_IM-2464-1001.png', 'CXR976_IM-2464-1001.png', 'CXR977_IM-2465-1001.png', 'CXR979_IM-2466-1001.png', 'CXR98_IM-2467-1001.png', 'CXR980_IM-2468-1001.png', 'CXR981_IM-2469-1001.png', 'CXR982_IM-2470-1001.png', 'CXR983_IM-2471-1001.png', 'CXR984_IM-2471-1001.png', 'CXR985_IM-2472-1001.png', 'CXR986_IM-2473-2002.png', 'CXR987_IM-2474-1001.png', 'CXR988_IM-2474-1001.png', 'CXR989_IM-2475-1002001.png', 'CXR99_IM-2476-1001.png', 'CXR990_IM-2476-1001.png', 'CXR991_IM-2476-1001.png', 'CXR992_IM-2477-0001-0001.png', 'CXR993_IM-2478-1001.png', 'CXR994_IM-2478-1001.png', 'CXR995_IM-2478-1001.png', 'CXR996_IM-2479-1001.png', 'CXR997_IM-2479-1001.png', 'CXR998_IM-2479-1001.png', 'CXR999_IM-2480-1001.png'])"
            ]
          },
          "metadata": {
            "tags": []
          },
          "execution_count": 80
        }
      ]
    },
    {
      "cell_type": "code",
      "metadata": {
        "id": "lQfUmx7PMFVu",
        "colab_type": "code",
        "colab": {}
      },
      "source": [
        "unmatched = []\n",
        "for item in train_descriptions.keys():\n",
        "  if item not in train_features.keys():\n",
        "    unmatched.append(item)"
      ],
      "execution_count": 0,
      "outputs": []
    },
    {
      "cell_type": "code",
      "metadata": {
        "id": "QDqMJGrwN8EG",
        "colab_type": "code",
        "colab": {}
      },
      "source": [
        "for item in unmatched:\n",
        "  del train_descriptions[item]"
      ],
      "execution_count": 0,
      "outputs": []
    },
    {
      "cell_type": "code",
      "metadata": {
        "scrolled": true,
        "id": "FZdT52rd2oBk",
        "colab_type": "code",
        "outputId": "75d9720a-d34c-4774-d60a-7e75759e045a",
        "colab": {
          "base_uri": "https://localhost:8080/",
          "height": 187
        }
      },
      "source": [
        "for i in range(epochs):\n",
        "    generator = data_generator(train_descriptions, train_features,train_indications, wordtoix, indicationWordtoix, max_Indication_length,max_length, number_pics_per_bath)\n",
        "    newModel.fit_generator(generator, epochs=1, steps_per_epoch=steps, verbose=1)\n",
        "    newModel.save_weights('model_attention_' + str(i) + '.h5')"
      ],
      "execution_count": 83,
      "outputs": [
        {
          "output_type": "stream",
          "text": [
            "Epoch 1/1\n",
            "428/428 [==============================] - 451s 1s/step - loss: 5.1551\n",
            "Epoch 1/1\n",
            "428/428 [==============================] - 446s 1s/step - loss: 4.2607\n",
            "Epoch 1/1\n",
            "428/428 [==============================] - 446s 1s/step - loss: 3.5421\n",
            "Epoch 1/1\n",
            "428/428 [==============================] - 446s 1s/step - loss: 3.0803\n",
            "Epoch 1/1\n",
            "428/428 [==============================] - 445s 1s/step - loss: 2.7667\n"
          ],
          "name": "stdout"
        }
      ]
    },
    {
      "cell_type": "code",
      "metadata": {
        "id": "G3Wqu5a02oBl",
        "colab_type": "code",
        "colab": {}
      },
      "source": [
        "#newModel.save_weights('NewModel_Weights/model_10.h5')"
      ],
      "execution_count": 0,
      "outputs": []
    },
    {
      "cell_type": "code",
      "metadata": {
        "id": "VXr8DVZd2oBm",
        "colab_type": "code",
        "colab": {}
      },
      "source": [
        "# newModel.load_weights('NewModel_Weights/model_10.h5')"
      ],
      "execution_count": 0,
      "outputs": []
    },
    {
      "cell_type": "code",
      "metadata": {
        "id": "UW7EyiEc2oBn",
        "colab_type": "code",
        "colab": {}
      },
      "source": [
        "with open(\"encoded_test_images.pkl\", \"rb\") as encoded_pickle:\n",
        "    encoding_test = load(encoded_pickle)"
      ],
      "execution_count": 0,
      "outputs": []
    },
    {
      "cell_type": "code",
      "metadata": {
        "id": "mUkgBO3X2oBo",
        "colab_type": "code",
        "colab": {}
      },
      "source": [
        "def greedySearch(photo, indication_seq):\n",
        "    in_text = 'startseq'\n",
        "    indication_seq = [indicationWordtoix[w] for w in indication_seq.split() if w in ixtoindicationWord]\n",
        "    indication_seq = pad_sequences([indication_seq], maxlen=max_Indication_length)\n",
        "    for i in range(max_length):\n",
        "        sequence = [wordtoix[w] for w in in_text.split() if w in wordtoix]\n",
        "        sequence = pad_sequences([sequence], maxlen=max_length)\n",
        "        yhat = newModel.predict([photo,indication_seq,sequence], verbose=0)\n",
        "        yhat = np.argmax(yhat)\n",
        "        word = ixtoword[yhat]\n",
        "        in_text += ' ' + word\n",
        "        if word == 'endseq':\n",
        "            break\n",
        "    final = in_text.split()\n",
        "    final = final[1:-1]\n",
        "    final = ' '.join(final)\n",
        "    return final"
      ],
      "execution_count": 0,
      "outputs": []
    },
    {
      "cell_type": "code",
      "metadata": {
        "id": "uXmaOAr52oBq",
        "colab_type": "code",
        "outputId": "53465c30-909f-4efa-bd75-f34b2b437f4e",
        "colab": {
          "base_uri": "https://localhost:8080/",
          "height": 34
        }
      },
      "source": [
        "z = 15\n",
        "z+=1\n",
        "pic = list(encoding_test.keys())[z]\n",
        "image = encoding_test[pic]\n",
        "image.shape"
      ],
      "execution_count": 86,
      "outputs": [
        {
          "output_type": "execute_result",
          "data": {
            "text/plain": [
              "(1024,)"
            ]
          },
          "metadata": {
            "tags": []
          },
          "execution_count": 86
        }
      ]
    },
    {
      "cell_type": "code",
      "metadata": {
        "id": "vXg8gW8g2oBt",
        "colab_type": "code",
        "outputId": "242da3a2-93c2-4fe0-be21-36cf7ab4d1bb",
        "colab": {
          "base_uri": "https://localhost:8080/",
          "height": 34
        }
      },
      "source": [
        "indication_sent['CXR3533_IM-1726-1001']"
      ],
      "execution_count": 87,
      "outputs": [
        {
          "output_type": "execute_result",
          "data": {
            "text/plain": [
              "'xxxx year old xxxx with shortness of breath xxxx. .'"
            ]
          },
          "metadata": {
            "tags": []
          },
          "execution_count": 87
        }
      ]
    },
    {
      "cell_type": "code",
      "metadata": {
        "id": "AeoHFcBP2oBu",
        "colab_type": "code",
        "outputId": "08f05e93-de6e-4a46-c30c-c3c694850126",
        "colab": {
          "base_uri": "https://localhost:8080/",
          "height": 286
        }
      },
      "source": [
        "image = get_img_encoding('NLMCXR_png/CXR3533_IM-1726-1001.png').reshape((1,1024))\n",
        "x=plt.imread('NLMCXR_png/CXR3533_IM-1726-1001.png')\n",
        "plt.imshow(x)\n",
        "plt.show()\n",
        "print(\"Greedy:\",greedySearch(image,indication_sent['CXR3533_IM-1726-1001']))"
      ],
      "execution_count": 88,
      "outputs": [
        {
          "output_type": "display_data",
          "data": {
            "image/png": "[encoded data removed]",
            "text/plain": [
              "<Figure size 432x288 with 1 Axes>"
            ]
          },
          "metadata": {
            "tags": []
          }
        },
        {
          "output_type": "stream",
          "text": [
            "Greedy: the heart are clear. there is no pleural effusion or pneumothorax. the heart and mediastinum are normal.\n"
          ],
          "name": "stdout"
        }
      ]
    },
    {
      "cell_type": "code",
      "metadata": {
        "id": "H32vRLts2oBv",
        "colab_type": "code",
        "outputId": "3dcfe869-0a00-4204-868b-8efcd2194e27",
        "colab": {
          "base_uri": "https://localhost:8080/",
          "height": 54
        }
      },
      "source": [
        "first_sent['CXR3533_IM-1726-1001']"
      ],
      "execution_count": 89,
      "outputs": [
        {
          "output_type": "execute_result",
          "data": {
            "text/plain": [
              "['startseq heart size mediastinal contour and pulmonary vascularity are within normal limits. there is bilateral hyperinflation without focal consolidation pneumothorax or pleural effusion. visualized osseous structures appear intact. endseq']"
            ]
          },
          "metadata": {
            "tags": []
          },
          "execution_count": 89
        }
      ]
    },
    {
      "cell_type": "code",
      "metadata": {
        "id": "0KbKqeUp2oBw",
        "colab_type": "code",
        "outputId": "5bdddf50-2f97-419c-c247-d11797d88677",
        "colab": {}
      },
      "source": [
        "first_sent['CXR3533_IM-1726-1001']"
      ],
      "execution_count": 0,
      "outputs": [
        {
          "output_type": "execute_result",
          "data": {
            "text/plain": [
              "['startseq heart size mediastinal contour and pulmonary vascularity are within normal limits. there is bilateral hyperinflation without focal consolidation pneumothorax or pleural effusion. visualized osseous structures appear intact. endseq']"
            ]
          },
          "metadata": {
            "tags": []
          },
          "execution_count": 82
        }
      ]
    },
    {
      "cell_type": "code",
      "metadata": {
        "id": "cOlsiBPv2oBx",
        "colab_type": "code",
        "outputId": "dccf5e33-71a5-4490-dc6d-853cfa671c1d",
        "colab": {
          "base_uri": "https://localhost:8080/",
          "height": 303
        }
      },
      "source": [
        "z = 80\n",
        "z+=1\n",
        "pic = list(encoding_test.keys())[z]\n",
        "print(pic)\n",
        "image = encoding_test[pic].reshape((1,1024))\n",
        "x=plt.imread(images+pic)\n",
        "plt.imshow(x)\n",
        "plt.show()\n",
        "print(\"Greedy:\",greedySearch(image,indication_sent[pic[:-4]]))"
      ],
      "execution_count": 91,
      "outputs": [
        {
          "output_type": "stream",
          "text": [
            "CXR3533_IM-1726-1001.png\n"
          ],
          "name": "stdout"
        },
        {
          "output_type": "display_data",
          "data": {
            "image/png": "[encoded data removed]",
            "text/plain": [
              "<Figure size 432x288 with 1 Axes>"
            ]
          },
          "metadata": {
            "tags": []
          }
        },
        {
          "output_type": "stream",
          "text": [
            "Greedy: the heart are clear. there is no pleural effusion or pneumothorax. the heart and mediastinum are normal.\n"
          ],
          "name": "stdout"
        }
      ]
    },
    {
      "cell_type": "code",
      "metadata": {
        "id": "JBftuZWYqo_g",
        "colab_type": "code",
        "colab": {
          "base_uri": "https://localhost:8080/",
          "height": 187
        },
        "outputId": "e6aa5db3-c641-4877-8b2b-650417d73e44"
      },
      "source": [
        "for i in range(5,5+epochs):\n",
        "    generator = data_generator(train_descriptions, train_features,train_indications, wordtoix, indicationWordtoix, max_Indication_length,max_length, number_pics_per_bath)\n",
        "    newModel.fit_generator(generator, epochs=1, steps_per_epoch=steps, verbose=1)\n",
        "    newModel.save_weights('model_attention_' + str(i) + '.h5')"
      ],
      "execution_count": 92,
      "outputs": [
        {
          "output_type": "stream",
          "text": [
            "Epoch 1/1\n",
            "428/428 [==============================] - 446s 1s/step - loss: 2.5353\n",
            "Epoch 1/1\n",
            "428/428 [==============================] - 447s 1s/step - loss: 2.3359\n",
            "Epoch 1/1\n",
            "428/428 [==============================] - 448s 1s/step - loss: 2.1623\n",
            "Epoch 1/1\n",
            "428/428 [==============================] - 446s 1s/step - loss: 2.0188\n",
            "Epoch 1/1\n",
            "428/428 [==============================] - 447s 1s/step - loss: 1.8746\n"
          ],
          "name": "stdout"
        }
      ]
    },
    {
      "cell_type": "code",
      "metadata": {
        "id": "Pmr1mp6_z2tD",
        "colab_type": "code",
        "colab": {
          "base_uri": "https://localhost:8080/",
          "height": 286
        },
        "outputId": "dfde1c85-60e3-497c-9389-95ecfbc39ccc"
      },
      "source": [
        "image = get_img_encoding('NLMCXR_png/CXR3533_IM-1726-1001.png').reshape((1,1024))\n",
        "x=plt.imread('NLMCXR_png/CXR3533_IM-1726-1001.png')\n",
        "plt.imshow(x)\n",
        "plt.show()\n",
        "print(\"Greedy:\",greedySearch(image,indication_sent['CXR3533_IM-1726-1001']))"
      ],
      "execution_count": 94,
      "outputs": [
        {
          "output_type": "display_data",
          "data": {
            "image/png": "[encoded data removed]",
            "text/plain": [
              "<Figure size 432x288 with 1 Axes>"
            ]
          },
          "metadata": {
            "tags": []
          }
        },
        {
          "output_type": "stream",
          "text": [
            "Greedy: the lungs is normal in size. the mediastinum is unremarkable. the lungs are clear.\n"
          ],
          "name": "stdout"
        }
      ]
    },
    {
      "cell_type": "code",
      "metadata": {
        "id": "hIAj_Xdrz98Q",
        "colab_type": "code",
        "colab": {
          "base_uri": "https://localhost:8080/",
          "height": 303
        },
        "outputId": "23a132a7-a7ab-4ca7-8742-9a61f386eb64"
      },
      "source": [
        "z = 82\n",
        "z+=1\n",
        "pic = list(encoding_test.keys())[z]\n",
        "print(pic)\n",
        "image = encoding_test[pic].reshape((1,1024))\n",
        "x=plt.imread(images+pic)\n",
        "plt.imshow(x)\n",
        "plt.show()\n",
        "print(\"Greedy:\",greedySearch(image,indication_sent[pic[:-4]]))"
      ],
      "execution_count": 96,
      "outputs": [
        {
          "output_type": "stream",
          "text": [
            "CXR3534_IM-1727-1001.png\n"
          ],
          "name": "stdout"
        },
        {
          "output_type": "display_data",
          "data": {
            "image/png": "[encoded data removed]",
            "text/plain": [
              "<Figure size 432x288 with 1 Axes>"
            ]
          },
          "metadata": {
            "tags": []
          }
        },
        {
          "output_type": "stream",
          "text": [
            "Greedy: the lungs are clear. there is no pleural effusion or pneumothorax. the heart and mediastinum are normal. the skeletal structures are normal.\n"
          ],
          "name": "stdout"
        }
      ]
    },
    {
      "cell_type": "code",
      "metadata": {
        "id": "QzPzigE30KMC",
        "colab_type": "code",
        "colab": {
          "base_uri": "https://localhost:8080/",
          "height": 54
        },
        "outputId": "9e8d7c88-01dd-49c7-8943-645225bd0bd5"
      },
      "source": [
        "first_sent['CXR3534_IM-1727-1001']"
      ],
      "execution_count": 98,
      "outputs": [
        {
          "output_type": "execute_result",
          "data": {
            "text/plain": [
              "['startseq lungs are clear bilaterally. there is no focal consolidation pleural effusion or pneumothoraces. heart size is normal. stable right paratracheal prominence consistent with known calcified lymph node seen on prior ct chest dated xxxx. xxxx are unremarkable. endseq']"
            ]
          },
          "metadata": {
            "tags": []
          },
          "execution_count": 98
        }
      ]
    },
    {
      "cell_type": "code",
      "metadata": {
        "id": "ABUtUmOT0-Sd",
        "colab_type": "code",
        "colab": {
          "base_uri": "https://localhost:8080/",
          "height": 320
        },
        "outputId": "8b313abf-b2a8-4487-df15-0fa5020d560a"
      },
      "source": [
        "z = 84\n",
        "z+=1\n",
        "pic = list(encoding_test.keys())[z]\n",
        "print(pic)\n",
        "image = encoding_test[pic].reshape((1,1024))\n",
        "x=plt.imread(images+pic)\n",
        "plt.imshow(x)\n",
        "plt.show()\n",
        "print(\"Greedy:\",greedySearch(image,indication_sent[pic[:-4]]))\n",
        "print(\"Actual:\", first_sent[pic[:-4]])"
      ],
      "execution_count": 99,
      "outputs": [
        {
          "output_type": "stream",
          "text": [
            "CXR3535_IM-1728-0001-0001.png\n"
          ],
          "name": "stdout"
        },
        {
          "output_type": "display_data",
          "data": {
            "image/png": "[encoded data removed]",
            "text/plain": [
              "<Figure size 432x288 with 1 Axes>"
            ]
          },
          "metadata": {
            "tags": []
          }
        },
        {
          "output_type": "stream",
          "text": [
            "Greedy: the lungs are clear. the cardiomediastinal silhouette is within normal limits. no pneumothorax or pleural effusion.\n",
            "Actual: ['startseq the lungs are clear. the heart and pulmonary xxxx are normal. pleural spaces are clear. mediastinal contours are normal. endseq']\n"
          ],
          "name": "stdout"
        }
      ]
    },
    {
      "cell_type": "code",
      "metadata": {
        "id": "_L7_WwYo1RTn",
        "colab_type": "code",
        "colab": {
          "base_uri": "https://localhost:8080/",
          "height": 340
        },
        "outputId": "8440d9cc-070b-4b0f-8464-e6f5a33cbd27"
      },
      "source": [
        "z = 86\n",
        "z+=1\n",
        "pic = list(encoding_test.keys())[z]\n",
        "print(pic)\n",
        "image = encoding_test[pic].reshape((1,1024))\n",
        "x=plt.imread(images+pic)\n",
        "plt.imshow(x)\n",
        "plt.show()\n",
        "print(\"Greedy:\",greedySearch(image,indication_sent[pic[:-4]]))\n",
        "print(\"Actual:\", first_sent[pic[:-4]])"
      ],
      "execution_count": 100,
      "outputs": [
        {
          "output_type": "stream",
          "text": [
            "CXR3536_IM-1729-4004.png\n"
          ],
          "name": "stdout"
        },
        {
          "output_type": "display_data",
          "data": {
            "image/png": "[encoded data removed]",
            "text/plain": [
              "<Figure size 432x288 with 1 Axes>"
            ]
          },
          "metadata": {
            "tags": []
          }
        },
        {
          "output_type": "stream",
          "text": [
            "Greedy: the lungs are clear. there is no pleural effusion or pneumothorax. the heart and mediastinum are normal. the skeletal structures are normal.\n",
            "Actual: ['startseq heart size is enlarged pulmonary vascularity within normal limits. no visible pneumothorax . xxxx right pleural effusion blunting posterior costophrenic xxxx. there is a xxxx xxxx of subsegmental atelectasis of the left lung base. there is xxxx alveolar airspace disease in the medial right lung base. multilevel degenerative disease of the visualized portions of the thoracolumbar spine. endseq']\n"
          ],
          "name": "stdout"
        }
      ]
    },
    {
      "cell_type": "code",
      "metadata": {
        "id": "qya5NOCl2oBy",
        "colab_type": "code",
        "colab": {}
      },
      "source": [
        "def beam_search_predictions(photo, beam_index = 3):\n",
        "    start = [wordtoix[\"startseq\"]]\n",
        "    \n",
        "    # start_word[0][0] = index of the starting word\n",
        "    # start_word[0][1] = probability of the word predicted\n",
        "    start_word = [[start, 0.0]]\n",
        "    \n",
        "    while len(start_word[0][0]) < max_length:\n",
        "        temp = []\n",
        "        for s in start_word:\n",
        "            par_caps = sequence.pad_sequences([s[0]], maxlen=max_length, padding='post')\n",
        "            e = encoding_test[photo[len(images):]]\n",
        "            #preds = model.predict([np.array([e]), np.array(par_caps)])\n",
        "            preds = newModel.predict([np.array([e]),np.array(par_caps)], verbose=0)\n",
        "            \n",
        "            # Getting the top <beam_index>(n) predictions\n",
        "            word_preds = np.argsort(preds[0])[-beam_index:]\n",
        "            \n",
        "            # creating a new list so as to put them via the model again\n",
        "            for w in word_preds:\n",
        "                next_cap, prob = s[0][:], s[1]\n",
        "                next_cap.append(w)\n",
        "                prob += preds[0][w]\n",
        "                temp.append([next_cap, prob])\n",
        "                    \n",
        "        start_word = temp\n",
        "        # Sorting according to the probabilities\n",
        "        start_word = sorted(start_word, reverse=False, key=lambda l: l[1])\n",
        "        # Getting the top words\n",
        "        start_word = start_word[-beam_index:]\n",
        "    \n",
        "    start_word = start_word[-1][0]\n",
        "    intermediate_caption = [ixtoword[i] for i in start_word]\n",
        "\n",
        "    final_caption = []\n",
        "    \n",
        "    for i in intermediate_caption:\n",
        "        if i != 'endseq':\n",
        "            final_caption.append(i)\n",
        "        else:\n",
        "            break\n",
        "    \n",
        "    final_caption = ' '.join(final_caption[1:])\n",
        "    return final_caption"
      ],
      "execution_count": 0,
      "outputs": []
    },
    {
      "cell_type": "code",
      "metadata": {
        "id": "x0Ghpa612oB1",
        "colab_type": "code",
        "colab": {}
      },
      "source": [
        "z = 15\n",
        "z+=1\n",
        "pic = list(encoding_test.keys())[z]\n",
        "image = encoding_test[pic]\n"
      ],
      "execution_count": 0,
      "outputs": []
    },
    {
      "cell_type": "code",
      "metadata": {
        "id": "rTSWtkqf2oB2",
        "colab_type": "code",
        "colab": {}
      },
      "source": [
        "print ('Beam Search, k=10:', beam_search_predictions(image, beam_index=10))"
      ],
      "execution_count": 0,
      "outputs": []
    }
  ]
}