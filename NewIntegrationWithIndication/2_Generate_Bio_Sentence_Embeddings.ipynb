{
  "nbformat": 4,
  "nbformat_minor": 0,
  "metadata": {
    "kernelspec": {
      "name": "python3",
      "display_name": "Python 3"
    },
    "language_info": {
      "codemirror_mode": {
        "name": "ipython",
        "version": 3
      },
      "file_extension": ".py",
      "mimetype": "text/x-python",
      "name": "python",
      "nbconvert_exporter": "python",
      "pygments_lexer": "ipython3",
      "version": "3.7.3"
    },
    "colab": {
      "name": "Generate_Bio_Sentence_Embeddings.ipynb",
      "provenance": [],
      "collapsed_sections": [],
      "machine_shape": "hm"
    },
    "accelerator": "GPU"
  },
  "cells": [
    {
      "cell_type": "code",
      "metadata": {
        "id": "otsqBVg6fmxv",
        "colab_type": "code",
        "outputId": "99fb3570-deda-48af-8492-89a5cab70826",
        "colab": {
          "base_uri": "https://localhost:8080/",
          "height": 33
        }
      },
      "source": [
        "from google.colab import drive\n",
        "drive.mount('/content/drive', force_remount=True)"
      ],
      "execution_count": 0,
      "outputs": [
        {
          "output_type": "stream",
          "text": [
            "Mounted at /content/drive\n"
          ],
          "name": "stdout"
        }
      ]
    },
    {
      "cell_type": "code",
      "metadata": {
        "id": "UAWs-pwKgObP",
        "colab_type": "code",
        "colab": {}
      },
      "source": [
        "import os\n",
        "import pickle"
      ],
      "execution_count": 0,
      "outputs": []
    },
    {
      "cell_type": "code",
      "metadata": {
        "id": "Qecc3HcjgQx0",
        "colab_type": "code",
        "colab": {}
      },
      "source": [
        "os.chdir('/content/drive/My Drive/AIML/Capstone/Sentence Embeddings/')\n",
        "#pwd"
      ],
      "execution_count": 0,
      "outputs": []
    },
    {
      "cell_type": "code",
      "metadata": {
        "id": "w5AEXccChYM8",
        "colab_type": "code",
        "outputId": "358f051c-5b5c-4482-af7e-0d4be02131d2",
        "colab": {
          "base_uri": "https://localhost:8080/",
          "height": 150
        }
      },
      "source": [
        "# Required first time\n",
        "# !git clone https://github.com/facebookresearch/fastText.git"
      ],
      "execution_count": 0,
      "outputs": [
        {
          "output_type": "stream",
          "text": [
            "Cloning into 'fastText'...\n",
            "remote: Enumerating objects: 40, done.\u001b[K\n",
            "remote: Counting objects: 100% (40/40), done.\u001b[K\n",
            "remote: Compressing objects: 100% (28/28), done.\u001b[K\n",
            "remote: Total 3523 (delta 12), reused 26 (delta 8), pack-reused 3483\u001b[K\n",
            "Receiving objects: 100% (3523/3523), 8.04 MiB | 11.62 MiB/s, done.\n",
            "Resolving deltas: 100% (2205/2205), done.\n",
            "Checking out files: 100% (515/515), done.\n"
          ],
          "name": "stdout"
        }
      ]
    },
    {
      "cell_type": "code",
      "metadata": {
        "id": "0cefkRPGhmol",
        "colab_type": "code",
        "outputId": "c16a8e23-4a31-4327-eafa-c5da31cad941",
        "colab": {
          "base_uri": "https://localhost:8080/",
          "height": 33
        }
      },
      "source": [
        "# Required first time\n",
        "# cd fastText"
      ],
      "execution_count": 0,
      "outputs": [
        {
          "output_type": "stream",
          "text": [
            "/content/drive/My Drive/AIML/Capstone/Sentence Embeddings/fastText\n"
          ],
          "name": "stdout"
        }
      ]
    },
    {
      "cell_type": "code",
      "metadata": {
        "id": "0YmACReAhyOs",
        "colab_type": "code",
        "outputId": "000834c8-ef59-456e-80d0-6271d22af9aa",
        "colab": {
          "base_uri": "https://localhost:8080/",
          "height": 221
        }
      },
      "source": [
        "# Required first time\n",
        "# pip install ."
      ],
      "execution_count": 0,
      "outputs": [
        {
          "output_type": "stream",
          "text": [
            "Processing /content/drive/My Drive/AIML/Capstone/Sentence Embeddings/fastText\n",
            "Requirement already satisfied: pybind11>=2.2 in /usr/local/lib/python3.6/dist-packages (from fasttext==0.9.1) (2.4.2)\n",
            "Requirement already satisfied: setuptools>=0.7.0 in /usr/local/lib/python3.6/dist-packages (from fasttext==0.9.1) (41.2.0)\n",
            "Requirement already satisfied: numpy in /usr/local/lib/python3.6/dist-packages (from fasttext==0.9.1) (1.16.5)\n",
            "Building wheels for collected packages: fasttext\n",
            "  Building wheel for fasttext (setup.py) ... \u001b[?25l\u001b[?25hdone\n",
            "  Created wheel for fasttext: filename=fasttext-0.9.1-cp36-cp36m-linux_x86_64.whl size=2828509 sha256=393f3a3e0ee04fec5a99ff0d2c3030f87beb76d17808266e34fca8ce3ac44bb1\n",
            "  Stored in directory: /tmp/pip-ephem-wheel-cache-iq9kmtzl/wheels/90/f7/4b/a42c6658cf14cf49817cc051a5a684d09dff8abffe8f421d26\n",
            "Successfully built fasttext\n",
            "Installing collected packages: fasttext\n",
            "Successfully installed fasttext-0.9.1\n"
          ],
          "name": "stdout"
        }
      ]
    },
    {
      "cell_type": "code",
      "metadata": {
        "id": "GCAPYzq-iJW3",
        "colab_type": "code",
        "outputId": "21d29941-8fda-470e-bedf-3744220f068c",
        "colab": {
          "base_uri": "https://localhost:8080/",
          "height": 33
        }
      },
      "source": [
        "# cd .."
      ],
      "execution_count": 0,
      "outputs": [
        {
          "output_type": "stream",
          "text": [
            "/content/drive/My Drive/AIML/Capstone/Sentence Embeddings\n"
          ],
          "name": "stdout"
        }
      ]
    },
    {
      "cell_type": "code",
      "metadata": {
        "id": "f_DF_pkxiNhN",
        "colab_type": "code",
        "outputId": "f759c0e7-6bcd-40bd-8886-c94d7768289e",
        "colab": {
          "base_uri": "https://localhost:8080/",
          "height": 134
        }
      },
      "source": [
        "# Required first time\n",
        "# !git clone https://github.com/epfml/sent2vec.git"
      ],
      "execution_count": 0,
      "outputs": [
        {
          "output_type": "stream",
          "text": [
            "Cloning into 'sent2vec'...\n",
            "remote: Enumerating objects: 3, done.\u001b[K\n",
            "remote: Counting objects:  33% (1/3)\u001b[K\rremote: Counting objects:  66% (2/3)\u001b[K\rremote: Counting objects: 100% (3/3)\u001b[K\rremote: Counting objects: 100% (3/3), done.\u001b[K\n",
            "remote: Compressing objects:  33% (1/3)\u001b[K\rremote: Compressing objects:  66% (2/3)\u001b[K\rremote: Compressing objects: 100% (3/3)\u001b[K\rremote: Compressing objects: 100% (3/3), done.\u001b[K\n",
            "Receiving objects:   0% (1/371)   \rReceiving objects:   1% (4/371)   \rReceiving objects:   2% (8/371)   \rReceiving objects:   3% (12/371)   \rReceiving objects:   4% (15/371)   \rReceiving objects:   5% (19/371)   \rReceiving objects:   6% (23/371)   \rReceiving objects:   7% (26/371)   \rReceiving objects:   8% (30/371)   \rReceiving objects:   9% (34/371)   \rReceiving objects:  10% (38/371)   \rReceiving objects:  11% (41/371)   \rReceiving objects:  12% (45/371)   \rReceiving objects:  13% (49/371)   \rReceiving objects:  14% (52/371)   \rReceiving objects:  15% (56/371)   \rReceiving objects:  16% (60/371)   \rReceiving objects:  17% (64/371)   \rReceiving objects:  18% (67/371)   \rReceiving objects:  19% (71/371)   \rReceiving objects:  20% (75/371)   \rReceiving objects:  21% (78/371)   \rReceiving objects:  22% (82/371)   \rReceiving objects:  23% (86/371)   \rReceiving objects:  24% (90/371)   \rReceiving objects:  25% (93/371)   \rReceiving objects:  26% (97/371)   \rReceiving objects:  27% (101/371)   \rReceiving objects:  28% (104/371)   \rReceiving objects:  29% (108/371)   \rReceiving objects:  30% (112/371)   \rReceiving objects:  31% (116/371)   \rReceiving objects:  32% (119/371)   \rReceiving objects:  33% (123/371)   \rReceiving objects:  34% (127/371)   \rReceiving objects:  35% (130/371)   \rReceiving objects:  36% (134/371)   \rReceiving objects:  37% (138/371)   \rReceiving objects:  38% (141/371)   \rReceiving objects:  39% (145/371)   \rReceiving objects:  40% (149/371)   \rReceiving objects:  41% (153/371)   \rReceiving objects:  42% (156/371)   \rremote: Total 371 (delta 0), reused 1 (delta 0), pack-reused 368\u001b[K\n",
            "Receiving objects:  43% (160/371)   \rReceiving objects:  44% (164/371)   \rReceiving objects:  45% (167/371)   \rReceiving objects:  46% (171/371)   \rReceiving objects:  47% (175/371)   \rReceiving objects:  48% (179/371)   \rReceiving objects:  49% (182/371)   \rReceiving objects:  50% (186/371)   \rReceiving objects:  51% (190/371)   \rReceiving objects:  52% (193/371)   \rReceiving objects:  53% (197/371)   \rReceiving objects:  54% (201/371)   \rReceiving objects:  55% (205/371)   \rReceiving objects:  56% (208/371)   \rReceiving objects:  57% (212/371)   \rReceiving objects:  58% (216/371)   \rReceiving objects:  59% (219/371)   \rReceiving objects:  60% (223/371)   \rReceiving objects:  61% (227/371)   \rReceiving objects:  62% (231/371)   \rReceiving objects:  63% (234/371)   \rReceiving objects:  64% (238/371)   \rReceiving objects:  65% (242/371)   \rReceiving objects:  66% (245/371)   \rReceiving objects:  67% (249/371)   \rReceiving objects:  68% (253/371)   \rReceiving objects:  69% (256/371)   \rReceiving objects:  70% (260/371)   \rReceiving objects:  71% (264/371)   \rReceiving objects:  72% (268/371)   \rReceiving objects:  73% (271/371)   \rReceiving objects:  74% (275/371)   \rReceiving objects:  75% (279/371)   \rReceiving objects:  76% (282/371)   \rReceiving objects:  77% (286/371)   \rReceiving objects:  78% (290/371)   \rReceiving objects:  79% (294/371)   \rReceiving objects:  80% (297/371)   \rReceiving objects:  81% (301/371)   \rReceiving objects:  82% (305/371)   \rReceiving objects:  83% (308/371)   \rReceiving objects:  84% (312/371)   \rReceiving objects:  85% (316/371)   \rReceiving objects:  86% (320/371)   \rReceiving objects:  87% (323/371)   \rReceiving objects:  88% (327/371)   \rReceiving objects:  89% (331/371)   \rReceiving objects:  90% (334/371)   \rReceiving objects:  91% (338/371)   \rReceiving objects:  92% (342/371)   \rReceiving objects:  93% (346/371)   \rReceiving objects:  94% (349/371)   \rReceiving objects:  95% (353/371)   \rReceiving objects:  96% (357/371)   \rReceiving objects:  97% (360/371)   \rReceiving objects:  98% (364/371)   \rReceiving objects:  99% (368/371)   \rReceiving objects: 100% (371/371)   \rReceiving objects: 100% (371/371), 445.33 KiB | 8.73 MiB/s, done.\n",
            "Resolving deltas:   0% (0/228)   \rResolving deltas:   3% (7/228)   \rResolving deltas:   6% (14/228)   \rResolving deltas:   8% (19/228)   \rResolving deltas:  10% (23/228)   \rResolving deltas:  14% (34/228)   \rResolving deltas:  28% (64/228)   \rResolving deltas:  34% (79/228)   \rResolving deltas:  35% (80/228)   \rResolving deltas:  36% (83/228)   \rResolving deltas:  37% (85/228)   \rResolving deltas:  38% (87/228)   \rResolving deltas:  39% (89/228)   \rResolving deltas:  40% (92/228)   \rResolving deltas:  46% (106/228)   \rResolving deltas:  48% (110/228)   \rResolving deltas:  49% (113/228)   \rResolving deltas:  50% (115/228)   \rResolving deltas:  53% (122/228)   \rResolving deltas:  56% (128/228)   \rResolving deltas:  58% (134/228)   \rResolving deltas:  64% (148/228)   \rResolving deltas:  66% (152/228)   \rResolving deltas:  78% (180/228)   \rResolving deltas:  80% (183/228)   \rResolving deltas:  82% (187/228)   \rResolving deltas:  83% (190/228)   \rResolving deltas:  85% (195/228)   \rResolving deltas:  86% (198/228)   \rResolving deltas:  88% (202/228)   \rResolving deltas: 100% (228/228)   \rResolving deltas: 100% (228/228), done.\n"
          ],
          "name": "stdout"
        }
      ]
    },
    {
      "cell_type": "code",
      "metadata": {
        "id": "uzeIFhbxiZwi",
        "colab_type": "code",
        "outputId": "ecff8871-1000-460a-90d9-2c1faa1d42cc",
        "colab": {
          "base_uri": "https://localhost:8080/",
          "height": 33
        }
      },
      "source": [
        "# Required first time\n",
        "# cd sent2vec"
      ],
      "execution_count": 0,
      "outputs": [
        {
          "output_type": "stream",
          "text": [
            "/content/drive/My Drive/AIML/Capstone/Sentence Embeddings/sent2vec\n"
          ],
          "name": "stdout"
        }
      ]
    },
    {
      "cell_type": "code",
      "metadata": {
        "id": "TJVILUWlig1H",
        "colab_type": "code",
        "outputId": "8b965569-2132-4846-b434-d0afa0d62b90",
        "colab": {
          "base_uri": "https://localhost:8080/",
          "height": 221
        }
      },
      "source": [
        "# Required first time\n",
        "# pip install ."
      ],
      "execution_count": 0,
      "outputs": [
        {
          "output_type": "stream",
          "text": [
            "Processing /content/drive/My Drive/AIML/Capstone/Sentence Embeddings/sent2vec\n",
            "Building wheels for collected packages: sent2vec\n",
            "  Building wheel for sent2vec (setup.py) ... \u001b[?25l\u001b[?25hdone\n",
            "  Created wheel for sent2vec: filename=sent2vec-0.0.0-cp36-cp36m-linux_x86_64.whl size=1125773 sha256=77daece67dc8505ca9c9d002cfcb7acf7fc6557709dd6dd8b73fa7438a01bbca\n",
            "  Stored in directory: /tmp/pip-ephem-wheel-cache-gszy9dti/wheels/b6/e5/11/1585ee3f315f0174a74aeb00391da478eb737d4623b5a627d2\n",
            "Successfully built sent2vec\n",
            "Installing collected packages: sent2vec\n",
            "  Found existing installation: sent2vec 0.0.0\n",
            "    Uninstalling sent2vec-0.0.0:\n",
            "      Successfully uninstalled sent2vec-0.0.0\n",
            "Successfully installed sent2vec-0.0.0\n"
          ],
          "name": "stdout"
        }
      ]
    },
    {
      "cell_type": "code",
      "metadata": {
        "id": "hm_b88DMis8j",
        "colab_type": "code",
        "colab": {}
      },
      "source": [
        "import sent2vec"
      ],
      "execution_count": 0,
      "outputs": []
    },
    {
      "cell_type": "code",
      "metadata": {
        "id": "8Nvs7Xvkiy7h",
        "colab_type": "code",
        "colab": {}
      },
      "source": [
        "model_path = \"/content/drive/My Drive/AIML/Capstone/Sentence Embeddings/BioSentVec_PubMed_MIMICIII-bigram_d700.bin\""
      ],
      "execution_count": 0,
      "outputs": []
    },
    {
      "cell_type": "code",
      "metadata": {
        "id": "gd8C3pMelQPF",
        "colab_type": "code",
        "colab": {}
      },
      "source": [
        "file = open(\"/content/drive/My Drive/AIML/Capstone/Sentence Embeddings/sent_vocab.pickle\", 'rb')\n",
        "sentences = pickle.load(file)\n",
        "file.close()"
      ],
      "execution_count": 0,
      "outputs": []
    },
    {
      "cell_type": "code",
      "metadata": {
        "id": "JYRD5Z5Bmeub",
        "colab_type": "code",
        "colab": {}
      },
      "source": [
        "# Remove the period after sentences\n",
        "for i,r in enumerate(sentences):\n",
        "    if len(r)>1:\n",
        "        if str(r)[len(r)-1:len(r)] == '.':\n",
        "            sentences[i]=sentences[i].replace('.', '')"
      ],
      "execution_count": 0,
      "outputs": []
    },
    {
      "cell_type": "code",
      "metadata": {
        "id": "oifdGZr2iuRG",
        "colab_type": "code",
        "colab": {}
      },
      "source": [
        "model = sent2vec.Sent2vecModel()\n",
        "model.load_model(model_path)\n",
        "\n",
        "embs = model.embed_sentences(sentences)"
      ],
      "execution_count": 0,
      "outputs": []
    },
    {
      "cell_type": "code",
      "metadata": {
        "id": "59jZu_gopw4x",
        "colab_type": "code",
        "outputId": "b2ceed58-b859-48d0-9f47-57b2430ef270",
        "colab": {
          "base_uri": "https://localhost:8080/",
          "height": 33
        }
      },
      "source": [
        "embs.shape"
      ],
      "execution_count": 0,
      "outputs": [
        {
          "output_type": "execute_result",
          "data": {
            "text/plain": [
              "(6674, 700)"
            ]
          },
          "metadata": {
            "tags": []
          },
          "execution_count": 23
        }
      ]
    },
    {
      "cell_type": "code",
      "metadata": {
        "id": "_t_FGEtwp_hv",
        "colab_type": "code",
        "colab": {}
      },
      "source": [
        "def pickle_op(typ,anything):\n",
        "    path = \"/content/drive/My Drive/AIML/Capstone/Sentence Embeddings/\"\n",
        "    pickle_file = path+typ+\".pickle\"\n",
        "    pickle.dump(anything, open(pickle_file, 'wb'))"
      ],
      "execution_count": 0,
      "outputs": []
    },
    {
      "cell_type": "code",
      "metadata": {
        "id": "aC0A4MrOqL40",
        "colab_type": "code",
        "colab": {}
      },
      "source": [
        "pickle_op('sent_embeddings',embs)"
      ],
      "execution_count": 0,
      "outputs": []
    },
    {
      "cell_type": "code",
      "metadata": {
        "id": "lQjGaBlbudUv",
        "colab_type": "code",
        "outputId": "a9e536b1-f9c9-4895-f477-3d7f4525fac9",
        "colab": {
          "base_uri": "https://localhost:8080/",
          "height": 234
        }
      },
      "source": [
        "embs"
      ],
      "execution_count": 0,
      "outputs": [
        {
          "output_type": "execute_result",
          "data": {
            "text/plain": [
              "array([[ 0.        ,  0.        ,  0.        , ...,  0.        ,\n",
              "         0.        ,  0.        ],\n",
              "       [ 0.15514512,  0.00655415, -0.34876326, ..., -0.30351892,\n",
              "        -0.17651424,  0.06118396],\n",
              "       [-0.41880697, -0.18923351, -0.7747733 , ...,  0.08952256,\n",
              "        -0.14519268, -0.18855107],\n",
              "       ...,\n",
              "       [ 0.03086286,  0.01410413, -0.0268713 , ..., -0.15774147,\n",
              "         0.00364779, -0.19293346],\n",
              "       [-0.0610355 , -0.46777   , -0.266926  , ..., -0.03174672,\n",
              "        -0.1433184 ,  0.1546945 ],\n",
              "       [ 0.35605395, -0.07755344,  0.29231524, ..., -0.08856375,\n",
              "        -0.02483916, -0.26691213]], dtype=float32)"
            ]
          },
          "metadata": {
            "tags": []
          },
          "execution_count": 26
        }
      ]
    },
    {
      "cell_type": "code",
      "metadata": {
        "id": "DbatVOaFueEs",
        "colab_type": "code",
        "outputId": "3d53f849-d93e-4132-f192-d3c66e3fdb92",
        "colab": {
          "base_uri": "https://localhost:8080/",
          "height": 1000
        }
      },
      "source": [
        "embs[6650]"
      ],
      "execution_count": 0,
      "outputs": [
        {
          "output_type": "execute_result",
          "data": {
            "text/plain": [
              "array([-0.47007084, -0.05900802, -0.03252133, -0.0445612 ,  0.2844772 ,\n",
              "       -0.0510804 , -0.05721889, -0.1832036 , -0.1866557 ,  0.18834126,\n",
              "       -0.00399266, -0.1103369 , -0.05069318, -0.00564943, -0.19716439,\n",
              "       -0.15888691,  0.05285398, -0.35121953, -0.10370671, -0.08982203,\n",
              "        0.28871092, -0.35746083,  0.30453387, -0.06105811, -0.13335536,\n",
              "       -0.3427817 ,  0.2851985 , -0.09544748,  0.060683  , -0.02293168,\n",
              "        0.13433032,  0.11167787, -0.10428868,  0.04023259, -0.0617836 ,\n",
              "       -0.15005663,  0.13930583, -0.10199267, -0.20660731, -0.31001794,\n",
              "        0.01269213,  0.0889349 , -0.01732056, -0.04339826, -0.01203963,\n",
              "       -0.01787401, -0.09753289, -0.12085363,  0.07512231,  0.14624886,\n",
              "       -0.10341394,  0.30577305, -0.04726155,  0.00639018, -0.12259356,\n",
              "       -0.18511002, -0.25509977, -0.22135122,  0.2399451 ,  0.24102299,\n",
              "       -0.26517466,  0.00123431,  0.03001099,  0.05442888, -0.17841679,\n",
              "       -0.10511574, -0.04471136,  0.1921617 , -0.12276606,  0.15873027,\n",
              "       -0.09659402, -0.2807315 ,  0.35940462, -0.15340027, -0.39453807,\n",
              "        0.25016302,  0.03370134,  0.04561544, -0.08758659,  0.13607778,\n",
              "        0.01967596,  0.1967498 ,  0.02733111,  0.06465353, -0.2762682 ,\n",
              "        0.12034473,  0.05890532, -0.30202457, -0.08085109,  0.06834073,\n",
              "       -0.09624185,  0.15427874,  0.14164439, -0.1823105 ,  0.23465756,\n",
              "       -0.00391694,  0.0619135 ,  0.2779305 ,  0.07472534, -0.03787072,\n",
              "       -0.05898681, -0.01402158,  0.12976356, -0.01912774,  0.10991959,\n",
              "       -0.00736594,  0.07445439, -0.18031481,  0.04911829,  0.04661022,\n",
              "        0.16886742, -0.4238265 , -0.11885487,  0.01811753, -0.03643181,\n",
              "        0.15487437, -0.1942717 , -0.21544564, -0.18331493, -0.09177708,\n",
              "        0.0304855 ,  0.06382008, -0.15913816,  0.09328002, -0.04126463,\n",
              "       -0.12666191,  0.02563911,  0.29074693, -0.39613137,  0.0281217 ,\n",
              "        0.10064737, -0.01962053,  0.13441436,  0.05092369, -0.07480185,\n",
              "       -0.14309944, -0.02431943, -0.19575067,  0.06072927, -0.02708699,\n",
              "        0.0263438 , -0.03037576, -0.11694306,  0.2783601 ,  0.01032708,\n",
              "       -0.02312604,  0.23934957,  0.16087316, -0.39828372, -0.1093182 ,\n",
              "       -0.12681602, -0.06280183,  0.05482148,  0.11183096, -0.1505555 ,\n",
              "        0.08392403, -0.16130221, -0.03584121,  0.30306834, -0.19873537,\n",
              "        0.05300407,  0.02267105, -0.12657431,  0.2960314 ,  0.16254222,\n",
              "        0.01212585,  0.15248616, -0.20949249,  0.18003733, -0.23641989,\n",
              "       -0.06552573,  0.06684531, -0.15203108,  0.09141809,  0.06392267,\n",
              "        0.03570994,  0.06103345,  0.15590692, -0.07086879,  0.16407867,\n",
              "       -0.05224359,  0.19166553,  0.02654326,  0.07707937, -0.44538036,\n",
              "       -0.23606738,  0.30693823, -0.15232442,  0.01091588, -0.12990792,\n",
              "        0.17260955,  0.0589819 , -0.20665252, -0.05024888,  0.07697822,\n",
              "       -0.13846253,  0.12608556, -0.21102154, -0.12902316, -0.03402827,\n",
              "        0.11717385,  0.16121876,  0.1046553 ,  0.21357386,  0.00720816,\n",
              "        0.315289  , -0.18881792, -0.20691027,  0.0811815 ,  0.01515892,\n",
              "        0.0958954 ,  0.19573732,  0.18615949,  0.09591252, -0.04942058,\n",
              "        0.11093565,  0.08637182,  0.14312443, -0.19016665,  0.07507164,\n",
              "       -0.2135211 , -0.15835936,  0.0665191 ,  0.20643672,  0.01870592,\n",
              "       -0.01761137, -0.20166159, -0.13766968, -0.03063114, -0.09714922,\n",
              "        0.04801441, -0.13325858,  0.02462716, -0.123822  ,  0.16985793,\n",
              "       -0.30820876, -0.02367619, -0.1238557 , -0.39100727, -0.07796313,\n",
              "       -0.01222621, -0.07792425,  0.01443468,  0.09321889, -0.22412507,\n",
              "        0.11903941, -0.10205449, -0.08612048, -0.04395791, -0.00904823,\n",
              "        0.14062543,  0.10574719, -0.06589181,  0.21057265, -0.07715259,\n",
              "        0.091735  ,  0.00955526,  0.05624227, -0.06947016,  0.1457395 ,\n",
              "        0.07768419, -0.09515084,  0.10860197, -0.07946105, -0.41922593,\n",
              "       -0.16115934,  0.11212248,  0.14565346, -0.09880841,  0.01887634,\n",
              "        0.05889667, -0.18758649, -0.0510358 , -0.06221811, -0.13678467,\n",
              "       -0.12091691,  0.04518049, -0.06417377, -0.0872183 ,  0.08771012,\n",
              "       -0.00354758,  0.00102278,  0.11970367, -0.10754256,  0.25062338,\n",
              "        0.09395594,  0.22712505,  0.09999038,  0.16730987,  0.1613603 ,\n",
              "       -0.03832742,  0.12222242,  0.4751138 , -0.1653843 , -0.04801784,\n",
              "        0.00756688, -0.2617162 ,  0.09162981, -0.0116046 , -0.17121758,\n",
              "        0.0020448 , -0.14917132, -0.15555342,  0.13824871, -0.29734302,\n",
              "       -0.08921041, -0.13620389, -0.14751278, -0.35536766,  0.03392567,\n",
              "       -0.00249164,  0.26365307, -0.05109021,  0.22671303, -0.03452507,\n",
              "        0.19078867,  0.13616696, -0.26960608, -0.00698693, -0.2513566 ,\n",
              "       -0.07896075, -0.02674219, -0.04575977, -0.05369005, -0.11070568,\n",
              "        0.21038331,  0.23874024, -0.0317794 , -0.07423217,  0.20899867,\n",
              "        0.04751921,  0.06123402,  0.07945496,  0.11513972,  0.17194249,\n",
              "       -0.04044777,  0.06834006,  0.06219839,  0.08879336,  0.04592589,\n",
              "       -0.25525475, -0.06785434,  0.1306065 , -0.28924552, -0.19864213,\n",
              "        0.0897584 ,  0.12410476, -0.165502  ,  0.03206369, -0.28295666,\n",
              "        0.22598861, -0.14275248, -0.10575192, -0.06001972,  0.13139066,\n",
              "       -0.2706193 ,  0.01005902,  0.19050564,  0.26756352, -0.1784446 ,\n",
              "       -0.0573485 , -0.01135871,  0.08189942, -0.02634532, -0.0121936 ,\n",
              "        0.2747989 ,  0.03742129, -0.01060348, -0.05243942, -0.07485785,\n",
              "       -0.0861786 , -0.15959418,  0.01347794, -0.01694551,  0.03364744,\n",
              "       -0.04003403,  0.12377536,  0.12417865,  0.13035837,  0.10838587,\n",
              "        0.10015108, -0.04045131, -0.0531123 , -0.28164545,  0.2702564 ,\n",
              "       -0.14599894,  0.16220419, -0.1598146 , -0.25209904, -0.12677415,\n",
              "        0.21870229, -0.20806591,  0.16494536, -0.01676033, -0.24923305,\n",
              "       -0.22485968, -0.40365237, -0.03295592, -0.16129616,  0.21887134,\n",
              "        0.07604314,  0.09863772, -0.10940015,  0.05714155, -0.3822459 ,\n",
              "       -0.08293913,  0.06935544, -0.28509563,  0.17755668,  0.13751541,\n",
              "        0.02937969,  0.19047669, -0.27665368, -0.17855434,  0.01792887,\n",
              "       -0.23398471,  0.05511365, -0.2167468 , -0.0557124 , -0.09457974,\n",
              "        0.35634017, -0.0983024 , -0.03965934, -0.00506179,  0.02132758,\n",
              "        0.03669447,  0.07937366,  0.0168601 ,  0.10323904, -0.13341264,\n",
              "        0.00344307, -0.1271232 , -0.2926899 , -0.2028045 , -0.11767827,\n",
              "       -0.10489633,  0.1404223 , -0.00771495, -0.06894562,  0.06085427,\n",
              "       -0.01978678,  0.20371078,  0.0204191 ,  0.16361433, -0.11665478,\n",
              "        0.04854508, -0.05634775, -0.07294957,  0.07354583,  0.04540242,\n",
              "       -0.13775261, -0.0399522 , -0.04228085, -0.12769231,  0.25591826,\n",
              "        0.18997268, -0.08138866,  0.10175998,  0.09635234,  0.12067936,\n",
              "       -0.11886515, -0.14311619, -0.03445494,  0.20667367, -0.08424379,\n",
              "       -0.00372968, -0.06856348,  0.10973   , -0.17775682,  0.13136294,\n",
              "       -0.14358138,  0.04238129, -0.02482248,  0.00743706,  0.3179261 ,\n",
              "        0.0633477 , -0.09443614, -0.01643235, -0.09549274,  0.22981255,\n",
              "       -0.08252249,  0.03384849,  0.07268222,  0.28608227, -0.03790155,\n",
              "       -0.1973811 ,  0.12948145,  0.12402617, -0.22366756,  0.40149477,\n",
              "       -0.04780081, -0.30779743, -0.05447565, -0.12267701, -0.1253564 ,\n",
              "       -0.04222057, -0.00274682, -0.08644883, -0.05855344,  0.09965952,\n",
              "       -0.16864318,  0.16133139, -0.0555096 , -0.0318347 , -0.01092437,\n",
              "        0.3384468 , -0.09095671, -0.07197693, -0.03037696,  0.12029178,\n",
              "       -0.09803142,  0.02167833,  0.26602823,  0.24754947, -0.19686235,\n",
              "        0.05016016,  0.02918811,  0.1150586 , -0.1502378 ,  0.12469535,\n",
              "       -0.03025942,  0.00318122, -0.07193903,  0.06564806, -0.14700218,\n",
              "       -0.24328642,  0.05326347, -0.14705476, -0.05406677, -0.11262114,\n",
              "       -0.51664543,  0.03551589, -0.15887845,  0.18745235,  0.11992242,\n",
              "       -0.3532503 ,  0.18129952,  0.03219555, -0.04058728,  0.32548246,\n",
              "       -0.10717904, -0.07015975,  0.20594148, -0.02240975,  0.0738292 ,\n",
              "        0.23162301, -0.0440945 , -0.1778497 , -0.10236179, -0.41674083,\n",
              "       -0.21637711,  0.35469174, -0.12242226,  0.0587723 , -0.2974586 ,\n",
              "        0.07498962,  0.11727125, -0.13102531, -0.0117445 , -0.11220841,\n",
              "       -0.04164592,  0.18137269, -0.1821213 , -0.07076921,  0.1224349 ,\n",
              "       -0.1996722 ,  0.17268492,  0.09406296, -0.16669329,  0.27618575,\n",
              "        0.17973258, -0.21863508,  0.07037529,  0.20865677, -0.26075974,\n",
              "       -0.10024606, -0.02134592, -0.09157793, -0.02510635,  0.26496917,\n",
              "        0.41195083,  0.1385752 ,  0.11225907, -0.03160651, -0.1210145 ,\n",
              "       -0.02778238, -0.13913137,  0.18527812,  0.0870168 ,  0.12224909,\n",
              "        0.19526605,  0.00584861,  0.18509321, -0.20560174, -0.08536464,\n",
              "        0.00116297, -0.00474339, -0.04879292, -0.09129331,  0.11921675,\n",
              "       -0.00211947, -0.0883299 ,  0.13430594,  0.19570298,  0.16400523,\n",
              "       -0.07488734, -0.05087472, -0.04809731, -0.10008809,  0.07027598,\n",
              "       -0.09882952,  0.09583237,  0.00293732, -0.01882065,  0.14869606,\n",
              "       -0.07114395,  0.08074503, -0.19505067, -0.07056131,  0.04204728,\n",
              "       -0.18933308,  0.2091008 ,  0.06387757,  0.3511692 , -0.00341436,\n",
              "       -0.11167648, -0.08643866, -0.12462034,  0.12578455, -0.24996103,\n",
              "        0.07516124,  0.04495548, -0.0403313 ,  0.00650195,  0.10101914,\n",
              "       -0.08755711,  0.2736226 ,  0.22213262,  0.1122091 ,  0.07814787,\n",
              "       -0.08143347,  0.17037578, -0.16402619,  0.01876237,  0.18517065,\n",
              "        0.04730102, -0.16483665, -0.24654143,  0.34376043,  0.0215729 ,\n",
              "       -0.15283321, -0.00440176, -0.32487372, -0.17386363,  0.01975261,\n",
              "       -0.00728309, -0.29385924,  0.20277213, -0.05959972, -0.22537217,\n",
              "       -0.19421566, -0.05822821,  0.13552131, -0.21571945, -0.1204605 ,\n",
              "        0.14098056,  0.00330857,  0.22747162, -0.05488666, -0.05196336,\n",
              "       -0.07687967,  0.06776839,  0.12906735, -0.04094416, -0.0181867 ,\n",
              "       -0.00815044, -0.09720683, -0.08470957,  0.05428787, -0.11506807,\n",
              "       -0.10424052,  0.00701289, -0.04768262,  0.19197835, -0.0200902 ,\n",
              "        0.11628734, -0.08808511, -0.18038058, -0.18850975,  0.02113549,\n",
              "       -0.16522484, -0.1129331 , -0.11379551, -0.03030974, -0.27719334,\n",
              "       -0.09642398, -0.15357128, -0.1578295 , -0.0233473 , -0.194116  ],\n",
              "      dtype=float32)"
            ]
          },
          "metadata": {
            "tags": []
          },
          "execution_count": 32
        }
      ]
    },
    {
      "cell_type": "code",
      "metadata": {
        "id": "5HP2m0mjuhJb",
        "colab_type": "code",
        "colab": {}
      },
      "source": [
        ""
      ],
      "execution_count": 0,
      "outputs": []
    }
  ]
}