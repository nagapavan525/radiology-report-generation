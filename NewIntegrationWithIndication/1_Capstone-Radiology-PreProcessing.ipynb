{
 "cells": [
  {
   "cell_type": "code",
   "execution_count": 1,
   "metadata": {
    "colab": {
     "base_uri": "https://localhost:8080/",
     "height": 122
    },
    "colab_type": "code",
    "id": "DHop_0o11lkQ",
    "outputId": "81a535d2-4d4b-4f37-e6e6-b16941807dd9"
   },
   "outputs": [
    {
     "name": "stdout",
     "output_type": "stream",
     "text": [
      "Go to this URL in a browser: https://accounts.google.com/o/oauth2/auth?client_id=947318989803-6bn6qk8qdgf4n4g3pfee6491hc0brc4i.apps.googleusercontent.com&redirect_uri=urn%3Aietf%3Awg%3Aoauth%3A2.0%3Aoob&scope=email%20https%3A%2F%2Fwww.googleapis.com%2Fauth%2Fdocs.test%20https%3A%2F%2Fwww.googleapis.com%2Fauth%2Fdrive%20https%3A%2F%2Fwww.googleapis.com%2Fauth%2Fdrive.photos.readonly%20https%3A%2F%2Fwww.googleapis.com%2Fauth%2Fpeopleapi.readonly&response_type=code\n",
      "\n",
      "Enter your authorization code:\n",
      "··········\n",
      "Mounted at /content/drive\n"
     ]
    }
   ],
   "source": [
    "from google.colab import drive\n",
    "drive.mount('/content/drive', force_remount=True)"
   ]
  },
  {
   "cell_type": "code",
   "execution_count": 1,
   "metadata": {
    "colab": {},
    "colab_type": "code",
    "id": "zDgZ3Ard1x_Z"
   },
   "outputs": [],
   "source": [
    "import os\n",
    "os.chdir('D:/Capstone/')"
   ]
  },
  {
   "cell_type": "code",
   "execution_count": 3,
   "metadata": {
    "colab": {},
    "colab_type": "code",
    "id": "0o74z1-k1lkV"
   },
   "outputs": [
    {
     "name": "stderr",
     "output_type": "stream",
     "text": [
      "Using TensorFlow backend.\n"
     ]
    }
   ],
   "source": [
    "## Import Libraries here\n",
    "from pathlib import Path\n",
    "from bs4 import BeautifulSoup\n",
    "import pandas as pd\n",
    "import numpy as np\n",
    "from numpy import array\n",
    "import pandas as pd\n",
    "import string\n",
    "import os\n",
    "import glob\n",
    "from time import time\n",
    "from keras import models\n",
    "from keras.applications import densenet\n",
    "import shutil\n",
    "import re\n",
    "import tensorflow as tf\n",
    "import tensorflow_hub as hub\n",
    "import pickle\n",
    "\n"
   ]
  },
  {
   "cell_type": "code",
   "execution_count": 4,
   "metadata": {
    "colab": {},
    "colab_type": "code",
    "id": "K5oTRH6t18Gs"
   },
   "outputs": [],
   "source": [
    "# This function is used to open a file\n",
    "def load_doc(filename):\n",
    "\t# open the file as read only\n",
    "\tfile = open(filename, 'r')\n",
    "\t# read all text\n",
    "\ttext = file.read()\n",
    "\t# close the file\n",
    "\tfile.close()\n",
    "\treturn text"
   ]
  },
  {
   "cell_type": "code",
   "execution_count": 5,
   "metadata": {
    "colab": {},
    "colab_type": "code",
    "id": "1WcOZgbU2JUZ"
   },
   "outputs": [],
   "source": []
  },
  {
   "cell_type": "code",
   "execution_count": 6,
   "metadata": {
    "colab": {},
    "colab_type": "code",
    "id": "Hz5CrY_b1lkZ"
   },
   "outputs": [],
   "source": [
    "## Variables\n",
    "# images_zip_path = '/content/drive/My Drive/AIML/Capstone/NLMCXR_png.tgz'\n",
    "images_unzip_path = 'D:/Capstone/NLMCXR_png/'\n",
    "# Run the following two steps if you wish to unzip the files only\n",
    "# ##extract_all(images_zip_path,images_unzip_path)\n",
    "# shutil.unpack_archive(images_zip_path, images_unzip_path)\n",
    "\n",
    "# reports_zip_path = '/content/drive/My Drive/AIML/Capstone/NLMCXR_reports.tgz'\n",
    "reports_unzip_path = 'D:/Capstone/NLMCXR_reports/'\n",
    "# Run the following two steps if you wish to unzip the files only\n",
    "# ##extract_all(images_zip_path,images_unzip_path)\n",
    "# shutil.unpack_archive(reports_zip_path, reports_unzip_path)\n",
    "directory_in_str=reports_unzip_path+'/ecgen-radiology'\n",
    "pathlist = Path(directory_in_str).glob('**/*.xml')\n",
    "glove_dir = '/content/drive/My Drive/AIML/Capstone/Glove/'\n",
    "# Below path contains all the images\n",
    "images = images_unzip_path\n",
    "train_images = images_unzip_path\n",
    "proj_path = 'D:/Capstone/'\n",
    "chexnet_weights = '/content/drive/My Drive/AIML/Capstone/brucechou1983_CheXNet_Keras_0.3.0_weights.h5'"
   ]
  },
  {
   "cell_type": "markdown",
   "metadata": {
    "colab_type": "text",
    "id": "E3Y1cOAp1lkb"
   },
   "source": [
    "## Pre-Processing"
   ]
  },
  {
   "cell_type": "code",
   "execution_count": 7,
   "metadata": {
    "colab": {},
    "colab_type": "code",
    "id": "YkAYMNn9XlYJ"
   },
   "outputs": [],
   "source": [
    "## Extract required XML attributes into a Dataframe here\n",
    "\n",
    "result=[]\n",
    "for path in pathlist:\n",
    "     \n",
    "     path_in_str = str(path)\n",
    "     with open(path_in_str, \"r\") as f:\n",
    "    \n",
    "        contents = f.read()\n",
    "\n",
    "        soup = BeautifulSoup(contents, 'lxml')\n",
    "        tags = soup.findAll(['abstracttext','parentimage',{'id':True}])\n",
    "        for t in tags:\n",
    "          label=t.get(\"label\")\n",
    "          if label=='FINDINGS':\n",
    "            f_text=t.text\n",
    "            \n",
    "          if label=='IMPRESSION':\n",
    "            i_text=t.text\n",
    "            \n",
    "          if label=='INDICATION':\n",
    "            ind_text=t.text\n",
    "           \n",
    "          for j in t.find_all('figureid'):\n",
    "            if j.text=='F1':\n",
    "              id=t[\"id\"]\n",
    "\n",
    "          \n",
    "        result.append([path_in_str[43:100],id,f_text,i_text,ind_text])\n",
    "\n",
    "                \n"
   ]
  },
  {
   "cell_type": "code",
   "execution_count": 8,
   "metadata": {
    "colab": {},
    "colab_type": "code",
    "id": "cp12Apsc1lkg"
   },
   "outputs": [],
   "source": [
    "df=pd.DataFrame(result,columns=[\"XML_File_Name\",\"Image_File_name\",\"Findings\",\"Impressions\",\"Indication\"])"
   ]
  },
  {
   "cell_type": "code",
   "execution_count": 9,
   "metadata": {
    "colab": {
     "base_uri": "https://localhost:8080/",
     "height": 204
    },
    "colab_type": "code",
    "id": "qanVGg5M1lkj",
    "outputId": "57601e68-1a58-4a59-ba22-7ef98aa3f23d"
   },
   "outputs": [
    {
     "data": {
      "text/html": [
       "<div>\n",
       "<style scoped>\n",
       "    .dataframe tbody tr th:only-of-type {\n",
       "        vertical-align: middle;\n",
       "    }\n",
       "\n",
       "    .dataframe tbody tr th {\n",
       "        vertical-align: top;\n",
       "    }\n",
       "\n",
       "    .dataframe thead th {\n",
       "        text-align: right;\n",
       "    }\n",
       "</style>\n",
       "<table border=\"1\" class=\"dataframe\">\n",
       "  <thead>\n",
       "    <tr style=\"text-align: right;\">\n",
       "      <th></th>\n",
       "      <th>XML_File_Name</th>\n",
       "      <th>Image_File_name</th>\n",
       "      <th>Findings</th>\n",
       "      <th>Impressions</th>\n",
       "      <th>Indication</th>\n",
       "    </tr>\n",
       "  </thead>\n",
       "  <tbody>\n",
       "    <tr>\n",
       "      <td>0</td>\n",
       "      <td>1.xml</td>\n",
       "      <td>CXR1_1_IM-0001-3001</td>\n",
       "      <td>The cardiac silhouette and mediastinum size ar...</td>\n",
       "      <td>Normal chest x-XXXX.</td>\n",
       "      <td>Positive TB test</td>\n",
       "    </tr>\n",
       "    <tr>\n",
       "      <td>1</td>\n",
       "      <td>10.xml</td>\n",
       "      <td>CXR10_IM-0002-1001</td>\n",
       "      <td>The cardiomediastinal silhouette is within nor...</td>\n",
       "      <td>No acute cardiopulmonary process.</td>\n",
       "      <td>XXXX-year-old male, chest pain.</td>\n",
       "    </tr>\n",
       "    <tr>\n",
       "      <td>2</td>\n",
       "      <td>100.xml</td>\n",
       "      <td>CXR100_IM-0002-1001</td>\n",
       "      <td>Both lungs are clear and expanded. Heart and m...</td>\n",
       "      <td>No active disease.</td>\n",
       "      <td></td>\n",
       "    </tr>\n",
       "    <tr>\n",
       "      <td>3</td>\n",
       "      <td>1000.xml</td>\n",
       "      <td>CXR1000_IM-0003-1001</td>\n",
       "      <td>There is XXXX increased opacity within the rig...</td>\n",
       "      <td>1. Increased opacity in the right upper lobe w...</td>\n",
       "      <td>XXXX-year-old male, XXXX.</td>\n",
       "    </tr>\n",
       "    <tr>\n",
       "      <td>4</td>\n",
       "      <td>1001.xml</td>\n",
       "      <td>CXR1001_IM-0004-1001</td>\n",
       "      <td>Interstitial markings are diffusely prominent ...</td>\n",
       "      <td>Diffuse fibrosis. No visible focal acute disease.</td>\n",
       "      <td>dyspnea, subjective fevers, arthritis, immigra...</td>\n",
       "    </tr>\n",
       "  </tbody>\n",
       "</table>\n",
       "</div>"
      ],
      "text/plain": [
       "  XML_File_Name       Image_File_name  \\\n",
       "0         1.xml   CXR1_1_IM-0001-3001   \n",
       "1        10.xml    CXR10_IM-0002-1001   \n",
       "2       100.xml   CXR100_IM-0002-1001   \n",
       "3      1000.xml  CXR1000_IM-0003-1001   \n",
       "4      1001.xml  CXR1001_IM-0004-1001   \n",
       "\n",
       "                                            Findings  \\\n",
       "0  The cardiac silhouette and mediastinum size ar...   \n",
       "1  The cardiomediastinal silhouette is within nor...   \n",
       "2  Both lungs are clear and expanded. Heart and m...   \n",
       "3  There is XXXX increased opacity within the rig...   \n",
       "4  Interstitial markings are diffusely prominent ...   \n",
       "\n",
       "                                         Impressions  \\\n",
       "0                               Normal chest x-XXXX.   \n",
       "1                  No acute cardiopulmonary process.   \n",
       "2                                 No active disease.   \n",
       "3  1. Increased opacity in the right upper lobe w...   \n",
       "4  Diffuse fibrosis. No visible focal acute disease.   \n",
       "\n",
       "                                          Indication  \n",
       "0                                   Positive TB test  \n",
       "1                    XXXX-year-old male, chest pain.  \n",
       "2                                                     \n",
       "3                          XXXX-year-old male, XXXX.  \n",
       "4  dyspnea, subjective fevers, arthritis, immigra...  "
      ]
     },
     "execution_count": 9,
     "metadata": {},
     "output_type": "execute_result"
    }
   ],
   "source": [
    "df.head()"
   ]
  },
  {
   "cell_type": "code",
   "execution_count": 11,
   "metadata": {},
   "outputs": [
    {
     "data": {
      "text/plain": [
       "XML_File_Name      90\n",
       "Image_File_name    90\n",
       "Findings           90\n",
       "Impressions        90\n",
       "Indication         90\n",
       "dtype: int64"
      ]
     },
     "execution_count": 11,
     "metadata": {},
     "output_type": "execute_result"
    }
   ],
   "source": [
    "# Indication have blank values (530 rows)\n",
    "df[df[\"Indication\"]==''].count()"
   ]
  },
  {
   "cell_type": "code",
   "execution_count": 12,
   "metadata": {
    "colab": {
     "base_uri": "https://localhost:8080/",
     "height": 102
    },
    "colab_type": "code",
    "id": "NK11tBNsn8ll",
    "outputId": "26dbed67-5e05-45c2-e550-26ae015e9660"
   },
   "outputs": [
    {
     "data": {
      "text/plain": [
       "XML_File_Name      530\n",
       "Image_File_name    530\n",
       "Findings           530\n",
       "Impressions        530\n",
       "Indication         530\n",
       "dtype: int64"
      ]
     },
     "execution_count": 12,
     "metadata": {},
     "output_type": "execute_result"
    }
   ],
   "source": [
    "# Findings have blank values (530 rows)\n",
    "df[df[\"Findings\"]==''].count()"
   ]
  },
  {
   "cell_type": "code",
   "execution_count": 13,
   "metadata": {
    "colab": {},
    "colab_type": "code",
    "id": "C5SqBLrNo4CB"
   },
   "outputs": [],
   "source": [
    "# Update Findings --> Fill blank values with Impressions\n",
    "df[\"Findings\"]=np.where(df[\"Findings\"]=='',df[\"Impressions\"],df[\"Findings\"])"
   ]
  },
  {
   "cell_type": "code",
   "execution_count": 14,
   "metadata": {
    "colab": {
     "base_uri": "https://localhost:8080/",
     "height": 102
    },
    "colab_type": "code",
    "id": "GlZIHyKqo_Kw",
    "outputId": "393690db-3c1c-4a95-c70a-f040eacd31a2"
   },
   "outputs": [
    {
     "data": {
      "text/plain": [
       "XML_File_Name      28\n",
       "Image_File_name    28\n",
       "Findings           28\n",
       "Impressions        28\n",
       "Indication         28\n",
       "dtype: int64"
      ]
     },
     "execution_count": 14,
     "metadata": {},
     "output_type": "execute_result"
    }
   ],
   "source": [
    "df[df[\"Findings\"]==''].count()"
   ]
  },
  {
   "cell_type": "code",
   "execution_count": 15,
   "metadata": {
    "colab": {},
    "colab_type": "code",
    "id": "Iy5kW53P1lko"
   },
   "outputs": [],
   "source": [
    "## Remove Blank reports -- 28 Reports\n",
    "df_final=df[df[\"Findings\"]!='']"
   ]
  },
  {
   "cell_type": "code",
   "execution_count": 16,
   "metadata": {},
   "outputs": [
    {
     "data": {
      "text/html": [
       "<div>\n",
       "<style scoped>\n",
       "    .dataframe tbody tr th:only-of-type {\n",
       "        vertical-align: middle;\n",
       "    }\n",
       "\n",
       "    .dataframe tbody tr th {\n",
       "        vertical-align: top;\n",
       "    }\n",
       "\n",
       "    .dataframe thead th {\n",
       "        text-align: right;\n",
       "    }\n",
       "</style>\n",
       "<table border=\"1\" class=\"dataframe\">\n",
       "  <thead>\n",
       "    <tr style=\"text-align: right;\">\n",
       "      <th></th>\n",
       "      <th>XML_File_Name</th>\n",
       "      <th>Image_File_name</th>\n",
       "      <th>Findings</th>\n",
       "      <th>Impressions</th>\n",
       "      <th>Indication</th>\n",
       "    </tr>\n",
       "  </thead>\n",
       "  <tbody>\n",
       "    <tr>\n",
       "      <td>0</td>\n",
       "      <td>1.xml</td>\n",
       "      <td>CXR1_1_IM-0001-3001</td>\n",
       "      <td>The cardiac silhouette and mediastinum size ar...</td>\n",
       "      <td>Normal chest x-XXXX.</td>\n",
       "      <td>Positive TB test</td>\n",
       "    </tr>\n",
       "    <tr>\n",
       "      <td>1</td>\n",
       "      <td>10.xml</td>\n",
       "      <td>CXR10_IM-0002-1001</td>\n",
       "      <td>The cardiomediastinal silhouette is within nor...</td>\n",
       "      <td>No acute cardiopulmonary process.</td>\n",
       "      <td>XXXX-year-old male, chest pain.</td>\n",
       "    </tr>\n",
       "    <tr>\n",
       "      <td>2</td>\n",
       "      <td>100.xml</td>\n",
       "      <td>CXR100_IM-0002-1001</td>\n",
       "      <td>Both lungs are clear and expanded. Heart and m...</td>\n",
       "      <td>No active disease.</td>\n",
       "      <td></td>\n",
       "    </tr>\n",
       "    <tr>\n",
       "      <td>3</td>\n",
       "      <td>1000.xml</td>\n",
       "      <td>CXR1000_IM-0003-1001</td>\n",
       "      <td>There is XXXX increased opacity within the rig...</td>\n",
       "      <td>1. Increased opacity in the right upper lobe w...</td>\n",
       "      <td>XXXX-year-old male, XXXX.</td>\n",
       "    </tr>\n",
       "    <tr>\n",
       "      <td>4</td>\n",
       "      <td>1001.xml</td>\n",
       "      <td>CXR1001_IM-0004-1001</td>\n",
       "      <td>Interstitial markings are diffusely prominent ...</td>\n",
       "      <td>Diffuse fibrosis. No visible focal acute disease.</td>\n",
       "      <td>dyspnea, subjective fevers, arthritis, immigra...</td>\n",
       "    </tr>\n",
       "  </tbody>\n",
       "</table>\n",
       "</div>"
      ],
      "text/plain": [
       "  XML_File_Name       Image_File_name  \\\n",
       "0         1.xml   CXR1_1_IM-0001-3001   \n",
       "1        10.xml    CXR10_IM-0002-1001   \n",
       "2       100.xml   CXR100_IM-0002-1001   \n",
       "3      1000.xml  CXR1000_IM-0003-1001   \n",
       "4      1001.xml  CXR1001_IM-0004-1001   \n",
       "\n",
       "                                            Findings  \\\n",
       "0  The cardiac silhouette and mediastinum size ar...   \n",
       "1  The cardiomediastinal silhouette is within nor...   \n",
       "2  Both lungs are clear and expanded. Heart and m...   \n",
       "3  There is XXXX increased opacity within the rig...   \n",
       "4  Interstitial markings are diffusely prominent ...   \n",
       "\n",
       "                                         Impressions  \\\n",
       "0                               Normal chest x-XXXX.   \n",
       "1                  No acute cardiopulmonary process.   \n",
       "2                                 No active disease.   \n",
       "3  1. Increased opacity in the right upper lobe w...   \n",
       "4  Diffuse fibrosis. No visible focal acute disease.   \n",
       "\n",
       "                                          Indication  \n",
       "0                                   Positive TB test  \n",
       "1                    XXXX-year-old male, chest pain.  \n",
       "2                                                     \n",
       "3                          XXXX-year-old male, XXXX.  \n",
       "4  dyspnea, subjective fevers, arthritis, immigra...  "
      ]
     },
     "execution_count": 16,
     "metadata": {},
     "output_type": "execute_result"
    }
   ],
   "source": [
    "df_final.head()"
   ]
  },
  {
   "cell_type": "code",
   "execution_count": 1,
   "metadata": {},
   "outputs": [],
   "source": [
    "# This step is just to check the data. This need not be executed\n",
    "# df_final[df_final['Findings'].str.contains('5XXXX', regex=True)]"
   ]
  },
  {
   "cell_type": "code",
   "execution_count": 58,
   "metadata": {
    "colab": {},
    "colab_type": "code",
    "id": "yLTx-vht1lk4"
   },
   "outputs": [],
   "source": [
    "# Create dictionary of Indication sentences\n",
    "s_indication=dict(zip(df_final.Image_File_name,df_final.Indication))\n",
    "# Create dictionary of Impression sentences\n",
    "s_impression=dict(zip(df_final.Image_File_name,df_final.Impressions))\n",
    "# Create dictionary of Findings sentences\n",
    "s_findings=dict(zip(df_final.Image_File_name,df_final.Findings))\n",
    "# Create dictionary of Findings Words\n",
    "w_findings=dict(zip(df_final.Image_File_name,df_final.Findings))\n",
    "# Create dictionary of Indication Words\n",
    "w_indication=dict(zip(df_final.Image_File_name,df_final.Indication))\n",
    "# Create dictionary of Impression Words\n",
    "w_impression=dict(zip(df_final.Image_File_name,df_final.Impressions))"
   ]
  },
  {
   "cell_type": "code",
   "execution_count": 21,
   "metadata": {
    "colab": {
     "base_uri": "https://localhost:8080/",
     "height": 102
    },
    "colab_type": "code",
    "id": "urtYW5_O1lk9",
    "outputId": "f9173c34-0a9b-40f9-d779-08ad0af3b91a"
   },
   "outputs": [
    {
     "data": {
      "text/plain": [
       "['CXR1_1_IM-0001-3001',\n",
       " 'CXR10_IM-0002-1001',\n",
       " 'CXR100_IM-0002-1001',\n",
       " 'CXR1000_IM-0003-1001',\n",
       " 'CXR1001_IM-0004-1001']"
      ]
     },
     "execution_count": 21,
     "metadata": {},
     "output_type": "execute_result"
    }
   ],
   "source": [
    "list(s_findings.keys())[:5]"
   ]
  },
  {
   "cell_type": "code",
   "execution_count": 23,
   "metadata": {},
   "outputs": [],
   "source": [
    "## Function to Clean up sentences or words\n",
    "remove = string.punctuation\n",
    "remove = remove.replace(\".\", \"\")\n",
    "\n",
    "def s_clean_up(anything):\n",
    "\t# prepare translation table for removing punctuation\n",
    "\ttable = str.maketrans('', '', remove)\n",
    "\tfor key, desc_list in anything.items():\n",
    "\n",
    "\t\tdesc = desc_list\n",
    "\t\t\n",
    "\t\t# convert to lower case\n",
    "\t\tdesc = desc.lower()\n",
    "\t\t# remove punctuation from each token\n",
    "\t\tdesc = desc.replace('/', ' or ')\n",
    "\t\tdesc = desc.replace('-', ' ')\n",
    "#\t\tdesc = desc.replace('<BR>', ' ')\n",
    "\t\tdesc = desc.replace('<br>', ' ')\n",
    "\t\tdesc = desc.replace('&gt;]', '')\n",
    "\t\tdesc = desc.replace('[&lt;', '')\n",
    "\t\tdesc = re.sub(r'\\(.*?\\)', '', desc)\n",
    "# Add space after period where statements don't start after period        \n",
    "\t\tdesc = re.sub(r'(?<=[.])(?=[^\\d\\s])', r' ', desc)\n",
    "\t\tdesc = desc.translate(table)\n",
    "# \t\tdesc = desc.replace(' 0', 'zero ')\n",
    "# \t\tdesc = desc.replace(' 1', 'one ')\n",
    "# \t\tdesc = desc.replace(' 2', 'two ')\n",
    "# \t\tdesc = desc.replace(' 3', 'three ')\n",
    "# \t\tdesc = desc.replace(' 4', 'four ')\n",
    "# \t\tdesc = desc.replace(' 5', 'five ')\n",
    "# \t\tdesc = desc.replace(' 6', 'six ')\n",
    "# \t\tdesc = desc.replace(' 7', 'seven ')\n",
    "# \t\tdesc = desc.replace(' 8', 'eight ')\n",
    "# \t\tdesc = desc.replace(' 9', 'nine ')\n",
    "# \t\tdesc = desc.replace('.', '.')        \n",
    "##\t\tdesc = re.sub('\\d', 'XX', desc)\n",
    "\t\t# store as string\n",
    "\t\tanything[key] =  desc\n"
   ]
  },
  {
   "cell_type": "code",
   "execution_count": null,
   "metadata": {},
   "outputs": [],
   "source": [
    "# Clean up Sentences and Words of Findings\n",
    "s_clean_up(s_findings)\n",
    "s_clean_up(w_findings)\n",
    "\n",
    "# Clean up Sentences and Words of Indication\n",
    "s_clean_up(s_indication)\n",
    "s_clean_up(w_indication)\n",
    "\n",
    "# Clean up Sentences and Words of Impression\n",
    "s_clean_up(s_impression)\n",
    "s_clean_up(w_impression)"
   ]
  },
  {
   "cell_type": "code",
   "execution_count": 25,
   "metadata": {
    "colab": {
     "base_uri": "https://localhost:8080/",
     "height": 34
    },
    "colab_type": "code",
    "id": "sskN9QTn1llQ",
    "outputId": "b5f317d8-b613-48d0-c6be-bb9509bf0729"
   },
   "outputs": [
    {
     "data": {
      "text/plain": [
       "'no focal lung consolidation. no pneumothorax or pleural effusion. heart size and pulmonary vascularity are within normal limits. minimal degenerative changes of the thoracic spine. the previously described xxxx deformity in the midthoracic spine is again seen. there is subcutaneous shunt catheter tubing along the anterior chest wall'"
      ]
     },
     "execution_count": 25,
     "metadata": {},
     "output_type": "execute_result"
    }
   ],
   "source": [
    "s_findings['CXR2192_IM-0802-2002']"
   ]
  },
  {
   "cell_type": "code",
   "execution_count": 62,
   "metadata": {
    "colab": {
     "base_uri": "https://localhost:8080/",
     "height": 34
    },
    "colab_type": "code",
    "id": "23Sa7pt01ofH",
    "outputId": "2c9b8035-8ef6-4bf8-d739-e4223ce739ff"
   },
   "outputs": [
    {
     "data": {
      "text/plain": [
       "'Heart size is normal. Mediastinal width is within normal limits for supine AP technique. No edema. No focal infiltrate. No pleural effusion or pneumothorax. Right hilar and right lung base calcifications are compatible with old granulomatous disease. There is a very mild anterior wedge deformity of a midthoracic vertebrae, possibly T7, age-indeterminate. Correlate for midthoracic tenderness. No displaced, acute rib fractures are identified.'"
      ]
     },
     "execution_count": 62,
     "metadata": {},
     "output_type": "execute_result"
    }
   ],
   "source": [
    "w_findings['CXR1040_IM-0032-2001']"
   ]
  },
  {
   "cell_type": "code",
   "execution_count": 63,
   "metadata": {},
   "outputs": [
    {
     "data": {
      "text/plain": [
       "'Positive TB test'"
      ]
     },
     "execution_count": 63,
     "metadata": {},
     "output_type": "execute_result"
    }
   ],
   "source": [
    "w_indication['CXR1_1_IM-0001-3001']"
   ]
  },
  {
   "cell_type": "code",
   "execution_count": 64,
   "metadata": {},
   "outputs": [
    {
     "data": {
      "text/plain": [
       "'normal chest x xxxx.'"
      ]
     },
     "execution_count": 64,
     "metadata": {},
     "output_type": "execute_result"
    }
   ],
   "source": [
    "w_impression['CXR1_1_IM-0001-3001']"
   ]
  },
  {
   "cell_type": "code",
   "execution_count": 65,
   "metadata": {
    "colab": {
     "base_uri": "https://localhost:8080/",
     "height": 34
    },
    "colab_type": "code",
    "id": "2H67DEXa1llY",
    "outputId": "122e5723-8e82-4dd7-e418-944877f5da2a"
   },
   "outputs": [
    {
     "name": "stdout",
     "output_type": "stream",
     "text": [
      "Original Findings Sentences Vocabulary Size: 6736\n"
     ]
    }
   ],
   "source": [
    "# convert the loaded descriptions into a vocabulary of sentences\n",
    "def s_to_vocabulary(anything):\n",
    "\t# build a list of all description strings\n",
    "\tall_desc = set()\n",
    "\tfor key in anything.keys():\n",
    "\t\t[all_desc.update(anything[key].split('. ')) ]\n",
    "\treturn all_desc\n",
    "\n",
    "\n",
    "# summarize vocabulary\n",
    "#impressions_vocabulary = to_vocabulary(impressions)\n",
    "#print('Original Impressions Vocabulary Size: %d' % len(impressions_vocabulary))"
   ]
  },
  {
   "cell_type": "code",
   "execution_count": null,
   "metadata": {},
   "outputs": [],
   "source": [
    "# summarize findings vocabulary\n",
    "s_findings_vocabulary = s_to_vocabulary(s_findings)\n",
    "print('Original Findings Sentences Vocabulary Size: %d' % len(s_findings_vocabulary))"
   ]
  },
  {
   "cell_type": "code",
   "execution_count": 66,
   "metadata": {},
   "outputs": [],
   "source": [
    "sv=list(s_findings_vocabulary)"
   ]
  },
  {
   "cell_type": "code",
   "execution_count": 70,
   "metadata": {
    "colab": {
     "base_uri": "https://localhost:8080/",
     "height": 34
    },
    "colab_type": "code",
    "id": "1g9O23u-2fCF",
    "outputId": "141114aa-8315-4bc1-ac61-7de54577c8eb"
   },
   "outputs": [
    {
     "name": "stdout",
     "output_type": "stream",
     "text": [
      "Original Findings Word Vocabulary Size: 3192\n"
     ]
    }
   ],
   "source": [
    "# convert the loaded descriptions into a vocabulary of words\n",
    "def w_to_vocabulary(anything):\n",
    "\t# build a list of all description strings\n",
    "\tall_desc = set()\n",
    "\tfor key in anything.keys():\n",
    "\t\t[all_desc.update(anything[key].split(' ')) ]\n",
    "\treturn all_desc\n",
    "\n",
    "\n",
    "# summarize vocabulary\n",
    "#impressions_vocabulary = to_vocabulary(impressions)\n",
    "#print('Original Impressions Vocabulary Size: %d' % len(impressions_vocabulary))"
   ]
  },
  {
   "cell_type": "code",
   "execution_count": null,
   "metadata": {},
   "outputs": [],
   "source": [
    "# summarize findings vocabulary\n",
    "w_findings_vocabulary = w_to_vocabulary(w_findings)\n",
    "print('Original Findings Word Vocabulary Size: %d' % len(w_findings_vocabulary))\n",
    "wl=list(w_findings_vocabulary)"
   ]
  },
  {
   "cell_type": "code",
   "execution_count": 71,
   "metadata": {},
   "outputs": [],
   "source": [
    "# summarize indication vocabulary\n",
    "w_indication_vocabulary = w_to_vocabulary(w_indication)\n",
    "print('Original Indication Word Vocabulary Size: %d' % len(w_indication_vocabulary))\n",
    "ind_wl=list(w_indication_vocabulary)"
   ]
  },
  {
   "cell_type": "code",
   "execution_count": 72,
   "metadata": {},
   "outputs": [],
   "source": [
    "# summarize impression vocabulary\n",
    "w_impression_vocabulary = w_to_vocabulary(w_impression)\n",
    "print('Original Impression Word Vocabulary Size: %d' % len(w_impression_vocabulary))\n",
    "imp_wl=list(w_impression_vocabulary)"
   ]
  },
  {
   "cell_type": "code",
   "execution_count": 76,
   "metadata": {},
   "outputs": [],
   "source": [
    "## Remove periods attached to words from the findings vocabulary\n",
    "for i,r in enumerate(wl):\n",
    "    if len(r)>1:\n",
    "        if str(r)[len(r)-1:len(r)] == '.':\n",
    "            wl[i]=wl[i].replace('.', '')"
   ]
  },
  {
   "cell_type": "code",
   "execution_count": 78,
   "metadata": {},
   "outputs": [],
   "source": [
    "## Remove periods attached to words from the indication vocabulary\n",
    "for i,r in enumerate(ind_wl):\n",
    "    if len(r)>1:\n",
    "        if str(r)[len(r)-1:len(r)] == '.':\n",
    "            ind_wl[i]=ind_wl[i].replace('.', '')"
   ]
  },
  {
   "cell_type": "code",
   "execution_count": 79,
   "metadata": {},
   "outputs": [],
   "source": [
    "## Remove periods attached to words from the impression vocabulary\n",
    "for i,r in enumerate(imp_wl):\n",
    "    if len(r)>1:\n",
    "        if str(r)[len(r)-1:len(r)] == '.':\n",
    "            imp_wl[i]=imp_wl[i].replace('.', '')"
   ]
  },
  {
   "cell_type": "code",
   "execution_count": 81,
   "metadata": {
    "colab": {},
    "colab_type": "code",
    "id": "X5Fp_7w41lld"
   },
   "outputs": [],
   "source": [
    "# save descriptions to file, one per line\n",
    "def save_anything(anything, filename):\n",
    "\tlines = list()\n",
    "\tfor key, desc_list in anything.items():\n",
    "\t\tlines.append(key + ' ' + desc_list)\n",
    "\tdata = '\\n'.join(lines)\n",
    "\tfile = open(filename, 'w')\n",
    "\tfile.write(data)\n",
    "\tfile.close()\n",
    "\n",
    "save_anything(s_findings, 's_findings.txt')\n",
    "save_anything(w_findings, 'w_findings.txt')\n",
    "save_anything(w_indication, 'w_indication.txt')\n",
    "save_anything(w_impression, 'w_impression.txt')"
   ]
  },
  {
   "cell_type": "code",
   "execution_count": 84,
   "metadata": {
    "colab": {},
    "colab_type": "code",
    "id": "ezXNKZu71llj"
   },
   "outputs": [],
   "source": [
    "# load doc into memory\n",
    "def load_doc(filename):\n",
    "\t# open the file as read only\n",
    "\tfile = open(filename, 'r')\n",
    "\t# read all text\n",
    "\ttext = file.read()\n",
    "\t# close the file\n",
    "\tfile.close()\n",
    "\treturn text\n",
    "\n"
   ]
  },
  {
   "cell_type": "code",
   "execution_count": 85,
   "metadata": {},
   "outputs": [
    {
     "name": "stdout",
     "output_type": "stream",
     "text": [
      "Descriptions: train=3668\n"
     ]
    }
   ],
   "source": [
    "# load clean descriptions into memory and add the required startseq and endseq tokens here. \n",
    "# This is required to get the sentence start and end points\n",
    "def load_clean_descriptions(filename, dataset):\n",
    "\t# load document\n",
    "\tdoc = load_doc(filename)\n",
    "\tdescriptions = dict()\n",
    "\tfor line in doc.split('\\n'):\n",
    "\t\t# split line by white space\n",
    "\t\ttokens = line.split()\n",
    "\t\t# split id from description\n",
    "\t\timage_id, image_desc = tokens[0], tokens[1:]\n",
    "\t\t# skip images not in the set\n",
    "\t\tif train_images+image_id+'.png' in dataset:\n",
    "\t\t\t# create list\n",
    "\t\t\tif image_id not in descriptions:\n",
    "\t\t\t\tdescriptions[image_id] = list()\n",
    "\t\t\t# wrap description in tokens\n",
    "\t\t\tdesc = 'startseq ' + ' '.join(image_desc) + ' endseq'\n",
    "\t\t\t# store\n",
    "\t\t\tdescriptions[image_id].append(desc)\n",
    "\treturn descriptions\n",
    "\n",
    "# descriptions\n",
    "train_s_findings = load_clean_descriptions('s_findings.txt', train)\n",
    "print('Descriptions: train=%d' % len(train_s_findings))"
   ]
  },
  {
   "cell_type": "code",
   "execution_count": 88,
   "metadata": {
    "colab": {
     "base_uri": "https://localhost:8080/",
     "height": 136
    },
    "colab_type": "code",
    "id": "RwXMDdZFPUrh",
    "outputId": "5d9575cd-10d3-420c-aa9d-e71d1edae107"
   },
   "outputs": [
    {
     "data": {
      "text/plain": [
       "['startseq There is hyperexpansion, hyperlucency of both lungs, as well as flattening of the diaphragm consistent with chronic emphysematous lung disease. No focal consolidation, pneumothorax, or large pleural effusion identified (blunting of costophrenic recesses bilaterally may represent small effusions or pleural thickening/scar. Stable calcified mediastinal and hilar lymph XXXX and a left basilar calcified granuloma. Acute osseous abnormality. The mediastinal silhouette stable. endseq']"
      ]
     },
     "execution_count": 88,
     "metadata": {},
     "output_type": "execute_result"
    }
   ],
   "source": [
    " train_s_findings['CXR1220_IM-0148-1001']"
   ]
  },
  {
   "cell_type": "code",
   "execution_count": 57,
   "metadata": {},
   "outputs": [],
   "source": [
    "# Pickle the output files\n",
    "def pickle_op(typ,anything):\n",
    "    path = proj_path#'./processed_data'\n",
    "    pickle_file = path+typ+\".pickle\"\n",
    "    pickle.dump(anything, open(pickle_file, 'wb'))\n",
    "\n",
    "    \n"
   ]
  },
  {
   "cell_type": "code",
   "execution_count": 89,
   "metadata": {},
   "outputs": [],
   "source": [
    "# Findings Word Vocabulary. This is required first time only. Uncomment and execute if necessary.\n",
    "# pickle_op('word_vocab',wl)\n",
    "\n",
    "\n",
    "# Findings Sentence Vocabulary. This is required first time only. Uncomment and execute if necessary.\n",
    "# pickle_op('sent_vocab',sv)\n",
    "\n",
    "\n",
    "# Indication Word Vocabulary. This is required first time only. Uncomment and execute if necessary.\n",
    "# pickle_op('indication_vocab',ind_wl)\n",
    "\n",
    "\n",
    "# Indication Sentence Vocabulary. This is required first time only. Uncomment and execute if necessary.\n",
    "# pickle_op('indication_keys',s_indication)\n",
    "\n",
    "\n",
    "# Impression Sentence Vocabulary. This is required first time only. Uncomment and execute if necessary.\n",
    "# pickle_op('impression_keys',s_impression)\n",
    "\n",
    "\n",
    "# Impression Word Vocabulary. This is required first time only. Uncomment and execute if necessary.\n",
    "# pickle_op('impression_vocab',imp_wl)"
   ]
  }
 ],
 "metadata": {
  "accelerator": "GPU",
  "colab": {
   "collapsed_sections": [
    "61S4awg01lmN"
   ],
   "name": "Extract_XML_tags - Copy.ipynb",
   "provenance": [],
   "version": "0.3.2"
  },
  "kernelspec": {
   "display_name": "Python 3",
   "language": "python",
   "name": "python3"
  },
  "language_info": {
   "codemirror_mode": {
    "name": "ipython",
    "version": 3
   },
   "file_extension": ".py",
   "mimetype": "text/x-python",
   "name": "python",
   "nbconvert_exporter": "python",
   "pygments_lexer": "ipython3",
   "version": "3.7.3"
  }
 },
 "nbformat": 4,
 "nbformat_minor": 1
}
