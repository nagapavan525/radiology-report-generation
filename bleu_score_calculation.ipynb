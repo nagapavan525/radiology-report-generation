{
 "cells": [
  {
   "cell_type": "code",
   "execution_count": 34,
   "metadata": {},
   "outputs": [
    {
     "name": "stdout",
     "output_type": "stream",
     "text": [
      "1.0\n"
     ]
    }
   ],
   "source": [
    "\n",
    "from nltk.translate.bleu_score import sentence_bleu\n",
    "reference = [['this', 'is', 'a', 'test'], ['this', 'is' 'test']]\n",
    "candidate = ['this', 'is', 'a', 'test']\n",
    "score = sentence_bleu(reference, candidate, weights=(1,0,0,0))\n",
    "print(score)"
   ]
  },
  {
   "cell_type": "code",
   "execution_count": 48,
   "metadata": {},
   "outputs": [],
   "source": [
    "pred=\"\"\"the lungs are clear. there is no focal airspace consolidation. no pleural effusion or pneumothorax. heart size is within normal limits. degenerative changes of the thoracic spine.\"\"\"\n",
    "    \n",
    "actual = \"\"\"the heart pulmonary xxxx and mediastinum are within normal limits. there is no pleural effusion or pneumothorax. there is no focal air space opacity to suggest a pneumonia. there are mild degenerative changes of the spine.\"\"\""
   ]
  },
  {
   "cell_type": "code",
   "execution_count": 3,
   "metadata": {},
   "outputs": [
    {
     "data": {
      "text/plain": [
       "'the lungs are clear. there is no focal airspace consolidation. no pleural effusion or pneumothorax. heart size is within normal limits. degenerative changes of the thoracic spine.'"
      ]
     },
     "execution_count": 3,
     "metadata": {},
     "output_type": "execute_result"
    }
   ],
   "source": [
    "pred"
   ]
  },
  {
   "cell_type": "code",
   "execution_count": 4,
   "metadata": {},
   "outputs": [
    {
     "data": {
      "text/plain": [
       "'the heart pulmonary xxxx and mediastinum are within normal limits. there is no pleural effusion or pneumothorax. there is no focal air space opacity to suggest a pneumonia. there are mild degenerative changes of the spine.'"
      ]
     },
     "execution_count": 4,
     "metadata": {},
     "output_type": "execute_result"
    }
   ],
   "source": [
    "actual"
   ]
  },
  {
   "cell_type": "code",
   "execution_count": 5,
   "metadata": {},
   "outputs": [],
   "source": [
    "pred_list = [pred.split(' ')]"
   ]
  },
  {
   "cell_type": "code",
   "execution_count": 6,
   "metadata": {},
   "outputs": [
    {
     "data": {
      "text/plain": [
       "[['the',\n",
       "  'lungs',\n",
       "  'are',\n",
       "  'clear.',\n",
       "  'there',\n",
       "  'is',\n",
       "  'no',\n",
       "  'focal',\n",
       "  'airspace',\n",
       "  'consolidation.',\n",
       "  'no',\n",
       "  'pleural',\n",
       "  'effusion',\n",
       "  'or',\n",
       "  'pneumothorax.',\n",
       "  'heart',\n",
       "  'size',\n",
       "  'is',\n",
       "  'within',\n",
       "  'normal',\n",
       "  'limits.',\n",
       "  'degenerative',\n",
       "  'changes',\n",
       "  'of',\n",
       "  'the',\n",
       "  'thoracic',\n",
       "  'spine.']]"
      ]
     },
     "execution_count": 6,
     "metadata": {},
     "output_type": "execute_result"
    }
   ],
   "source": [
    "pred_list"
   ]
  },
  {
   "cell_type": "code",
   "execution_count": 7,
   "metadata": {},
   "outputs": [],
   "source": [
    "actual = actual.split(' ')"
   ]
  },
  {
   "cell_type": "code",
   "execution_count": 9,
   "metadata": {},
   "outputs": [
    {
     "data": {
      "text/plain": [
       "0.299230749908326"
      ]
     },
     "execution_count": 9,
     "metadata": {},
     "output_type": "execute_result"
    }
   ],
   "source": [
    "sentence_bleu(actual, pred)"
   ]
  },
  {
   "cell_type": "code",
   "execution_count": 24,
   "metadata": {},
   "outputs": [],
   "source": [
    "pred_sents = pred.split('.')"
   ]
  },
  {
   "cell_type": "code",
   "execution_count": 25,
   "metadata": {},
   "outputs": [
    {
     "data": {
      "text/plain": [
       "['the lungs are clear',\n",
       " ' there is no focal airspace consolidation',\n",
       " ' no pleural effusion or pneumothorax',\n",
       " ' heart size is within normal limits',\n",
       " ' degenerative changes of the thoracic spine',\n",
       " '']"
      ]
     },
     "execution_count": 25,
     "metadata": {},
     "output_type": "execute_result"
    }
   ],
   "source": [
    "pred_sents"
   ]
  },
  {
   "cell_type": "code",
   "execution_count": 26,
   "metadata": {},
   "outputs": [],
   "source": [
    "pred_final = []\n",
    "for sent in pred_sents:\n",
    "    cur_list = sent.split(' ')\n",
    "    cur_list = [word for word in cur_list if word]\n",
    "    pred_final.append(cur_list)\n",
    "\n",
    "pred_final = [item for item in pred_final if item]\n",
    "\n",
    "    "
   ]
  },
  {
   "cell_type": "code",
   "execution_count": 27,
   "metadata": {},
   "outputs": [
    {
     "data": {
      "text/plain": [
       "[['the', 'lungs', 'are', 'clear'],\n",
       " ['there', 'is', 'no', 'focal', 'airspace', 'consolidation'],\n",
       " ['no', 'pleural', 'effusion', 'or', 'pneumothorax'],\n",
       " ['heart', 'size', 'is', 'within', 'normal', 'limits'],\n",
       " ['degenerative', 'changes', 'of', 'the', 'thoracic', 'spine']]"
      ]
     },
     "execution_count": 27,
     "metadata": {},
     "output_type": "execute_result"
    }
   ],
   "source": [
    "pred_final"
   ]
  },
  {
   "cell_type": "code",
   "execution_count": 28,
   "metadata": {},
   "outputs": [],
   "source": [
    "actual_sents = actual.split('.')"
   ]
  },
  {
   "cell_type": "code",
   "execution_count": 29,
   "metadata": {},
   "outputs": [],
   "source": [
    "actual_final = []\n",
    "for sent in actual_sents:\n",
    "    cur_list = sent.split(' ')\n",
    "    cur_list = [word for word in cur_list if word]\n",
    "    actual_final.append(cur_list)\n",
    "\n",
    "actual_final = [item for item in actual_final if item]\n",
    "\n",
    "    "
   ]
  },
  {
   "cell_type": "code",
   "execution_count": 31,
   "metadata": {},
   "outputs": [
    {
     "data": {
      "text/plain": [
       "[['the',\n",
       "  'heart',\n",
       "  'pulmonary',\n",
       "  'xxxx',\n",
       "  'and',\n",
       "  'mediastinum',\n",
       "  'are',\n",
       "  'within',\n",
       "  'normal',\n",
       "  'limits'],\n",
       " ['there', 'is', 'no', 'pleural', 'effusion', 'or', 'pneumothorax'],\n",
       " ['there',\n",
       "  'is',\n",
       "  'no',\n",
       "  'focal',\n",
       "  'air',\n",
       "  'space',\n",
       "  'opacity',\n",
       "  'to',\n",
       "  'suggest',\n",
       "  'a',\n",
       "  'pneumonia'],\n",
       " ['there', 'are', 'mild', 'degenerative', 'changes', 'of', 'the', 'spine']]"
      ]
     },
     "execution_count": 31,
     "metadata": {},
     "output_type": "execute_result"
    }
   ],
   "source": [
    "actual_final"
   ]
  },
  {
   "cell_type": "code",
   "execution_count": 51,
   "metadata": {},
   "outputs": [
    {
     "name": "stdout",
     "output_type": "stream",
     "text": [
      "calculating bleu score for  ['the', 'lungs', 'are', 'clear']\n",
      "calculating bleu score for  ['there', 'is', 'no', 'focal', 'airspace', 'consolidation']\n",
      "calculating bleu score for  ['no', 'pleural', 'effusion', 'or', 'pneumothorax']\n",
      "calculating bleu score for  ['heart', 'size', 'is', 'within', 'normal', 'limits']\n",
      "calculating bleu score for  ['degenerative', 'changes', 'of', 'the', 'thoracic', 'spine']\n"
     ]
    },
    {
     "data": {
      "text/plain": [
       "[0.23618327637050734,\n",
       " 0.5643211499270759,\n",
       " 0.6703200460356393,\n",
       " 0.7054014374088451,\n",
       " 0.7054014374088451]"
      ]
     },
     "execution_count": 51,
     "metadata": {},
     "output_type": "execute_result"
    }
   ],
   "source": [
    "pred_scores = []\n",
    "for pred_sent in pred_final:\n",
    "    print(\"calculating bleu score for \", pred_sent)\n",
    "    pred_scores.append(sentence_bleu(actual_final, pred_sent,  weights=(1,0,0,0)))\n",
    "pred_scores"
   ]
  },
  {
   "cell_type": "code",
   "execution_count": 50,
   "metadata": {},
   "outputs": [
    {
     "data": {
      "text/plain": [
       "0.5763254694301827"
      ]
     },
     "execution_count": 50,
     "metadata": {},
     "output_type": "execute_result"
    }
   ],
   "source": [
    "sum(pred_scores)/len(pred_scores)"
   ]
  },
  {
   "cell_type": "code",
   "execution_count": null,
   "metadata": {},
   "outputs": [],
   "source": []
  }
 ],
 "metadata": {
  "kernelspec": {
   "display_name": "Python 3",
   "language": "python",
   "name": "python3"
  },
  "language_info": {
   "codemirror_mode": {
    "name": "ipython",
    "version": 3
   },
   "file_extension": ".py",
   "mimetype": "text/x-python",
   "name": "python",
   "nbconvert_exporter": "python",
   "pygments_lexer": "ipython3",
   "version": "3.7.1"
  }
 },
 "nbformat": 4,
 "nbformat_minor": 2
}
