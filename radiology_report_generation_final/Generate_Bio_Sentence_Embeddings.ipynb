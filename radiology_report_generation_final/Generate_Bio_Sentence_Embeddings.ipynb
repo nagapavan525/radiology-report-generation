{
 "cells": [
  {
   "cell_type": "markdown",
   "metadata": {},
   "source": [
    "### Downloading pre-requisites"
   ]
  },
  {
   "cell_type": "code",
   "execution_count": 1,
   "metadata": {
    "colab": {
     "base_uri": "https://localhost:8080/",
     "height": 122
    },
    "colab_type": "code",
    "executionInfo": {
     "elapsed": 89552,
     "status": "ok",
     "timestamp": 1570549958351,
     "user": {
      "displayName": "Kunal Majumdar",
      "photoUrl": "",
      "userId": "10396099747646307912"
     },
     "user_tz": -330
    },
    "id": "otsqBVg6fmxv",
    "outputId": "fb5124c8-25e3-40b8-91c0-2bdc33bccf25"
   },
   "outputs": [
    {
     "name": "stdout",
     "output_type": "stream",
     "text": [
      "Go to this URL in a browser: https://accounts.google.com/o/oauth2/auth?client_id=947318989803-6bn6qk8qdgf4n4g3pfee6491hc0brc4i.apps.googleusercontent.com&redirect_uri=urn%3Aietf%3Awg%3Aoauth%3A2.0%3Aoob&scope=email%20https%3A%2F%2Fwww.googleapis.com%2Fauth%2Fdocs.test%20https%3A%2F%2Fwww.googleapis.com%2Fauth%2Fdrive%20https%3A%2F%2Fwww.googleapis.com%2Fauth%2Fdrive.photos.readonly%20https%3A%2F%2Fwww.googleapis.com%2Fauth%2Fpeopleapi.readonly&response_type=code\n",
      "\n",
      "Enter your authorization code:\n",
      "··········\n",
      "Mounted at /content/drive\n"
     ]
    }
   ],
   "source": [
    "from google.colab import drive\n",
    "drive.mount('/content/drive', force_remount=True)"
   ]
  },
  {
   "cell_type": "code",
   "execution_count": 0,
   "metadata": {
    "colab": {},
    "colab_type": "code",
    "id": "UAWs-pwKgObP"
   },
   "outputs": [],
   "source": [
    "import os\n",
    "import pickle"
   ]
  },
  {
   "cell_type": "code",
   "execution_count": 36,
   "metadata": {
    "colab": {
     "base_uri": "https://localhost:8080/",
     "height": 34
    },
    "colab_type": "code",
    "executionInfo": {
     "elapsed": 3698,
     "status": "ok",
     "timestamp": 1570553932555,
     "user": {
      "displayName": "Kunal Majumdar",
      "photoUrl": "",
      "userId": "10396099747646307912"
     },
     "user_tz": -330
    },
    "id": "Qecc3HcjgQx0",
    "outputId": "f50bcd98-f246-4662-c04e-3a62509785bc"
   },
   "outputs": [
    {
     "name": "stdout",
     "output_type": "stream",
     "text": [
      "/content/drive/My Drive/Sentence_Embeddings\n"
     ]
    }
   ],
   "source": [
    "os.chdir('/content/drive/My Drive/Sentence_Embeddings')\n",
    "!pwd"
   ]
  },
  {
   "cell_type": "code",
   "execution_count": 12,
   "metadata": {
    "colab": {
     "base_uri": "https://localhost:8080/",
     "height": 34
    },
    "colab_type": "code",
    "executionInfo": {
     "elapsed": 3570,
     "status": "ok",
     "timestamp": 1570550196744,
     "user": {
      "displayName": "Kunal Majumdar",
      "photoUrl": "",
      "userId": "10396099747646307912"
     },
     "user_tz": -330
    },
    "id": "w5AEXccChYM8",
    "outputId": "7b161534-8bf8-40a9-a97b-8608d181cc22"
   },
   "outputs": [
    {
     "name": "stdout",
     "output_type": "stream",
     "text": [
      "fatal: destination path 'fastText' already exists and is not an empty directory.\n"
     ]
    }
   ],
   "source": [
    "# Required first time\n",
    "!git clone https://github.com/facebookresearch/fastText.git"
   ]
  },
  {
   "cell_type": "code",
   "execution_count": 37,
   "metadata": {
    "colab": {
     "base_uri": "https://localhost:8080/",
     "height": 34
    },
    "colab_type": "code",
    "executionInfo": {
     "elapsed": 1128,
     "status": "ok",
     "timestamp": 1570553942951,
     "user": {
      "displayName": "Kunal Majumdar",
      "photoUrl": "",
      "userId": "10396099747646307912"
     },
     "user_tz": -330
    },
    "id": "0cefkRPGhmol",
    "outputId": "8ae97b76-acea-4afa-97d9-b245166cf12a"
   },
   "outputs": [
    {
     "name": "stdout",
     "output_type": "stream",
     "text": [
      "/content/drive/My Drive/Sentence_Embeddings/fastText\n"
     ]
    }
   ],
   "source": [
    "# Required first time\n",
    "cd fastText"
   ]
  },
  {
   "cell_type": "code",
   "execution_count": 38,
   "metadata": {
    "colab": {
     "base_uri": "https://localhost:8080/",
     "height": 255
    },
    "colab_type": "code",
    "executionInfo": {
     "elapsed": 57473,
     "status": "ok",
     "timestamp": 1570554005260,
     "user": {
      "displayName": "Kunal Majumdar",
      "photoUrl": "",
      "userId": "10396099747646307912"
     },
     "user_tz": -330
    },
    "id": "0YmACReAhyOs",
    "outputId": "f4bc9346-c8c5-41d4-8932-e07a95b1164c"
   },
   "outputs": [
    {
     "name": "stdout",
     "output_type": "stream",
     "text": [
      "Processing /content/drive/My Drive/Sentence_Embeddings/fastText\n",
      "Requirement already satisfied: pybind11>=2.2 in /usr/local/lib/python3.6/dist-packages (from fasttext==0.9.1) (2.4.2)\n",
      "Requirement already satisfied: setuptools>=0.7.0 in /usr/local/lib/python3.6/dist-packages (from fasttext==0.9.1) (41.2.0)\n",
      "Requirement already satisfied: numpy in /usr/local/lib/python3.6/dist-packages (from fasttext==0.9.1) (1.16.5)\n",
      "Building wheels for collected packages: fasttext\n",
      "  Building wheel for fasttext (setup.py) ... \u001b[?25l\u001b[?25hdone\n",
      "  Created wheel for fasttext: filename=fasttext-0.9.1-cp36-cp36m-linux_x86_64.whl size=2827358 sha256=3274d08ed82b75b951b57257d24c6b339dfe88f1ca89de38e554a176eb9da202\n",
      "  Stored in directory: /tmp/pip-ephem-wheel-cache-8fw1agr_/wheels/fc/fc/a8/cf05670cad5ae45eee5e3a90470158f45ddfae56a01f759421\n",
      "Successfully built fasttext\n",
      "Installing collected packages: fasttext\n",
      "  Found existing installation: fasttext 0.9.1\n",
      "    Uninstalling fasttext-0.9.1:\n",
      "      Successfully uninstalled fasttext-0.9.1\n",
      "Successfully installed fasttext-0.9.1\n"
     ]
    }
   ],
   "source": [
    "# Required first time\n",
    "pip install ."
   ]
  },
  {
   "cell_type": "code",
   "execution_count": 39,
   "metadata": {
    "colab": {
     "base_uri": "https://localhost:8080/",
     "height": 34
    },
    "colab_type": "code",
    "executionInfo": {
     "elapsed": 48720,
     "status": "ok",
     "timestamp": 1570554005262,
     "user": {
      "displayName": "Kunal Majumdar",
      "photoUrl": "",
      "userId": "10396099747646307912"
     },
     "user_tz": -330
    },
    "id": "GCAPYzq-iJW3",
    "outputId": "fe6d006d-9a4f-449d-b2f1-bfaa8985d785"
   },
   "outputs": [
    {
     "name": "stdout",
     "output_type": "stream",
     "text": [
      "/content/drive/My Drive/Sentence_Embeddings\n"
     ]
    }
   ],
   "source": [
    "cd .."
   ]
  },
  {
   "cell_type": "code",
   "execution_count": 16,
   "metadata": {
    "colab": {
     "base_uri": "https://localhost:8080/",
     "height": 34
    },
    "colab_type": "code",
    "executionInfo": {
     "elapsed": 203542,
     "status": "ok",
     "timestamp": 1570550413884,
     "user": {
      "displayName": "Kunal Majumdar",
      "photoUrl": "",
      "userId": "10396099747646307912"
     },
     "user_tz": -330
    },
    "id": "f_DF_pkxiNhN",
    "outputId": "d57042c1-7e50-4ce4-b927-ffff9abdb647"
   },
   "outputs": [
    {
     "name": "stdout",
     "output_type": "stream",
     "text": [
      "fatal: destination path 'sent2vec' already exists and is not an empty directory.\n"
     ]
    }
   ],
   "source": [
    "# Required first time\n",
    "!git clone https://github.com/epfml/sent2vec.git"
   ]
  },
  {
   "cell_type": "code",
   "execution_count": 56,
   "metadata": {
    "colab": {
     "base_uri": "https://localhost:8080/",
     "height": 34
    },
    "colab_type": "code",
    "executionInfo": {
     "elapsed": 3282,
     "status": "ok",
     "timestamp": 1570554680684,
     "user": {
      "displayName": "Kunal Majumdar",
      "photoUrl": "",
      "userId": "10396099747646307912"
     },
     "user_tz": -330
    },
    "id": "uzeIFhbxiZwi",
    "outputId": "b53c3bf2-0ece-4ac4-9450-7292b0725433"
   },
   "outputs": [
    {
     "name": "stdout",
     "output_type": "stream",
     "text": [
      "/content/drive/My Drive/Sentence_Embeddings/sent2vec\n"
     ]
    }
   ],
   "source": [
    "# Required first time\n",
    "cd sent2vec"
   ]
  },
  {
   "cell_type": "code",
   "execution_count": 64,
   "metadata": {
    "colab": {
     "base_uri": "https://localhost:8080/",
     "height": 785
    },
    "colab_type": "code",
    "executionInfo": {
     "elapsed": 31402,
     "status": "ok",
     "timestamp": 1570555026730,
     "user": {
      "displayName": "Kunal Majumdar",
      "photoUrl": "",
      "userId": "10396099747646307912"
     },
     "user_tz": -330
    },
    "id": "TJVILUWlig1H",
    "outputId": "caf8ff9f-4124-4ef2-c382-3e341dcbfb28"
   },
   "outputs": [
    {
     "name": "stdout",
     "output_type": "stream",
     "text": [
      "Compiling src/sent2vec.pyx because it changed.\n",
      "[1/1] Cythonizing src/sent2vec.pyx\n",
      "/usr/local/lib/python3.6/dist-packages/Cython/Compiler/Main.py:369: FutureWarning: Cython directive 'language_level' not set, using 2 for now (Py2). This will change in a later release! File: /content/drive/My Drive/Sentence_Embeddings/sent2vec/src/sent2vec.pyx\n",
      "  tree = Parsing.p_module(s, pxd, full_module_name)\n",
      "running build_ext\n",
      "building 'sent2vec' extension\n",
      "creating build\n",
      "creating build/temp.linux-x86_64-3.6\n",
      "creating build/temp.linux-x86_64-3.6/src\n",
      "x86_64-linux-gnu-gcc -pthread -DNDEBUG -g -fwrapv -O2 -Wall -g -fstack-protector-strong -Wformat -Werror=format-security -Wdate-time -D_FORTIFY_SOURCE=2 -fPIC -Isrc -I/usr/local/lib/python3.6/dist-packages/numpy/core/include -I/usr/include/python3.6m -c src/sent2vec.cpp -o build/temp.linux-x86_64-3.6/src/sent2vec.o -std=c++0x -Wno-cpp -pthread -Wno-sign-compare\n",
      "x86_64-linux-gnu-gcc -pthread -DNDEBUG -g -fwrapv -O2 -Wall -g -fstack-protector-strong -Wformat -Werror=format-security -Wdate-time -D_FORTIFY_SOURCE=2 -fPIC -Isrc -I/usr/local/lib/python3.6/dist-packages/numpy/core/include -I/usr/include/python3.6m -c src/fasttext.cc -o build/temp.linux-x86_64-3.6/src/fasttext.o -std=c++0x -Wno-cpp -pthread -Wno-sign-compare\n",
      "\u001b[01m\u001b[Ksrc/fasttext.cc:\u001b[m\u001b[K In member function ‘\u001b[01m\u001b[Kvoid fasttext::FastText::findNNSent(const fasttext::Matrix&, const fasttext::Vector&, int32_t, const std::set<std::__cxx11::basic_string<char> >&, int64_t, const std::vector<std::__cxx11::basic_string<char> >&)\u001b[m\u001b[K’:\n",
      "\u001b[01m\u001b[Ksrc/fasttext.cc:773:10:\u001b[m\u001b[K \u001b[01;35m\u001b[Kwarning: \u001b[m\u001b[Kvariable ‘\u001b[01m\u001b[Kit\u001b[m\u001b[K’ set but not used [\u001b[01;35m\u001b[K-Wunused-but-set-variable\u001b[m\u001b[K]\n",
      "     auto \u001b[01;35m\u001b[Kit\u001b[m\u001b[K = banSet.find(heap.top().second);\n",
      "          \u001b[01;35m\u001b[K^~\u001b[m\u001b[K\n",
      "x86_64-linux-gnu-gcc -pthread -DNDEBUG -g -fwrapv -O2 -Wall -g -fstack-protector-strong -Wformat -Werror=format-security -Wdate-time -D_FORTIFY_SOURCE=2 -fPIC -Isrc -I/usr/local/lib/python3.6/dist-packages/numpy/core/include -I/usr/include/python3.6m -c src/args.cc -o build/temp.linux-x86_64-3.6/src/args.o -std=c++0x -Wno-cpp -pthread -Wno-sign-compare\n",
      "x86_64-linux-gnu-gcc -pthread -DNDEBUG -g -fwrapv -O2 -Wall -g -fstack-protector-strong -Wformat -Werror=format-security -Wdate-time -D_FORTIFY_SOURCE=2 -fPIC -Isrc -I/usr/local/lib/python3.6/dist-packages/numpy/core/include -I/usr/include/python3.6m -c src/dictionary.cc -o build/temp.linux-x86_64-3.6/src/dictionary.o -std=c++0x -Wno-cpp -pthread -Wno-sign-compare\n",
      "x86_64-linux-gnu-gcc -pthread -DNDEBUG -g -fwrapv -O2 -Wall -g -fstack-protector-strong -Wformat -Werror=format-security -Wdate-time -D_FORTIFY_SOURCE=2 -fPIC -Isrc -I/usr/local/lib/python3.6/dist-packages/numpy/core/include -I/usr/include/python3.6m -c src/matrix.cc -o build/temp.linux-x86_64-3.6/src/matrix.o -std=c++0x -Wno-cpp -pthread -Wno-sign-compare\n",
      "x86_64-linux-gnu-gcc -pthread -DNDEBUG -g -fwrapv -O2 -Wall -g -fstack-protector-strong -Wformat -Werror=format-security -Wdate-time -D_FORTIFY_SOURCE=2 -fPIC -Isrc -I/usr/local/lib/python3.6/dist-packages/numpy/core/include -I/usr/include/python3.6m -c src/shmem_matrix.cc -o build/temp.linux-x86_64-3.6/src/shmem_matrix.o -std=c++0x -Wno-cpp -pthread -Wno-sign-compare\n",
      "x86_64-linux-gnu-gcc -pthread -DNDEBUG -g -fwrapv -O2 -Wall -g -fstack-protector-strong -Wformat -Werror=format-security -Wdate-time -D_FORTIFY_SOURCE=2 -fPIC -Isrc -I/usr/local/lib/python3.6/dist-packages/numpy/core/include -I/usr/include/python3.6m -c src/qmatrix.cc -o build/temp.linux-x86_64-3.6/src/qmatrix.o -std=c++0x -Wno-cpp -pthread -Wno-sign-compare\n",
      "x86_64-linux-gnu-gcc -pthread -DNDEBUG -g -fwrapv -O2 -Wall -g -fstack-protector-strong -Wformat -Werror=format-security -Wdate-time -D_FORTIFY_SOURCE=2 -fPIC -Isrc -I/usr/local/lib/python3.6/dist-packages/numpy/core/include -I/usr/include/python3.6m -c src/model.cc -o build/temp.linux-x86_64-3.6/src/model.o -std=c++0x -Wno-cpp -pthread -Wno-sign-compare\n",
      "x86_64-linux-gnu-gcc -pthread -DNDEBUG -g -fwrapv -O2 -Wall -g -fstack-protector-strong -Wformat -Werror=format-security -Wdate-time -D_FORTIFY_SOURCE=2 -fPIC -Isrc -I/usr/local/lib/python3.6/dist-packages/numpy/core/include -I/usr/include/python3.6m -c src/real.cc -o build/temp.linux-x86_64-3.6/src/real.o -std=c++0x -Wno-cpp -pthread -Wno-sign-compare\n",
      "x86_64-linux-gnu-gcc -pthread -DNDEBUG -g -fwrapv -O2 -Wall -g -fstack-protector-strong -Wformat -Werror=format-security -Wdate-time -D_FORTIFY_SOURCE=2 -fPIC -Isrc -I/usr/local/lib/python3.6/dist-packages/numpy/core/include -I/usr/include/python3.6m -c src/utils.cc -o build/temp.linux-x86_64-3.6/src/utils.o -std=c++0x -Wno-cpp -pthread -Wno-sign-compare\n",
      "x86_64-linux-gnu-gcc -pthread -DNDEBUG -g -fwrapv -O2 -Wall -g -fstack-protector-strong -Wformat -Werror=format-security -Wdate-time -D_FORTIFY_SOURCE=2 -fPIC -Isrc -I/usr/local/lib/python3.6/dist-packages/numpy/core/include -I/usr/include/python3.6m -c src/vector.cc -o build/temp.linux-x86_64-3.6/src/vector.o -std=c++0x -Wno-cpp -pthread -Wno-sign-compare\n",
      "x86_64-linux-gnu-gcc -pthread -DNDEBUG -g -fwrapv -O2 -Wall -g -fstack-protector-strong -Wformat -Werror=format-security -Wdate-time -D_FORTIFY_SOURCE=2 -fPIC -Isrc -I/usr/local/lib/python3.6/dist-packages/numpy/core/include -I/usr/include/python3.6m -c src/real.cc -o build/temp.linux-x86_64-3.6/src/real.o -std=c++0x -Wno-cpp -pthread -Wno-sign-compare\n",
      "x86_64-linux-gnu-gcc -pthread -DNDEBUG -g -fwrapv -O2 -Wall -g -fstack-protector-strong -Wformat -Werror=format-security -Wdate-time -D_FORTIFY_SOURCE=2 -fPIC -Isrc -I/usr/local/lib/python3.6/dist-packages/numpy/core/include -I/usr/include/python3.6m -c src/productquantizer.cc -o build/temp.linux-x86_64-3.6/src/productquantizer.o -std=c++0x -Wno-cpp -pthread -Wno-sign-compare\n",
      "creating build/lib.linux-x86_64-3.6\n",
      "x86_64-linux-gnu-g++ -pthread -shared -Wl,-O1 -Wl,-Bsymbolic-functions -Wl,-Bsymbolic-functions -Wl,-z,relro -Wl,-Bsymbolic-functions -Wl,-z,relro -g -fstack-protector-strong -Wformat -Werror=format-security -Wdate-time -D_FORTIFY_SOURCE=2 build/temp.linux-x86_64-3.6/src/sent2vec.o build/temp.linux-x86_64-3.6/src/fasttext.o build/temp.linux-x86_64-3.6/src/args.o build/temp.linux-x86_64-3.6/src/dictionary.o build/temp.linux-x86_64-3.6/src/matrix.o build/temp.linux-x86_64-3.6/src/shmem_matrix.o build/temp.linux-x86_64-3.6/src/qmatrix.o build/temp.linux-x86_64-3.6/src/model.o build/temp.linux-x86_64-3.6/src/real.o build/temp.linux-x86_64-3.6/src/utils.o build/temp.linux-x86_64-3.6/src/vector.o build/temp.linux-x86_64-3.6/src/real.o build/temp.linux-x86_64-3.6/src/productquantizer.o -lrt -o build/lib.linux-x86_64-3.6/sent2vec.cpython-36m-x86_64-linux-gnu.so\n",
      "Processing /content/drive/My Drive/Sentence_Embeddings/sent2vec\n",
      "Building wheels for collected packages: sent2vec\n",
      "  Building wheel for sent2vec (setup.py) ... \u001b[?25l\u001b[?25hdone\n",
      "  Created wheel for sent2vec: filename=sent2vec-0.0.0-cp36-cp36m-linux_x86_64.whl size=1125892 sha256=8a30c41d91a78b47437a91cdca911265316c1f584cfc9e2a7ccf10f98d152bb0\n",
      "  Stored in directory: /tmp/pip-ephem-wheel-cache-raivx0wy/wheels/20/66/48/95c06701d7657134e8944865979b63951ab7d2250ca829e738\n",
      "Successfully built sent2vec\n",
      "Installing collected packages: sent2vec\n",
      "  Found existing installation: sent2vec 0.0.0\n",
      "    Uninstalling sent2vec-0.0.0:\n",
      "      Successfully uninstalled sent2vec-0.0.0\n",
      "Successfully installed sent2vec-0.0.0\n"
     ]
    },
    {
     "data": {
      "application/vnd.colab-display-data+json": {
       "pip_warning": {
        "packages": [
         "sent2vec"
        ]
       }
      }
     },
     "metadata": {
      "tags": []
     },
     "output_type": "display_data"
    }
   ],
   "source": [
    "# Required first time\n",
    "!python setup.py build_ext\n",
    "!pip install ."
   ]
  },
  {
   "cell_type": "markdown",
   "metadata": {},
   "source": [
    "### Loading Sentence vectors from BioSentVec Model"
   ]
  },
  {
   "cell_type": "code",
   "execution_count": 0,
   "metadata": {
    "colab": {},
    "colab_type": "code",
    "id": "hm_b88DMis8j"
   },
   "outputs": [],
   "source": [
    "import sent2vec"
   ]
  },
  {
   "cell_type": "code",
   "execution_count": 0,
   "metadata": {
    "colab": {},
    "colab_type": "code",
    "id": "8Nvs7Xvkiy7h"
   },
   "outputs": [],
   "source": [
    "model_path = \"/content/drive/My Drive/BioSentVec_PubMed_MIMICIII-bigram_d700.bin\""
   ]
  },
  {
   "cell_type": "code",
   "execution_count": 0,
   "metadata": {
    "colab": {},
    "colab_type": "code",
    "id": "gd8C3pMelQPF"
   },
   "outputs": [],
   "source": [
    "file = open(\"/content/drive/My Drive/Sentence_Embeddings/sent_vocab.pickle\", 'rb')\n",
    "sentences = pickle.load(file)\n",
    "file.close()"
   ]
  },
  {
   "cell_type": "code",
   "execution_count": 0,
   "metadata": {
    "colab": {},
    "colab_type": "code",
    "id": "JYRD5Z5Bmeub"
   },
   "outputs": [],
   "source": [
    "# Remove the period after sentences\n",
    "for i,r in enumerate(sentences):\n",
    "    if len(r)>1:\n",
    "        if str(r)[len(r)-1:len(r)] == '.':\n",
    "            sentences[i]=sentences[i].replace('.', '')"
   ]
  },
  {
   "cell_type": "code",
   "execution_count": 7,
   "metadata": {
    "colab": {
     "base_uri": "https://localhost:8080/",
     "height": 34
    },
    "colab_type": "code",
    "executionInfo": {
     "elapsed": 690,
     "status": "ok",
     "timestamp": 1570555230520,
     "user": {
      "displayName": "Kunal Majumdar",
      "photoUrl": "",
      "userId": "10396099747646307912"
     },
     "user_tz": -330
    },
    "id": "WV3d5LNRFDmu",
    "outputId": "edebfda4-e4ae-476c-e384-660b03167d6e"
   },
   "outputs": [
    {
     "data": {
      "text/plain": [
       "'cardiomediastinal silhouette appears within normal limits'"
      ]
     },
     "execution_count": 7,
     "metadata": {
      "tags": []
     },
     "output_type": "execute_result"
    }
   ],
   "source": [
    "sentences[1]"
   ]
  },
  {
   "cell_type": "code",
   "execution_count": 8,
   "metadata": {
    "colab": {
     "base_uri": "https://localhost:8080/",
     "height": 34
    },
    "colab_type": "code",
    "executionInfo": {
     "elapsed": 2457,
     "status": "ok",
     "timestamp": 1570555234266,
     "user": {
      "displayName": "Kunal Majumdar",
      "photoUrl": "",
      "userId": "10396099747646307912"
     },
     "user_tz": -330
    },
    "id": "AS8RCCpsNzxx",
    "outputId": "1f78bb6a-c950-46ed-d0c7-791164648ddd"
   },
   "outputs": [
    {
     "name": "stdout",
     "output_type": "stream",
     "text": [
      "/content\n"
     ]
    }
   ],
   "source": [
    "!pwd"
   ]
  },
  {
   "cell_type": "code",
   "execution_count": 0,
   "metadata": {
    "colab": {},
    "colab_type": "code",
    "id": "-_6mWET2TSOk"
   },
   "outputs": [],
   "source": [
    "import sent2vec\n",
    "model = sent2vec.Sent2vecModel()"
   ]
  },
  {
   "cell_type": "code",
   "execution_count": 0,
   "metadata": {
    "colab": {},
    "colab_type": "code",
    "id": "S6sqvFV7FLl_"
   },
   "outputs": [],
   "source": [
    "model.load_model(model_path)"
   ]
  },
  {
   "cell_type": "code",
   "execution_count": 0,
   "metadata": {
    "colab": {},
    "colab_type": "code",
    "id": "oifdGZr2iuRG"
   },
   "outputs": [],
   "source": [
    "embs=dict()\n",
    "for sent in sentences:\n",
    "  embs[sent]=model.embed_sentence(sent)"
   ]
  },
  {
   "cell_type": "code",
   "execution_count": 13,
   "metadata": {
    "colab": {
     "base_uri": "https://localhost:8080/",
     "height": 34
    },
    "colab_type": "code",
    "executionInfo": {
     "elapsed": 1093,
     "status": "ok",
     "timestamp": 1570555810295,
     "user": {
      "displayName": "Kunal Majumdar",
      "photoUrl": "",
      "userId": "10396099747646307912"
     },
     "user_tz": -330
    },
    "id": "59jZu_gopw4x",
    "outputId": "8287b12c-b0a8-4bb9-ce67-e89a741ebcdd"
   },
   "outputs": [
    {
     "data": {
      "text/plain": [
       "(1, 700)"
      ]
     },
     "execution_count": 13,
     "metadata": {
      "tags": []
     },
     "output_type": "execute_result"
    }
   ],
   "source": [
    "embs['cardiomediastinal silhouette appears within normal limits'].shape"
   ]
  },
  {
   "cell_type": "code",
   "execution_count": 0,
   "metadata": {
    "colab": {},
    "colab_type": "code",
    "id": "_t_FGEtwp_hv"
   },
   "outputs": [],
   "source": [
    "def pickle_op(typ,anything):\n",
    "    path = \"/content/drive/My Drive/Sentence_Embeddings/\"\n",
    "    pickle_file = path+typ+\".pickle\"\n",
    "    pickle.dump(anything, open(pickle_file, 'wb'))"
   ]
  },
  {
   "cell_type": "code",
   "execution_count": 0,
   "metadata": {
    "colab": {},
    "colab_type": "code",
    "id": "aC0A4MrOqL40"
   },
   "outputs": [],
   "source": [
    "pickle_op('sent_embeddings',embs)"
   ]
  },
  {
   "cell_type": "code",
   "execution_count": 0,
   "metadata": {
    "colab": {
     "base_uri": "https://localhost:8080/",
     "height": 234
    },
    "colab_type": "code",
    "id": "lQjGaBlbudUv",
    "outputId": "a9e536b1-f9c9-4895-f477-3d7f4525fac9"
   },
   "outputs": [
    {
     "data": {
      "text/plain": [
       "array([[ 0.        ,  0.        ,  0.        , ...,  0.        ,\n",
       "         0.        ,  0.        ],\n",
       "       [ 0.15514512,  0.00655415, -0.34876326, ..., -0.30351892,\n",
       "        -0.17651424,  0.06118396],\n",
       "       [-0.41880697, -0.18923351, -0.7747733 , ...,  0.08952256,\n",
       "        -0.14519268, -0.18855107],\n",
       "       ...,\n",
       "       [ 0.03086286,  0.01410413, -0.0268713 , ..., -0.15774147,\n",
       "         0.00364779, -0.19293346],\n",
       "       [-0.0610355 , -0.46777   , -0.266926  , ..., -0.03174672,\n",
       "        -0.1433184 ,  0.1546945 ],\n",
       "       [ 0.35605395, -0.07755344,  0.29231524, ..., -0.08856375,\n",
       "        -0.02483916, -0.26691213]], dtype=float32)"
      ]
     },
     "execution_count": 26,
     "metadata": {
      "tags": []
     },
     "output_type": "execute_result"
    }
   ],
   "source": [
    "embs"
   ]
  },
  {
   "cell_type": "code",
   "execution_count": 0,
   "metadata": {
    "colab": {
     "base_uri": "https://localhost:8080/",
     "height": 1000
    },
    "colab_type": "code",
    "id": "DbatVOaFueEs",
    "outputId": "3d53f849-d93e-4132-f192-d3c66e3fdb92"
   },
   "outputs": [
    {
     "data": {
      "text/plain": [
       "array([-0.47007084, -0.05900802, -0.03252133, -0.0445612 ,  0.2844772 ,\n",
       "       -0.0510804 , -0.05721889, -0.1832036 , -0.1866557 ,  0.18834126,\n",
       "       -0.00399266, -0.1103369 , -0.05069318, -0.00564943, -0.19716439,\n",
       "       -0.15888691,  0.05285398, -0.35121953, -0.10370671, -0.08982203,\n",
       "        0.28871092, -0.35746083,  0.30453387, -0.06105811, -0.13335536,\n",
       "       -0.3427817 ,  0.2851985 , -0.09544748,  0.060683  , -0.02293168,\n",
       "        0.13433032,  0.11167787, -0.10428868,  0.04023259, -0.0617836 ,\n",
       "       -0.15005663,  0.13930583, -0.10199267, -0.20660731, -0.31001794,\n",
       "        0.01269213,  0.0889349 , -0.01732056, -0.04339826, -0.01203963,\n",
       "       -0.01787401, -0.09753289, -0.12085363,  0.07512231,  0.14624886,\n",
       "       -0.10341394,  0.30577305, -0.04726155,  0.00639018, -0.12259356,\n",
       "       -0.18511002, -0.25509977, -0.22135122,  0.2399451 ,  0.24102299,\n",
       "       -0.26517466,  0.00123431,  0.03001099,  0.05442888, -0.17841679,\n",
       "       -0.10511574, -0.04471136,  0.1921617 , -0.12276606,  0.15873027,\n",
       "       -0.09659402, -0.2807315 ,  0.35940462, -0.15340027, -0.39453807,\n",
       "        0.25016302,  0.03370134,  0.04561544, -0.08758659,  0.13607778,\n",
       "        0.01967596,  0.1967498 ,  0.02733111,  0.06465353, -0.2762682 ,\n",
       "        0.12034473,  0.05890532, -0.30202457, -0.08085109,  0.06834073,\n",
       "       -0.09624185,  0.15427874,  0.14164439, -0.1823105 ,  0.23465756,\n",
       "       -0.00391694,  0.0619135 ,  0.2779305 ,  0.07472534, -0.03787072,\n",
       "       -0.05898681, -0.01402158,  0.12976356, -0.01912774,  0.10991959,\n",
       "       -0.00736594,  0.07445439, -0.18031481,  0.04911829,  0.04661022,\n",
       "        0.16886742, -0.4238265 , -0.11885487,  0.01811753, -0.03643181,\n",
       "        0.15487437, -0.1942717 , -0.21544564, -0.18331493, -0.09177708,\n",
       "        0.0304855 ,  0.06382008, -0.15913816,  0.09328002, -0.04126463,\n",
       "       -0.12666191,  0.02563911,  0.29074693, -0.39613137,  0.0281217 ,\n",
       "        0.10064737, -0.01962053,  0.13441436,  0.05092369, -0.07480185,\n",
       "       -0.14309944, -0.02431943, -0.19575067,  0.06072927, -0.02708699,\n",
       "        0.0263438 , -0.03037576, -0.11694306,  0.2783601 ,  0.01032708,\n",
       "       -0.02312604,  0.23934957,  0.16087316, -0.39828372, -0.1093182 ,\n",
       "       -0.12681602, -0.06280183,  0.05482148,  0.11183096, -0.1505555 ,\n",
       "        0.08392403, -0.16130221, -0.03584121,  0.30306834, -0.19873537,\n",
       "        0.05300407,  0.02267105, -0.12657431,  0.2960314 ,  0.16254222,\n",
       "        0.01212585,  0.15248616, -0.20949249,  0.18003733, -0.23641989,\n",
       "       -0.06552573,  0.06684531, -0.15203108,  0.09141809,  0.06392267,\n",
       "        0.03570994,  0.06103345,  0.15590692, -0.07086879,  0.16407867,\n",
       "       -0.05224359,  0.19166553,  0.02654326,  0.07707937, -0.44538036,\n",
       "       -0.23606738,  0.30693823, -0.15232442,  0.01091588, -0.12990792,\n",
       "        0.17260955,  0.0589819 , -0.20665252, -0.05024888,  0.07697822,\n",
       "       -0.13846253,  0.12608556, -0.21102154, -0.12902316, -0.03402827,\n",
       "        0.11717385,  0.16121876,  0.1046553 ,  0.21357386,  0.00720816,\n",
       "        0.315289  , -0.18881792, -0.20691027,  0.0811815 ,  0.01515892,\n",
       "        0.0958954 ,  0.19573732,  0.18615949,  0.09591252, -0.04942058,\n",
       "        0.11093565,  0.08637182,  0.14312443, -0.19016665,  0.07507164,\n",
       "       -0.2135211 , -0.15835936,  0.0665191 ,  0.20643672,  0.01870592,\n",
       "       -0.01761137, -0.20166159, -0.13766968, -0.03063114, -0.09714922,\n",
       "        0.04801441, -0.13325858,  0.02462716, -0.123822  ,  0.16985793,\n",
       "       -0.30820876, -0.02367619, -0.1238557 , -0.39100727, -0.07796313,\n",
       "       -0.01222621, -0.07792425,  0.01443468,  0.09321889, -0.22412507,\n",
       "        0.11903941, -0.10205449, -0.08612048, -0.04395791, -0.00904823,\n",
       "        0.14062543,  0.10574719, -0.06589181,  0.21057265, -0.07715259,\n",
       "        0.091735  ,  0.00955526,  0.05624227, -0.06947016,  0.1457395 ,\n",
       "        0.07768419, -0.09515084,  0.10860197, -0.07946105, -0.41922593,\n",
       "       -0.16115934,  0.11212248,  0.14565346, -0.09880841,  0.01887634,\n",
       "        0.05889667, -0.18758649, -0.0510358 , -0.06221811, -0.13678467,\n",
       "       -0.12091691,  0.04518049, -0.06417377, -0.0872183 ,  0.08771012,\n",
       "       -0.00354758,  0.00102278,  0.11970367, -0.10754256,  0.25062338,\n",
       "        0.09395594,  0.22712505,  0.09999038,  0.16730987,  0.1613603 ,\n",
       "       -0.03832742,  0.12222242,  0.4751138 , -0.1653843 , -0.04801784,\n",
       "        0.00756688, -0.2617162 ,  0.09162981, -0.0116046 , -0.17121758,\n",
       "        0.0020448 , -0.14917132, -0.15555342,  0.13824871, -0.29734302,\n",
       "       -0.08921041, -0.13620389, -0.14751278, -0.35536766,  0.03392567,\n",
       "       -0.00249164,  0.26365307, -0.05109021,  0.22671303, -0.03452507,\n",
       "        0.19078867,  0.13616696, -0.26960608, -0.00698693, -0.2513566 ,\n",
       "       -0.07896075, -0.02674219, -0.04575977, -0.05369005, -0.11070568,\n",
       "        0.21038331,  0.23874024, -0.0317794 , -0.07423217,  0.20899867,\n",
       "        0.04751921,  0.06123402,  0.07945496,  0.11513972,  0.17194249,\n",
       "       -0.04044777,  0.06834006,  0.06219839,  0.08879336,  0.04592589,\n",
       "       -0.25525475, -0.06785434,  0.1306065 , -0.28924552, -0.19864213,\n",
       "        0.0897584 ,  0.12410476, -0.165502  ,  0.03206369, -0.28295666,\n",
       "        0.22598861, -0.14275248, -0.10575192, -0.06001972,  0.13139066,\n",
       "       -0.2706193 ,  0.01005902,  0.19050564,  0.26756352, -0.1784446 ,\n",
       "       -0.0573485 , -0.01135871,  0.08189942, -0.02634532, -0.0121936 ,\n",
       "        0.2747989 ,  0.03742129, -0.01060348, -0.05243942, -0.07485785,\n",
       "       -0.0861786 , -0.15959418,  0.01347794, -0.01694551,  0.03364744,\n",
       "       -0.04003403,  0.12377536,  0.12417865,  0.13035837,  0.10838587,\n",
       "        0.10015108, -0.04045131, -0.0531123 , -0.28164545,  0.2702564 ,\n",
       "       -0.14599894,  0.16220419, -0.1598146 , -0.25209904, -0.12677415,\n",
       "        0.21870229, -0.20806591,  0.16494536, -0.01676033, -0.24923305,\n",
       "       -0.22485968, -0.40365237, -0.03295592, -0.16129616,  0.21887134,\n",
       "        0.07604314,  0.09863772, -0.10940015,  0.05714155, -0.3822459 ,\n",
       "       -0.08293913,  0.06935544, -0.28509563,  0.17755668,  0.13751541,\n",
       "        0.02937969,  0.19047669, -0.27665368, -0.17855434,  0.01792887,\n",
       "       -0.23398471,  0.05511365, -0.2167468 , -0.0557124 , -0.09457974,\n",
       "        0.35634017, -0.0983024 , -0.03965934, -0.00506179,  0.02132758,\n",
       "        0.03669447,  0.07937366,  0.0168601 ,  0.10323904, -0.13341264,\n",
       "        0.00344307, -0.1271232 , -0.2926899 , -0.2028045 , -0.11767827,\n",
       "       -0.10489633,  0.1404223 , -0.00771495, -0.06894562,  0.06085427,\n",
       "       -0.01978678,  0.20371078,  0.0204191 ,  0.16361433, -0.11665478,\n",
       "        0.04854508, -0.05634775, -0.07294957,  0.07354583,  0.04540242,\n",
       "       -0.13775261, -0.0399522 , -0.04228085, -0.12769231,  0.25591826,\n",
       "        0.18997268, -0.08138866,  0.10175998,  0.09635234,  0.12067936,\n",
       "       -0.11886515, -0.14311619, -0.03445494,  0.20667367, -0.08424379,\n",
       "       -0.00372968, -0.06856348,  0.10973   , -0.17775682,  0.13136294,\n",
       "       -0.14358138,  0.04238129, -0.02482248,  0.00743706,  0.3179261 ,\n",
       "        0.0633477 , -0.09443614, -0.01643235, -0.09549274,  0.22981255,\n",
       "       -0.08252249,  0.03384849,  0.07268222,  0.28608227, -0.03790155,\n",
       "       -0.1973811 ,  0.12948145,  0.12402617, -0.22366756,  0.40149477,\n",
       "       -0.04780081, -0.30779743, -0.05447565, -0.12267701, -0.1253564 ,\n",
       "       -0.04222057, -0.00274682, -0.08644883, -0.05855344,  0.09965952,\n",
       "       -0.16864318,  0.16133139, -0.0555096 , -0.0318347 , -0.01092437,\n",
       "        0.3384468 , -0.09095671, -0.07197693, -0.03037696,  0.12029178,\n",
       "       -0.09803142,  0.02167833,  0.26602823,  0.24754947, -0.19686235,\n",
       "        0.05016016,  0.02918811,  0.1150586 , -0.1502378 ,  0.12469535,\n",
       "       -0.03025942,  0.00318122, -0.07193903,  0.06564806, -0.14700218,\n",
       "       -0.24328642,  0.05326347, -0.14705476, -0.05406677, -0.11262114,\n",
       "       -0.51664543,  0.03551589, -0.15887845,  0.18745235,  0.11992242,\n",
       "       -0.3532503 ,  0.18129952,  0.03219555, -0.04058728,  0.32548246,\n",
       "       -0.10717904, -0.07015975,  0.20594148, -0.02240975,  0.0738292 ,\n",
       "        0.23162301, -0.0440945 , -0.1778497 , -0.10236179, -0.41674083,\n",
       "       -0.21637711,  0.35469174, -0.12242226,  0.0587723 , -0.2974586 ,\n",
       "        0.07498962,  0.11727125, -0.13102531, -0.0117445 , -0.11220841,\n",
       "       -0.04164592,  0.18137269, -0.1821213 , -0.07076921,  0.1224349 ,\n",
       "       -0.1996722 ,  0.17268492,  0.09406296, -0.16669329,  0.27618575,\n",
       "        0.17973258, -0.21863508,  0.07037529,  0.20865677, -0.26075974,\n",
       "       -0.10024606, -0.02134592, -0.09157793, -0.02510635,  0.26496917,\n",
       "        0.41195083,  0.1385752 ,  0.11225907, -0.03160651, -0.1210145 ,\n",
       "       -0.02778238, -0.13913137,  0.18527812,  0.0870168 ,  0.12224909,\n",
       "        0.19526605,  0.00584861,  0.18509321, -0.20560174, -0.08536464,\n",
       "        0.00116297, -0.00474339, -0.04879292, -0.09129331,  0.11921675,\n",
       "       -0.00211947, -0.0883299 ,  0.13430594,  0.19570298,  0.16400523,\n",
       "       -0.07488734, -0.05087472, -0.04809731, -0.10008809,  0.07027598,\n",
       "       -0.09882952,  0.09583237,  0.00293732, -0.01882065,  0.14869606,\n",
       "       -0.07114395,  0.08074503, -0.19505067, -0.07056131,  0.04204728,\n",
       "       -0.18933308,  0.2091008 ,  0.06387757,  0.3511692 , -0.00341436,\n",
       "       -0.11167648, -0.08643866, -0.12462034,  0.12578455, -0.24996103,\n",
       "        0.07516124,  0.04495548, -0.0403313 ,  0.00650195,  0.10101914,\n",
       "       -0.08755711,  0.2736226 ,  0.22213262,  0.1122091 ,  0.07814787,\n",
       "       -0.08143347,  0.17037578, -0.16402619,  0.01876237,  0.18517065,\n",
       "        0.04730102, -0.16483665, -0.24654143,  0.34376043,  0.0215729 ,\n",
       "       -0.15283321, -0.00440176, -0.32487372, -0.17386363,  0.01975261,\n",
       "       -0.00728309, -0.29385924,  0.20277213, -0.05959972, -0.22537217,\n",
       "       -0.19421566, -0.05822821,  0.13552131, -0.21571945, -0.1204605 ,\n",
       "        0.14098056,  0.00330857,  0.22747162, -0.05488666, -0.05196336,\n",
       "       -0.07687967,  0.06776839,  0.12906735, -0.04094416, -0.0181867 ,\n",
       "       -0.00815044, -0.09720683, -0.08470957,  0.05428787, -0.11506807,\n",
       "       -0.10424052,  0.00701289, -0.04768262,  0.19197835, -0.0200902 ,\n",
       "        0.11628734, -0.08808511, -0.18038058, -0.18850975,  0.02113549,\n",
       "       -0.16522484, -0.1129331 , -0.11379551, -0.03030974, -0.27719334,\n",
       "       -0.09642398, -0.15357128, -0.1578295 , -0.0233473 , -0.194116  ],\n",
       "      dtype=float32)"
      ]
     },
     "execution_count": 32,
     "metadata": {
      "tags": []
     },
     "output_type": "execute_result"
    }
   ],
   "source": [
    "embs[6650]"
   ]
  }
 ],
 "metadata": {
  "accelerator": "GPU",
  "colab": {
   "collapsed_sections": [],
   "machine_shape": "hm",
   "name": "Generate_Bio_Sentence_Embeddings.ipynb",
   "provenance": []
  },
  "kernelspec": {
   "display_name": "Python 3",
   "language": "python",
   "name": "python3"
  },
  "language_info": {
   "codemirror_mode": {
    "name": "ipython",
    "version": 3
   },
   "file_extension": ".py",
   "mimetype": "text/x-python",
   "name": "python",
   "nbconvert_exporter": "python",
   "pygments_lexer": "ipython3",
   "version": "3.7.1"
  }
 },
 "nbformat": 4,
 "nbformat_minor": 1
}
