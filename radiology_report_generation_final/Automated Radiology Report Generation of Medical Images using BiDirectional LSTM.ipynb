{
 "cells": [
  {
   "cell_type": "code",
   "execution_count": 1,
   "metadata": {
    "colab": {},
    "colab_type": "code",
    "id": "CZIT8_vDAQWs"
   },
   "outputs": [
    {
     "name": "stderr",
     "output_type": "stream",
     "text": [
      "Using TensorFlow backend.\n",
      "C:\\Users\\IC016726\\AppData\\Roaming\\Python\\Python37\\site-packages\\tensorflow\\python\\framework\\dtypes.py:516: FutureWarning: Passing (type, 1) or '1type' as a synonym of type is deprecated; in a future version of numpy, it will be understood as (type, (1,)) / '(1,)type'.\n",
      "  _np_qint8 = np.dtype([(\"qint8\", np.int8, 1)])\n",
      "C:\\Users\\IC016726\\AppData\\Roaming\\Python\\Python37\\site-packages\\tensorflow\\python\\framework\\dtypes.py:517: FutureWarning: Passing (type, 1) or '1type' as a synonym of type is deprecated; in a future version of numpy, it will be understood as (type, (1,)) / '(1,)type'.\n",
      "  _np_quint8 = np.dtype([(\"quint8\", np.uint8, 1)])\n",
      "C:\\Users\\IC016726\\AppData\\Roaming\\Python\\Python37\\site-packages\\tensorflow\\python\\framework\\dtypes.py:518: FutureWarning: Passing (type, 1) or '1type' as a synonym of type is deprecated; in a future version of numpy, it will be understood as (type, (1,)) / '(1,)type'.\n",
      "  _np_qint16 = np.dtype([(\"qint16\", np.int16, 1)])\n",
      "C:\\Users\\IC016726\\AppData\\Roaming\\Python\\Python37\\site-packages\\tensorflow\\python\\framework\\dtypes.py:519: FutureWarning: Passing (type, 1) or '1type' as a synonym of type is deprecated; in a future version of numpy, it will be understood as (type, (1,)) / '(1,)type'.\n",
      "  _np_quint16 = np.dtype([(\"quint16\", np.uint16, 1)])\n",
      "C:\\Users\\IC016726\\AppData\\Roaming\\Python\\Python37\\site-packages\\tensorflow\\python\\framework\\dtypes.py:520: FutureWarning: Passing (type, 1) or '1type' as a synonym of type is deprecated; in a future version of numpy, it will be understood as (type, (1,)) / '(1,)type'.\n",
      "  _np_qint32 = np.dtype([(\"qint32\", np.int32, 1)])\n",
      "C:\\Users\\IC016726\\AppData\\Roaming\\Python\\Python37\\site-packages\\tensorflow\\python\\framework\\dtypes.py:525: FutureWarning: Passing (type, 1) or '1type' as a synonym of type is deprecated; in a future version of numpy, it will be understood as (type, (1,)) / '(1,)type'.\n",
      "  np_resource = np.dtype([(\"resource\", np.ubyte, 1)])\n",
      "C:\\Users\\IC016726\\AppData\\Roaming\\Python\\Python37\\site-packages\\tensorboard\\compat\\tensorflow_stub\\dtypes.py:541: FutureWarning: Passing (type, 1) or '1type' as a synonym of type is deprecated; in a future version of numpy, it will be understood as (type, (1,)) / '(1,)type'.\n",
      "  _np_qint8 = np.dtype([(\"qint8\", np.int8, 1)])\n",
      "C:\\Users\\IC016726\\AppData\\Roaming\\Python\\Python37\\site-packages\\tensorboard\\compat\\tensorflow_stub\\dtypes.py:542: FutureWarning: Passing (type, 1) or '1type' as a synonym of type is deprecated; in a future version of numpy, it will be understood as (type, (1,)) / '(1,)type'.\n",
      "  _np_quint8 = np.dtype([(\"quint8\", np.uint8, 1)])\n",
      "C:\\Users\\IC016726\\AppData\\Roaming\\Python\\Python37\\site-packages\\tensorboard\\compat\\tensorflow_stub\\dtypes.py:543: FutureWarning: Passing (type, 1) or '1type' as a synonym of type is deprecated; in a future version of numpy, it will be understood as (type, (1,)) / '(1,)type'.\n",
      "  _np_qint16 = np.dtype([(\"qint16\", np.int16, 1)])\n",
      "C:\\Users\\IC016726\\AppData\\Roaming\\Python\\Python37\\site-packages\\tensorboard\\compat\\tensorflow_stub\\dtypes.py:544: FutureWarning: Passing (type, 1) or '1type' as a synonym of type is deprecated; in a future version of numpy, it will be understood as (type, (1,)) / '(1,)type'.\n",
      "  _np_quint16 = np.dtype([(\"quint16\", np.uint16, 1)])\n",
      "C:\\Users\\IC016726\\AppData\\Roaming\\Python\\Python37\\site-packages\\tensorboard\\compat\\tensorflow_stub\\dtypes.py:545: FutureWarning: Passing (type, 1) or '1type' as a synonym of type is deprecated; in a future version of numpy, it will be understood as (type, (1,)) / '(1,)type'.\n",
      "  _np_qint32 = np.dtype([(\"qint32\", np.int32, 1)])\n",
      "C:\\Users\\IC016726\\AppData\\Roaming\\Python\\Python37\\site-packages\\tensorboard\\compat\\tensorflow_stub\\dtypes.py:550: FutureWarning: Passing (type, 1) or '1type' as a synonym of type is deprecated; in a future version of numpy, it will be understood as (type, (1,)) / '(1,)type'.\n",
      "  np_resource = np.dtype([(\"resource\", np.ubyte, 1)])\n"
     ]
    }
   ],
   "source": [
    "#Imporing supporting libraries\n",
    "import numpy as np\n",
    "from numpy import array\n",
    "import pandas as pd\n",
    "import matplotlib.pyplot as plt\n",
    "%matplotlib inline\n",
    "import string\n",
    "import os\n",
    "from PIL import Image\n",
    "import glob\n",
    "from pickle import dump, load\n",
    "from time import time\n",
    "\n",
    "from PIL import Image\n",
    "\n",
    "from keras.preprocessing import sequence\n",
    "from keras.preprocessing import image\n",
    "from keras.applications.inception_v3 import preprocess_input\n",
    "from keras.applications.densenet import DenseNet121\n",
    "\n",
    "from keras.layers import Input\n",
    "from keras.layers import Dropout\n",
    "from keras.layers.core import Dense\n",
    "from keras.models import Model\n",
    "from keras import backend as K\n",
    "\n",
    "from time import time\n",
    "import pickle\n",
    "from pickle import dump, load\n",
    "import glob\n",
    "import os\n",
    "from random import shuffle\n",
    "import importlib\n",
    "from configparser import ConfigParser\n",
    "from nltk.translate.bleu_score import sentence_bleu"
   ]
  },
  {
   "cell_type": "code",
   "execution_count": 2,
   "metadata": {
    "colab": {
     "base_uri": "https://localhost:8080/",
     "height": 34
    },
    "colab_type": "code",
    "executionInfo": {
     "elapsed": 2435,
     "status": "ok",
     "timestamp": 1570818786882,
     "user": {
      "displayName": "Ezhirko Arulmozhi",
      "photoUrl": "https://lh3.googleusercontent.com/a-/AAuE7mA_nHqFdfM_zFBpb-BYHYJwL7O3uKBW_MNkY6jW=s64",
      "userId": "16774972310128518178"
     },
     "user_tz": -330
    },
    "id": "bNnaoa6UAQWy",
    "outputId": "ed527a00-55a5-4e5e-d399-d91df951fd6d"
   },
   "outputs": [
    {
     "name": "stdout",
     "output_type": "stream",
     "text": [
      "Photos: train=3668\n"
     ]
    }
   ],
   "source": [
    "#Load the pre processed report findings from the pickle file.\n",
    "first_sent = load(open(\"KalyanPickle/para.pickle\", \"rb\"))\n",
    "print('Photos: train=%d' % len(first_sent))"
   ]
  },
  {
   "cell_type": "code",
   "execution_count": 4,
   "metadata": {
    "colab": {
     "base_uri": "https://localhost:8080/",
     "height": 34
    },
    "colab_type": "code",
    "executionInfo": {
     "elapsed": 2304,
     "status": "ok",
     "timestamp": 1570818786883,
     "user": {
      "displayName": "Ezhirko Arulmozhi",
      "photoUrl": "https://lh3.googleusercontent.com/a-/AAuE7mA_nHqFdfM_zFBpb-BYHYJwL7O3uKBW_MNkY6jW=s64",
      "userId": "16774972310128518178"
     },
     "user_tz": -330
    },
    "id": "zk8C3ycuAQW4",
    "outputId": "21d09fda-7672-4860-aa4d-38c6f2ac675f"
   },
   "outputs": [
    {
     "name": "stdout",
     "output_type": "stream",
     "text": [
      "Photos: train=3668\n"
     ]
    }
   ],
   "source": [
    "#Load the pre processed report Indication from the pickle file.\n",
    "indication_sent = load(open(\"KalyanPickle/indication_keys.pickle\", \"rb\"))\n",
    "print('Photos: train=%d' % len(indication_sent))"
   ]
  },
  {
   "cell_type": "code",
   "execution_count": 6,
   "metadata": {
    "colab": {
     "base_uri": "https://localhost:8080/",
     "height": 34
    },
    "colab_type": "code",
    "executionInfo": {
     "elapsed": 1427,
     "status": "ok",
     "timestamp": 1570818786884,
     "user": {
      "displayName": "Ezhirko Arulmozhi",
      "photoUrl": "https://lh3.googleusercontent.com/a-/AAuE7mA_nHqFdfM_zFBpb-BYHYJwL7O3uKBW_MNkY6jW=s64",
      "userId": "16774972310128518178"
     },
     "user_tz": -330
    },
    "id": "Y9Bivw5ZAQW7",
    "outputId": "7e66486e-d1fe-4b0f-8956-1b7cfb7e47b5"
   },
   "outputs": [
    {
     "name": "stdout",
     "output_type": "stream",
     "text": [
      "Original Vocabulary Size: 2311\n"
     ]
    }
   ],
   "source": [
    "# convert the loaded descriptions into a vocabulary of words\n",
    "def to_vocabulary(descriptions):\n",
    "    \"\"\"\n",
    "        **Convert descriptions to  vocabulary**\n",
    "        \n",
    "        This function will create vocabulary using descriptions\n",
    "        \n",
    "        :param descriptions: image to report key-value pairs\n",
    "        :type descriptions: dict\n",
    "        :return: set of unique words of all descriptions - vocabulary\n",
    "        \n",
    "        - Example::\n",
    "\n",
    "            descriptions - {'CXR1_1_IM-0001-3001': ['startseq the cardiac silhouette and mediastinum size are within normal limits. there is no pulmonary edema. there is no focal consolidation. there are no xxxx of a pleural effusion. there is no evidence of pneumothorax. endseq'],\n",
    " 'CXR10_IM-0002-1001': ['startseq the cardiomediastinal silhouette is within normal limits for size and contour. the lungs are normally inflated without evidence of focal airspace disease pleural effusion or pneumothorax. stable calcified granuloma within the right upper lung. no acute bone abnormality. . endseq']\n",
    "                            }\n",
    "                            \n",
    "            to_vocabulary(descriptions)\n",
    "            \n",
    "        - Expected Success Response::\n",
    "\n",
    "            {'startseq',\n",
    "            'the',\n",
    "            'cardiac',\n",
    "            ...\n",
    "            'endseq'\n",
    "            }\n",
    "    \n",
    "    \"\"\"\n",
    "    # build a list of all description strings\n",
    "    all_desc = set()\n",
    "    for key in descriptions.keys():\n",
    "        [all_desc.update(d.split()) for d in descriptions[key]]\n",
    "    return all_desc\n",
    "\n",
    "# summarize vocabulary\n",
    "vocabulary = to_vocabulary(first_sent)\n",
    "print('Original Vocabulary Size: %d' % len(vocabulary))"
   ]
  },
  {
   "cell_type": "code",
   "execution_count": 7,
   "metadata": {
    "colab": {
     "base_uri": "https://localhost:8080/",
     "height": 34
    },
    "colab_type": "code",
    "executionInfo": {
     "elapsed": 836,
     "status": "ok",
     "timestamp": 1570818786884,
     "user": {
      "displayName": "Ezhirko Arulmozhi",
      "photoUrl": "https://lh3.googleusercontent.com/a-/AAuE7mA_nHqFdfM_zFBpb-BYHYJwL7O3uKBW_MNkY6jW=s64",
      "userId": "16774972310128518178"
     },
     "user_tz": -330
    },
    "id": "9UrojtnYAQW-",
    "outputId": "1cec512e-b854-4724-eb2b-2cff1e435360"
   },
   "outputs": [
    {
     "name": "stdout",
     "output_type": "stream",
     "text": [
      "Original Vocabulary Size: 1572\n"
     ]
    }
   ],
   "source": [
    "# vocabulary of words in report indication \n",
    "all_indications = set()\n",
    "for key in indication_sent.keys():\n",
    "    all_indications.update(indication_sent[key].split())\n",
    "indicationVocab = all_indications\n",
    "print('Original Vocabulary Size: %d' % len(indicationVocab))"
   ]
  },
  {
   "cell_type": "code",
   "execution_count": 8,
   "metadata": {
    "colab": {},
    "colab_type": "code",
    "id": "VKxW-P7AAQXA"
   },
   "outputs": [],
   "source": [
    "# Below path contains all the images\n",
    "images = 'NLMCXR_png/'\n",
    "# Create a list of all image names in the directory\n",
    "img = glob.glob(images + '*.png')"
   ]
  },
  {
   "cell_type": "code",
   "execution_count": 10,
   "metadata": {
    "colab": {},
    "colab_type": "code",
    "id": "rqTuNQ-WAQXD"
   },
   "outputs": [],
   "source": [
    "# Split the images into test and train. have split into 90:10 ratio\n",
    "train_img_paths = img[:int(len(img)*0.90)]\n",
    "valid_img_paths = img[int(len(img)*0.70 + len(img)*0.20):]"
   ]
  },
  {
   "cell_type": "code",
   "execution_count": 11,
   "metadata": {
    "colab": {
     "base_uri": "https://localhost:8080/",
     "height": 50
    },
    "colab_type": "code",
    "executionInfo": {
     "elapsed": 813,
     "status": "ok",
     "timestamp": 1570818789404,
     "user": {
      "displayName": "Ezhirko Arulmozhi",
      "photoUrl": "https://lh3.googleusercontent.com/a-/AAuE7mA_nHqFdfM_zFBpb-BYHYJwL7O3uKBW_MNkY6jW=s64",
      "userId": "16774972310128518178"
     },
     "user_tz": -330
    },
    "id": "ALxZN1kBAQXF",
    "outputId": "fae6c7de-97e5-4a6f-a7f1-0e7323472b66"
   },
   "outputs": [
    {
     "name": "stdout",
     "output_type": "stream",
     "text": [
      "No of images for training:  6546\n",
      "No of images for validating:  728\n"
     ]
    }
   ],
   "source": [
    "print(\"No of images for training: \", len(train_img_paths))\n",
    "print(\"No of images for validating: \", len(valid_img_paths))"
   ]
  },
  {
   "cell_type": "code",
   "execution_count": 19,
   "metadata": {
    "colab": {},
    "colab_type": "code",
    "id": "_vjnASWpAQXJ"
   },
   "outputs": [],
   "source": [
    "def get_train_valid_test_data(img):\n",
    "    \"\"\"\n",
    "        **Splits images into test and train sets of ratio 90:10**\n",
    "        \n",
    "        This function will create test and train sets of ratio 90:10 with given image sets\n",
    "        \n",
    "        :param img: image to split\n",
    "        :type img: array\n",
    "        :return: set of images for training and testing\n",
    "        \n",
    "        - Example::\n",
    "\n",
    "            img - ['NLMCXR_png\\\\CXR1000_IM-0003-1001.png',\n",
    "                   'NLMCXR_png\\\\CXR1000_IM-0003-2001.png',........\n",
    "                   'NLMCXR_png\\\\CXR1000_IM-0003-3001.png']\n",
    "                            \n",
    "            train_imgs, valid_imgs = get_train_valid_test_data(img)\n",
    "            \n",
    "        - Expected Success Response::\n",
    "\n",
    "            train_imgs - ['NLMCXR_png\\\\CXR1000_IM-0003-1001.png',\n",
    "                          'NLMCXR_png\\\\CXR1000_IM-0003-2001.png',\n",
    "                          'NLMCXR_png\\\\CXR1000_IM-0003-3001.png',......\n",
    "                          'NLMCXR_png\\\\CXR1001_IM-0004-1001.png']\n",
    "            valid_imgs - ['NLMCXR_png\\\\CXR614_IM-2200-1001.png',\n",
    "                          'NLMCXR_png\\\\CXR614_IM-2200-4001.png',\n",
    "                          'NLMCXR_png\\\\CXR615_IM-2200-1001.png',\n",
    "                          'NLMCXR_png\\\\CXR615_IM-2200-1002.png',.......\n",
    "                          'NLMCXR_png\\\\CXR616_IM-2200-1001.png']\n",
    "    \n",
    "    \"\"\"\n",
    "    train_imgs = img[:int(len(img)*0.90)]\n",
    "    valid_imgs = img[int(len(img)*0.70 + len(img)*0.20):]\n",
    "    return train_imgs, valid_imgs"
   ]
  },
  {
   "cell_type": "code",
   "execution_count": 20,
   "metadata": {
    "colab": {},
    "colab_type": "code",
    "id": "fdeaLeYiAQXM"
   },
   "outputs": [],
   "source": [
    "train_imgs, valid_imgs = get_train_valid_test_data(img)"
   ]
  },
  {
   "cell_type": "code",
   "execution_count": 22,
   "metadata": {
    "colab": {},
    "colab_type": "code",
    "id": "iwHaCYpQAQXR"
   },
   "outputs": [],
   "source": [
    "weights_path = \"PavanPickle/best_weights.h5\""
   ]
  },
  {
   "cell_type": "code",
   "execution_count": 23,
   "metadata": {
    "colab": {},
    "colab_type": "code",
    "id": "uoAZ7VX6AQXU"
   },
   "outputs": [],
   "source": [
    "class ModelFactory:\n",
    "    \"\"\"\n",
    "    Model facotry for Keras default models\n",
    "    \"\"\"\n",
    "\n",
    "    def __init__(self):\n",
    "        self.models_ = dict(\n",
    "            VGG16=dict(\n",
    "                input_shape=(224, 224, 3),\n",
    "                module_name=\"vgg16\",\n",
    "                last_conv_layer=\"block5_conv3\",\n",
    "            ),\n",
    "            VGG19=dict(\n",
    "                input_shape=(224, 224, 3),\n",
    "                module_name=\"vgg19\",\n",
    "                last_conv_layer=\"block5_conv4\",\n",
    "            ),\n",
    "            DenseNet121=dict(\n",
    "                input_shape=(224, 224, 3),\n",
    "                module_name=\"densenet\",\n",
    "                last_conv_layer=\"bn\",\n",
    "            ),\n",
    "            ResNet50=dict(\n",
    "                input_shape=(224, 224, 3),\n",
    "                module_name=\"resnet50\",\n",
    "                last_conv_layer=\"activation_49\",\n",
    "            ),\n",
    "            InceptionV3=dict(\n",
    "                input_shape=(299, 299, 3),\n",
    "                module_name=\"inception_v3\",\n",
    "                last_conv_layer=\"mixed10\",\n",
    "            ),\n",
    "            InceptionResNetV2=dict(\n",
    "                input_shape=(299, 299, 3),\n",
    "                module_name=\"inception_resnet_v2\",\n",
    "                last_conv_layer=\"conv_7b_ac\",\n",
    "            ),\n",
    "            NASNetMobile=dict(\n",
    "                input_shape=(224, 224, 3),\n",
    "                module_name=\"nasnet\",\n",
    "                last_conv_layer=\"activation_188\",\n",
    "            ),\n",
    "                        NASNetLarge=dict(\n",
    "                input_shape=(331, 331, 3),\n",
    "                module_name=\"nasnet\",\n",
    "                last_conv_layer=\"activation_260\",\n",
    "            ),\n",
    "        )\n",
    "\n",
    "    def get_model(self, model_name=\"DenseNet121\", use_base_weights=True,\n",
    "                  weights_path=None, input_shape=None):\n",
    "        \"\"\"\n",
    "        **Provides the requested CNN pre trained model**\n",
    "        \n",
    "        This function provides the requested CNN pre trained model\n",
    "        \n",
    "        :param model_name: pre trained model name\n",
    "        :type model_name: string\n",
    "        \n",
    "        :param use_base_weights: Indicates to use the base weights or not\n",
    "        :type use_base_weights: bool\n",
    "        \n",
    "        :param weights_path: location path where the weigths are present\n",
    "        :type weights_path: string\n",
    "        \n",
    "        :param input_shape: shape of the input image to the pretrained model\n",
    "        :type input_shape: array\n",
    "        \n",
    "        :return: Pretrained CNN Model\n",
    "        \n",
    "        - Example::\n",
    "        \n",
    "            weights_path = \"PavanPickle/best_weights.h5\"\n",
    "            \n",
    "            model = model_factory.get_model(use_base_weights=False,weights_path=weights_path)\n",
    "            \n",
    "        - Expected Success Response::\n",
    "            model\n",
    "    \n",
    "        \"\"\"\n",
    "        if use_base_weights is True:\n",
    "            base_weights = \"imagenet\"\n",
    "        else:\n",
    "            base_weights = None\n",
    "\n",
    "        base_model_class = getattr(\n",
    "            importlib.import_module(\n",
    "                f\"keras.applications.{self.models_[model_name]['module_name']}\"\n",
    "            ),\n",
    "            model_name)\n",
    "\n",
    "        if input_shape is None:\n",
    "            input_shape = self.models_[model_name][\"input_shape\"]\n",
    "\n",
    "        img_input = Input(shape=input_shape)\n",
    "\n",
    "        base_model = base_model_class(\n",
    "            include_top=False,\n",
    "            input_tensor=img_input,\n",
    "            input_shape=input_shape,\n",
    "            weights=base_weights,\n",
    "            pooling=\"avg\")\n",
    "        x = base_model.output\n",
    "        predictions = Dense(14, activation=\"sigmoid\", name=\"predictions\")(x)\n",
    "        model = Model(inputs=img_input, outputs=predictions)\n",
    "\n",
    "        if weights_path == \"\":\n",
    "            weights_path = None\n",
    "        \n",
    "\n",
    "        if weights_path is not None:\n",
    "            print(f\"load model weights_path: {weights_path}\")\n",
    "            model.load_weights(weights_path)\n",
    "        return model"
   ]
  },
  {
   "cell_type": "code",
   "execution_count": 24,
   "metadata": {
    "colab": {
     "base_uri": "https://localhost:8080/",
     "height": 1000
    },
    "colab_type": "code",
    "executionInfo": {
     "elapsed": 21976,
     "status": "ok",
     "timestamp": 1570818813891,
     "user": {
      "displayName": "Ezhirko Arulmozhi",
      "photoUrl": "https://lh3.googleusercontent.com/a-/AAuE7mA_nHqFdfM_zFBpb-BYHYJwL7O3uKBW_MNkY6jW=s64",
      "userId": "16774972310128518178"
     },
     "user_tz": -330
    },
    "id": "n43_vyI6AQXZ",
    "outputId": "4a09ee8e-84c9-4934-deff-a56f6adb52a9"
   },
   "outputs": [
    {
     "name": "stdout",
     "output_type": "stream",
     "text": [
      "WARNING:tensorflow:From C:\\ProgramData\\Anaconda3\\lib\\site-packages\\keras\\backend\\tensorflow_backend.py:66: The name tf.get_default_graph is deprecated. Please use tf.compat.v1.get_default_graph instead.\n",
      "\n",
      "WARNING:tensorflow:From C:\\ProgramData\\Anaconda3\\lib\\site-packages\\keras\\backend\\tensorflow_backend.py:541: The name tf.placeholder is deprecated. Please use tf.compat.v1.placeholder instead.\n",
      "\n",
      "WARNING:tensorflow:From C:\\ProgramData\\Anaconda3\\lib\\site-packages\\keras\\backend\\tensorflow_backend.py:4432: The name tf.random_uniform is deprecated. Please use tf.random.uniform instead.\n",
      "\n",
      "WARNING:tensorflow:From C:\\ProgramData\\Anaconda3\\lib\\site-packages\\keras\\backend\\tensorflow_backend.py:190: The name tf.get_default_session is deprecated. Please use tf.compat.v1.get_default_session instead.\n",
      "\n",
      "WARNING:tensorflow:From C:\\ProgramData\\Anaconda3\\lib\\site-packages\\keras\\backend\\tensorflow_backend.py:197: The name tf.ConfigProto is deprecated. Please use tf.compat.v1.ConfigProto instead.\n",
      "\n",
      "WARNING:tensorflow:From C:\\ProgramData\\Anaconda3\\lib\\site-packages\\keras\\backend\\tensorflow_backend.py:2041: The name tf.nn.fused_batch_norm is deprecated. Please use tf.compat.v1.nn.fused_batch_norm instead.\n",
      "\n",
      "WARNING:tensorflow:From C:\\ProgramData\\Anaconda3\\lib\\site-packages\\keras\\backend\\tensorflow_backend.py:4267: The name tf.nn.max_pool is deprecated. Please use tf.nn.max_pool2d instead.\n",
      "\n",
      "WARNING:tensorflow:From C:\\ProgramData\\Anaconda3\\lib\\site-packages\\keras\\backend\\tensorflow_backend.py:4271: The name tf.nn.avg_pool is deprecated. Please use tf.nn.avg_pool2d instead.\n",
      "\n",
      "load model weights_path: PavanPickle/best_weights.h5\n",
      "Model: \"model_1\"\n",
      "__________________________________________________________________________________________________\n",
      "Layer (type)                    Output Shape         Param #     Connected to                     \n",
      "==================================================================================================\n",
      "input_1 (InputLayer)            (None, 224, 224, 3)  0                                            \n",
      "__________________________________________________________________________________________________\n",
      "zero_padding2d_1 (ZeroPadding2D (None, 230, 230, 3)  0           input_1[0][0]                    \n",
      "__________________________________________________________________________________________________\n",
      "conv1/conv (Conv2D)             (None, 112, 112, 64) 9408        zero_padding2d_1[0][0]           \n",
      "__________________________________________________________________________________________________\n",
      "conv1/bn (BatchNormalization)   (None, 112, 112, 64) 256         conv1/conv[0][0]                 \n",
      "__________________________________________________________________________________________________\n",
      "conv1/relu (Activation)         (None, 112, 112, 64) 0           conv1/bn[0][0]                   \n",
      "__________________________________________________________________________________________________\n",
      "zero_padding2d_2 (ZeroPadding2D (None, 114, 114, 64) 0           conv1/relu[0][0]                 \n",
      "__________________________________________________________________________________________________\n",
      "pool1 (MaxPooling2D)            (None, 56, 56, 64)   0           zero_padding2d_2[0][0]           \n",
      "__________________________________________________________________________________________________\n",
      "conv2_block1_0_bn (BatchNormali (None, 56, 56, 64)   256         pool1[0][0]                      \n",
      "__________________________________________________________________________________________________\n",
      "conv2_block1_0_relu (Activation (None, 56, 56, 64)   0           conv2_block1_0_bn[0][0]          \n",
      "__________________________________________________________________________________________________\n",
      "conv2_block1_1_conv (Conv2D)    (None, 56, 56, 128)  8192        conv2_block1_0_relu[0][0]        \n",
      "__________________________________________________________________________________________________\n",
      "conv2_block1_1_bn (BatchNormali (None, 56, 56, 128)  512         conv2_block1_1_conv[0][0]        \n",
      "__________________________________________________________________________________________________\n",
      "conv2_block1_1_relu (Activation (None, 56, 56, 128)  0           conv2_block1_1_bn[0][0]          \n",
      "__________________________________________________________________________________________________\n",
      "conv2_block1_2_conv (Conv2D)    (None, 56, 56, 32)   36864       conv2_block1_1_relu[0][0]        \n",
      "__________________________________________________________________________________________________\n",
      "conv2_block1_concat (Concatenat (None, 56, 56, 96)   0           pool1[0][0]                      \n",
      "                                                                 conv2_block1_2_conv[0][0]        \n",
      "__________________________________________________________________________________________________\n",
      "conv2_block2_0_bn (BatchNormali (None, 56, 56, 96)   384         conv2_block1_concat[0][0]        \n",
      "__________________________________________________________________________________________________\n",
      "conv2_block2_0_relu (Activation (None, 56, 56, 96)   0           conv2_block2_0_bn[0][0]          \n",
      "__________________________________________________________________________________________________\n",
      "conv2_block2_1_conv (Conv2D)    (None, 56, 56, 128)  12288       conv2_block2_0_relu[0][0]        \n",
      "__________________________________________________________________________________________________\n",
      "conv2_block2_1_bn (BatchNormali (None, 56, 56, 128)  512         conv2_block2_1_conv[0][0]        \n",
      "__________________________________________________________________________________________________\n",
      "conv2_block2_1_relu (Activation (None, 56, 56, 128)  0           conv2_block2_1_bn[0][0]          \n",
      "__________________________________________________________________________________________________\n",
      "conv2_block2_2_conv (Conv2D)    (None, 56, 56, 32)   36864       conv2_block2_1_relu[0][0]        \n",
      "__________________________________________________________________________________________________\n",
      "conv2_block2_concat (Concatenat (None, 56, 56, 128)  0           conv2_block1_concat[0][0]        \n",
      "                                                                 conv2_block2_2_conv[0][0]        \n",
      "__________________________________________________________________________________________________\n",
      "conv2_block3_0_bn (BatchNormali (None, 56, 56, 128)  512         conv2_block2_concat[0][0]        \n",
      "__________________________________________________________________________________________________\n",
      "conv2_block3_0_relu (Activation (None, 56, 56, 128)  0           conv2_block3_0_bn[0][0]          \n",
      "__________________________________________________________________________________________________\n",
      "conv2_block3_1_conv (Conv2D)    (None, 56, 56, 128)  16384       conv2_block3_0_relu[0][0]        \n",
      "__________________________________________________________________________________________________\n",
      "conv2_block3_1_bn (BatchNormali (None, 56, 56, 128)  512         conv2_block3_1_conv[0][0]        \n",
      "__________________________________________________________________________________________________\n",
      "conv2_block3_1_relu (Activation (None, 56, 56, 128)  0           conv2_block3_1_bn[0][0]          \n",
      "__________________________________________________________________________________________________\n",
      "conv2_block3_2_conv (Conv2D)    (None, 56, 56, 32)   36864       conv2_block3_1_relu[0][0]        \n",
      "__________________________________________________________________________________________________\n",
      "conv2_block3_concat (Concatenat (None, 56, 56, 160)  0           conv2_block2_concat[0][0]        \n",
      "                                                                 conv2_block3_2_conv[0][0]        \n",
      "__________________________________________________________________________________________________\n",
      "conv2_block4_0_bn (BatchNormali (None, 56, 56, 160)  640         conv2_block3_concat[0][0]        \n",
      "__________________________________________________________________________________________________\n",
      "conv2_block4_0_relu (Activation (None, 56, 56, 160)  0           conv2_block4_0_bn[0][0]          \n",
      "__________________________________________________________________________________________________\n",
      "conv2_block4_1_conv (Conv2D)    (None, 56, 56, 128)  20480       conv2_block4_0_relu[0][0]        \n",
      "__________________________________________________________________________________________________\n",
      "conv2_block4_1_bn (BatchNormali (None, 56, 56, 128)  512         conv2_block4_1_conv[0][0]        \n",
      "__________________________________________________________________________________________________\n",
      "conv2_block4_1_relu (Activation (None, 56, 56, 128)  0           conv2_block4_1_bn[0][0]          \n",
      "__________________________________________________________________________________________________\n",
      "conv2_block4_2_conv (Conv2D)    (None, 56, 56, 32)   36864       conv2_block4_1_relu[0][0]        \n",
      "__________________________________________________________________________________________________\n",
      "conv2_block4_concat (Concatenat (None, 56, 56, 192)  0           conv2_block3_concat[0][0]        \n",
      "                                                                 conv2_block4_2_conv[0][0]        \n",
      "__________________________________________________________________________________________________\n",
      "conv2_block5_0_bn (BatchNormali (None, 56, 56, 192)  768         conv2_block4_concat[0][0]        \n",
      "__________________________________________________________________________________________________\n",
      "conv2_block5_0_relu (Activation (None, 56, 56, 192)  0           conv2_block5_0_bn[0][0]          \n",
      "__________________________________________________________________________________________________\n",
      "conv2_block5_1_conv (Conv2D)    (None, 56, 56, 128)  24576       conv2_block5_0_relu[0][0]        \n",
      "__________________________________________________________________________________________________\n",
      "conv2_block5_1_bn (BatchNormali (None, 56, 56, 128)  512         conv2_block5_1_conv[0][0]        \n",
      "__________________________________________________________________________________________________\n",
      "conv2_block5_1_relu (Activation (None, 56, 56, 128)  0           conv2_block5_1_bn[0][0]          \n",
      "__________________________________________________________________________________________________\n",
      "conv2_block5_2_conv (Conv2D)    (None, 56, 56, 32)   36864       conv2_block5_1_relu[0][0]        \n",
      "__________________________________________________________________________________________________\n",
      "conv2_block5_concat (Concatenat (None, 56, 56, 224)  0           conv2_block4_concat[0][0]        \n",
      "                                                                 conv2_block5_2_conv[0][0]        \n",
      "__________________________________________________________________________________________________\n",
      "conv2_block6_0_bn (BatchNormali (None, 56, 56, 224)  896         conv2_block5_concat[0][0]        \n",
      "__________________________________________________________________________________________________\n",
      "conv2_block6_0_relu (Activation (None, 56, 56, 224)  0           conv2_block6_0_bn[0][0]          \n",
      "__________________________________________________________________________________________________\n",
      "conv2_block6_1_conv (Conv2D)    (None, 56, 56, 128)  28672       conv2_block6_0_relu[0][0]        \n",
      "__________________________________________________________________________________________________\n",
      "conv2_block6_1_bn (BatchNormali (None, 56, 56, 128)  512         conv2_block6_1_conv[0][0]        \n",
      "__________________________________________________________________________________________________\n",
      "conv2_block6_1_relu (Activation (None, 56, 56, 128)  0           conv2_block6_1_bn[0][0]          \n",
      "__________________________________________________________________________________________________\n",
      "conv2_block6_2_conv (Conv2D)    (None, 56, 56, 32)   36864       conv2_block6_1_relu[0][0]        \n",
      "__________________________________________________________________________________________________\n",
      "conv2_block6_concat (Concatenat (None, 56, 56, 256)  0           conv2_block5_concat[0][0]        \n",
      "                                                                 conv2_block6_2_conv[0][0]        \n",
      "__________________________________________________________________________________________________\n",
      "pool2_bn (BatchNormalization)   (None, 56, 56, 256)  1024        conv2_block6_concat[0][0]        \n",
      "__________________________________________________________________________________________________\n",
      "pool2_relu (Activation)         (None, 56, 56, 256)  0           pool2_bn[0][0]                   \n",
      "__________________________________________________________________________________________________\n",
      "pool2_conv (Conv2D)             (None, 56, 56, 128)  32768       pool2_relu[0][0]                 \n",
      "__________________________________________________________________________________________________\n",
      "pool2_pool (AveragePooling2D)   (None, 28, 28, 128)  0           pool2_conv[0][0]                 \n",
      "__________________________________________________________________________________________________\n",
      "conv3_block1_0_bn (BatchNormali (None, 28, 28, 128)  512         pool2_pool[0][0]                 \n",
      "__________________________________________________________________________________________________\n",
      "conv3_block1_0_relu (Activation (None, 28, 28, 128)  0           conv3_block1_0_bn[0][0]          \n",
      "__________________________________________________________________________________________________\n",
      "conv3_block1_1_conv (Conv2D)    (None, 28, 28, 128)  16384       conv3_block1_0_relu[0][0]        \n",
      "__________________________________________________________________________________________________\n",
      "conv3_block1_1_bn (BatchNormali (None, 28, 28, 128)  512         conv3_block1_1_conv[0][0]        \n",
      "__________________________________________________________________________________________________\n",
      "conv3_block1_1_relu (Activation (None, 28, 28, 128)  0           conv3_block1_1_bn[0][0]          \n",
      "__________________________________________________________________________________________________\n",
      "conv3_block1_2_conv (Conv2D)    (None, 28, 28, 32)   36864       conv3_block1_1_relu[0][0]        \n",
      "__________________________________________________________________________________________________\n",
      "conv3_block1_concat (Concatenat (None, 28, 28, 160)  0           pool2_pool[0][0]                 \n",
      "                                                                 conv3_block1_2_conv[0][0]        \n",
      "__________________________________________________________________________________________________\n",
      "conv3_block2_0_bn (BatchNormali (None, 28, 28, 160)  640         conv3_block1_concat[0][0]        \n",
      "__________________________________________________________________________________________________\n",
      "conv3_block2_0_relu (Activation (None, 28, 28, 160)  0           conv3_block2_0_bn[0][0]          \n",
      "__________________________________________________________________________________________________\n",
      "conv3_block2_1_conv (Conv2D)    (None, 28, 28, 128)  20480       conv3_block2_0_relu[0][0]        \n",
      "__________________________________________________________________________________________________\n",
      "conv3_block2_1_bn (BatchNormali (None, 28, 28, 128)  512         conv3_block2_1_conv[0][0]        \n",
      "__________________________________________________________________________________________________\n",
      "conv3_block2_1_relu (Activation (None, 28, 28, 128)  0           conv3_block2_1_bn[0][0]          \n",
      "__________________________________________________________________________________________________\n",
      "conv3_block2_2_conv (Conv2D)    (None, 28, 28, 32)   36864       conv3_block2_1_relu[0][0]        \n",
      "__________________________________________________________________________________________________\n",
      "conv3_block2_concat (Concatenat (None, 28, 28, 192)  0           conv3_block1_concat[0][0]        \n",
      "                                                                 conv3_block2_2_conv[0][0]        \n",
      "__________________________________________________________________________________________________\n",
      "conv3_block3_0_bn (BatchNormali (None, 28, 28, 192)  768         conv3_block2_concat[0][0]        \n",
      "__________________________________________________________________________________________________\n",
      "conv3_block3_0_relu (Activation (None, 28, 28, 192)  0           conv3_block3_0_bn[0][0]          \n",
      "__________________________________________________________________________________________________\n",
      "conv3_block3_1_conv (Conv2D)    (None, 28, 28, 128)  24576       conv3_block3_0_relu[0][0]        \n",
      "__________________________________________________________________________________________________\n",
      "conv3_block3_1_bn (BatchNormali (None, 28, 28, 128)  512         conv3_block3_1_conv[0][0]        \n",
      "__________________________________________________________________________________________________\n",
      "conv3_block3_1_relu (Activation (None, 28, 28, 128)  0           conv3_block3_1_bn[0][0]          \n",
      "__________________________________________________________________________________________________\n",
      "conv3_block3_2_conv (Conv2D)    (None, 28, 28, 32)   36864       conv3_block3_1_relu[0][0]        \n",
      "__________________________________________________________________________________________________\n",
      "conv3_block3_concat (Concatenat (None, 28, 28, 224)  0           conv3_block2_concat[0][0]        \n",
      "                                                                 conv3_block3_2_conv[0][0]        \n",
      "__________________________________________________________________________________________________\n",
      "conv3_block4_0_bn (BatchNormali (None, 28, 28, 224)  896         conv3_block3_concat[0][0]        \n",
      "__________________________________________________________________________________________________\n",
      "conv3_block4_0_relu (Activation (None, 28, 28, 224)  0           conv3_block4_0_bn[0][0]          \n",
      "__________________________________________________________________________________________________\n",
      "conv3_block4_1_conv (Conv2D)    (None, 28, 28, 128)  28672       conv3_block4_0_relu[0][0]        \n",
      "__________________________________________________________________________________________________\n",
      "conv3_block4_1_bn (BatchNormali (None, 28, 28, 128)  512         conv3_block4_1_conv[0][0]        \n",
      "__________________________________________________________________________________________________\n",
      "conv3_block4_1_relu (Activation (None, 28, 28, 128)  0           conv3_block4_1_bn[0][0]          \n",
      "__________________________________________________________________________________________________\n",
      "conv3_block4_2_conv (Conv2D)    (None, 28, 28, 32)   36864       conv3_block4_1_relu[0][0]        \n",
      "__________________________________________________________________________________________________\n",
      "conv3_block4_concat (Concatenat (None, 28, 28, 256)  0           conv3_block3_concat[0][0]        \n",
      "                                                                 conv3_block4_2_conv[0][0]        \n",
      "__________________________________________________________________________________________________\n",
      "conv3_block5_0_bn (BatchNormali (None, 28, 28, 256)  1024        conv3_block4_concat[0][0]        \n",
      "__________________________________________________________________________________________________\n",
      "conv3_block5_0_relu (Activation (None, 28, 28, 256)  0           conv3_block5_0_bn[0][0]          \n",
      "__________________________________________________________________________________________________\n",
      "conv3_block5_1_conv (Conv2D)    (None, 28, 28, 128)  32768       conv3_block5_0_relu[0][0]        \n",
      "__________________________________________________________________________________________________\n",
      "conv3_block5_1_bn (BatchNormali (None, 28, 28, 128)  512         conv3_block5_1_conv[0][0]        \n",
      "__________________________________________________________________________________________________\n",
      "conv3_block5_1_relu (Activation (None, 28, 28, 128)  0           conv3_block5_1_bn[0][0]          \n",
      "__________________________________________________________________________________________________\n",
      "conv3_block5_2_conv (Conv2D)    (None, 28, 28, 32)   36864       conv3_block5_1_relu[0][0]        \n",
      "__________________________________________________________________________________________________\n",
      "conv3_block5_concat (Concatenat (None, 28, 28, 288)  0           conv3_block4_concat[0][0]        \n",
      "                                                                 conv3_block5_2_conv[0][0]        \n",
      "__________________________________________________________________________________________________\n",
      "conv3_block6_0_bn (BatchNormali (None, 28, 28, 288)  1152        conv3_block5_concat[0][0]        \n",
      "__________________________________________________________________________________________________\n",
      "conv3_block6_0_relu (Activation (None, 28, 28, 288)  0           conv3_block6_0_bn[0][0]          \n",
      "__________________________________________________________________________________________________\n",
      "conv3_block6_1_conv (Conv2D)    (None, 28, 28, 128)  36864       conv3_block6_0_relu[0][0]        \n",
      "__________________________________________________________________________________________________\n",
      "conv3_block6_1_bn (BatchNormali (None, 28, 28, 128)  512         conv3_block6_1_conv[0][0]        \n",
      "__________________________________________________________________________________________________\n",
      "conv3_block6_1_relu (Activation (None, 28, 28, 128)  0           conv3_block6_1_bn[0][0]          \n",
      "__________________________________________________________________________________________________\n",
      "conv3_block6_2_conv (Conv2D)    (None, 28, 28, 32)   36864       conv3_block6_1_relu[0][0]        \n",
      "__________________________________________________________________________________________________\n",
      "conv3_block6_concat (Concatenat (None, 28, 28, 320)  0           conv3_block5_concat[0][0]        \n",
      "                                                                 conv3_block6_2_conv[0][0]        \n",
      "__________________________________________________________________________________________________\n",
      "conv3_block7_0_bn (BatchNormali (None, 28, 28, 320)  1280        conv3_block6_concat[0][0]        \n",
      "__________________________________________________________________________________________________\n",
      "conv3_block7_0_relu (Activation (None, 28, 28, 320)  0           conv3_block7_0_bn[0][0]          \n",
      "__________________________________________________________________________________________________\n",
      "conv3_block7_1_conv (Conv2D)    (None, 28, 28, 128)  40960       conv3_block7_0_relu[0][0]        \n",
      "__________________________________________________________________________________________________\n",
      "conv3_block7_1_bn (BatchNormali (None, 28, 28, 128)  512         conv3_block7_1_conv[0][0]        \n",
      "__________________________________________________________________________________________________\n",
      "conv3_block7_1_relu (Activation (None, 28, 28, 128)  0           conv3_block7_1_bn[0][0]          \n",
      "__________________________________________________________________________________________________\n",
      "conv3_block7_2_conv (Conv2D)    (None, 28, 28, 32)   36864       conv3_block7_1_relu[0][0]        \n",
      "__________________________________________________________________________________________________\n",
      "conv3_block7_concat (Concatenat (None, 28, 28, 352)  0           conv3_block6_concat[0][0]        \n",
      "                                                                 conv3_block7_2_conv[0][0]        \n",
      "__________________________________________________________________________________________________\n",
      "conv3_block8_0_bn (BatchNormali (None, 28, 28, 352)  1408        conv3_block7_concat[0][0]        \n",
      "__________________________________________________________________________________________________\n",
      "conv3_block8_0_relu (Activation (None, 28, 28, 352)  0           conv3_block8_0_bn[0][0]          \n",
      "__________________________________________________________________________________________________\n",
      "conv3_block8_1_conv (Conv2D)    (None, 28, 28, 128)  45056       conv3_block8_0_relu[0][0]        \n",
      "__________________________________________________________________________________________________\n",
      "conv3_block8_1_bn (BatchNormali (None, 28, 28, 128)  512         conv3_block8_1_conv[0][0]        \n",
      "__________________________________________________________________________________________________\n",
      "conv3_block8_1_relu (Activation (None, 28, 28, 128)  0           conv3_block8_1_bn[0][0]          \n",
      "__________________________________________________________________________________________________\n",
      "conv3_block8_2_conv (Conv2D)    (None, 28, 28, 32)   36864       conv3_block8_1_relu[0][0]        \n",
      "__________________________________________________________________________________________________\n",
      "conv3_block8_concat (Concatenat (None, 28, 28, 384)  0           conv3_block7_concat[0][0]        \n",
      "                                                                 conv3_block8_2_conv[0][0]        \n",
      "__________________________________________________________________________________________________\n",
      "conv3_block9_0_bn (BatchNormali (None, 28, 28, 384)  1536        conv3_block8_concat[0][0]        \n",
      "__________________________________________________________________________________________________\n",
      "conv3_block9_0_relu (Activation (None, 28, 28, 384)  0           conv3_block9_0_bn[0][0]          \n",
      "__________________________________________________________________________________________________\n",
      "conv3_block9_1_conv (Conv2D)    (None, 28, 28, 128)  49152       conv3_block9_0_relu[0][0]        \n",
      "__________________________________________________________________________________________________\n",
      "conv3_block9_1_bn (BatchNormali (None, 28, 28, 128)  512         conv3_block9_1_conv[0][0]        \n",
      "__________________________________________________________________________________________________\n",
      "conv3_block9_1_relu (Activation (None, 28, 28, 128)  0           conv3_block9_1_bn[0][0]          \n",
      "__________________________________________________________________________________________________\n",
      "conv3_block9_2_conv (Conv2D)    (None, 28, 28, 32)   36864       conv3_block9_1_relu[0][0]        \n",
      "__________________________________________________________________________________________________\n",
      "conv3_block9_concat (Concatenat (None, 28, 28, 416)  0           conv3_block8_concat[0][0]        \n",
      "                                                                 conv3_block9_2_conv[0][0]        \n",
      "__________________________________________________________________________________________________\n",
      "conv3_block10_0_bn (BatchNormal (None, 28, 28, 416)  1664        conv3_block9_concat[0][0]        \n",
      "__________________________________________________________________________________________________\n",
      "conv3_block10_0_relu (Activatio (None, 28, 28, 416)  0           conv3_block10_0_bn[0][0]         \n",
      "__________________________________________________________________________________________________\n",
      "conv3_block10_1_conv (Conv2D)   (None, 28, 28, 128)  53248       conv3_block10_0_relu[0][0]       \n",
      "__________________________________________________________________________________________________\n",
      "conv3_block10_1_bn (BatchNormal (None, 28, 28, 128)  512         conv3_block10_1_conv[0][0]       \n",
      "__________________________________________________________________________________________________\n",
      "conv3_block10_1_relu (Activatio (None, 28, 28, 128)  0           conv3_block10_1_bn[0][0]         \n",
      "__________________________________________________________________________________________________\n",
      "conv3_block10_2_conv (Conv2D)   (None, 28, 28, 32)   36864       conv3_block10_1_relu[0][0]       \n",
      "__________________________________________________________________________________________________\n",
      "conv3_block10_concat (Concatena (None, 28, 28, 448)  0           conv3_block9_concat[0][0]        \n",
      "                                                                 conv3_block10_2_conv[0][0]       \n",
      "__________________________________________________________________________________________________\n",
      "conv3_block11_0_bn (BatchNormal (None, 28, 28, 448)  1792        conv3_block10_concat[0][0]       \n",
      "__________________________________________________________________________________________________\n",
      "conv3_block11_0_relu (Activatio (None, 28, 28, 448)  0           conv3_block11_0_bn[0][0]         \n",
      "__________________________________________________________________________________________________\n",
      "conv3_block11_1_conv (Conv2D)   (None, 28, 28, 128)  57344       conv3_block11_0_relu[0][0]       \n",
      "__________________________________________________________________________________________________\n",
      "conv3_block11_1_bn (BatchNormal (None, 28, 28, 128)  512         conv3_block11_1_conv[0][0]       \n",
      "__________________________________________________________________________________________________\n",
      "conv3_block11_1_relu (Activatio (None, 28, 28, 128)  0           conv3_block11_1_bn[0][0]         \n",
      "__________________________________________________________________________________________________\n",
      "conv3_block11_2_conv (Conv2D)   (None, 28, 28, 32)   36864       conv3_block11_1_relu[0][0]       \n",
      "__________________________________________________________________________________________________\n",
      "conv3_block11_concat (Concatena (None, 28, 28, 480)  0           conv3_block10_concat[0][0]       \n",
      "                                                                 conv3_block11_2_conv[0][0]       \n",
      "__________________________________________________________________________________________________\n",
      "conv3_block12_0_bn (BatchNormal (None, 28, 28, 480)  1920        conv3_block11_concat[0][0]       \n",
      "__________________________________________________________________________________________________\n",
      "conv3_block12_0_relu (Activatio (None, 28, 28, 480)  0           conv3_block12_0_bn[0][0]         \n",
      "__________________________________________________________________________________________________\n",
      "conv3_block12_1_conv (Conv2D)   (None, 28, 28, 128)  61440       conv3_block12_0_relu[0][0]       \n",
      "__________________________________________________________________________________________________\n",
      "conv3_block12_1_bn (BatchNormal (None, 28, 28, 128)  512         conv3_block12_1_conv[0][0]       \n",
      "__________________________________________________________________________________________________\n",
      "conv3_block12_1_relu (Activatio (None, 28, 28, 128)  0           conv3_block12_1_bn[0][0]         \n",
      "__________________________________________________________________________________________________\n",
      "conv3_block12_2_conv (Conv2D)   (None, 28, 28, 32)   36864       conv3_block12_1_relu[0][0]       \n",
      "__________________________________________________________________________________________________\n",
      "conv3_block12_concat (Concatena (None, 28, 28, 512)  0           conv3_block11_concat[0][0]       \n",
      "                                                                 conv3_block12_2_conv[0][0]       \n",
      "__________________________________________________________________________________________________\n",
      "pool3_bn (BatchNormalization)   (None, 28, 28, 512)  2048        conv3_block12_concat[0][0]       \n",
      "__________________________________________________________________________________________________\n",
      "pool3_relu (Activation)         (None, 28, 28, 512)  0           pool3_bn[0][0]                   \n",
      "__________________________________________________________________________________________________\n",
      "pool3_conv (Conv2D)             (None, 28, 28, 256)  131072      pool3_relu[0][0]                 \n",
      "__________________________________________________________________________________________________\n",
      "pool3_pool (AveragePooling2D)   (None, 14, 14, 256)  0           pool3_conv[0][0]                 \n",
      "__________________________________________________________________________________________________\n",
      "conv4_block1_0_bn (BatchNormali (None, 14, 14, 256)  1024        pool3_pool[0][0]                 \n",
      "__________________________________________________________________________________________________\n",
      "conv4_block1_0_relu (Activation (None, 14, 14, 256)  0           conv4_block1_0_bn[0][0]          \n",
      "__________________________________________________________________________________________________\n",
      "conv4_block1_1_conv (Conv2D)    (None, 14, 14, 128)  32768       conv4_block1_0_relu[0][0]        \n",
      "__________________________________________________________________________________________________\n",
      "conv4_block1_1_bn (BatchNormali (None, 14, 14, 128)  512         conv4_block1_1_conv[0][0]        \n",
      "__________________________________________________________________________________________________\n",
      "conv4_block1_1_relu (Activation (None, 14, 14, 128)  0           conv4_block1_1_bn[0][0]          \n",
      "__________________________________________________________________________________________________\n",
      "conv4_block1_2_conv (Conv2D)    (None, 14, 14, 32)   36864       conv4_block1_1_relu[0][0]        \n",
      "__________________________________________________________________________________________________\n",
      "conv4_block1_concat (Concatenat (None, 14, 14, 288)  0           pool3_pool[0][0]                 \n",
      "                                                                 conv4_block1_2_conv[0][0]        \n",
      "__________________________________________________________________________________________________\n",
      "conv4_block2_0_bn (BatchNormali (None, 14, 14, 288)  1152        conv4_block1_concat[0][0]        \n",
      "__________________________________________________________________________________________________\n",
      "conv4_block2_0_relu (Activation (None, 14, 14, 288)  0           conv4_block2_0_bn[0][0]          \n",
      "__________________________________________________________________________________________________\n",
      "conv4_block2_1_conv (Conv2D)    (None, 14, 14, 128)  36864       conv4_block2_0_relu[0][0]        \n",
      "__________________________________________________________________________________________________\n",
      "conv4_block2_1_bn (BatchNormali (None, 14, 14, 128)  512         conv4_block2_1_conv[0][0]        \n",
      "__________________________________________________________________________________________________\n",
      "conv4_block2_1_relu (Activation (None, 14, 14, 128)  0           conv4_block2_1_bn[0][0]          \n",
      "__________________________________________________________________________________________________\n",
      "conv4_block2_2_conv (Conv2D)    (None, 14, 14, 32)   36864       conv4_block2_1_relu[0][0]        \n",
      "__________________________________________________________________________________________________\n",
      "conv4_block2_concat (Concatenat (None, 14, 14, 320)  0           conv4_block1_concat[0][0]        \n",
      "                                                                 conv4_block2_2_conv[0][0]        \n",
      "__________________________________________________________________________________________________\n",
      "conv4_block3_0_bn (BatchNormali (None, 14, 14, 320)  1280        conv4_block2_concat[0][0]        \n",
      "__________________________________________________________________________________________________\n",
      "conv4_block3_0_relu (Activation (None, 14, 14, 320)  0           conv4_block3_0_bn[0][0]          \n",
      "__________________________________________________________________________________________________\n",
      "conv4_block3_1_conv (Conv2D)    (None, 14, 14, 128)  40960       conv4_block3_0_relu[0][0]        \n",
      "__________________________________________________________________________________________________\n",
      "conv4_block3_1_bn (BatchNormali (None, 14, 14, 128)  512         conv4_block3_1_conv[0][0]        \n",
      "__________________________________________________________________________________________________\n",
      "conv4_block3_1_relu (Activation (None, 14, 14, 128)  0           conv4_block3_1_bn[0][0]          \n",
      "__________________________________________________________________________________________________\n",
      "conv4_block3_2_conv (Conv2D)    (None, 14, 14, 32)   36864       conv4_block3_1_relu[0][0]        \n",
      "__________________________________________________________________________________________________\n",
      "conv4_block3_concat (Concatenat (None, 14, 14, 352)  0           conv4_block2_concat[0][0]        \n",
      "                                                                 conv4_block3_2_conv[0][0]        \n",
      "__________________________________________________________________________________________________\n",
      "conv4_block4_0_bn (BatchNormali (None, 14, 14, 352)  1408        conv4_block3_concat[0][0]        \n",
      "__________________________________________________________________________________________________\n",
      "conv4_block4_0_relu (Activation (None, 14, 14, 352)  0           conv4_block4_0_bn[0][0]          \n",
      "__________________________________________________________________________________________________\n",
      "conv4_block4_1_conv (Conv2D)    (None, 14, 14, 128)  45056       conv4_block4_0_relu[0][0]        \n",
      "__________________________________________________________________________________________________\n",
      "conv4_block4_1_bn (BatchNormali (None, 14, 14, 128)  512         conv4_block4_1_conv[0][0]        \n",
      "__________________________________________________________________________________________________\n",
      "conv4_block4_1_relu (Activation (None, 14, 14, 128)  0           conv4_block4_1_bn[0][0]          \n",
      "__________________________________________________________________________________________________\n",
      "conv4_block4_2_conv (Conv2D)    (None, 14, 14, 32)   36864       conv4_block4_1_relu[0][0]        \n",
      "__________________________________________________________________________________________________\n",
      "conv4_block4_concat (Concatenat (None, 14, 14, 384)  0           conv4_block3_concat[0][0]        \n",
      "                                                                 conv4_block4_2_conv[0][0]        \n",
      "__________________________________________________________________________________________________\n",
      "conv4_block5_0_bn (BatchNormali (None, 14, 14, 384)  1536        conv4_block4_concat[0][0]        \n",
      "__________________________________________________________________________________________________\n",
      "conv4_block5_0_relu (Activation (None, 14, 14, 384)  0           conv4_block5_0_bn[0][0]          \n",
      "__________________________________________________________________________________________________\n",
      "conv4_block5_1_conv (Conv2D)    (None, 14, 14, 128)  49152       conv4_block5_0_relu[0][0]        \n",
      "__________________________________________________________________________________________________\n",
      "conv4_block5_1_bn (BatchNormali (None, 14, 14, 128)  512         conv4_block5_1_conv[0][0]        \n",
      "__________________________________________________________________________________________________\n",
      "conv4_block5_1_relu (Activation (None, 14, 14, 128)  0           conv4_block5_1_bn[0][0]          \n",
      "__________________________________________________________________________________________________\n",
      "conv4_block5_2_conv (Conv2D)    (None, 14, 14, 32)   36864       conv4_block5_1_relu[0][0]        \n",
      "__________________________________________________________________________________________________\n",
      "conv4_block5_concat (Concatenat (None, 14, 14, 416)  0           conv4_block4_concat[0][0]        \n",
      "                                                                 conv4_block5_2_conv[0][0]        \n",
      "__________________________________________________________________________________________________\n",
      "conv4_block6_0_bn (BatchNormali (None, 14, 14, 416)  1664        conv4_block5_concat[0][0]        \n",
      "__________________________________________________________________________________________________\n",
      "conv4_block6_0_relu (Activation (None, 14, 14, 416)  0           conv4_block6_0_bn[0][0]          \n",
      "__________________________________________________________________________________________________\n",
      "conv4_block6_1_conv (Conv2D)    (None, 14, 14, 128)  53248       conv4_block6_0_relu[0][0]        \n",
      "__________________________________________________________________________________________________\n",
      "conv4_block6_1_bn (BatchNormali (None, 14, 14, 128)  512         conv4_block6_1_conv[0][0]        \n",
      "__________________________________________________________________________________________________\n",
      "conv4_block6_1_relu (Activation (None, 14, 14, 128)  0           conv4_block6_1_bn[0][0]          \n",
      "__________________________________________________________________________________________________\n",
      "conv4_block6_2_conv (Conv2D)    (None, 14, 14, 32)   36864       conv4_block6_1_relu[0][0]        \n",
      "__________________________________________________________________________________________________\n",
      "conv4_block6_concat (Concatenat (None, 14, 14, 448)  0           conv4_block5_concat[0][0]        \n",
      "                                                                 conv4_block6_2_conv[0][0]        \n",
      "__________________________________________________________________________________________________\n",
      "conv4_block7_0_bn (BatchNormali (None, 14, 14, 448)  1792        conv4_block6_concat[0][0]        \n",
      "__________________________________________________________________________________________________\n",
      "conv4_block7_0_relu (Activation (None, 14, 14, 448)  0           conv4_block7_0_bn[0][0]          \n",
      "__________________________________________________________________________________________________\n",
      "conv4_block7_1_conv (Conv2D)    (None, 14, 14, 128)  57344       conv4_block7_0_relu[0][0]        \n",
      "__________________________________________________________________________________________________\n",
      "conv4_block7_1_bn (BatchNormali (None, 14, 14, 128)  512         conv4_block7_1_conv[0][0]        \n",
      "__________________________________________________________________________________________________\n",
      "conv4_block7_1_relu (Activation (None, 14, 14, 128)  0           conv4_block7_1_bn[0][0]          \n",
      "__________________________________________________________________________________________________\n",
      "conv4_block7_2_conv (Conv2D)    (None, 14, 14, 32)   36864       conv4_block7_1_relu[0][0]        \n",
      "__________________________________________________________________________________________________\n",
      "conv4_block7_concat (Concatenat (None, 14, 14, 480)  0           conv4_block6_concat[0][0]        \n",
      "                                                                 conv4_block7_2_conv[0][0]        \n",
      "__________________________________________________________________________________________________\n",
      "conv4_block8_0_bn (BatchNormali (None, 14, 14, 480)  1920        conv4_block7_concat[0][0]        \n",
      "__________________________________________________________________________________________________\n",
      "conv4_block8_0_relu (Activation (None, 14, 14, 480)  0           conv4_block8_0_bn[0][0]          \n",
      "__________________________________________________________________________________________________\n",
      "conv4_block8_1_conv (Conv2D)    (None, 14, 14, 128)  61440       conv4_block8_0_relu[0][0]        \n",
      "__________________________________________________________________________________________________\n",
      "conv4_block8_1_bn (BatchNormali (None, 14, 14, 128)  512         conv4_block8_1_conv[0][0]        \n",
      "__________________________________________________________________________________________________\n",
      "conv4_block8_1_relu (Activation (None, 14, 14, 128)  0           conv4_block8_1_bn[0][0]          \n",
      "__________________________________________________________________________________________________\n",
      "conv4_block8_2_conv (Conv2D)    (None, 14, 14, 32)   36864       conv4_block8_1_relu[0][0]        \n",
      "__________________________________________________________________________________________________\n",
      "conv4_block8_concat (Concatenat (None, 14, 14, 512)  0           conv4_block7_concat[0][0]        \n",
      "                                                                 conv4_block8_2_conv[0][0]        \n",
      "__________________________________________________________________________________________________\n",
      "conv4_block9_0_bn (BatchNormali (None, 14, 14, 512)  2048        conv4_block8_concat[0][0]        \n",
      "__________________________________________________________________________________________________\n",
      "conv4_block9_0_relu (Activation (None, 14, 14, 512)  0           conv4_block9_0_bn[0][0]          \n",
      "__________________________________________________________________________________________________\n",
      "conv4_block9_1_conv (Conv2D)    (None, 14, 14, 128)  65536       conv4_block9_0_relu[0][0]        \n",
      "__________________________________________________________________________________________________\n",
      "conv4_block9_1_bn (BatchNormali (None, 14, 14, 128)  512         conv4_block9_1_conv[0][0]        \n",
      "__________________________________________________________________________________________________\n",
      "conv4_block9_1_relu (Activation (None, 14, 14, 128)  0           conv4_block9_1_bn[0][0]          \n",
      "__________________________________________________________________________________________________\n",
      "conv4_block9_2_conv (Conv2D)    (None, 14, 14, 32)   36864       conv4_block9_1_relu[0][0]        \n",
      "__________________________________________________________________________________________________\n",
      "conv4_block9_concat (Concatenat (None, 14, 14, 544)  0           conv4_block8_concat[0][0]        \n",
      "                                                                 conv4_block9_2_conv[0][0]        \n",
      "__________________________________________________________________________________________________\n",
      "conv4_block10_0_bn (BatchNormal (None, 14, 14, 544)  2176        conv4_block9_concat[0][0]        \n",
      "__________________________________________________________________________________________________\n",
      "conv4_block10_0_relu (Activatio (None, 14, 14, 544)  0           conv4_block10_0_bn[0][0]         \n",
      "__________________________________________________________________________________________________\n",
      "conv4_block10_1_conv (Conv2D)   (None, 14, 14, 128)  69632       conv4_block10_0_relu[0][0]       \n",
      "__________________________________________________________________________________________________\n",
      "conv4_block10_1_bn (BatchNormal (None, 14, 14, 128)  512         conv4_block10_1_conv[0][0]       \n",
      "__________________________________________________________________________________________________\n",
      "conv4_block10_1_relu (Activatio (None, 14, 14, 128)  0           conv4_block10_1_bn[0][0]         \n",
      "__________________________________________________________________________________________________\n",
      "conv4_block10_2_conv (Conv2D)   (None, 14, 14, 32)   36864       conv4_block10_1_relu[0][0]       \n",
      "__________________________________________________________________________________________________\n",
      "conv4_block10_concat (Concatena (None, 14, 14, 576)  0           conv4_block9_concat[0][0]        \n",
      "                                                                 conv4_block10_2_conv[0][0]       \n",
      "__________________________________________________________________________________________________\n",
      "conv4_block11_0_bn (BatchNormal (None, 14, 14, 576)  2304        conv4_block10_concat[0][0]       \n",
      "__________________________________________________________________________________________________\n",
      "conv4_block11_0_relu (Activatio (None, 14, 14, 576)  0           conv4_block11_0_bn[0][0]         \n",
      "__________________________________________________________________________________________________\n",
      "conv4_block11_1_conv (Conv2D)   (None, 14, 14, 128)  73728       conv4_block11_0_relu[0][0]       \n",
      "__________________________________________________________________________________________________\n",
      "conv4_block11_1_bn (BatchNormal (None, 14, 14, 128)  512         conv4_block11_1_conv[0][0]       \n",
      "__________________________________________________________________________________________________\n",
      "conv4_block11_1_relu (Activatio (None, 14, 14, 128)  0           conv4_block11_1_bn[0][0]         \n",
      "__________________________________________________________________________________________________\n",
      "conv4_block11_2_conv (Conv2D)   (None, 14, 14, 32)   36864       conv4_block11_1_relu[0][0]       \n",
      "__________________________________________________________________________________________________\n",
      "conv4_block11_concat (Concatena (None, 14, 14, 608)  0           conv4_block10_concat[0][0]       \n",
      "                                                                 conv4_block11_2_conv[0][0]       \n",
      "__________________________________________________________________________________________________\n",
      "conv4_block12_0_bn (BatchNormal (None, 14, 14, 608)  2432        conv4_block11_concat[0][0]       \n",
      "__________________________________________________________________________________________________\n",
      "conv4_block12_0_relu (Activatio (None, 14, 14, 608)  0           conv4_block12_0_bn[0][0]         \n",
      "__________________________________________________________________________________________________\n",
      "conv4_block12_1_conv (Conv2D)   (None, 14, 14, 128)  77824       conv4_block12_0_relu[0][0]       \n",
      "__________________________________________________________________________________________________\n",
      "conv4_block12_1_bn (BatchNormal (None, 14, 14, 128)  512         conv4_block12_1_conv[0][0]       \n",
      "__________________________________________________________________________________________________\n",
      "conv4_block12_1_relu (Activatio (None, 14, 14, 128)  0           conv4_block12_1_bn[0][0]         \n",
      "__________________________________________________________________________________________________\n",
      "conv4_block12_2_conv (Conv2D)   (None, 14, 14, 32)   36864       conv4_block12_1_relu[0][0]       \n",
      "__________________________________________________________________________________________________\n",
      "conv4_block12_concat (Concatena (None, 14, 14, 640)  0           conv4_block11_concat[0][0]       \n",
      "                                                                 conv4_block12_2_conv[0][0]       \n",
      "__________________________________________________________________________________________________\n",
      "conv4_block13_0_bn (BatchNormal (None, 14, 14, 640)  2560        conv4_block12_concat[0][0]       \n",
      "__________________________________________________________________________________________________\n",
      "conv4_block13_0_relu (Activatio (None, 14, 14, 640)  0           conv4_block13_0_bn[0][0]         \n",
      "__________________________________________________________________________________________________\n",
      "conv4_block13_1_conv (Conv2D)   (None, 14, 14, 128)  81920       conv4_block13_0_relu[0][0]       \n",
      "__________________________________________________________________________________________________\n",
      "conv4_block13_1_bn (BatchNormal (None, 14, 14, 128)  512         conv4_block13_1_conv[0][0]       \n",
      "__________________________________________________________________________________________________\n",
      "conv4_block13_1_relu (Activatio (None, 14, 14, 128)  0           conv4_block13_1_bn[0][0]         \n",
      "__________________________________________________________________________________________________\n",
      "conv4_block13_2_conv (Conv2D)   (None, 14, 14, 32)   36864       conv4_block13_1_relu[0][0]       \n",
      "__________________________________________________________________________________________________\n",
      "conv4_block13_concat (Concatena (None, 14, 14, 672)  0           conv4_block12_concat[0][0]       \n",
      "                                                                 conv4_block13_2_conv[0][0]       \n",
      "__________________________________________________________________________________________________\n",
      "conv4_block14_0_bn (BatchNormal (None, 14, 14, 672)  2688        conv4_block13_concat[0][0]       \n",
      "__________________________________________________________________________________________________\n",
      "conv4_block14_0_relu (Activatio (None, 14, 14, 672)  0           conv4_block14_0_bn[0][0]         \n",
      "__________________________________________________________________________________________________\n",
      "conv4_block14_1_conv (Conv2D)   (None, 14, 14, 128)  86016       conv4_block14_0_relu[0][0]       \n",
      "__________________________________________________________________________________________________\n",
      "conv4_block14_1_bn (BatchNormal (None, 14, 14, 128)  512         conv4_block14_1_conv[0][0]       \n",
      "__________________________________________________________________________________________________\n",
      "conv4_block14_1_relu (Activatio (None, 14, 14, 128)  0           conv4_block14_1_bn[0][0]         \n",
      "__________________________________________________________________________________________________\n",
      "conv4_block14_2_conv (Conv2D)   (None, 14, 14, 32)   36864       conv4_block14_1_relu[0][0]       \n",
      "__________________________________________________________________________________________________\n",
      "conv4_block14_concat (Concatena (None, 14, 14, 704)  0           conv4_block13_concat[0][0]       \n",
      "                                                                 conv4_block14_2_conv[0][0]       \n",
      "__________________________________________________________________________________________________\n",
      "conv4_block15_0_bn (BatchNormal (None, 14, 14, 704)  2816        conv4_block14_concat[0][0]       \n",
      "__________________________________________________________________________________________________\n",
      "conv4_block15_0_relu (Activatio (None, 14, 14, 704)  0           conv4_block15_0_bn[0][0]         \n",
      "__________________________________________________________________________________________________\n",
      "conv4_block15_1_conv (Conv2D)   (None, 14, 14, 128)  90112       conv4_block15_0_relu[0][0]       \n",
      "__________________________________________________________________________________________________\n",
      "conv4_block15_1_bn (BatchNormal (None, 14, 14, 128)  512         conv4_block15_1_conv[0][0]       \n",
      "__________________________________________________________________________________________________\n",
      "conv4_block15_1_relu (Activatio (None, 14, 14, 128)  0           conv4_block15_1_bn[0][0]         \n",
      "__________________________________________________________________________________________________\n",
      "conv4_block15_2_conv (Conv2D)   (None, 14, 14, 32)   36864       conv4_block15_1_relu[0][0]       \n",
      "__________________________________________________________________________________________________\n",
      "conv4_block15_concat (Concatena (None, 14, 14, 736)  0           conv4_block14_concat[0][0]       \n",
      "                                                                 conv4_block15_2_conv[0][0]       \n",
      "__________________________________________________________________________________________________\n",
      "conv4_block16_0_bn (BatchNormal (None, 14, 14, 736)  2944        conv4_block15_concat[0][0]       \n",
      "__________________________________________________________________________________________________\n",
      "conv4_block16_0_relu (Activatio (None, 14, 14, 736)  0           conv4_block16_0_bn[0][0]         \n",
      "__________________________________________________________________________________________________\n",
      "conv4_block16_1_conv (Conv2D)   (None, 14, 14, 128)  94208       conv4_block16_0_relu[0][0]       \n",
      "__________________________________________________________________________________________________\n",
      "conv4_block16_1_bn (BatchNormal (None, 14, 14, 128)  512         conv4_block16_1_conv[0][0]       \n",
      "__________________________________________________________________________________________________\n",
      "conv4_block16_1_relu (Activatio (None, 14, 14, 128)  0           conv4_block16_1_bn[0][0]         \n",
      "__________________________________________________________________________________________________\n",
      "conv4_block16_2_conv (Conv2D)   (None, 14, 14, 32)   36864       conv4_block16_1_relu[0][0]       \n",
      "__________________________________________________________________________________________________\n",
      "conv4_block16_concat (Concatena (None, 14, 14, 768)  0           conv4_block15_concat[0][0]       \n",
      "                                                                 conv4_block16_2_conv[0][0]       \n",
      "__________________________________________________________________________________________________\n",
      "conv4_block17_0_bn (BatchNormal (None, 14, 14, 768)  3072        conv4_block16_concat[0][0]       \n",
      "__________________________________________________________________________________________________\n",
      "conv4_block17_0_relu (Activatio (None, 14, 14, 768)  0           conv4_block17_0_bn[0][0]         \n",
      "__________________________________________________________________________________________________\n",
      "conv4_block17_1_conv (Conv2D)   (None, 14, 14, 128)  98304       conv4_block17_0_relu[0][0]       \n",
      "__________________________________________________________________________________________________\n",
      "conv4_block17_1_bn (BatchNormal (None, 14, 14, 128)  512         conv4_block17_1_conv[0][0]       \n",
      "__________________________________________________________________________________________________\n",
      "conv4_block17_1_relu (Activatio (None, 14, 14, 128)  0           conv4_block17_1_bn[0][0]         \n",
      "__________________________________________________________________________________________________\n",
      "conv4_block17_2_conv (Conv2D)   (None, 14, 14, 32)   36864       conv4_block17_1_relu[0][0]       \n",
      "__________________________________________________________________________________________________\n",
      "conv4_block17_concat (Concatena (None, 14, 14, 800)  0           conv4_block16_concat[0][0]       \n",
      "                                                                 conv4_block17_2_conv[0][0]       \n",
      "__________________________________________________________________________________________________\n",
      "conv4_block18_0_bn (BatchNormal (None, 14, 14, 800)  3200        conv4_block17_concat[0][0]       \n",
      "__________________________________________________________________________________________________\n",
      "conv4_block18_0_relu (Activatio (None, 14, 14, 800)  0           conv4_block18_0_bn[0][0]         \n",
      "__________________________________________________________________________________________________\n",
      "conv4_block18_1_conv (Conv2D)   (None, 14, 14, 128)  102400      conv4_block18_0_relu[0][0]       \n",
      "__________________________________________________________________________________________________\n",
      "conv4_block18_1_bn (BatchNormal (None, 14, 14, 128)  512         conv4_block18_1_conv[0][0]       \n",
      "__________________________________________________________________________________________________\n",
      "conv4_block18_1_relu (Activatio (None, 14, 14, 128)  0           conv4_block18_1_bn[0][0]         \n",
      "__________________________________________________________________________________________________\n",
      "conv4_block18_2_conv (Conv2D)   (None, 14, 14, 32)   36864       conv4_block18_1_relu[0][0]       \n",
      "__________________________________________________________________________________________________\n",
      "conv4_block18_concat (Concatena (None, 14, 14, 832)  0           conv4_block17_concat[0][0]       \n",
      "                                                                 conv4_block18_2_conv[0][0]       \n",
      "__________________________________________________________________________________________________\n",
      "conv4_block19_0_bn (BatchNormal (None, 14, 14, 832)  3328        conv4_block18_concat[0][0]       \n",
      "__________________________________________________________________________________________________\n",
      "conv4_block19_0_relu (Activatio (None, 14, 14, 832)  0           conv4_block19_0_bn[0][0]         \n",
      "__________________________________________________________________________________________________\n",
      "conv4_block19_1_conv (Conv2D)   (None, 14, 14, 128)  106496      conv4_block19_0_relu[0][0]       \n",
      "__________________________________________________________________________________________________\n",
      "conv4_block19_1_bn (BatchNormal (None, 14, 14, 128)  512         conv4_block19_1_conv[0][0]       \n",
      "__________________________________________________________________________________________________\n",
      "conv4_block19_1_relu (Activatio (None, 14, 14, 128)  0           conv4_block19_1_bn[0][0]         \n",
      "__________________________________________________________________________________________________\n",
      "conv4_block19_2_conv (Conv2D)   (None, 14, 14, 32)   36864       conv4_block19_1_relu[0][0]       \n",
      "__________________________________________________________________________________________________\n",
      "conv4_block19_concat (Concatena (None, 14, 14, 864)  0           conv4_block18_concat[0][0]       \n",
      "                                                                 conv4_block19_2_conv[0][0]       \n",
      "__________________________________________________________________________________________________\n",
      "conv4_block20_0_bn (BatchNormal (None, 14, 14, 864)  3456        conv4_block19_concat[0][0]       \n",
      "__________________________________________________________________________________________________\n",
      "conv4_block20_0_relu (Activatio (None, 14, 14, 864)  0           conv4_block20_0_bn[0][0]         \n",
      "__________________________________________________________________________________________________\n",
      "conv4_block20_1_conv (Conv2D)   (None, 14, 14, 128)  110592      conv4_block20_0_relu[0][0]       \n",
      "__________________________________________________________________________________________________\n",
      "conv4_block20_1_bn (BatchNormal (None, 14, 14, 128)  512         conv4_block20_1_conv[0][0]       \n",
      "__________________________________________________________________________________________________\n",
      "conv4_block20_1_relu (Activatio (None, 14, 14, 128)  0           conv4_block20_1_bn[0][0]         \n",
      "__________________________________________________________________________________________________\n",
      "conv4_block20_2_conv (Conv2D)   (None, 14, 14, 32)   36864       conv4_block20_1_relu[0][0]       \n",
      "__________________________________________________________________________________________________\n",
      "conv4_block20_concat (Concatena (None, 14, 14, 896)  0           conv4_block19_concat[0][0]       \n",
      "                                                                 conv4_block20_2_conv[0][0]       \n",
      "__________________________________________________________________________________________________\n",
      "conv4_block21_0_bn (BatchNormal (None, 14, 14, 896)  3584        conv4_block20_concat[0][0]       \n",
      "__________________________________________________________________________________________________\n",
      "conv4_block21_0_relu (Activatio (None, 14, 14, 896)  0           conv4_block21_0_bn[0][0]         \n",
      "__________________________________________________________________________________________________\n",
      "conv4_block21_1_conv (Conv2D)   (None, 14, 14, 128)  114688      conv4_block21_0_relu[0][0]       \n",
      "__________________________________________________________________________________________________\n",
      "conv4_block21_1_bn (BatchNormal (None, 14, 14, 128)  512         conv4_block21_1_conv[0][0]       \n",
      "__________________________________________________________________________________________________\n",
      "conv4_block21_1_relu (Activatio (None, 14, 14, 128)  0           conv4_block21_1_bn[0][0]         \n",
      "__________________________________________________________________________________________________\n",
      "conv4_block21_2_conv (Conv2D)   (None, 14, 14, 32)   36864       conv4_block21_1_relu[0][0]       \n",
      "__________________________________________________________________________________________________\n",
      "conv4_block21_concat (Concatena (None, 14, 14, 928)  0           conv4_block20_concat[0][0]       \n",
      "                                                                 conv4_block21_2_conv[0][0]       \n",
      "__________________________________________________________________________________________________\n",
      "conv4_block22_0_bn (BatchNormal (None, 14, 14, 928)  3712        conv4_block21_concat[0][0]       \n",
      "__________________________________________________________________________________________________\n",
      "conv4_block22_0_relu (Activatio (None, 14, 14, 928)  0           conv4_block22_0_bn[0][0]         \n",
      "__________________________________________________________________________________________________\n",
      "conv4_block22_1_conv (Conv2D)   (None, 14, 14, 128)  118784      conv4_block22_0_relu[0][0]       \n",
      "__________________________________________________________________________________________________\n",
      "conv4_block22_1_bn (BatchNormal (None, 14, 14, 128)  512         conv4_block22_1_conv[0][0]       \n",
      "__________________________________________________________________________________________________\n",
      "conv4_block22_1_relu (Activatio (None, 14, 14, 128)  0           conv4_block22_1_bn[0][0]         \n",
      "__________________________________________________________________________________________________\n",
      "conv4_block22_2_conv (Conv2D)   (None, 14, 14, 32)   36864       conv4_block22_1_relu[0][0]       \n",
      "__________________________________________________________________________________________________\n",
      "conv4_block22_concat (Concatena (None, 14, 14, 960)  0           conv4_block21_concat[0][0]       \n",
      "                                                                 conv4_block22_2_conv[0][0]       \n",
      "__________________________________________________________________________________________________\n",
      "conv4_block23_0_bn (BatchNormal (None, 14, 14, 960)  3840        conv4_block22_concat[0][0]       \n",
      "__________________________________________________________________________________________________\n",
      "conv4_block23_0_relu (Activatio (None, 14, 14, 960)  0           conv4_block23_0_bn[0][0]         \n",
      "__________________________________________________________________________________________________\n",
      "conv4_block23_1_conv (Conv2D)   (None, 14, 14, 128)  122880      conv4_block23_0_relu[0][0]       \n",
      "__________________________________________________________________________________________________\n",
      "conv4_block23_1_bn (BatchNormal (None, 14, 14, 128)  512         conv4_block23_1_conv[0][0]       \n",
      "__________________________________________________________________________________________________\n",
      "conv4_block23_1_relu (Activatio (None, 14, 14, 128)  0           conv4_block23_1_bn[0][0]         \n",
      "__________________________________________________________________________________________________\n",
      "conv4_block23_2_conv (Conv2D)   (None, 14, 14, 32)   36864       conv4_block23_1_relu[0][0]       \n",
      "__________________________________________________________________________________________________\n",
      "conv4_block23_concat (Concatena (None, 14, 14, 992)  0           conv4_block22_concat[0][0]       \n",
      "                                                                 conv4_block23_2_conv[0][0]       \n",
      "__________________________________________________________________________________________________\n",
      "conv4_block24_0_bn (BatchNormal (None, 14, 14, 992)  3968        conv4_block23_concat[0][0]       \n",
      "__________________________________________________________________________________________________\n",
      "conv4_block24_0_relu (Activatio (None, 14, 14, 992)  0           conv4_block24_0_bn[0][0]         \n",
      "__________________________________________________________________________________________________\n",
      "conv4_block24_1_conv (Conv2D)   (None, 14, 14, 128)  126976      conv4_block24_0_relu[0][0]       \n",
      "__________________________________________________________________________________________________\n",
      "conv4_block24_1_bn (BatchNormal (None, 14, 14, 128)  512         conv4_block24_1_conv[0][0]       \n",
      "__________________________________________________________________________________________________\n",
      "conv4_block24_1_relu (Activatio (None, 14, 14, 128)  0           conv4_block24_1_bn[0][0]         \n",
      "__________________________________________________________________________________________________\n",
      "conv4_block24_2_conv (Conv2D)   (None, 14, 14, 32)   36864       conv4_block24_1_relu[0][0]       \n",
      "__________________________________________________________________________________________________\n",
      "conv4_block24_concat (Concatena (None, 14, 14, 1024) 0           conv4_block23_concat[0][0]       \n",
      "                                                                 conv4_block24_2_conv[0][0]       \n",
      "__________________________________________________________________________________________________\n",
      "pool4_bn (BatchNormalization)   (None, 14, 14, 1024) 4096        conv4_block24_concat[0][0]       \n",
      "__________________________________________________________________________________________________\n",
      "pool4_relu (Activation)         (None, 14, 14, 1024) 0           pool4_bn[0][0]                   \n",
      "__________________________________________________________________________________________________\n",
      "pool4_conv (Conv2D)             (None, 14, 14, 512)  524288      pool4_relu[0][0]                 \n",
      "__________________________________________________________________________________________________\n",
      "pool4_pool (AveragePooling2D)   (None, 7, 7, 512)    0           pool4_conv[0][0]                 \n",
      "__________________________________________________________________________________________________\n",
      "conv5_block1_0_bn (BatchNormali (None, 7, 7, 512)    2048        pool4_pool[0][0]                 \n",
      "__________________________________________________________________________________________________\n",
      "conv5_block1_0_relu (Activation (None, 7, 7, 512)    0           conv5_block1_0_bn[0][0]          \n",
      "__________________________________________________________________________________________________\n",
      "conv5_block1_1_conv (Conv2D)    (None, 7, 7, 128)    65536       conv5_block1_0_relu[0][0]        \n",
      "__________________________________________________________________________________________________\n",
      "conv5_block1_1_bn (BatchNormali (None, 7, 7, 128)    512         conv5_block1_1_conv[0][0]        \n",
      "__________________________________________________________________________________________________\n",
      "conv5_block1_1_relu (Activation (None, 7, 7, 128)    0           conv5_block1_1_bn[0][0]          \n",
      "__________________________________________________________________________________________________\n",
      "conv5_block1_2_conv (Conv2D)    (None, 7, 7, 32)     36864       conv5_block1_1_relu[0][0]        \n",
      "__________________________________________________________________________________________________\n",
      "conv5_block1_concat (Concatenat (None, 7, 7, 544)    0           pool4_pool[0][0]                 \n",
      "                                                                 conv5_block1_2_conv[0][0]        \n",
      "__________________________________________________________________________________________________\n",
      "conv5_block2_0_bn (BatchNormali (None, 7, 7, 544)    2176        conv5_block1_concat[0][0]        \n",
      "__________________________________________________________________________________________________\n",
      "conv5_block2_0_relu (Activation (None, 7, 7, 544)    0           conv5_block2_0_bn[0][0]          \n",
      "__________________________________________________________________________________________________\n",
      "conv5_block2_1_conv (Conv2D)    (None, 7, 7, 128)    69632       conv5_block2_0_relu[0][0]        \n",
      "__________________________________________________________________________________________________\n",
      "conv5_block2_1_bn (BatchNormali (None, 7, 7, 128)    512         conv5_block2_1_conv[0][0]        \n",
      "__________________________________________________________________________________________________\n",
      "conv5_block2_1_relu (Activation (None, 7, 7, 128)    0           conv5_block2_1_bn[0][0]          \n",
      "__________________________________________________________________________________________________\n",
      "conv5_block2_2_conv (Conv2D)    (None, 7, 7, 32)     36864       conv5_block2_1_relu[0][0]        \n",
      "__________________________________________________________________________________________________\n",
      "conv5_block2_concat (Concatenat (None, 7, 7, 576)    0           conv5_block1_concat[0][0]        \n",
      "                                                                 conv5_block2_2_conv[0][0]        \n",
      "__________________________________________________________________________________________________\n",
      "conv5_block3_0_bn (BatchNormali (None, 7, 7, 576)    2304        conv5_block2_concat[0][0]        \n",
      "__________________________________________________________________________________________________\n",
      "conv5_block3_0_relu (Activation (None, 7, 7, 576)    0           conv5_block3_0_bn[0][0]          \n",
      "__________________________________________________________________________________________________\n",
      "conv5_block3_1_conv (Conv2D)    (None, 7, 7, 128)    73728       conv5_block3_0_relu[0][0]        \n",
      "__________________________________________________________________________________________________\n",
      "conv5_block3_1_bn (BatchNormali (None, 7, 7, 128)    512         conv5_block3_1_conv[0][0]        \n",
      "__________________________________________________________________________________________________\n",
      "conv5_block3_1_relu (Activation (None, 7, 7, 128)    0           conv5_block3_1_bn[0][0]          \n",
      "__________________________________________________________________________________________________\n",
      "conv5_block3_2_conv (Conv2D)    (None, 7, 7, 32)     36864       conv5_block3_1_relu[0][0]        \n",
      "__________________________________________________________________________________________________\n",
      "conv5_block3_concat (Concatenat (None, 7, 7, 608)    0           conv5_block2_concat[0][0]        \n",
      "                                                                 conv5_block3_2_conv[0][0]        \n",
      "__________________________________________________________________________________________________\n",
      "conv5_block4_0_bn (BatchNormali (None, 7, 7, 608)    2432        conv5_block3_concat[0][0]        \n",
      "__________________________________________________________________________________________________\n",
      "conv5_block4_0_relu (Activation (None, 7, 7, 608)    0           conv5_block4_0_bn[0][0]          \n",
      "__________________________________________________________________________________________________\n",
      "conv5_block4_1_conv (Conv2D)    (None, 7, 7, 128)    77824       conv5_block4_0_relu[0][0]        \n",
      "__________________________________________________________________________________________________\n",
      "conv5_block4_1_bn (BatchNormali (None, 7, 7, 128)    512         conv5_block4_1_conv[0][0]        \n",
      "__________________________________________________________________________________________________\n",
      "conv5_block4_1_relu (Activation (None, 7, 7, 128)    0           conv5_block4_1_bn[0][0]          \n",
      "__________________________________________________________________________________________________\n",
      "conv5_block4_2_conv (Conv2D)    (None, 7, 7, 32)     36864       conv5_block4_1_relu[0][0]        \n",
      "__________________________________________________________________________________________________\n",
      "conv5_block4_concat (Concatenat (None, 7, 7, 640)    0           conv5_block3_concat[0][0]        \n",
      "                                                                 conv5_block4_2_conv[0][0]        \n",
      "__________________________________________________________________________________________________\n",
      "conv5_block5_0_bn (BatchNormali (None, 7, 7, 640)    2560        conv5_block4_concat[0][0]        \n",
      "__________________________________________________________________________________________________\n",
      "conv5_block5_0_relu (Activation (None, 7, 7, 640)    0           conv5_block5_0_bn[0][0]          \n",
      "__________________________________________________________________________________________________\n",
      "conv5_block5_1_conv (Conv2D)    (None, 7, 7, 128)    81920       conv5_block5_0_relu[0][0]        \n",
      "__________________________________________________________________________________________________\n",
      "conv5_block5_1_bn (BatchNormali (None, 7, 7, 128)    512         conv5_block5_1_conv[0][0]        \n",
      "__________________________________________________________________________________________________\n",
      "conv5_block5_1_relu (Activation (None, 7, 7, 128)    0           conv5_block5_1_bn[0][0]          \n",
      "__________________________________________________________________________________________________\n",
      "conv5_block5_2_conv (Conv2D)    (None, 7, 7, 32)     36864       conv5_block5_1_relu[0][0]        \n",
      "__________________________________________________________________________________________________\n",
      "conv5_block5_concat (Concatenat (None, 7, 7, 672)    0           conv5_block4_concat[0][0]        \n",
      "                                                                 conv5_block5_2_conv[0][0]        \n",
      "__________________________________________________________________________________________________\n",
      "conv5_block6_0_bn (BatchNormali (None, 7, 7, 672)    2688        conv5_block5_concat[0][0]        \n",
      "__________________________________________________________________________________________________\n",
      "conv5_block6_0_relu (Activation (None, 7, 7, 672)    0           conv5_block6_0_bn[0][0]          \n",
      "__________________________________________________________________________________________________\n",
      "conv5_block6_1_conv (Conv2D)    (None, 7, 7, 128)    86016       conv5_block6_0_relu[0][0]        \n",
      "__________________________________________________________________________________________________\n",
      "conv5_block6_1_bn (BatchNormali (None, 7, 7, 128)    512         conv5_block6_1_conv[0][0]        \n",
      "__________________________________________________________________________________________________\n",
      "conv5_block6_1_relu (Activation (None, 7, 7, 128)    0           conv5_block6_1_bn[0][0]          \n",
      "__________________________________________________________________________________________________\n",
      "conv5_block6_2_conv (Conv2D)    (None, 7, 7, 32)     36864       conv5_block6_1_relu[0][0]        \n",
      "__________________________________________________________________________________________________\n",
      "conv5_block6_concat (Concatenat (None, 7, 7, 704)    0           conv5_block5_concat[0][0]        \n",
      "                                                                 conv5_block6_2_conv[0][0]        \n",
      "__________________________________________________________________________________________________\n",
      "conv5_block7_0_bn (BatchNormali (None, 7, 7, 704)    2816        conv5_block6_concat[0][0]        \n",
      "__________________________________________________________________________________________________\n",
      "conv5_block7_0_relu (Activation (None, 7, 7, 704)    0           conv5_block7_0_bn[0][0]          \n",
      "__________________________________________________________________________________________________\n",
      "conv5_block7_1_conv (Conv2D)    (None, 7, 7, 128)    90112       conv5_block7_0_relu[0][0]        \n",
      "__________________________________________________________________________________________________\n",
      "conv5_block7_1_bn (BatchNormali (None, 7, 7, 128)    512         conv5_block7_1_conv[0][0]        \n",
      "__________________________________________________________________________________________________\n",
      "conv5_block7_1_relu (Activation (None, 7, 7, 128)    0           conv5_block7_1_bn[0][0]          \n",
      "__________________________________________________________________________________________________\n",
      "conv5_block7_2_conv (Conv2D)    (None, 7, 7, 32)     36864       conv5_block7_1_relu[0][0]        \n",
      "__________________________________________________________________________________________________\n",
      "conv5_block7_concat (Concatenat (None, 7, 7, 736)    0           conv5_block6_concat[0][0]        \n",
      "                                                                 conv5_block7_2_conv[0][0]        \n",
      "__________________________________________________________________________________________________\n",
      "conv5_block8_0_bn (BatchNormali (None, 7, 7, 736)    2944        conv5_block7_concat[0][0]        \n",
      "__________________________________________________________________________________________________\n",
      "conv5_block8_0_relu (Activation (None, 7, 7, 736)    0           conv5_block8_0_bn[0][0]          \n",
      "__________________________________________________________________________________________________\n",
      "conv5_block8_1_conv (Conv2D)    (None, 7, 7, 128)    94208       conv5_block8_0_relu[0][0]        \n",
      "__________________________________________________________________________________________________\n",
      "conv5_block8_1_bn (BatchNormali (None, 7, 7, 128)    512         conv5_block8_1_conv[0][0]        \n",
      "__________________________________________________________________________________________________\n",
      "conv5_block8_1_relu (Activation (None, 7, 7, 128)    0           conv5_block8_1_bn[0][0]          \n",
      "__________________________________________________________________________________________________\n",
      "conv5_block8_2_conv (Conv2D)    (None, 7, 7, 32)     36864       conv5_block8_1_relu[0][0]        \n",
      "__________________________________________________________________________________________________\n",
      "conv5_block8_concat (Concatenat (None, 7, 7, 768)    0           conv5_block7_concat[0][0]        \n",
      "                                                                 conv5_block8_2_conv[0][0]        \n",
      "__________________________________________________________________________________________________\n",
      "conv5_block9_0_bn (BatchNormali (None, 7, 7, 768)    3072        conv5_block8_concat[0][0]        \n",
      "__________________________________________________________________________________________________\n",
      "conv5_block9_0_relu (Activation (None, 7, 7, 768)    0           conv5_block9_0_bn[0][0]          \n",
      "__________________________________________________________________________________________________\n",
      "conv5_block9_1_conv (Conv2D)    (None, 7, 7, 128)    98304       conv5_block9_0_relu[0][0]        \n",
      "__________________________________________________________________________________________________\n",
      "conv5_block9_1_bn (BatchNormali (None, 7, 7, 128)    512         conv5_block9_1_conv[0][0]        \n",
      "__________________________________________________________________________________________________\n",
      "conv5_block9_1_relu (Activation (None, 7, 7, 128)    0           conv5_block9_1_bn[0][0]          \n",
      "__________________________________________________________________________________________________\n",
      "conv5_block9_2_conv (Conv2D)    (None, 7, 7, 32)     36864       conv5_block9_1_relu[0][0]        \n",
      "__________________________________________________________________________________________________\n",
      "conv5_block9_concat (Concatenat (None, 7, 7, 800)    0           conv5_block8_concat[0][0]        \n",
      "                                                                 conv5_block9_2_conv[0][0]        \n",
      "__________________________________________________________________________________________________\n",
      "conv5_block10_0_bn (BatchNormal (None, 7, 7, 800)    3200        conv5_block9_concat[0][0]        \n",
      "__________________________________________________________________________________________________\n",
      "conv5_block10_0_relu (Activatio (None, 7, 7, 800)    0           conv5_block10_0_bn[0][0]         \n",
      "__________________________________________________________________________________________________\n",
      "conv5_block10_1_conv (Conv2D)   (None, 7, 7, 128)    102400      conv5_block10_0_relu[0][0]       \n",
      "__________________________________________________________________________________________________\n",
      "conv5_block10_1_bn (BatchNormal (None, 7, 7, 128)    512         conv5_block10_1_conv[0][0]       \n",
      "__________________________________________________________________________________________________\n",
      "conv5_block10_1_relu (Activatio (None, 7, 7, 128)    0           conv5_block10_1_bn[0][0]         \n",
      "__________________________________________________________________________________________________\n",
      "conv5_block10_2_conv (Conv2D)   (None, 7, 7, 32)     36864       conv5_block10_1_relu[0][0]       \n",
      "__________________________________________________________________________________________________\n",
      "conv5_block10_concat (Concatena (None, 7, 7, 832)    0           conv5_block9_concat[0][0]        \n",
      "                                                                 conv5_block10_2_conv[0][0]       \n",
      "__________________________________________________________________________________________________\n",
      "conv5_block11_0_bn (BatchNormal (None, 7, 7, 832)    3328        conv5_block10_concat[0][0]       \n",
      "__________________________________________________________________________________________________\n",
      "conv5_block11_0_relu (Activatio (None, 7, 7, 832)    0           conv5_block11_0_bn[0][0]         \n",
      "__________________________________________________________________________________________________\n",
      "conv5_block11_1_conv (Conv2D)   (None, 7, 7, 128)    106496      conv5_block11_0_relu[0][0]       \n",
      "__________________________________________________________________________________________________\n",
      "conv5_block11_1_bn (BatchNormal (None, 7, 7, 128)    512         conv5_block11_1_conv[0][0]       \n",
      "__________________________________________________________________________________________________\n",
      "conv5_block11_1_relu (Activatio (None, 7, 7, 128)    0           conv5_block11_1_bn[0][0]         \n",
      "__________________________________________________________________________________________________\n",
      "conv5_block11_2_conv (Conv2D)   (None, 7, 7, 32)     36864       conv5_block11_1_relu[0][0]       \n",
      "__________________________________________________________________________________________________\n",
      "conv5_block11_concat (Concatena (None, 7, 7, 864)    0           conv5_block10_concat[0][0]       \n",
      "                                                                 conv5_block11_2_conv[0][0]       \n",
      "__________________________________________________________________________________________________\n",
      "conv5_block12_0_bn (BatchNormal (None, 7, 7, 864)    3456        conv5_block11_concat[0][0]       \n",
      "__________________________________________________________________________________________________\n",
      "conv5_block12_0_relu (Activatio (None, 7, 7, 864)    0           conv5_block12_0_bn[0][0]         \n",
      "__________________________________________________________________________________________________\n",
      "conv5_block12_1_conv (Conv2D)   (None, 7, 7, 128)    110592      conv5_block12_0_relu[0][0]       \n",
      "__________________________________________________________________________________________________\n",
      "conv5_block12_1_bn (BatchNormal (None, 7, 7, 128)    512         conv5_block12_1_conv[0][0]       \n",
      "__________________________________________________________________________________________________\n",
      "conv5_block12_1_relu (Activatio (None, 7, 7, 128)    0           conv5_block12_1_bn[0][0]         \n",
      "__________________________________________________________________________________________________\n",
      "conv5_block12_2_conv (Conv2D)   (None, 7, 7, 32)     36864       conv5_block12_1_relu[0][0]       \n",
      "__________________________________________________________________________________________________\n",
      "conv5_block12_concat (Concatena (None, 7, 7, 896)    0           conv5_block11_concat[0][0]       \n",
      "                                                                 conv5_block12_2_conv[0][0]       \n",
      "__________________________________________________________________________________________________\n",
      "conv5_block13_0_bn (BatchNormal (None, 7, 7, 896)    3584        conv5_block12_concat[0][0]       \n",
      "__________________________________________________________________________________________________\n",
      "conv5_block13_0_relu (Activatio (None, 7, 7, 896)    0           conv5_block13_0_bn[0][0]         \n",
      "__________________________________________________________________________________________________\n",
      "conv5_block13_1_conv (Conv2D)   (None, 7, 7, 128)    114688      conv5_block13_0_relu[0][0]       \n",
      "__________________________________________________________________________________________________\n",
      "conv5_block13_1_bn (BatchNormal (None, 7, 7, 128)    512         conv5_block13_1_conv[0][0]       \n",
      "__________________________________________________________________________________________________\n",
      "conv5_block13_1_relu (Activatio (None, 7, 7, 128)    0           conv5_block13_1_bn[0][0]         \n",
      "__________________________________________________________________________________________________\n",
      "conv5_block13_2_conv (Conv2D)   (None, 7, 7, 32)     36864       conv5_block13_1_relu[0][0]       \n",
      "__________________________________________________________________________________________________\n",
      "conv5_block13_concat (Concatena (None, 7, 7, 928)    0           conv5_block12_concat[0][0]       \n",
      "                                                                 conv5_block13_2_conv[0][0]       \n",
      "__________________________________________________________________________________________________\n",
      "conv5_block14_0_bn (BatchNormal (None, 7, 7, 928)    3712        conv5_block13_concat[0][0]       \n",
      "__________________________________________________________________________________________________\n",
      "conv5_block14_0_relu (Activatio (None, 7, 7, 928)    0           conv5_block14_0_bn[0][0]         \n",
      "__________________________________________________________________________________________________\n",
      "conv5_block14_1_conv (Conv2D)   (None, 7, 7, 128)    118784      conv5_block14_0_relu[0][0]       \n",
      "__________________________________________________________________________________________________\n",
      "conv5_block14_1_bn (BatchNormal (None, 7, 7, 128)    512         conv5_block14_1_conv[0][0]       \n",
      "__________________________________________________________________________________________________\n",
      "conv5_block14_1_relu (Activatio (None, 7, 7, 128)    0           conv5_block14_1_bn[0][0]         \n",
      "__________________________________________________________________________________________________\n",
      "conv5_block14_2_conv (Conv2D)   (None, 7, 7, 32)     36864       conv5_block14_1_relu[0][0]       \n",
      "__________________________________________________________________________________________________\n",
      "conv5_block14_concat (Concatena (None, 7, 7, 960)    0           conv5_block13_concat[0][0]       \n",
      "                                                                 conv5_block14_2_conv[0][0]       \n",
      "__________________________________________________________________________________________________\n",
      "conv5_block15_0_bn (BatchNormal (None, 7, 7, 960)    3840        conv5_block14_concat[0][0]       \n",
      "__________________________________________________________________________________________________\n",
      "conv5_block15_0_relu (Activatio (None, 7, 7, 960)    0           conv5_block15_0_bn[0][0]         \n",
      "__________________________________________________________________________________________________\n",
      "conv5_block15_1_conv (Conv2D)   (None, 7, 7, 128)    122880      conv5_block15_0_relu[0][0]       \n",
      "__________________________________________________________________________________________________\n",
      "conv5_block15_1_bn (BatchNormal (None, 7, 7, 128)    512         conv5_block15_1_conv[0][0]       \n",
      "__________________________________________________________________________________________________\n",
      "conv5_block15_1_relu (Activatio (None, 7, 7, 128)    0           conv5_block15_1_bn[0][0]         \n",
      "__________________________________________________________________________________________________\n",
      "conv5_block15_2_conv (Conv2D)   (None, 7, 7, 32)     36864       conv5_block15_1_relu[0][0]       \n",
      "__________________________________________________________________________________________________\n",
      "conv5_block15_concat (Concatena (None, 7, 7, 992)    0           conv5_block14_concat[0][0]       \n",
      "                                                                 conv5_block15_2_conv[0][0]       \n",
      "__________________________________________________________________________________________________\n",
      "conv5_block16_0_bn (BatchNormal (None, 7, 7, 992)    3968        conv5_block15_concat[0][0]       \n",
      "__________________________________________________________________________________________________\n",
      "conv5_block16_0_relu (Activatio (None, 7, 7, 992)    0           conv5_block16_0_bn[0][0]         \n",
      "__________________________________________________________________________________________________\n",
      "conv5_block16_1_conv (Conv2D)   (None, 7, 7, 128)    126976      conv5_block16_0_relu[0][0]       \n",
      "__________________________________________________________________________________________________\n",
      "conv5_block16_1_bn (BatchNormal (None, 7, 7, 128)    512         conv5_block16_1_conv[0][0]       \n",
      "__________________________________________________________________________________________________\n",
      "conv5_block16_1_relu (Activatio (None, 7, 7, 128)    0           conv5_block16_1_bn[0][0]         \n",
      "__________________________________________________________________________________________________\n",
      "conv5_block16_2_conv (Conv2D)   (None, 7, 7, 32)     36864       conv5_block16_1_relu[0][0]       \n",
      "__________________________________________________________________________________________________\n",
      "conv5_block16_concat (Concatena (None, 7, 7, 1024)   0           conv5_block15_concat[0][0]       \n",
      "                                                                 conv5_block16_2_conv[0][0]       \n",
      "__________________________________________________________________________________________________\n",
      "bn (BatchNormalization)         (None, 7, 7, 1024)   4096        conv5_block16_concat[0][0]       \n",
      "__________________________________________________________________________________________________\n",
      "relu (Activation)               (None, 7, 7, 1024)   0           bn[0][0]                         \n",
      "__________________________________________________________________________________________________\n",
      "avg_pool (GlobalAveragePooling2 (None, 1024)         0           relu[0][0]                       \n",
      "__________________________________________________________________________________________________\n",
      "predictions (Dense)             (None, 14)           14350       avg_pool[0][0]                   \n",
      "==================================================================================================\n",
      "Total params: 7,051,854\n",
      "Trainable params: 6,968,206\n",
      "Non-trainable params: 83,648\n",
      "__________________________________________________________________________________________________\n",
      "None\n"
     ]
    }
   ],
   "source": [
    "model_factory = ModelFactory()\n",
    "model = model_factory.get_model(\n",
    "    use_base_weights=False,\n",
    "    weights_path=weights_path)\n",
    "print(model.summary())"
   ]
  },
  {
   "cell_type": "code",
   "execution_count": 31,
   "metadata": {
    "colab": {},
    "colab_type": "code",
    "id": "YltkerWlAQXd"
   },
   "outputs": [],
   "source": [
    "def load_image(image_path):\n",
    "        \"\"\"\n",
    "        **Loads the Image from the provided path**\n",
    "        \n",
    "        This function will loads the image from the provided path\n",
    "        \n",
    "        :param image_path: path of the image files\n",
    "        :type image_path: string\n",
    "        :return: Image\n",
    "        :type Image: array\n",
    "        \n",
    "        - Example::\n",
    "\n",
    "            img - ['NLMCXR_png\\\\CXR1000_IM-0003-1001.png',\n",
    "                   'NLMCXR_png\\\\CXR1000_IM-0003-2001.png',........\n",
    "                   'NLMCXR_png\\\\CXR1000_IM-0003-3001.png']\n",
    "                            \n",
    "            imgs = load_image(img)\n",
    "            \n",
    "        - Expected Success Response::\n",
    "\n",
    "            image\n",
    "    \n",
    "        \"\"\"\n",
    "        image = Image.open(image_path)\n",
    "        image_array = np.asarray(image.convert(\"RGB\"))\n",
    "        image_array = image_array / 255.\n",
    "        image_array = np.resize(image_array, (1,224,224,3))\n",
    "        return image_array"
   ]
  },
  {
   "cell_type": "code",
   "execution_count": 32,
   "metadata": {
    "colab": {},
    "colab_type": "code",
    "id": "tMd6PJoBAQXf"
   },
   "outputs": [],
   "source": [
    "def get_img_encoding(img):\n",
    "    \"\"\"\n",
    "        **Provides the Image encoding for the given image**\n",
    "        \n",
    "        This function will provides the Image encoding for the given image\n",
    "        \n",
    "        :param img: Imput image to get the encoding\n",
    "        :type descriptions: array\n",
    "        :return: Image encoding\n",
    "        :type: array\n",
    "        \n",
    "        - Example::\n",
    "\n",
    "            sample_img_encoding = get_img_encoding(img[0])\n",
    "            sample_img_encoding.shape\n",
    "            \n",
    "        - Expected Success Response::\n",
    "\n",
    "            (1024,)\n",
    "    \n",
    "    \"\"\"\n",
    "    img = load_image(img)\n",
    "    get_last_but_one_layer_output = K.function([model.layers[0].input],\n",
    "                                        [model.layers[-2].output])\n",
    "    layer_output = get_last_but_one_layer_output([img])\n",
    "    return layer_output[0].squeeze()"
   ]
  },
  {
   "cell_type": "code",
   "execution_count": 33,
   "metadata": {
    "colab": {},
    "colab_type": "code",
    "id": "KqJZeoYSAQXn"
   },
   "outputs": [],
   "source": [
    "sample_img_encoding = get_img_encoding(img[0])"
   ]
  },
  {
   "cell_type": "code",
   "execution_count": 34,
   "metadata": {
    "colab": {
     "base_uri": "https://localhost:8080/",
     "height": 34
    },
    "colab_type": "code",
    "executionInfo": {
     "elapsed": 22983,
     "status": "ok",
     "timestamp": 1570818817451,
     "user": {
      "displayName": "Ezhirko Arulmozhi",
      "photoUrl": "https://lh3.googleusercontent.com/a-/AAuE7mA_nHqFdfM_zFBpb-BYHYJwL7O3uKBW_MNkY6jW=s64",
      "userId": "16774972310128518178"
     },
     "user_tz": -330
    },
    "id": "3EShjV3vAQXo",
    "outputId": "fe6834ed-ed76-4cc1-cf51-d3e2eca0225c"
   },
   "outputs": [
    {
     "data": {
      "text/plain": [
       "(1024,)"
      ]
     },
     "execution_count": 34,
     "metadata": {},
     "output_type": "execute_result"
    }
   ],
   "source": [
    "sample_img_encoding.shape"
   ]
  },
  {
   "cell_type": "code",
   "execution_count": null,
   "metadata": {},
   "outputs": [],
   "source": [
    "# Call the funtion to encode all the train images\n",
    "# This will take a while on CPU - Execute this only once\n",
    "start = time()\n",
    "encoding_train = {}\n",
    "for img in train_imgs:\n",
    "    encoding_train[img[len(images):]] = get_img_encoding(img)\n",
    "print(\"Time taken in seconds =\", time()-start)"
   ]
  },
  {
   "cell_type": "code",
   "execution_count": null,
   "metadata": {},
   "outputs": [],
   "source": [
    "import pickle\n",
    "# Save the bottleneck train features to disk\n",
    "with open(\"PavanPickle/encoded_train_images.pkl\", \"wb\") as encoded_pickle:\n",
    "    pickle.dump(encoding_train, encoded_pickle)"
   ]
  },
  {
   "cell_type": "code",
   "execution_count": null,
   "metadata": {},
   "outputs": [],
   "source": [
    "# Call the funtion to encode all the test images - Execute this only once\n",
    "start = time()\n",
    "encoding_test = {}\n",
    "for img in valid_imgs:\n",
    "    encoding_test[img[len(images):]] = get_img_encoding(img)\n",
    "print(\"Time taken in seconds =\", time()-start)"
   ]
  },
  {
   "cell_type": "code",
   "execution_count": null,
   "metadata": {},
   "outputs": [],
   "source": [
    "# Save the bottleneck train features to disk\n",
    "with open(\"PavanPickle/encoded_test_images.pkl\", \"wb\") as encoded_pickle:\n",
    "    pickle.dump(encoding_test, encoded_pickle)"
   ]
  },
  {
   "cell_type": "code",
   "execution_count": 35,
   "metadata": {
    "colab": {
     "base_uri": "https://localhost:8080/",
     "height": 34
    },
    "colab_type": "code",
    "executionInfo": {
     "elapsed": 1189,
     "status": "ok",
     "timestamp": 1570818871255,
     "user": {
      "displayName": "Ezhirko Arulmozhi",
      "photoUrl": "https://lh3.googleusercontent.com/a-/AAuE7mA_nHqFdfM_zFBpb-BYHYJwL7O3uKBW_MNkY6jW=s64",
      "userId": "16774972310128518178"
     },
     "user_tz": -330
    },
    "id": "s5SCIWy5AQYF",
    "outputId": "d3c7ca29-ffd7-4add-ceac-501a0355fdea"
   },
   "outputs": [
    {
     "name": "stdout",
     "output_type": "stream",
     "text": [
      "Photos: train=6546\n"
     ]
    }
   ],
   "source": [
    "#load the saved training image feature\n",
    "train_features = load(open(\"PavanPickle/encoded_Moretrain_images.pkl\", \"rb\"))\n",
    "print('Photos: train=%d' % len(train_features))"
   ]
  },
  {
   "cell_type": "code",
   "execution_count": 36,
   "metadata": {
    "colab": {
     "base_uri": "https://localhost:8080/",
     "height": 34
    },
    "colab_type": "code",
    "executionInfo": {
     "elapsed": 928,
     "status": "ok",
     "timestamp": 1570818872720,
     "user": {
      "displayName": "Ezhirko Arulmozhi",
      "photoUrl": "https://lh3.googleusercontent.com/a-/AAuE7mA_nHqFdfM_zFBpb-BYHYJwL7O3uKBW_MNkY6jW=s64",
      "userId": "16774972310128518178"
     },
     "user_tz": -330
    },
    "id": "297jPtmMAQYK",
    "outputId": "cd5f5c16-3e86-452b-b92a-8eaf1815cbf8"
   },
   "outputs": [
    {
     "name": "stdout",
     "output_type": "stream",
     "text": [
      "Photos: train=728\n"
     ]
    }
   ],
   "source": [
    "#load the saved test image feature\n",
    "encoding_test = load(open(\"PavanPickle/encoded_Lesstest_images.pkl\", \"rb\"))\n",
    "print('Photos: train=%d' % len(encoding_test))"
   ]
  },
  {
   "cell_type": "code",
   "execution_count": 37,
   "metadata": {
    "colab": {
     "base_uri": "https://localhost:8080/",
     "height": 34
    },
    "colab_type": "code",
    "executionInfo": {
     "elapsed": 920,
     "status": "ok",
     "timestamp": 1570818874201,
     "user": {
      "displayName": "Ezhirko Arulmozhi",
      "photoUrl": "https://lh3.googleusercontent.com/a-/AAuE7mA_nHqFdfM_zFBpb-BYHYJwL7O3uKBW_MNkY6jW=s64",
      "userId": "16774972310128518178"
     },
     "user_tz": -330
    },
    "id": "3pCuPR7FAQYQ",
    "outputId": "f90f6592-224f-4eb1-cca9-c93582090389"
   },
   "outputs": [
    {
     "data": {
      "text/plain": [
       "3668"
      ]
     },
     "execution_count": 37,
     "metadata": {},
     "output_type": "execute_result"
    }
   ],
   "source": [
    "# Create a list of all the training captions\n",
    "all_captions = []\n",
    "for key, val in first_sent.items():\n",
    "    for cap in val:\n",
    "        all_captions.append(cap)\n",
    "len(all_captions)"
   ]
  },
  {
   "cell_type": "code",
   "execution_count": 38,
   "metadata": {
    "colab": {
     "base_uri": "https://localhost:8080/",
     "height": 34
    },
    "colab_type": "code",
    "executionInfo": {
     "elapsed": 814,
     "status": "ok",
     "timestamp": 1570818874704,
     "user": {
      "displayName": "Ezhirko Arulmozhi",
      "photoUrl": "https://lh3.googleusercontent.com/a-/AAuE7mA_nHqFdfM_zFBpb-BYHYJwL7O3uKBW_MNkY6jW=s64",
      "userId": "16774972310128518178"
     },
     "user_tz": -330
    },
    "id": "Fj-UPBlCAQYf",
    "outputId": "dc46f31e-3bbd-46e3-bd23-b7acb2b5246e"
   },
   "outputs": [
    {
     "data": {
      "text/plain": [
       "3668"
      ]
     },
     "execution_count": 38,
     "metadata": {},
     "output_type": "execute_result"
    }
   ],
   "source": [
    "# Create a list of all the training indications\n",
    "all_indications = []\n",
    "for key, val in indication_sent.items():\n",
    "    all_indications.append(val)\n",
    "len(all_indications)"
   ]
  },
  {
   "cell_type": "code",
   "execution_count": 40,
   "metadata": {
    "colab": {},
    "colab_type": "code",
    "id": "1SVmLq2GAQYp"
   },
   "outputs": [],
   "source": [
    "# load clean descriptions into memory\n",
    "def load_clean_descriptions(desc, dataset):\n",
    "    \"\"\"\n",
    "        **Loads the findings which are all available for the trainging images**\n",
    "        \n",
    "        This function will load the findings which are all available for the trainging images\n",
    "        \n",
    "        :param desc: report findings\n",
    "        :type desc: dict\n",
    "        :param dataset: trainning images\n",
    "        :type desc: list\n",
    "        :return: findings available for the trainning images\n",
    "        :type: dict\n",
    "        \n",
    "        - Example::\n",
    "                            \n",
    "            train_descriptions = load_clean_descriptions(first_sent, dataset)\n",
    "            print('Descriptions: train=%d' % len(train_descriptions))\n",
    "            \n",
    "        - Expected Success Response::\n",
    "\n",
    "            Descriptions: train=3218\n",
    "    \n",
    "    \"\"\"\n",
    "    descriptions = dict()\n",
    "    for key, val in desc.items():\n",
    "        image_id, image_desc = key, val\n",
    "        image_id = image_id+'.png'\n",
    "        # skip images not in the set\n",
    "        if image_id in dataset:\n",
    "            # create list\n",
    "            if image_id not in descriptions:\n",
    "                descriptions[image_id] = list()\n",
    "            # wrap description in tokens\n",
    "            desc = ''.join(image_desc)\n",
    "            # store\n",
    "            descriptions[image_id].append(desc)\n",
    "    return descriptions"
   ]
  },
  {
   "cell_type": "code",
   "execution_count": 41,
   "metadata": {
    "colab": {
     "base_uri": "https://localhost:8080/",
     "height": 34
    },
    "colab_type": "code",
    "executionInfo": {
     "elapsed": 1178,
     "status": "ok",
     "timestamp": 1570818876920,
     "user": {
      "displayName": "Ezhirko Arulmozhi",
      "photoUrl": "https://lh3.googleusercontent.com/a-/AAuE7mA_nHqFdfM_zFBpb-BYHYJwL7O3uKBW_MNkY6jW=s64",
      "userId": "16774972310128518178"
     },
     "user_tz": -330
    },
    "id": "uhR4qFGk_iQg",
    "outputId": "ae37d148-a354-4c53-8509-5504169ff39f"
   },
   "outputs": [
    {
     "data": {
      "text/plain": [
       "6546"
      ]
     },
     "execution_count": 41,
     "metadata": {},
     "output_type": "execute_result"
    }
   ],
   "source": [
    "len(train_imgs)"
   ]
  },
  {
   "cell_type": "code",
   "execution_count": 42,
   "metadata": {
    "colab": {},
    "colab_type": "code",
    "id": "X3ZR4YT4Lluo"
   },
   "outputs": [],
   "source": [
    "dataset = list()\n",
    "for trimg in train_features:\n",
    "    dataset.append(trimg)"
   ]
  },
  {
   "cell_type": "code",
   "execution_count": 43,
   "metadata": {
    "colab": {
     "base_uri": "https://localhost:8080/",
     "height": 34
    },
    "colab_type": "code",
    "executionInfo": {
     "elapsed": 846,
     "status": "ok",
     "timestamp": 1570818877633,
     "user": {
      "displayName": "Ezhirko Arulmozhi",
      "photoUrl": "https://lh3.googleusercontent.com/a-/AAuE7mA_nHqFdfM_zFBpb-BYHYJwL7O3uKBW_MNkY6jW=s64",
      "userId": "16774972310128518178"
     },
     "user_tz": -330
    },
    "id": "42DABfjlLPd5",
    "outputId": "510e786a-0017-468a-d657-66376835549a"
   },
   "outputs": [
    {
     "data": {
      "text/plain": [
       "6546"
      ]
     },
     "execution_count": 43,
     "metadata": {},
     "output_type": "execute_result"
    }
   ],
   "source": [
    "  len(dataset)"
   ]
  },
  {
   "cell_type": "code",
   "execution_count": 45,
   "metadata": {
    "colab": {
     "base_uri": "https://localhost:8080/",
     "height": 34
    },
    "colab_type": "code",
    "executionInfo": {
     "elapsed": 1128,
     "status": "ok",
     "timestamp": 1570818879340,
     "user": {
      "displayName": "Ezhirko Arulmozhi",
      "photoUrl": "https://lh3.googleusercontent.com/a-/AAuE7mA_nHqFdfM_zFBpb-BYHYJwL7O3uKBW_MNkY6jW=s64",
      "userId": "16774972310128518178"
     },
     "user_tz": -330
    },
    "id": "B5rUhpBJAQYs",
    "outputId": "26bbb689-679a-4ee4-bf38-608d24b2380d"
   },
   "outputs": [
    {
     "name": "stdout",
     "output_type": "stream",
     "text": [
      "Descriptions: train=3218\n"
     ]
    }
   ],
   "source": [
    "# get the train description\n",
    "train_descriptions = load_clean_descriptions(first_sent, dataset)\n",
    "print('Descriptions: train=%d' % len(train_descriptions))"
   ]
  },
  {
   "cell_type": "code",
   "execution_count": 46,
   "metadata": {
    "colab": {
     "base_uri": "https://localhost:8080/",
     "height": 34
    },
    "colab_type": "code",
    "executionInfo": {
     "elapsed": 1628,
     "status": "ok",
     "timestamp": 1570818880301,
     "user": {
      "displayName": "Ezhirko Arulmozhi",
      "photoUrl": "https://lh3.googleusercontent.com/a-/AAuE7mA_nHqFdfM_zFBpb-BYHYJwL7O3uKBW_MNkY6jW=s64",
      "userId": "16774972310128518178"
     },
     "user_tz": -330
    },
    "id": "MASBC8oqAQYv",
    "outputId": "2ed30d23-3b87-4dcf-a2c6-66177f5043f8"
   },
   "outputs": [
    {
     "name": "stdout",
     "output_type": "stream",
     "text": [
      "Descriptions: indication=3218\n"
     ]
    }
   ],
   "source": [
    "# get the train indication\n",
    "train_indications = load_clean_descriptions(indication_sent, dataset)\n",
    "print('Descriptions: indication=%d' % len(train_indications))"
   ]
  },
  {
   "cell_type": "code",
   "execution_count": 47,
   "metadata": {
    "colab": {
     "base_uri": "https://localhost:8080/",
     "height": 34
    },
    "colab_type": "code",
    "executionInfo": {
     "elapsed": 954,
     "status": "ok",
     "timestamp": 1570818881767,
     "user": {
      "displayName": "Ezhirko Arulmozhi",
      "photoUrl": "https://lh3.googleusercontent.com/a-/AAuE7mA_nHqFdfM_zFBpb-BYHYJwL7O3uKBW_MNkY6jW=s64",
      "userId": "16774972310128518178"
     },
     "user_tz": -330
    },
    "id": "37FutW61AQY0",
    "outputId": "02aa3728-c899-475b-9537-f84e15f6acca"
   },
   "outputs": [
    {
     "data": {
      "text/plain": [
       "3218"
      ]
     },
     "execution_count": 47,
     "metadata": {},
     "output_type": "execute_result"
    }
   ],
   "source": [
    "# Create a list of all the training captions\n",
    "all_train_captions = []\n",
    "for key, val in train_descriptions.items():\n",
    "    for cap in val:\n",
    "        all_train_captions.append(cap)\n",
    "len(all_train_captions)"
   ]
  },
  {
   "cell_type": "code",
   "execution_count": 48,
   "metadata": {
    "colab": {
     "base_uri": "https://localhost:8080/",
     "height": 34
    },
    "colab_type": "code",
    "executionInfo": {
     "elapsed": 1938,
     "status": "ok",
     "timestamp": 1570818883256,
     "user": {
      "displayName": "Ezhirko Arulmozhi",
      "photoUrl": "https://lh3.googleusercontent.com/a-/AAuE7mA_nHqFdfM_zFBpb-BYHYJwL7O3uKBW_MNkY6jW=s64",
      "userId": "16774972310128518178"
     },
     "user_tz": -330
    },
    "id": "DtDdsBDRAQY5",
    "outputId": "f42fa6de-ecb1-4581-a12c-ca06d9a21a98"
   },
   "outputs": [
    {
     "data": {
      "text/plain": [
       "3218"
      ]
     },
     "execution_count": 48,
     "metadata": {},
     "output_type": "execute_result"
    }
   ],
   "source": [
    "# Create a list of all the training captions\n",
    "all_train_indications = []\n",
    "for key, val in train_indications.items():\n",
    "    for cap in val:\n",
    "        all_train_indications.append(cap)\n",
    "len(all_train_indications)"
   ]
  },
  {
   "cell_type": "code",
   "execution_count": 50,
   "metadata": {
    "colab": {
     "base_uri": "https://localhost:8080/",
     "height": 34
    },
    "colab_type": "code",
    "executionInfo": {
     "elapsed": 829,
     "status": "ok",
     "timestamp": 1570818883257,
     "user": {
      "displayName": "Ezhirko Arulmozhi",
      "photoUrl": "https://lh3.googleusercontent.com/a-/AAuE7mA_nHqFdfM_zFBpb-BYHYJwL7O3uKBW_MNkY6jW=s64",
      "userId": "16774972310128518178"
     },
     "user_tz": -330
    },
    "id": "-F8VnpDAAQY7",
    "outputId": "55918635-dde9-4951-bec8-2e7492fd7367"
   },
   "outputs": [
    {
     "name": "stdout",
     "output_type": "stream",
     "text": [
      "preprocessed words 2216 -> 2216\n"
     ]
    }
   ],
   "source": [
    "# Consider only words which occur at least 1 times in the corpus\n",
    "word_count_threshold = 1\n",
    "word_counts = {}\n",
    "nsents = 0\n",
    "for sent in all_train_captions:\n",
    "    nsents += 1\n",
    "    for w in sent.split(' '):\n",
    "        word_counts[w] = word_counts.get(w, 0) + 1\n",
    "\n",
    "vocab = [w for w in word_counts if word_counts[w] >= word_count_threshold]\n",
    "print('preprocessed words %d -> %d' % (len(word_counts), len(vocab)))"
   ]
  },
  {
   "cell_type": "code",
   "execution_count": 51,
   "metadata": {
    "colab": {
     "base_uri": "https://localhost:8080/",
     "height": 34
    },
    "colab_type": "code",
    "executionInfo": {
     "elapsed": 734,
     "status": "ok",
     "timestamp": 1570818883950,
     "user": {
      "displayName": "Ezhirko Arulmozhi",
      "photoUrl": "https://lh3.googleusercontent.com/a-/AAuE7mA_nHqFdfM_zFBpb-BYHYJwL7O3uKBW_MNkY6jW=s64",
      "userId": "16774972310128518178"
     },
     "user_tz": -330
    },
    "id": "CcdXQOGLAQY8",
    "outputId": "88fe3d47-b3d4-4876-c0ad-7c3a909b411d"
   },
   "outputs": [
    {
     "name": "stdout",
     "output_type": "stream",
     "text": [
      "preprocessed words 1450 -> 1450\n"
     ]
    }
   ],
   "source": [
    "# Consider only words which occur at least 1 times in the corpus\n",
    "indication_count_threshold = 1\n",
    "indication_counts = {}\n",
    "nsents = 0\n",
    "for sent in all_train_indications:\n",
    "    nsents += 1\n",
    "    for w in sent.split(' '):\n",
    "        indication_counts[w] = indication_counts.get(w, 0) + 1\n",
    "\n",
    "indicationVocab = [w for w in indication_counts if indication_counts[w] >= indication_count_threshold]\n",
    "print('preprocessed words %d -> %d' % (len(indication_counts), len(indicationVocab)))"
   ]
  },
  {
   "cell_type": "code",
   "execution_count": 54,
   "metadata": {
    "colab": {},
    "colab_type": "code",
    "id": "XHMIIqhoAQY-"
   },
   "outputs": [],
   "source": [
    "#Generate word to index and index to words mapping for text available in findings \n",
    "ixtoword = {}\n",
    "wordtoix = {}\n",
    "\n",
    "ix = 1\n",
    "for w in vocab:\n",
    "    wordtoix[w] = ix\n",
    "    ixtoword[ix] = w\n",
    "    ix += 1"
   ]
  },
  {
   "cell_type": "code",
   "execution_count": 55,
   "metadata": {
    "colab": {
     "base_uri": "https://localhost:8080/",
     "height": 34
    },
    "colab_type": "code",
    "executionInfo": {
     "elapsed": 1126,
     "status": "ok",
     "timestamp": 1570818885490,
     "user": {
      "displayName": "Ezhirko Arulmozhi",
      "photoUrl": "https://lh3.googleusercontent.com/a-/AAuE7mA_nHqFdfM_zFBpb-BYHYJwL7O3uKBW_MNkY6jW=s64",
      "userId": "16774972310128518178"
     },
     "user_tz": -330
    },
    "id": "h4beT3YDAQZC",
    "outputId": "f0155fb5-4c61-4140-a192-d4ff303f8733"
   },
   "outputs": [
    {
     "data": {
      "text/plain": [
       "2217"
      ]
     },
     "execution_count": 55,
     "metadata": {},
     "output_type": "execute_result"
    }
   ],
   "source": [
    "vocab_size = len(ixtoword) + 1 # one for appended 0's\n",
    "#vocab_size = 2019\n",
    "vocab_size"
   ]
  },
  {
   "cell_type": "code",
   "execution_count": 56,
   "metadata": {
    "colab": {},
    "colab_type": "code",
    "id": "oEEGD5RlAQZE"
   },
   "outputs": [],
   "source": [
    "#Generate word to index and index to words mapping for text available in indications \n",
    "ixtoindicationWord = {}\n",
    "indicationWordtoix = {}\n",
    "\n",
    "ix = 1\n",
    "for w in indicationVocab:\n",
    "    indicationWordtoix[w] = ix\n",
    "    ixtoindicationWord[ix] = w\n",
    "    ix += 1"
   ]
  },
  {
   "cell_type": "code",
   "execution_count": 57,
   "metadata": {
    "colab": {
     "base_uri": "https://localhost:8080/",
     "height": 34
    },
    "colab_type": "code",
    "executionInfo": {
     "elapsed": 2914,
     "status": "ok",
     "timestamp": 1570818888396,
     "user": {
      "displayName": "Ezhirko Arulmozhi",
      "photoUrl": "https://lh3.googleusercontent.com/a-/AAuE7mA_nHqFdfM_zFBpb-BYHYJwL7O3uKBW_MNkY6jW=s64",
      "userId": "16774972310128518178"
     },
     "user_tz": -330
    },
    "id": "eD9X16Q7AQZH",
    "outputId": "f355bd14-ecd1-48e5-9576-de87a00a581f"
   },
   "outputs": [
    {
     "data": {
      "text/plain": [
       "1451"
      ]
     },
     "execution_count": 57,
     "metadata": {},
     "output_type": "execute_result"
    }
   ],
   "source": [
    "IndicationVocab_size = len(ixtoindicationWord) + 1 # one for appended 0's\n",
    "IndicationVocab_size"
   ]
  },
  {
   "cell_type": "code",
   "execution_count": 59,
   "metadata": {
    "colab": {
     "base_uri": "https://localhost:8080/",
     "height": 34
    },
    "colab_type": "code",
    "executionInfo": {
     "elapsed": 1088,
     "status": "ok",
     "timestamp": 1570818889617,
     "user": {
      "displayName": "Ezhirko Arulmozhi",
      "photoUrl": "https://lh3.googleusercontent.com/a-/AAuE7mA_nHqFdfM_zFBpb-BYHYJwL7O3uKBW_MNkY6jW=s64",
      "userId": "16774972310128518178"
     },
     "user_tz": -330
    },
    "id": "lzdYYAwdAQZJ",
    "outputId": "b9170006-cc71-4ca6-9127-ece0faa519d4"
   },
   "outputs": [
    {
     "name": "stdout",
     "output_type": "stream",
     "text": [
      "Description Length: 172\n"
     ]
    }
   ],
   "source": [
    "# convert a dictionary of clean descriptions to a list of descriptions\n",
    "def to_lines(descriptions):\n",
    "    \"\"\"\n",
    "        **Extracts all the findings from the input dictionary of findings**\n",
    "        \n",
    "        This function will create list of findings\n",
    "        \n",
    "        :param descriptions: image to report key-value pairs\n",
    "        :type descriptions: dict\n",
    "        :return: list of findings in report\n",
    "        \n",
    "        - Example::\n",
    "\n",
    "            descriptions - {'CXR1_1_IM-0001-3001': ['startseq the cardiac silhouette and mediastinum size are within normal limits. there is no pulmonary edema. there is no focal consolidation. there are no xxxx of a pleural effusion. there is no evidence of pneumothorax. endseq'],\n",
    " 'CXR10_IM-0002-1001': ['startseq the cardiomediastinal silhouette is within normal limits for size and contour. the lungs are normally inflated without evidence of focal airspace disease pleural effusion or pneumothorax. stable calcified granuloma within the right upper lung. no acute bone abnormality. . endseq']\n",
    "                            }\n",
    "                            \n",
    "            lines = to_lines(descriptions)\n",
    "            print(len(lines))\n",
    "            \n",
    "        - Expected Success Response::\n",
    "\n",
    "            172\n",
    "    \n",
    "    \"\"\"\n",
    "    all_desc = list()\n",
    "    for key in descriptions.keys():\n",
    "        [all_desc.append(d) for d in descriptions[key]]\n",
    "    return all_desc\n",
    "\n",
    "# calculate the length of the description with the most words\n",
    "def max_length(descriptions):\n",
    "    \"\"\"\n",
    "        **Provides the Maximum length of findings available in trainning set**\n",
    "        \n",
    "        This function will provide the Maximum length of findings available in trainning set\n",
    "        \n",
    "        :param descriptions: image to report key-value pairs\n",
    "        :type descriptions: dict\n",
    "        :return: list of findings in report\n",
    "        :type : int\n",
    "        - Example::\n",
    "\n",
    "            train_descriptions - {'CXR1_1_IM-0001-3001': ['startseq the cardiac silhouette and mediastinum size are within normal limits. there is no pulmonary edema. there is no focal consolidation. there are no xxxx of a pleural effusion. there is no evidence of pneumothorax. endseq'],\n",
    " 'CXR10_IM-0002-1001': ['startseq the cardiomediastinal silhouette is within normal limits for size and contour. the lungs are normally inflated without evidence of focal airspace disease pleural effusion or pneumothorax. stable calcified granuloma within the right upper lung. no acute bone abnormality. . endseq']\n",
    "                            }\n",
    "                            \n",
    "            max_length = max_length(train_descriptions)\n",
    "            print('Description Length: %d' % max_length)\n",
    "            \n",
    "        - Expected Success Response::\n",
    "\n",
    "            Description Length: 172\n",
    "    \n",
    "    \"\"\"\n",
    "    lines = to_lines(descriptions)\n",
    "    return max(len(d.split()) for d in lines)\n",
    "\n",
    "# determine the maximum sequence length\n",
    "max_length = max_length(train_descriptions)\n",
    "print('Description Length: %d' % max_length)"
   ]
  },
  {
   "cell_type": "code",
   "execution_count": 60,
   "metadata": {
    "colab": {},
    "colab_type": "code",
    "id": "lph0oAsDAQZL"
   },
   "outputs": [],
   "source": [
    "# gets all the indications from the trainning set \n",
    "all_Indication_desc = list()\n",
    "for key in train_indications.keys():\n",
    "    for d in train_indications[key]:\n",
    "        all_Indication_desc.append(d)"
   ]
  },
  {
   "cell_type": "code",
   "execution_count": 61,
   "metadata": {
    "colab": {
     "base_uri": "https://localhost:8080/",
     "height": 34
    },
    "colab_type": "code",
    "executionInfo": {
     "elapsed": 1160,
     "status": "ok",
     "timestamp": 1570818890748,
     "user": {
      "displayName": "Ezhirko Arulmozhi",
      "photoUrl": "https://lh3.googleusercontent.com/a-/AAuE7mA_nHqFdfM_zFBpb-BYHYJwL7O3uKBW_MNkY6jW=s64",
      "userId": "16774972310128518178"
     },
     "user_tz": -330
    },
    "id": "gstouvMZAQZN",
    "outputId": "2da0b6c1-ed2c-4e02-944f-0b8a2e8a7d5e"
   },
   "outputs": [
    {
     "data": {
      "text/plain": [
       "40"
      ]
     },
     "execution_count": 61,
     "metadata": {},
     "output_type": "execute_result"
    }
   ],
   "source": [
    "#gets the maximum length of indication in the report\n",
    "max_Indication_length = max(len(d.split()) for d in all_Indication_desc)\n",
    "max_Indication_length"
   ]
  },
  {
   "cell_type": "code",
   "execution_count": 62,
   "metadata": {
    "colab": {},
    "colab_type": "code",
    "id": "vFbg2ws-AQZR"
   },
   "outputs": [],
   "source": [
    "# data generator, intended to be used in a call to model.fit_generator()\n",
    "def data_generator(descriptions, photos, indications, wordtoix, indicationWordtoix, max_Indication_length,max_length, num_photos_per_batch):\n",
    "    \"\"\"\n",
    "        **Prepares the input and output data for trainning the model.**\n",
    "        \n",
    "        This function will Prepare the input and output data for trainning the model\n",
    "        \n",
    "        :param descriptions: image to report key-value pairs\n",
    "        :type descriptions: dict\n",
    "        :param photos: Encoded trainning image\n",
    "        :type photos: array\n",
    "        :param indications: Indication from trainning report\n",
    "        :type indications: dict\n",
    "        :param wordtoix: word to index for findings\n",
    "        :type indications: list\n",
    "        :param indicationWordtoix: word to index for indication\n",
    "        :type indications: list\n",
    "        :param max_Indication_length: maximum lenght of indication\n",
    "        :type max_Indication_length: int\n",
    "        :param max_length: maximum lenght of findings\n",
    "        :type max_length: int\n",
    "        :param num_photos_per_batch: number of photos for batch processing\n",
    "        :type num_photos_per_batch: int\n",
    "        :return: Input 1, Input 2, Input 3 and output\n",
    "        :type X1, X2, X3, y: array\n",
    "        \n",
    "        - Example::\n",
    "\n",
    "            generator = data_generator(train_descriptions, train_features,train_indications, wordtoix, indicationWordtoix, max_Indication_length,max_length, number_pics_per_bath)\n",
    "            newModel.fit_generator(generator, epochs=1, steps_per_epoch=steps, verbose=1)\n",
    "                \n",
    "    \"\"\"\n",
    "    X1, X2, X3, y = list(), list(), list(), list()\n",
    "    n=0\n",
    "    # loop for ever over images\n",
    "    while 1:\n",
    "        for key, desc_list in descriptions.items():\n",
    "            n+=1\n",
    "            # retrieve the photo feature\n",
    "            photo = photos[key]\n",
    "            for indication in indications[key]:\n",
    "                indicationSeq = [indicationWordtoix[word] for word in indication.split(' ') if word in indicationWordtoix]\n",
    "            indicationSeq = pad_sequences([indicationSeq], maxlen=max_Indication_length)[0]\n",
    "            for desc in desc_list:\n",
    "                # encode the sequence\n",
    "                seq = [wordtoix[word] for word in desc.split(' ') if word in wordtoix]\n",
    "                # split one sequence into multiple X, y pairs\n",
    "                for i in range(1, len(seq)):\n",
    "                    # split into input and output pair\n",
    "                    in_seq, out_seq = seq[:i], seq[i]\n",
    "                    # pad input sequence\n",
    "                    in_seq = pad_sequences([in_seq], maxlen=max_length)[0]\n",
    "                    # encode output sequence\n",
    "                    out_seq = to_categorical([out_seq], num_classes=vocab_size)[0]\n",
    "                    # store\n",
    "                    X1.append(photo)\n",
    "                    X2.append(indicationSeq)\n",
    "                    X3.append(in_seq)\n",
    "                    y.append(out_seq)\n",
    "            # yield the batch data\n",
    "            if n==num_photos_per_batch:\n",
    "                yield [[array(X1), array(X2), array(X3)], array(y)]\n",
    "                X1, X2, X3, y = list(), list(), list(), list()\n",
    "                n=0"
   ]
  },
  {
   "cell_type": "code",
   "execution_count": 41,
   "metadata": {
    "colab": {
     "base_uri": "https://localhost:8080/",
     "height": 339
    },
    "colab_type": "code",
    "executionInfo": {
     "elapsed": 5640,
     "status": "ok",
     "timestamp": 1570533861545,
     "user": {
      "displayName": "Ezhirko Arulmozhi",
      "photoUrl": "https://lh3.googleusercontent.com/a-/AAuE7mA_nHqFdfM_zFBpb-BYHYJwL7O3uKBW_MNkY6jW=s64",
      "userId": "16774972310128518178"
     },
     "user_tz": -330
    },
    "id": "QRwd1RRlAQZT",
    "outputId": "5b658272-58f4-4bdc-b04a-f7180f0f18bb"
   },
   "outputs": [
    {
     "name": "stdout",
     "output_type": "stream",
     "text": [
      "Requirement already satisfied: gensim in c:\\programdata\\anaconda3\\lib\\site-packages (3.8.0)\n",
      "Requirement already satisfied: numpy>=1.11.3 in c:\\programdata\\anaconda3\\lib\\site-packages (from gensim) (1.17.2)\n",
      "Requirement already satisfied: scipy>=0.18.1 in c:\\programdata\\anaconda3\\lib\\site-packages (from gensim) (1.2.1)\n",
      "Requirement already satisfied: six>=1.5.0 in c:\\programdata\\anaconda3\\lib\\site-packages (from gensim) (1.12.0)\n",
      "Requirement already satisfied: smart-open>=1.7.0 in c:\\programdata\\anaconda3\\lib\\site-packages (from gensim) (1.8.4)\n",
      "Requirement already satisfied: boto>=2.32 in c:\\programdata\\anaconda3\\lib\\site-packages (from smart-open>=1.7.0->gensim) (2.49.0)\n",
      "Requirement already satisfied: boto3 in c:\\programdata\\anaconda3\\lib\\site-packages (from smart-open>=1.7.0->gensim) (1.9.233)\n",
      "Requirement already satisfied: requests in c:\\programdata\\anaconda3\\lib\\site-packages (from smart-open>=1.7.0->gensim) (2.22.0)\n",
      "Requirement already satisfied: s3transfer<0.3.0,>=0.2.0 in c:\\programdata\\anaconda3\\lib\\site-packages (from boto3->smart-open>=1.7.0->gensim) (0.2.1)\n",
      "Requirement already satisfied: jmespath<1.0.0,>=0.7.1 in c:\\programdata\\anaconda3\\lib\\site-packages (from boto3->smart-open>=1.7.0->gensim) (0.9.4)\n",
      "Requirement already satisfied: botocore<1.13.0,>=1.12.233 in c:\\programdata\\anaconda3\\lib\\site-packages (from boto3->smart-open>=1.7.0->gensim) (1.12.233)\n",
      "Requirement already satisfied: idna<2.9,>=2.5 in c:\\programdata\\anaconda3\\lib\\site-packages (from requests->smart-open>=1.7.0->gensim) (2.8)\n",
      "Requirement already satisfied: certifi>=2017.4.17 in c:\\programdata\\anaconda3\\lib\\site-packages (from requests->smart-open>=1.7.0->gensim) (2019.6.16)\n",
      "Requirement already satisfied: chardet<3.1.0,>=3.0.2 in c:\\programdata\\anaconda3\\lib\\site-packages (from requests->smart-open>=1.7.0->gensim) (3.0.4)\n",
      "Requirement already satisfied: urllib3!=1.25.0,!=1.25.1,<1.26,>=1.21.1 in c:\\programdata\\anaconda3\\lib\\site-packages (from requests->smart-open>=1.7.0->gensim) (1.24.2)\n",
      "Requirement already satisfied: python-dateutil<3.0.0,>=2.1; python_version >= \"2.7\" in c:\\programdata\\anaconda3\\lib\\site-packages (from botocore<1.13.0,>=1.12.233->boto3->smart-open>=1.7.0->gensim) (2.8.0)\n",
      "Requirement already satisfied: docutils<0.16,>=0.10 in c:\\programdata\\anaconda3\\lib\\site-packages (from botocore<1.13.0,>=1.12.233->boto3->smart-open>=1.7.0->gensim) (0.14)\n"
     ]
    }
   ],
   "source": [
    "# install gensim for word embeddings\n",
    "!pip install gensim"
   ]
  },
  {
   "cell_type": "code",
   "execution_count": 0,
   "metadata": {
    "colab": {},
    "colab_type": "code",
    "id": "cF_LijoZAQZW"
   },
   "outputs": [],
   "source": [
    "from gensim.models import KeyedVectors"
   ]
  },
  {
   "cell_type": "code",
   "execution_count": 0,
   "metadata": {
    "colab": {},
    "colab_type": "code",
    "id": "l4RLLzTzAQZW"
   },
   "outputs": [],
   "source": [
    "word_vectors = KeyedVectors.load_word2vec_format('WordEmbeddings\\BioWordVec_PubMed_MIMICIII_d200.vec.bin',binary=True)"
   ]
  },
  {
   "cell_type": "code",
   "execution_count": 0,
   "metadata": {
    "colab": {},
    "colab_type": "code",
    "id": "f6bzbc1pAQZY"
   },
   "outputs": [],
   "source": [
    "medic_vector = word_vectors.get_vector('clinical')"
   ]
  },
  {
   "cell_type": "code",
   "execution_count": 0,
   "metadata": {
    "colab": {
     "base_uri": "https://localhost:8080/",
     "height": 1000
    },
    "colab_type": "code",
    "executionInfo": {
     "elapsed": 2772,
     "status": "error",
     "timestamp": 1570769049312,
     "user": {
      "displayName": "Ezhirko Arulmozhi",
      "photoUrl": "https://lh3.googleusercontent.com/a-/AAuE7mA_nHqFdfM_zFBpb-BYHYJwL7O3uKBW_MNkY6jW=s64",
      "userId": "16774972310128518178"
     },
     "user_tz": -330
    },
    "id": "EZ06DtebAQZZ",
    "outputId": "e0c8d64b-099e-4546-e3f2-baf3b18dac5c"
   },
   "outputs": [
    {
     "name": "stderr",
     "output_type": "stream",
     "text": [
      "ERROR:root:Internal Python error in the inspect module.\n",
      "Below is the traceback from this internal error.\n",
      "\n"
     ]
    },
    {
     "name": "stdout",
     "output_type": "stream",
     "text": [
      "Traceback (most recent call last):\n",
      "  File \"/usr/local/lib/python3.6/dist-packages/IPython/core/interactiveshell.py\", line 2882, in run_code\n",
      "    exec(code_obj, self.user_global_ns, self.user_ns)\n",
      "  File \"<ipython-input-44-151827be9c07>\", line 3, in <module>\n",
      "    for item in word_vectors.vocab:\n",
      "NameError: name 'word_vectors' is not defined\n",
      "\n",
      "During handling of the above exception, another exception occurred:\n",
      "\n",
      "Traceback (most recent call last):\n",
      "  File \"/usr/local/lib/python3.6/dist-packages/IPython/core/interactiveshell.py\", line 1823, in showtraceback\n",
      "    stb = value._render_traceback_()\n",
      "AttributeError: 'NameError' object has no attribute '_render_traceback_'\n",
      "\n",
      "During handling of the above exception, another exception occurred:\n",
      "\n",
      "Traceback (most recent call last):\n",
      "  File \"/usr/local/lib/python3.6/dist-packages/IPython/core/ultratb.py\", line 1132, in get_records\n",
      "    return _fixed_getinnerframes(etb, number_of_lines_of_context, tb_offset)\n",
      "  File \"/usr/local/lib/python3.6/dist-packages/IPython/core/ultratb.py\", line 313, in wrapped\n",
      "    return f(*args, **kwargs)\n",
      "  File \"/usr/local/lib/python3.6/dist-packages/IPython/core/ultratb.py\", line 358, in _fixed_getinnerframes\n",
      "    records = fix_frame_records_filenames(inspect.getinnerframes(etb, context))\n",
      "  File \"/usr/lib/python3.6/inspect.py\", line 1490, in getinnerframes\n",
      "    frameinfo = (tb.tb_frame,) + getframeinfo(tb, context)\n",
      "  File \"/usr/lib/python3.6/inspect.py\", line 1448, in getframeinfo\n",
      "    filename = getsourcefile(frame) or getfile(frame)\n",
      "  File \"/usr/lib/python3.6/inspect.py\", line 696, in getsourcefile\n",
      "    if getattr(getmodule(object, filename), '__loader__', None) is not None:\n",
      "  File \"/usr/lib/python3.6/inspect.py\", line 733, in getmodule\n",
      "    if ismodule(module) and hasattr(module, '__file__'):\n",
      "  File \"/usr/local/lib/python3.6/dist-packages/tensorflow/__init__.py\", line 50, in __getattr__\n",
      "    module = self._load()\n",
      "  File \"/usr/local/lib/python3.6/dist-packages/tensorflow/__init__.py\", line 44, in _load\n",
      "    module = _importlib.import_module(self.__name__)\n",
      "  File \"/usr/lib/python3.6/importlib/__init__.py\", line 126, in import_module\n",
      "    return _bootstrap._gcd_import(name[level:], package, level)\n",
      "  File \"<frozen importlib._bootstrap>\", line 994, in _gcd_import\n",
      "  File \"<frozen importlib._bootstrap>\", line 971, in _find_and_load\n",
      "  File \"<frozen importlib._bootstrap>\", line 955, in _find_and_load_unlocked\n",
      "  File \"<frozen importlib._bootstrap>\", line 665, in _load_unlocked\n",
      "  File \"<frozen importlib._bootstrap_external>\", line 678, in exec_module\n",
      "  File \"<frozen importlib._bootstrap>\", line 219, in _call_with_frames_removed\n",
      "  File \"/usr/local/lib/python3.6/dist-packages/tensorflow_core/contrib/__init__.py\", line 47, in <module>\n",
      "    from tensorflow.contrib import distributions\n",
      "  File \"/usr/local/lib/python3.6/dist-packages/tensorflow_core/contrib/distributions/__init__.py\", line 29, in <module>\n",
      "    from tensorflow.contrib.distributions.python.ops import bijectors\n",
      "  File \"/usr/local/lib/python3.6/dist-packages/tensorflow_core/contrib/distributions/__init__.py\", line 44, in <module>\n",
      "    from tensorflow.contrib.distributions.python.ops.estimator import *\n",
      "  File \"/usr/local/lib/python3.6/dist-packages/tensorflow_core/contrib/distributions/python/ops/estimator.py\", line 21, in <module>\n",
      "    from tensorflow.contrib.learn.python.learn.estimators.head import _compute_weighted_loss\n",
      "  File \"/usr/local/lib/python3.6/dist-packages/tensorflow_core/contrib/learn/__init__.py\", line 93, in <module>\n",
      "    from tensorflow.contrib.learn.python.learn import *\n",
      "  File \"/usr/local/lib/python3.6/dist-packages/tensorflow_core/contrib/learn/python/__init__.py\", line 28, in <module>\n",
      "    from tensorflow.contrib.learn.python.learn import *\n",
      "  File \"/usr/local/lib/python3.6/dist-packages/tensorflow_core/contrib/learn/python/learn/__init__.py\", line 30, in <module>\n",
      "    from tensorflow.contrib.learn.python.learn import estimators\n",
      "  File \"/usr/local/lib/python3.6/dist-packages/tensorflow_core/contrib/learn/python/learn/estimators/__init__.py\", line 302, in <module>\n",
      "    from tensorflow.contrib.learn.python.learn.estimators.dnn import DNNClassifier\n",
      "  File \"/usr/local/lib/python3.6/dist-packages/tensorflow_core/contrib/learn/python/learn/estimators/dnn.py\", line 34, in <module>\n",
      "    from tensorflow.contrib.learn.python.learn.estimators import dnn_linear_combined\n",
      "  File \"/usr/local/lib/python3.6/dist-packages/tensorflow_core/contrib/learn/python/learn/estimators/dnn_linear_combined.py\", line 36, in <module>\n",
      "    from tensorflow.contrib.learn.python.learn.estimators import estimator\n",
      "  File \"/usr/local/lib/python3.6/dist-packages/tensorflow_core/contrib/learn/python/learn/estimators/estimator.py\", line 53, in <module>\n",
      "    from tensorflow.contrib.learn.python.learn.utils import export\n",
      "  File \"/usr/local/lib/python3.6/dist-packages/tensorflow_core/contrib/learn/python/learn/utils/__init__.py\", line 28, in <module>\n",
      "    from tensorflow.contrib.learn.python.learn.utils.input_fn_utils import build_default_serving_input_fn\n",
      "  File \"/usr/local/lib/python3.6/dist-packages/tensorflow_core/contrib/learn/python/learn/utils/input_fn_utils.py\", line 45, in <module>\n",
      "    'default_inputs'])):\n",
      "  File \"/usr/lib/python3.6/collections/__init__.py\", line 446, in namedtuple\n",
      "    result.__module__ = module\n",
      "KeyboardInterrupt\n"
     ]
    },
    {
     "ename": "NameError",
     "evalue": "ignored",
     "output_type": "error",
     "traceback": [
      "\u001b[0;31m---------------------------------------------------------------------------\u001b[0m"
     ]
    }
   ],
   "source": [
    "embeddings_index = {} # empty dictionary\n",
    "i = 0\n",
    "for item in word_vectors.vocab:\n",
    "    word = item\n",
    "    coefs = np.asarray(word_vectors.get_vector(word), dtype='float32')\n",
    "    embeddings_index[word] = coefs\n",
    "    i+=1\n",
    "print('Found %s word vectors.' % len(embeddings_index))"
   ]
  },
  {
   "cell_type": "code",
   "execution_count": 0,
   "metadata": {
    "colab": {},
    "colab_type": "code",
    "id": "5OpdOZqJAQZb"
   },
   "outputs": [],
   "source": [
    "embedding_dim = 200\n",
    "\n",
    "# Get 200-dim dense vector for each of the 10000 words in out vocabulary\n",
    "embedding_matrix = np.zeros((vocab_size, embedding_dim))\n",
    "\n",
    "for word, i in wordtoix.items():\n",
    "    #if i < max_words:\n",
    "    embedding_vector = embeddings_index.get(word)\n",
    "    if embedding_vector is not None:\n",
    "        # Words not found in the embedding index will be all zeros\n",
    "        embedding_matrix[i] = embedding_vector"
   ]
  },
  {
   "cell_type": "code",
   "execution_count": 0,
   "metadata": {
    "colab": {},
    "colab_type": "code",
    "id": "jRSX67xSAQZd"
   },
   "outputs": [],
   "source": [
    "embedding_dim = 200\n",
    "\n",
    "# Get 200-dim dense vector for each of the 10000 words in out vocabulary\n",
    "indication_embedding_matrix = np.zeros((IndicationVocab_size, embedding_dim))\n",
    "\n",
    "for word, i in indicationWordtoix.items():\n",
    "    #if i < max_words:\n",
    "    indicationembedding_vector = embeddings_index.get(word)\n",
    "    if indicationembedding_vector is not None:\n",
    "        # Words not found in the embedding index will be all zeros\n",
    "        indication_embedding_matrix[i] = indicationembedding_vector"
   ]
  },
  {
   "cell_type": "code",
   "execution_count": null,
   "metadata": {},
   "outputs": [],
   "source": [
    "# Save the wordembedding to disk\n",
    "with open(\"WordEmbeddings/MoreEmbedding_matrix.pkl\", \"wb\") as embedding_matrix_pickle:\n",
    "    pickle.dump(embedding_matrix, embedding_matrix_pickle)"
   ]
  },
  {
   "cell_type": "code",
   "execution_count": 67,
   "metadata": {
    "colab": {},
    "colab_type": "code",
    "id": "rsOjpavlDwHp"
   },
   "outputs": [],
   "source": [
    "#load the saved wordEmbeddings\n",
    "embedding_matrix = load(open(\"WordEmbeddings/MoreEmbedding_matrix.pkl\", \"rb\"))"
   ]
  },
  {
   "cell_type": "code",
   "execution_count": 68,
   "metadata": {
    "colab": {
     "base_uri": "https://localhost:8080/",
     "height": 34
    },
    "colab_type": "code",
    "executionInfo": {
     "elapsed": 971,
     "status": "ok",
     "timestamp": 1570818903760,
     "user": {
      "displayName": "Ezhirko Arulmozhi",
      "photoUrl": "https://lh3.googleusercontent.com/a-/AAuE7mA_nHqFdfM_zFBpb-BYHYJwL7O3uKBW_MNkY6jW=s64",
      "userId": "16774972310128518178"
     },
     "user_tz": -330
    },
    "id": "c6xwHNQEAQZi",
    "outputId": "434c8a50-320f-4a12-e793-64f718238584"
   },
   "outputs": [
    {
     "data": {
      "text/plain": [
       "(2217, 200)"
      ]
     },
     "execution_count": 68,
     "metadata": {},
     "output_type": "execute_result"
    }
   ],
   "source": [
    "embedding_matrix.shape"
   ]
  },
  {
   "cell_type": "code",
   "execution_count": null,
   "metadata": {},
   "outputs": [],
   "source": [
    "# Save the wordembedding of indication to disk\n",
    "with open(\"WordEmbeddings/More_Indication_matrix.pkl\", \"wb\") as indication_embedding_matrix_pickle:\n",
    "    pickle.dump(indication_embedding_matrix, indication_embedding_matrix_pickle)"
   ]
  },
  {
   "cell_type": "code",
   "execution_count": 69,
   "metadata": {
    "colab": {},
    "colab_type": "code",
    "id": "xgunBoK5AQZk"
   },
   "outputs": [],
   "source": [
    "indication_embedding_matrix = load(open(\"WordEmbeddings/More_Indication_matrix.pkl\", \"rb\"))"
   ]
  },
  {
   "cell_type": "code",
   "execution_count": 70,
   "metadata": {
    "colab": {
     "base_uri": "https://localhost:8080/",
     "height": 34
    },
    "colab_type": "code",
    "executionInfo": {
     "elapsed": 946,
     "status": "ok",
     "timestamp": 1570818905719,
     "user": {
      "displayName": "Ezhirko Arulmozhi",
      "photoUrl": "https://lh3.googleusercontent.com/a-/AAuE7mA_nHqFdfM_zFBpb-BYHYJwL7O3uKBW_MNkY6jW=s64",
      "userId": "16774972310128518178"
     },
     "user_tz": -330
    },
    "id": "b1ekVHJkAQZm",
    "outputId": "0f6098c6-fddd-40a0-c6f8-5eca1d2b9d4e"
   },
   "outputs": [
    {
     "data": {
      "text/plain": [
       "(1451, 200)"
      ]
     },
     "execution_count": 70,
     "metadata": {},
     "output_type": "execute_result"
    }
   ],
   "source": [
    "indication_embedding_matrix.shape"
   ]
  },
  {
   "cell_type": "code",
   "execution_count": 71,
   "metadata": {
    "colab": {},
    "colab_type": "code",
    "id": "5bCqKOoDAQZv"
   },
   "outputs": [],
   "source": [
    "import keras\n",
    "from keras.preprocessing import sequence\n",
    "from keras.models import Sequential\n",
    "from keras.layers import LSTM, Embedding, TimeDistributed, Dense, RepeatVector,\\\n",
    "                         Activation, Flatten, Reshape, concatenate, Dropout, BatchNormalization\n",
    "from keras.optimizers import Adam, RMSprop\n",
    "from keras.layers.wrappers import Bidirectional\n",
    "from keras.layers.merge import add\n",
    "from keras.applications.inception_v3 import InceptionV3\n",
    "from keras.preprocessing import image\n",
    "from keras.models import Model\n",
    "from keras import Input, layers\n",
    "from keras import optimizers\n",
    "from keras.applications.inception_v3 import preprocess_input\n",
    "from keras.preprocessing.text import Tokenizer\n",
    "from keras.preprocessing.sequence import pad_sequences\n",
    "from keras.utils import to_categorical"
   ]
  },
  {
   "cell_type": "code",
   "execution_count": 74,
   "metadata": {
    "colab": {},
    "colab_type": "code",
    "id": "93UAvXZFAQZy"
   },
   "outputs": [
    {
     "name": "stdout",
     "output_type": "stream",
     "text": [
      "WARNING:tensorflow:From C:\\ProgramData\\Anaconda3\\lib\\site-packages\\keras\\backend\\tensorflow_backend.py:3733: calling dropout (from tensorflow.python.ops.nn_ops) with keep_prob is deprecated and will be removed in a future version.\n",
      "Instructions for updating:\n",
      "Please use `rate` instead of `keep_prob`. Rate should be set to `rate = 1 - keep_prob`.\n",
      "WARNING:tensorflow:From C:\\ProgramData\\Anaconda3\\lib\\site-packages\\keras\\backend\\tensorflow_backend.py:3239: add_dispatch_support.<locals>.wrapper (from tensorflow.python.ops.array_ops) is deprecated and will be removed in a future version.\n",
      "Instructions for updating:\n",
      "Use tf.where in 2.0, which has the same broadcast rule as np.where\n"
     ]
    }
   ],
   "source": [
    "#Model architecture\n",
    "imageFeature = Input(shape=(1024,)) # Input 1 image of size (1024,)\n",
    "indication = Input(shape=(max_Indication_length,)) # Input 2 report indications\n",
    "indication1 = Embedding(IndicationVocab_size, embedding_dim)(indication)\n",
    "indication2 = Flatten()(indication1)\n",
    "imgIndi = keras.layers.concatenate([imageFeature, indication2],axis=1)# concatenate input image feature and indication\n",
    "fe1 = Dropout(0.5)(imgIndi)\n",
    "fe2 = Dense(256, activation='relu')(fe1)\n",
    "findings = Input(shape=(max_length,)) # Input 3 Sequence of findings\n",
    "se1 = Embedding(vocab_size, embedding_dim, mask_zero=True)(findings)\n",
    "se2 = Dropout(0.5)(se1)\n",
    "# se3 = LSTM(256, return_sequences=True,return_state=True)(se2)\n",
    "# se4, hs3, cs3 = LSTM(256,return_state=True)(se3)\n",
    "se3 = Bidirectional(LSTM(256, return_sequences=True))(se2) # Bidirectional LSTMs instantiation\n",
    "se4 = LSTM(256)(se3)\n",
    "decoder1 = add([fe2, se4])\n",
    "decoder2 = Dense(256, activation='relu')(decoder1)\n",
    "outputs = Dense(vocab_size, activation='softmax')(decoder2)# decoder output\n",
    "newModel = Model(inputs=[imageFeature, indication, findings], outputs=outputs)"
   ]
  },
  {
   "cell_type": "code",
   "execution_count": 75,
   "metadata": {
    "colab": {
     "base_uri": "https://localhost:8080/",
     "height": 689
    },
    "colab_type": "code",
    "executionInfo": {
     "elapsed": 2196,
     "status": "ok",
     "timestamp": 1570818913153,
     "user": {
      "displayName": "Ezhirko Arulmozhi",
      "photoUrl": "https://lh3.googleusercontent.com/a-/AAuE7mA_nHqFdfM_zFBpb-BYHYJwL7O3uKBW_MNkY6jW=s64",
      "userId": "16774972310128518178"
     },
     "user_tz": -330
    },
    "id": "6xtsveqOAQZ2",
    "outputId": "3d2052f7-dd4a-4799-f48e-38a9776c221e"
   },
   "outputs": [
    {
     "name": "stdout",
     "output_type": "stream",
     "text": [
      "Model: \"model_2\"\n",
      "__________________________________________________________________________________________________\n",
      "Layer (type)                    Output Shape         Param #     Connected to                     \n",
      "==================================================================================================\n",
      "input_3 (InputLayer)            (None, 40)           0                                            \n",
      "__________________________________________________________________________________________________\n",
      "embedding_1 (Embedding)         (None, 40, 200)      290200      input_3[0][0]                    \n",
      "__________________________________________________________________________________________________\n",
      "input_4 (InputLayer)            (None, 172)          0                                            \n",
      "__________________________________________________________________________________________________\n",
      "input_2 (InputLayer)            (None, 1024)         0                                            \n",
      "__________________________________________________________________________________________________\n",
      "flatten_1 (Flatten)             (None, 8000)         0           embedding_1[0][0]                \n",
      "__________________________________________________________________________________________________\n",
      "embedding_2 (Embedding)         (None, 172, 200)     443400      input_4[0][0]                    \n",
      "__________________________________________________________________________________________________\n",
      "concatenate_1 (Concatenate)     (None, 9024)         0           input_2[0][0]                    \n",
      "                                                                 flatten_1[0][0]                  \n",
      "__________________________________________________________________________________________________\n",
      "dropout_2 (Dropout)             (None, 172, 200)     0           embedding_2[0][0]                \n",
      "__________________________________________________________________________________________________\n",
      "dropout_1 (Dropout)             (None, 9024)         0           concatenate_1[0][0]              \n",
      "__________________________________________________________________________________________________\n",
      "bidirectional_1 (Bidirectional) (None, 172, 512)     935936      dropout_2[0][0]                  \n",
      "__________________________________________________________________________________________________\n",
      "dense_1 (Dense)                 (None, 256)          2310400     dropout_1[0][0]                  \n",
      "__________________________________________________________________________________________________\n",
      "lstm_2 (LSTM)                   (None, 256)          787456      bidirectional_1[0][0]            \n",
      "__________________________________________________________________________________________________\n",
      "add_1 (Add)                     (None, 256)          0           dense_1[0][0]                    \n",
      "                                                                 lstm_2[0][0]                     \n",
      "__________________________________________________________________________________________________\n",
      "dense_2 (Dense)                 (None, 256)          65792       add_1[0][0]                      \n",
      "__________________________________________________________________________________________________\n",
      "dense_3 (Dense)                 (None, 2217)         569769      dense_2[0][0]                    \n",
      "==================================================================================================\n",
      "Total params: 5,402,953\n",
      "Trainable params: 5,402,953\n",
      "Non-trainable params: 0\n",
      "__________________________________________________________________________________________________\n"
     ]
    }
   ],
   "source": [
    "newModel.summary()"
   ]
  },
  {
   "cell_type": "code",
   "execution_count": 76,
   "metadata": {
    "colab": {
     "base_uri": "https://localhost:8080/",
     "height": 34
    },
    "colab_type": "code",
    "executionInfo": {
     "elapsed": 1228,
     "status": "ok",
     "timestamp": 1570818913154,
     "user": {
      "displayName": "Ezhirko Arulmozhi",
      "photoUrl": "https://lh3.googleusercontent.com/a-/AAuE7mA_nHqFdfM_zFBpb-BYHYJwL7O3uKBW_MNkY6jW=s64",
      "userId": "16774972310128518178"
     },
     "user_tz": -330
    },
    "id": "1eibqpNRAQZ4",
    "outputId": "9de3b373-3077-44a6-b898-de7ddf305f9b"
   },
   "outputs": [
    {
     "data": {
      "text/plain": [
       "<keras.layers.embeddings.Embedding at 0x180060d10b8>"
      ]
     },
     "execution_count": 76,
     "metadata": {},
     "output_type": "execute_result"
    }
   ],
   "source": [
    "newModel.layers[1]"
   ]
  },
  {
   "cell_type": "code",
   "execution_count": 77,
   "metadata": {
    "colab": {
     "base_uri": "https://localhost:8080/",
     "height": 34
    },
    "colab_type": "code",
    "executionInfo": {
     "elapsed": 1222,
     "status": "ok",
     "timestamp": 1570818913801,
     "user": {
      "displayName": "Ezhirko Arulmozhi",
      "photoUrl": "https://lh3.googleusercontent.com/a-/AAuE7mA_nHqFdfM_zFBpb-BYHYJwL7O3uKBW_MNkY6jW=s64",
      "userId": "16774972310128518178"
     },
     "user_tz": -330
    },
    "id": "twcOKacYAQZ7",
    "outputId": "d02dd0b4-0be5-44b9-8463-2434c60f6c34"
   },
   "outputs": [
    {
     "data": {
      "text/plain": [
       "<keras.layers.embeddings.Embedding at 0x180060569e8>"
      ]
     },
     "execution_count": 77,
     "metadata": {},
     "output_type": "execute_result"
    }
   ],
   "source": [
    "newModel.layers[5]"
   ]
  },
  {
   "cell_type": "code",
   "execution_count": 78,
   "metadata": {
    "colab": {},
    "colab_type": "code",
    "id": "G6Kqy4KVAQZ8"
   },
   "outputs": [],
   "source": [
    "newModel.layers[1].set_weights([indication_embedding_matrix]) # assign the indication matrix and do not train it\n",
    "newModel.layers[1].trainable = False"
   ]
  },
  {
   "cell_type": "code",
   "execution_count": 79,
   "metadata": {
    "colab": {},
    "colab_type": "code",
    "id": "AGaNZdcPAQZ-"
   },
   "outputs": [],
   "source": [
    "newModel.layers[5].set_weights([embedding_matrix]) # assign the findings matrix and do not train it\n",
    "newModel.layers[5].trainable = False"
   ]
  },
  {
   "cell_type": "code",
   "execution_count": 80,
   "metadata": {
    "colab": {},
    "colab_type": "code",
    "id": "ZBzwdJRIAQaA"
   },
   "outputs": [
    {
     "name": "stdout",
     "output_type": "stream",
     "text": [
      "WARNING:tensorflow:From C:\\ProgramData\\Anaconda3\\lib\\site-packages\\keras\\optimizers.py:793: The name tf.train.Optimizer is deprecated. Please use tf.compat.v1.train.Optimizer instead.\n",
      "\n"
     ]
    }
   ],
   "source": [
    "newModel.compile(loss='categorical_crossentropy', optimizer='adam')"
   ]
  },
  {
   "cell_type": "code",
   "execution_count": 81,
   "metadata": {
    "colab": {},
    "colab_type": "code",
    "id": "otnV2baUAQaB"
   },
   "outputs": [],
   "source": [
    "newModel.optimizer.lr = 0.0001\n",
    "epochs = 50\n",
    "number_pics_per_bath = 5\n",
    "steps = len(train_descriptions)//number_pics_per_bath"
   ]
  },
  {
   "cell_type": "code",
   "execution_count": 0,
   "metadata": {
    "colab": {
     "base_uri": "https://localhost:8080/",
     "height": 1000
    },
    "colab_type": "code",
    "executionInfo": {
     "elapsed": 393156,
     "status": "ok",
     "timestamp": 1570538462055,
     "user": {
      "displayName": "Ezhirko Arulmozhi",
      "photoUrl": "https://lh3.googleusercontent.com/a-/AAuE7mA_nHqFdfM_zFBpb-BYHYJwL7O3uKBW_MNkY6jW=s64",
      "userId": "16774972310128518178"
     },
     "user_tz": -330
    },
    "id": "BVh3Me6RAQaD",
    "outputId": "bd967fd7-1b1d-4599-f959-46fe509b7583",
    "scrolled": true
   },
   "outputs": [
    {
     "name": "stdout",
     "output_type": "stream",
     "text": [
      "WARNING:tensorflow:From /usr/local/lib/python3.6/dist-packages/keras/backend/tensorflow_backend.py:1033: The name tf.assign_add is deprecated. Please use tf.compat.v1.assign_add instead.\n",
      "\n",
      "WARNING:tensorflow:From /usr/local/lib/python3.6/dist-packages/keras/backend/tensorflow_backend.py:1020: The name tf.assign is deprecated. Please use tf.compat.v1.assign instead.\n",
      "\n",
      "Epoch 1/1\n",
      "643/643 [==============================] - 934s 1s/step - loss: 5.0598\n",
      "Epoch 1/1\n",
      "643/643 [==============================] - 930s 1s/step - loss: 4.0027\n",
      "Epoch 1/1\n",
      "643/643 [==============================] - 928s 1s/step - loss: 3.5127\n",
      "Epoch 1/1\n",
      "643/643 [==============================] - 926s 1s/step - loss: 3.2115\n",
      "Epoch 1/1\n",
      "643/643 [==============================] - 929s 1s/step - loss: 2.9902\n",
      "Epoch 1/1\n",
      "643/643 [==============================] - 924s 1s/step - loss: 2.8236\n",
      "Epoch 1/1\n",
      "643/643 [==============================] - 921s 1s/step - loss: 2.6895\n",
      "Epoch 1/1\n",
      "643/643 [==============================] - 923s 1s/step - loss: 2.5766\n",
      "Epoch 1/1\n",
      "643/643 [==============================] - 921s 1s/step - loss: 2.4781\n",
      "Epoch 1/1\n",
      "643/643 [==============================] - 924s 1s/step - loss: 2.3919\n",
      "Epoch 1/1\n",
      "643/643 [==============================] - 921s 1s/step - loss: 2.3152\n",
      "Epoch 1/1\n",
      "643/643 [==============================] - 924s 1s/step - loss: 2.2497\n",
      "Epoch 1/1\n",
      "643/643 [==============================] - 921s 1s/step - loss: 2.1824\n",
      "Epoch 1/1\n",
      "643/643 [==============================] - 928s 1s/step - loss: 2.1287\n",
      "Epoch 1/1\n",
      "643/643 [==============================] - 930s 1s/step - loss: 2.0760\n",
      "Epoch 1/1\n",
      "643/643 [==============================] - 925s 1s/step - loss: 2.0245\n",
      "Epoch 1/1\n",
      "643/643 [==============================] - 926s 1s/step - loss: 1.9819\n",
      "Epoch 1/1\n",
      "643/643 [==============================] - 930s 1s/step - loss: 1.9342\n",
      "Epoch 1/1\n",
      "643/643 [==============================] - 926s 1s/step - loss: 1.8976\n",
      "Epoch 1/1\n",
      "643/643 [==============================] - 920s 1s/step - loss: 1.8581\n",
      "Epoch 1/1\n",
      "643/643 [==============================] - 929s 1s/step - loss: 1.8215\n",
      "Epoch 1/1\n",
      "643/643 [==============================] - 930s 1s/step - loss: 1.7884\n",
      "Epoch 1/1\n",
      "643/643 [==============================] - 931s 1s/step - loss: 1.7513\n",
      "Epoch 1/1\n",
      "643/643 [==============================] - 930s 1s/step - loss: 1.7250\n",
      "Epoch 1/1\n",
      "643/643 [==============================] - 930s 1s/step - loss: 1.6939\n",
      "Epoch 1/1\n",
      "643/643 [==============================] - 932s 1s/step - loss: 1.6625\n",
      "Epoch 1/1\n",
      "264/643 [===========>..................] - ETA: 9:13 - loss: 1.6633"
     ]
    }
   ],
   "source": [
    "for i in range(epochs):\n",
    "    generator = data_generator(train_descriptions, train_features,train_indications, wordtoix, indicationWordtoix, max_Indication_length,max_length, number_pics_per_bath)\n",
    "    newModel.fit_generator(generator, epochs=1, steps_per_epoch=steps, verbose=1)\n",
    "    newModel.save_weights('MoreModelWeights/model_' + str(i) + '.h5')"
   ]
  },
  {
   "cell_type": "code",
   "execution_count": 0,
   "metadata": {
    "colab": {
     "base_uri": "https://localhost:8080/",
     "height": 776
    },
    "colab_type": "code",
    "executionInfo": {
     "elapsed": 19031384,
     "status": "ok",
     "timestamp": 1570789137617,
     "user": {
      "displayName": "Ezhirko Arulmozhi",
      "photoUrl": "https://lh3.googleusercontent.com/a-/AAuE7mA_nHqFdfM_zFBpb-BYHYJwL7O3uKBW_MNkY6jW=s64",
      "userId": "16774972310128518178"
     },
     "user_tz": -330
    },
    "id": "jAjlDO2UizhK",
    "outputId": "8d3f84c6-2778-4838-b77f-e0294289d4ed"
   },
   "outputs": [
    {
     "name": "stdout",
     "output_type": "stream",
     "text": [
      "WARNING:tensorflow:From /usr/local/lib/python3.6/dist-packages/keras/backend/tensorflow_backend.py:1033: The name tf.assign_add is deprecated. Please use tf.compat.v1.assign_add instead.\n",
      "\n",
      "WARNING:tensorflow:From /usr/local/lib/python3.6/dist-packages/keras/backend/tensorflow_backend.py:1020: The name tf.assign is deprecated. Please use tf.compat.v1.assign instead.\n",
      "\n",
      "Epoch 1/1\n",
      "643/643 [==============================] - 963s 1s/step - loss: 1.5139\n",
      "Epoch 1/1\n",
      "643/643 [==============================] - 959s 1s/step - loss: 1.4736\n",
      "Epoch 1/1\n",
      "643/643 [==============================] - 958s 1s/step - loss: 1.4498\n",
      "Epoch 1/1\n",
      "643/643 [==============================] - 958s 1s/step - loss: 1.4309\n",
      "Epoch 1/1\n",
      "643/643 [==============================] - 960s 1s/step - loss: 1.4026\n",
      "Epoch 1/1\n",
      "643/643 [==============================] - 960s 1s/step - loss: 1.3854\n",
      "Epoch 1/1\n",
      "643/643 [==============================] - 961s 1s/step - loss: 1.3670\n",
      "Epoch 1/1\n",
      "643/643 [==============================] - 958s 1s/step - loss: 1.3445\n",
      "Epoch 1/1\n",
      "643/643 [==============================] - 956s 1s/step - loss: 1.3296\n",
      "Epoch 1/1\n",
      "643/643 [==============================] - 953s 1s/step - loss: 1.3072\n",
      "Epoch 1/1\n",
      "643/643 [==============================] - 944s 1s/step - loss: 1.2899\n",
      "Epoch 1/1\n",
      "643/643 [==============================] - 938s 1s/step - loss: 1.2693\n",
      "Epoch 1/1\n",
      "643/643 [==============================] - 944s 1s/step - loss: 1.2601\n",
      "Epoch 1/1\n",
      "643/643 [==============================] - 954s 1s/step - loss: 1.2404\n",
      "Epoch 1/1\n",
      "643/643 [==============================] - 950s 1s/step - loss: 1.2229\n",
      "Epoch 1/1\n",
      "643/643 [==============================] - 946s 1s/step - loss: 1.2069\n",
      "Epoch 1/1\n",
      "643/643 [==============================] - 941s 1s/step - loss: 1.1900\n",
      "Epoch 1/1\n",
      "643/643 [==============================] - 942s 1s/step - loss: 1.1730\n",
      "Epoch 1/1\n",
      "643/643 [==============================] - 940s 1s/step - loss: 1.1589\n",
      "Epoch 1/1\n",
      "643/643 [==============================] - 937s 1s/step - loss: 1.1430\n"
     ]
    }
   ],
   "source": [
    "epochs = 20\n",
    "for i in range(epochs):\n",
    "    generator = data_generator(train_descriptions, train_features,train_indications, wordtoix, indicationWordtoix, max_Indication_length,max_length, number_pics_per_bath)\n",
    "    newModel.fit_generator(generator, epochs=1, steps_per_epoch=steps, verbose=1)\n",
    "    newModel.save_weights('MoreModelWeights1/model_' + str(i) + '.h5')"
   ]
  },
  {
   "cell_type": "code",
   "execution_count": 0,
   "metadata": {
    "colab": {
     "base_uri": "https://localhost:8080/",
     "height": 353
    },
    "colab_type": "code",
    "executionInfo": {
     "elapsed": 3311199,
     "status": "ok",
     "timestamp": 1570550067804,
     "user": {
      "displayName": "Ezhirko Arulmozhi",
      "photoUrl": "https://lh3.googleusercontent.com/a-/AAuE7mA_nHqFdfM_zFBpb-BYHYJwL7O3uKBW_MNkY6jW=s64",
      "userId": "16774972310128518178"
     },
     "user_tz": -330
    },
    "id": "RasoaBoj4RhE",
    "outputId": "640dc1b6-013f-41d9-b384-37886ab37738"
   },
   "outputs": [
    {
     "name": "stdout",
     "output_type": "stream",
     "text": [
      "Epoch 1/1\n",
      "285/285 [==============================] - 331s 1s/step - loss: 2.4673\n",
      "Epoch 1/1\n",
      "285/285 [==============================] - 332s 1s/step - loss: 2.4178\n",
      "Epoch 1/1\n",
      "285/285 [==============================] - 328s 1s/step - loss: 2.3732\n",
      "Epoch 1/1\n",
      "285/285 [==============================] - 327s 1s/step - loss: 2.3226\n",
      "Epoch 1/1\n",
      "285/285 [==============================] - 329s 1s/step - loss: 2.2798\n",
      "Epoch 1/1\n",
      "285/285 [==============================] - 329s 1s/step - loss: 2.2405\n",
      "Epoch 1/1\n",
      "285/285 [==============================] - 331s 1s/step - loss: 2.2043\n",
      "Epoch 1/1\n",
      "285/285 [==============================] - 333s 1s/step - loss: 2.1615\n",
      "Epoch 1/1\n",
      "285/285 [==============================] - 335s 1s/step - loss: 2.1252\n",
      "Epoch 1/1\n",
      "285/285 [==============================] - 333s 1s/step - loss: 2.0884\n"
     ]
    }
   ],
   "source": [
    "for i in range(epochs):\n",
    "    generator = data_generator(train_descriptions, train_features,train_indications, wordtoix, indicationWordtoix, max_Indication_length,max_length, number_pics_per_bath)\n",
    "    newModel.fit_generator(generator, epochs=1, steps_per_epoch=steps, verbose=1)\n",
    "    newModel.save_weights('NewModel_Weights2/model_' + str(i) + '.h5')"
   ]
  },
  {
   "cell_type": "code",
   "execution_count": 0,
   "metadata": {
    "colab": {},
    "colab_type": "code",
    "id": "GDjMAT7-AQaE"
   },
   "outputs": [],
   "source": [
    "#newModel.save_weights('NewModel_Weights/model_10.h5')"
   ]
  },
  {
   "cell_type": "code",
   "execution_count": 82,
   "metadata": {
    "colab": {},
    "colab_type": "code",
    "id": "_s9P9U_xAQaE"
   },
   "outputs": [],
   "source": [
    "newModel.load_weights('MoreModelWeights/model_49.h5') # load the last trainned model"
   ]
  },
  {
   "cell_type": "code",
   "execution_count": 83,
   "metadata": {
    "colab": {},
    "colab_type": "code",
    "id": "4spoU-rDAQaK"
   },
   "outputs": [],
   "source": [
    "def greedySearch(photo, indication):\n",
    "    \"\"\"\n",
    "        **Provides the generated text report for a given image and indication**\n",
    "        \n",
    "        This function take image and indication as input and sequencialy constructs the text output by calling\n",
    "        predict on the model. The model returns the conditional probablities of all the words in vocabulary and \n",
    "        we pic the word with maximum probablity and append it to the input sequence. This sequence is again presented \n",
    "        to the model for predicting the next word.\n",
    "        \n",
    "        :param photo: input image\n",
    "        :type photo: array\n",
    "        :param indication: input image\n",
    "        :type indication: array\n",
    "        :return: Predicted text sentences.\n",
    "        :type: string\n",
    "        \n",
    "        - Example::\n",
    "\n",
    "            print(\"Greedy:\",greedySearch(image,ind))\n",
    "            \n",
    "        - Expected Success Response::\n",
    "\n",
    "            the lungs are clear. there is no focal airspace consolidation. no pleural effusion or pneumothorax. \n",
    "            the heart and mediastinum are within normal limits. xxxx are unremarkable.\n",
    "    \n",
    "    \"\"\"\n",
    "    in_text = 'startseq'\n",
    "    indicationSeq = [indicationWordtoix[word] for word in indication.split(' ') if word in indicationWordtoix]\n",
    "    indicationSeq = pad_sequences([indicationSeq], maxlen=max_Indication_length)\n",
    "    for i in range(max_length):\n",
    "        sequence = [wordtoix[w] for w in in_text.split() if w in wordtoix]\n",
    "        sequence = pad_sequences([sequence], maxlen=max_length)\n",
    "        yhat = newModel.predict([photo,indicationSeq,sequence], verbose=0)\n",
    "        yhat = np.argmax(yhat)\n",
    "        word = ixtoword[yhat]\n",
    "        in_text += ' ' + word\n",
    "        if word == 'endseq':\n",
    "            break\n",
    "    final = in_text.split()\n",
    "    final = final[1:-1]\n",
    "    final = ' '.join(final)\n",
    "    return final"
   ]
  },
  {
   "cell_type": "code",
   "execution_count": 84,
   "metadata": {
    "colab": {
     "base_uri": "https://localhost:8080/",
     "height": 356
    },
    "colab_type": "code",
    "executionInfo": {
     "elapsed": 18627,
     "status": "ok",
     "timestamp": 1570818969036,
     "user": {
      "displayName": "Ezhirko Arulmozhi",
      "photoUrl": "https://lh3.googleusercontent.com/a-/AAuE7mA_nHqFdfM_zFBpb-BYHYJwL7O3uKBW_MNkY6jW=s64",
      "userId": "16774972310128518178"
     },
     "user_tz": -330
    },
    "id": "2n_m7XelAQaZ",
    "outputId": "b2e0e5cf-d153-403c-f0e1-4f6dd7675a2e",
    "scrolled": true
   },
   "outputs": [
    {
     "name": "stdout",
     "output_type": "stream",
     "text": [
      "CXR621_IM-2203-1001.png\n",
      "Indications: xxxx year old with xxxx and occasional xxxx for 2 weeks.\n"
     ]
    },
    {
     "data": {
      "image/png": "[encoded data removed]",
      "text/plain": [
       "<Figure size 432x288 with 1 Axes>"
      ]
     },
     "metadata": {
      "needs_background": "light"
     },
     "output_type": "display_data"
    },
    {
     "name": "stdout",
     "output_type": "stream",
     "text": [
      "Greedy: the lungs are clear. there is no focal airspace consolidation. no pleural effusion or pneumothorax. heart size is within normal limits. degenerative changes of the thoracic spine.\n",
      "Original: ['startseq the heart pulmonary xxxx and mediastinum are within normal limits. there is no pleural effusion or pneumothorax. there is no focal air space opacity to suggest a pneumonia. there are mild degenerative changes of the spine. endseq']\n"
     ]
    }
   ],
   "source": [
    "z = 13\n",
    "z+=1\n",
    "pic = list(encoding_test.keys())[z]\n",
    "print(pic)\n",
    "image = encoding_test[pic].reshape((1,1024))\n",
    "ind = indication_sent[pic.split('.')[0]]\n",
    "print(\"Indications:\",ind)\n",
    "x=plt.imread(images+pic)\n",
    "plt.imshow(x)\n",
    "plt.show()\n",
    "print(\"Greedy:\",greedySearch(image,ind))\n",
    "print(\"Original:\", first_sent[pic.split('.')[0]])"
   ]
  },
  {
   "cell_type": "code",
   "execution_count": 85,
   "metadata": {
    "colab": {},
    "colab_type": "code",
    "id": "WxnzrFObMp2b"
   },
   "outputs": [],
   "source": [
    "import warnings\n",
    "warnings.filterwarnings(\"ignore\")"
   ]
  },
  {
   "cell_type": "code",
   "execution_count": 82,
   "metadata": {
    "colab": {},
    "colab_type": "code",
    "id": "eP8cFQwgYyv_"
   },
   "outputs": [
    {
     "name": "stdout",
     "output_type": "stream",
     "text": [
      "0.5308943029802263\n",
      "No Of Images =  354\n",
      "Time taken in seconds = 1876.3659205436707\n"
     ]
    }
   ],
   "source": [
    "#predicts the BLUE Score for the generated report\n",
    "Predictions = dict()\n",
    "GroundTruths = dict()\n",
    "test_scores = []\n",
    "n = len(encoding_test)\n",
    "start = time()\n",
    "for z in range(n): # iterate through all the test images\n",
    "  pic = list(encoding_test.keys())[z]\n",
    "  image = encoding_test[pic].reshape((1,1024)) # get the test image encoding\n",
    "  imgName = pic.split('.')[0]\n",
    "  if imgName in indication_sent:\n",
    "    ind = indication_sent[imgName] # get the indication for that image\n",
    "    if imgName in first_sent:\n",
    "      references = first_sent[pic.split('.')[0]] # Get the reference sentences\n",
    "      predicted = greedySearch(image,ind) # get the predicted text output\n",
    "      references = references[0].replace('startseq ',\"\")\n",
    "      references = references.replace('endseq',\"\")\n",
    "      score = CalculateBLUEScore(predicted,references)#calculated the blue score.\n",
    "      test_scores.append(score)\n",
    "overAllScore = sum(test_scores)/len(test_scores) # average the score for all the predictions.\n",
    "print(overAllScore)\n",
    "print(\"No Of Images = \", len(test_scores))\n",
    "print(\"Time taken in seconds =\", time()-start)"
   ]
  },
  {
   "cell_type": "code",
   "execution_count": 88,
   "metadata": {
    "colab": {},
    "colab_type": "code",
    "id": "T9JFPBLaI597"
   },
   "outputs": [],
   "source": [
    "def CalculateBLUEScore(predicted, Reference):\n",
    "  \"\"\"\n",
    "        **Calculates the BLUE score**\n",
    "        \n",
    "        This function will calculate the BLUE score for the predicted sentence on comparision with reference sentence.\n",
    "        The Predicted paragraph is split into multiple sentences and each sentence in predicted paragraph is compared \n",
    "        against the reference sentences and score is obtained.\n",
    "        \n",
    "        :param predicted: Predicted text report\n",
    "        :type predicted: string\n",
    "        :param Reference: Reference text report\n",
    "        :type Reference: string\n",
    "        :return: BLUE score\n",
    "        \n",
    "        - Example::\n",
    "\n",
    "            reference = [['this', 'is', 'small', 'test']]\n",
    "            candidate = ['this', 'is', 'a', 'test']\n",
    "            score = sentence_bleu(reference, candidate, weights=(1, 0, 0, 0))\n",
    "            print(score)\n",
    "            \n",
    "        - Expected Success Response::\n",
    "\n",
    "            0.75\n",
    "    \n",
    "  \"\"\"\n",
    "  pred_sents = predicted.split('.')\n",
    "  actual_sents = Reference.split('.')\n",
    "  pred_final = []\n",
    "  actual_final = []\n",
    "  pred_scores = []\n",
    "\n",
    "  for sent in pred_sents:\n",
    "    cur_list = sent.split(' ')\n",
    "    cur_list = [word for word in cur_list if word]\n",
    "    pred_final.append(cur_list)\n",
    "    pred_final = [item for item in pred_final if item]\n",
    "  \n",
    "  for sent in actual_sents:\n",
    "    cur_list = sent.split(' ')\n",
    "    cur_list = [word for word in cur_list if word]\n",
    "    actual_final.append(cur_list)\n",
    "    actual_final = [item for item in actual_final if item]\n",
    "\n",
    "  for pred_sent in pred_final:\n",
    "    pred_scores.append(sentence_bleu(actual_final, pred_sent,  weights=(1,0,0,0)))\n",
    "  avgScore = sum(pred_scores)/len(pred_scores)\n",
    "  return avgScore"
   ]
  },
  {
   "cell_type": "code",
   "execution_count": 90,
   "metadata": {
    "colab": {},
    "colab_type": "code",
    "id": "K8gHSOAhAQad"
   },
   "outputs": [],
   "source": [
    "def beam_search_predictions(photo, indication,beam_index = 3):\n",
    "    \"\"\"\n",
    "        **Provides the generated text report for a given image feature, indication and beam_index**\n",
    "        \n",
    "        This function take image feature and indication as input and sequencialy constructs the text output by calling\n",
    "        predict on the model. The model returns the conditional probablities of all the words in vocabulary and \n",
    "        we sort the words based on probablity and pic the group of maximum probable words indicated by beam index, \n",
    "        append it to the next input sequence. This sequence is again presented to the model for predicting the next word.\n",
    "        \n",
    "        :param photo: input image\n",
    "        :type photo: array\n",
    "        :param indication: input image\n",
    "        :type indication: array\n",
    "        :param beam_index: indicates how many words has to be grouped\n",
    "        :type beam_index: int\n",
    "        :return: Predicted text sentences.\n",
    "        :type: string\n",
    "        \n",
    "        - Example::\n",
    "\n",
    "            print(beam_search_predictions(image,ind))\n",
    "            \n",
    "        - Expected Success Response::\n",
    "\n",
    "            the lungs are clear. there is no focal airspace consolidation. no pleural effusion or pneumothorax. \n",
    "            the heart and mediastinum are within normal limits. xxxx are unremarkable.\n",
    "    \n",
    "    \"\"\"\n",
    "    start = [wordtoix[\"startseq\"]]\n",
    "    \n",
    "    # start_word[0][0] = index of the starting word\n",
    "    # start_word[0][1] = probability of the word predicted\n",
    "    start_word = [[start, 0.0]]\n",
    "    indicationSeq = [indicationWordtoix[word] for word in indication.split(' ') if word in indicationWordtoix]\n",
    "    indicationSeq = pad_sequences([indicationSeq], maxlen=max_Indication_length)\n",
    "    while len(start_word[0][0]) < max_length:\n",
    "        temp = []\n",
    "        for s in start_word:\n",
    "            par_caps = sequence.pad_sequences([s[0]], maxlen=max_length, padding='post')\n",
    "            e = encoding_test[photo]\n",
    "            #preds = model.predict([np.array([e]), np.array(par_caps)])\n",
    "            preds = newModel.predict([np.array([e]),indicationSeq,np.array(par_caps)], verbose=0)\n",
    "            \n",
    "            # Getting the top <beam_index>(n) predictions\n",
    "            word_preds = np.argsort(preds[0])[-beam_index:]\n",
    "            \n",
    "            # creating a new list so as to put them via the model again\n",
    "            for w in word_preds:\n",
    "                next_cap, prob = s[0][:], s[1]\n",
    "                next_cap.append(w)\n",
    "                prob += preds[0][w]\n",
    "                temp.append([next_cap, prob])\n",
    "                    \n",
    "        start_word = temp\n",
    "        # Sorting according to the probabilities\n",
    "        start_word = sorted(start_word, reverse=False, key=lambda l: l[1])\n",
    "        # Getting the top words\n",
    "        start_word = start_word[-beam_index:]\n",
    "    \n",
    "    start_word = start_word[-1][0]\n",
    "    intermediate_caption = [ixtoword[i] for i in start_word]\n",
    "\n",
    "    final_caption = []\n",
    "    \n",
    "    for i in intermediate_caption:\n",
    "        if i != 'endseq':\n",
    "            final_caption.append(i)\n",
    "        else:\n",
    "            break\n",
    "    \n",
    "    final_caption = ' '.join(final_caption[1:])\n",
    "    return final_caption"
   ]
  },
  {
   "cell_type": "code",
   "execution_count": 91,
   "metadata": {
    "colab": {
     "base_uri": "https://localhost:8080/",
     "height": 356
    },
    "colab_type": "code",
    "executionInfo": {
     "elapsed": 283640,
     "status": "ok",
     "timestamp": 1570806762075,
     "user": {
      "displayName": "Ezhirko Arulmozhi",
      "photoUrl": "https://lh3.googleusercontent.com/a-/AAuE7mA_nHqFdfM_zFBpb-BYHYJwL7O3uKBW_MNkY6jW=s64",
      "userId": "16774972310128518178"
     },
     "user_tz": -330
    },
    "id": "XwG0iA8JAQaf",
    "outputId": "8e100fed-a638-45ac-e218-26d191a3264c"
   },
   "outputs": [
    {
     "name": "stdout",
     "output_type": "stream",
     "text": [
      "CXR621_IM-2203-1001.png\n",
      "Indications: xxxx year old with xxxx and occasional xxxx for 2 weeks.\n"
     ]
    },
    {
     "data": {
      "image/png": "[encoded data removed]",
      "text/plain": [
       "<Figure size 432x288 with 1 Axes>"
      ]
     },
     "metadata": {
      "needs_background": "light"
     },
     "output_type": "display_data"
    },
    {
     "name": "stdout",
     "output_type": "stream",
     "text": [
      "Beam Search: the lungs are clear. there is no focal airspace consolidation. no pleural effusion or pneumothorax. the heart and mediastinum are within normal limits. xxxx are unremarkable.\n",
      "Original: ['startseq the heart pulmonary xxxx and mediastinum are within normal limits. there is no pleural effusion or pneumothorax. there is no focal air space opacity to suggest a pneumonia. there are mild degenerative changes of the spine. endseq']\n"
     ]
    }
   ],
   "source": [
    "z = 13\n",
    "z+=1\n",
    "pic = list(encoding_test.keys())[z]\n",
    "print(pic)\n",
    "image = encoding_test[pic].reshape((1,1024))\n",
    "ind = indication_sent[pic.split('.')[0]]\n",
    "print(\"Indications:\",ind)\n",
    "x=plt.imread(images+pic)\n",
    "plt.imshow(x)\n",
    "plt.show()\n",
    "print(\"Beam Search:\",beam_search_predictions(pic,ind))\n",
    "print(\"Original:\", first_sent[pic.split('.')[0]])"
   ]
  },
  {
   "cell_type": "code",
   "execution_count": 77,
   "metadata": {
    "colab": {},
    "colab_type": "code",
    "id": "ADLLfhkvAQah"
   },
   "outputs": [
    {
     "name": "stdout",
     "output_type": "stream",
     "text": [
      "Current Iteration: 0\n",
      "Current Iteration: 1\n",
      "Current Iteration: 2\n",
      "Current Iteration: 3\n",
      "Current Iteration: 4\n",
      "Current Iteration: 5\n",
      "Current Iteration: 6\n",
      "Current Iteration: 7\n",
      "Current Iteration: 8\n",
      "Current Iteration: 9\n",
      "Current Iteration: 10\n",
      "Current Iteration: 11\n",
      "Current Iteration: 12\n",
      "Current Iteration: 13\n",
      "Current Iteration: 14\n",
      "Current Iteration: 15\n",
      "Current Iteration: 16\n",
      "Current Iteration: 17\n",
      "Current Iteration: 18\n",
      "Current Iteration: 19\n",
      "Current Iteration: 20\n",
      "Current Iteration: 21\n",
      "Current Iteration: 22\n",
      "Current Iteration: 23\n",
      "Current Iteration: 24\n",
      "Current Iteration: 25\n",
      "Current Iteration: 26\n",
      "Current Iteration: 27\n",
      "Current Iteration: 28\n",
      "Current Iteration: 29\n",
      "Current Iteration: 30\n",
      "Current Iteration: 31\n",
      "Current Iteration: 32\n",
      "Current Iteration: 33\n",
      "Current Iteration: 34\n",
      "Current Iteration: 35\n",
      "Current Iteration: 36\n",
      "Current Iteration: 37\n",
      "Current Iteration: 38\n",
      "Current Iteration: 39\n",
      "Current Iteration: 40\n",
      "Current Iteration: 41\n",
      "Current Iteration: 42\n",
      "Current Iteration: 43\n",
      "Current Iteration: 44\n",
      "Current Iteration: 45\n",
      "Current Iteration: 46\n",
      "Current Iteration: 47\n",
      "Current Iteration: 48\n",
      "Current Iteration: 49\n",
      "Current Iteration: 50\n",
      "Current Iteration: 51\n",
      "Current Iteration: 52\n",
      "Current Iteration: 53\n",
      "Current Iteration: 54\n",
      "Current Iteration: 55\n",
      "Current Iteration: 56\n",
      "Current Iteration: 57\n",
      "Current Iteration: 58\n",
      "Current Iteration: 59\n",
      "Current Iteration: 60\n",
      "Current Iteration: 61\n",
      "Current Iteration: 62\n",
      "Current Iteration: 63\n",
      "Current Iteration: 64\n",
      "Current Iteration: 65\n",
      "Current Iteration: 66\n",
      "Current Iteration: 67\n",
      "Current Iteration: 68\n",
      "Current Iteration: 69\n",
      "Current Iteration: 70\n",
      "Current Iteration: 71\n",
      "Current Iteration: 72\n",
      "Current Iteration: 73\n",
      "Current Iteration: 74\n",
      "Current Iteration: 75\n",
      "Current Iteration: 76\n",
      "Current Iteration: 77\n",
      "Current Iteration: 78\n",
      "Current Iteration: 79\n",
      "Current Iteration: 80\n",
      "Current Iteration: 81\n",
      "Current Iteration: 82\n",
      "Current Iteration: 83\n",
      "Current Iteration: 84\n",
      "Current Iteration: 85\n",
      "Current Iteration: 86\n",
      "Current Iteration: 87\n",
      "Current Iteration: 88\n",
      "Current Iteration: 89\n",
      "Current Iteration: 90\n",
      "Current Iteration: 91\n",
      "Current Iteration: 92\n",
      "Current Iteration: 93\n",
      "Current Iteration: 94\n",
      "Current Iteration: 95\n",
      "Current Iteration: 96\n",
      "Current Iteration: 97\n",
      "Current Iteration: 98\n",
      "Current Iteration: 99\n",
      "Current Iteration: 100\n",
      "Current Iteration: 101\n",
      "Current Iteration: 102\n",
      "Current Iteration: 103\n",
      "Current Iteration: 104\n",
      "Current Iteration: 105\n",
      "Current Iteration: 106\n",
      "Current Iteration: 107\n",
      "Current Iteration: 108\n",
      "Current Iteration: 109\n",
      "Current Iteration: 110\n",
      "Current Iteration: 111\n",
      "Current Iteration: 112\n",
      "Current Iteration: 113\n",
      "Current Iteration: 114\n",
      "Current Iteration: 115\n",
      "Current Iteration: 116\n",
      "Current Iteration: 117\n",
      "Current Iteration: 118\n",
      "Current Iteration: 119\n",
      "Current Iteration: 120\n",
      "Current Iteration: 121\n",
      "Current Iteration: 122\n",
      "Current Iteration: 123\n",
      "Current Iteration: 124\n",
      "Current Iteration: 125\n",
      "Current Iteration: 126\n",
      "Current Iteration: 127\n",
      "Current Iteration: 128\n",
      "Current Iteration: 129\n",
      "Current Iteration: 130\n",
      "Current Iteration: 131\n",
      "Current Iteration: 132\n",
      "Current Iteration: 133\n",
      "Current Iteration: 134\n",
      "Current Iteration: 135\n",
      "Current Iteration: 136\n",
      "Current Iteration: 137\n",
      "Current Iteration: 138\n",
      "Current Iteration: 139\n",
      "Current Iteration: 140\n",
      "Current Iteration: 141\n",
      "Current Iteration: 142\n",
      "Current Iteration: 143\n",
      "Current Iteration: 144\n",
      "Current Iteration: 145\n",
      "Current Iteration: 146\n",
      "Current Iteration: 147\n",
      "Current Iteration: 148\n",
      "Current Iteration: 149\n",
      "Current Iteration: 150\n",
      "Current Iteration: 151\n",
      "Current Iteration: 152\n",
      "Current Iteration: 153\n",
      "Current Iteration: 154\n",
      "Current Iteration: 155\n",
      "Current Iteration: 156\n",
      "Current Iteration: 157\n",
      "Current Iteration: 158\n",
      "Current Iteration: 159\n",
      "Current Iteration: 160\n",
      "Current Iteration: 161\n",
      "Current Iteration: 162\n",
      "Current Iteration: 163\n",
      "Current Iteration: 164\n",
      "Current Iteration: 165\n",
      "Current Iteration: 166\n",
      "Current Iteration: 167\n",
      "Current Iteration: 168\n",
      "Current Iteration: 169\n",
      "Current Iteration: 170\n",
      "Current Iteration: 171\n",
      "Current Iteration: 172\n",
      "Current Iteration: 173\n",
      "Current Iteration: 174\n",
      "Current Iteration: 175\n",
      "Current Iteration: 176\n",
      "Current Iteration: 177\n",
      "Current Iteration: 178\n",
      "Current Iteration: 179\n",
      "Current Iteration: 180\n",
      "Current Iteration: 181\n",
      "Current Iteration: 182\n",
      "Current Iteration: 183\n",
      "Current Iteration: 184\n",
      "Current Iteration: 185\n",
      "Current Iteration: 186\n",
      "Current Iteration: 187\n",
      "Current Iteration: 188\n",
      "Current Iteration: 189\n",
      "Current Iteration: 190\n",
      "Current Iteration: 191\n",
      "Current Iteration: 192\n",
      "Current Iteration: 193\n",
      "Current Iteration: 194\n",
      "Current Iteration: 195\n",
      "Current Iteration: 196\n",
      "Current Iteration: 197\n",
      "Current Iteration: 198\n",
      "Current Iteration: 199\n",
      "Current Iteration: 200\n",
      "Current Iteration: 201\n",
      "Current Iteration: 202\n",
      "Current Iteration: 203\n",
      "Current Iteration: 204\n",
      "Current Iteration: 205\n",
      "Current Iteration: 206\n",
      "Current Iteration: 207\n",
      "Current Iteration: 208\n",
      "Current Iteration: 209\n",
      "Current Iteration: 210\n",
      "Current Iteration: 211\n",
      "Current Iteration: 212\n",
      "Current Iteration: 213\n",
      "Current Iteration: 214\n",
      "Current Iteration: 215\n",
      "Current Iteration: 216\n",
      "Current Iteration: 217\n",
      "Current Iteration: 218\n",
      "Current Iteration: 219\n",
      "Current Iteration: 220\n",
      "Current Iteration: 221\n",
      "Current Iteration: 222\n",
      "Current Iteration: 223\n",
      "Current Iteration: 224\n",
      "Current Iteration: 225\n",
      "Current Iteration: 226\n",
      "Current Iteration: 227\n",
      "Current Iteration: 228\n",
      "Current Iteration: 229\n",
      "Current Iteration: 230\n",
      "Current Iteration: 231\n",
      "Current Iteration: 232\n",
      "Current Iteration: 233\n",
      "Current Iteration: 234\n",
      "Current Iteration: 235\n",
      "Current Iteration: 236\n",
      "Current Iteration: 237\n",
      "Current Iteration: 238\n",
      "Current Iteration: 239\n",
      "Current Iteration: 240\n",
      "Current Iteration: 241\n",
      "Current Iteration: 242\n",
      "Current Iteration: 243\n",
      "Current Iteration: 244\n",
      "Current Iteration: 245\n",
      "Current Iteration: 246\n",
      "Current Iteration: 247\n",
      "Current Iteration: 248\n",
      "Current Iteration: 249\n",
      "Current Iteration: 250\n",
      "Current Iteration: 251\n",
      "Current Iteration: 252\n",
      "Current Iteration: 253\n",
      "Current Iteration: 254\n",
      "Current Iteration: 255\n",
      "Current Iteration: 256\n",
      "Current Iteration: 257\n",
      "Current Iteration: 258\n",
      "Current Iteration: 259\n",
      "Current Iteration: 260\n",
      "Current Iteration: 261\n",
      "Current Iteration: 262\n",
      "Current Iteration: 263\n",
      "Current Iteration: 264\n",
      "Current Iteration: 265\n",
      "Current Iteration: 266\n",
      "Current Iteration: 267\n",
      "Current Iteration: 268\n",
      "Current Iteration: 269\n",
      "Current Iteration: 270\n",
      "Current Iteration: 271\n",
      "Current Iteration: 272\n",
      "Current Iteration: 273\n",
      "Current Iteration: 274\n",
      "Current Iteration: 275\n",
      "Current Iteration: 276\n",
      "Current Iteration: 277\n",
      "Current Iteration: 278\n",
      "Current Iteration: 279\n",
      "Current Iteration: 280\n",
      "Current Iteration: 281\n",
      "Current Iteration: 282\n",
      "Current Iteration: 283\n",
      "Current Iteration: 284\n",
      "Current Iteration: 285\n",
      "Current Iteration: 286\n",
      "Current Iteration: 287\n",
      "Current Iteration: 288\n",
      "Current Iteration: 289\n",
      "Current Iteration: 290\n",
      "Current Iteration: 291\n",
      "Current Iteration: 292\n",
      "Current Iteration: 293\n",
      "Current Iteration: 294\n",
      "Current Iteration: 295\n",
      "Current Iteration: 296\n",
      "Current Iteration: 297\n",
      "Current Iteration: 298\n",
      "Current Iteration: 299\n",
      "Current Iteration: 300\n",
      "Current Iteration: 301\n",
      "Current Iteration: 302\n",
      "Current Iteration: 303\n",
      "Current Iteration: 304\n",
      "Current Iteration: 305\n",
      "Current Iteration: 306\n",
      "Current Iteration: 307\n",
      "Current Iteration: 308\n",
      "Current Iteration: 309\n",
      "Current Iteration: 310\n",
      "Current Iteration: 311\n",
      "Current Iteration: 312\n",
      "Current Iteration: 313\n",
      "Current Iteration: 314\n",
      "Current Iteration: 315\n",
      "Current Iteration: 316\n",
      "Current Iteration: 317\n",
      "Current Iteration: 318\n",
      "Current Iteration: 319\n",
      "Current Iteration: 320\n",
      "Current Iteration: 321\n",
      "Current Iteration: 322\n",
      "Current Iteration: 323\n",
      "Current Iteration: 324\n",
      "Current Iteration: 325\n",
      "Current Iteration: 326\n",
      "Current Iteration: 327\n",
      "Current Iteration: 328\n",
      "Current Iteration: 329\n",
      "Current Iteration: 330\n",
      "Current Iteration: 331\n",
      "Current Iteration: 332\n",
      "Current Iteration: 333\n",
      "Current Iteration: 334\n",
      "Current Iteration: 335\n",
      "Current Iteration: 336\n",
      "Current Iteration: 337\n",
      "Current Iteration: 338\n",
      "Current Iteration: 339\n",
      "Current Iteration: 340\n",
      "Current Iteration: 341\n",
      "Current Iteration: 342\n",
      "Current Iteration: 343\n",
      "Current Iteration: 344\n",
      "Current Iteration: 345\n",
      "Current Iteration: 346\n",
      "Current Iteration: 347\n",
      "Current Iteration: 348\n",
      "Current Iteration: 349\n",
      "Current Iteration: 350\n",
      "Current Iteration: 351\n",
      "Current Iteration: 352\n",
      "Current Iteration: 353\n",
      "Current Iteration: 354\n",
      "Current Iteration: 355\n",
      "Current Iteration: 356\n",
      "Current Iteration: 357\n",
      "Current Iteration: 358\n",
      "Current Iteration: 359\n",
      "Current Iteration: 360\n",
      "Current Iteration: 361\n"
     ]
    },
    {
     "name": "stdout",
     "output_type": "stream",
     "text": [
      "Current Iteration: 362\n",
      "Current Iteration: 363\n",
      "Current Iteration: 364\n",
      "Current Iteration: 365\n",
      "Current Iteration: 366\n",
      "Current Iteration: 367\n",
      "Current Iteration: 368\n",
      "Current Iteration: 369\n",
      "Current Iteration: 370\n",
      "Current Iteration: 371\n",
      "Current Iteration: 372\n",
      "Current Iteration: 373\n",
      "Current Iteration: 374\n",
      "Current Iteration: 375\n",
      "Current Iteration: 376\n",
      "Current Iteration: 377\n",
      "Current Iteration: 378\n",
      "Current Iteration: 379\n",
      "Current Iteration: 380\n",
      "Current Iteration: 381\n",
      "Current Iteration: 382\n",
      "Current Iteration: 383\n",
      "Current Iteration: 384\n",
      "Current Iteration: 385\n",
      "Current Iteration: 386\n",
      "Current Iteration: 387\n",
      "Current Iteration: 388\n",
      "Current Iteration: 389\n",
      "Current Iteration: 390\n",
      "Current Iteration: 391\n",
      "Current Iteration: 392\n",
      "Current Iteration: 393\n",
      "Current Iteration: 394\n",
      "Current Iteration: 395\n",
      "Current Iteration: 396\n",
      "Current Iteration: 397\n",
      "Current Iteration: 398\n",
      "Current Iteration: 399\n",
      "Current Iteration: 400\n",
      "Current Iteration: 401\n",
      "Current Iteration: 402\n",
      "Current Iteration: 403\n",
      "Current Iteration: 404\n",
      "Current Iteration: 405\n",
      "Current Iteration: 406\n",
      "Current Iteration: 407\n",
      "Current Iteration: 408\n",
      "Current Iteration: 409\n",
      "Current Iteration: 410\n",
      "Current Iteration: 411\n",
      "Current Iteration: 412\n",
      "Current Iteration: 413\n",
      "Current Iteration: 414\n",
      "Current Iteration: 415\n",
      "Current Iteration: 416\n",
      "Current Iteration: 417\n",
      "Current Iteration: 418\n",
      "Current Iteration: 419\n",
      "Current Iteration: 420\n",
      "Current Iteration: 421\n",
      "Current Iteration: 422\n",
      "Current Iteration: 423\n",
      "Current Iteration: 424\n",
      "Current Iteration: 425\n",
      "Current Iteration: 426\n",
      "Current Iteration: 427\n",
      "Current Iteration: 428\n",
      "Current Iteration: 429\n",
      "Current Iteration: 430\n",
      "Current Iteration: 431\n",
      "Current Iteration: 432\n",
      "Current Iteration: 433\n",
      "Current Iteration: 434\n",
      "Current Iteration: 435\n",
      "Current Iteration: 436\n",
      "Current Iteration: 437\n",
      "Current Iteration: 438\n",
      "Current Iteration: 439\n",
      "Current Iteration: 440\n",
      "Current Iteration: 441\n",
      "Current Iteration: 442\n",
      "Current Iteration: 443\n",
      "Current Iteration: 444\n",
      "Current Iteration: 445\n",
      "Current Iteration: 446\n",
      "Current Iteration: 447\n",
      "Current Iteration: 448\n",
      "Current Iteration: 449\n",
      "Current Iteration: 450\n",
      "Current Iteration: 451\n",
      "Current Iteration: 452\n",
      "Current Iteration: 453\n",
      "Current Iteration: 454\n",
      "Current Iteration: 455\n",
      "Current Iteration: 456\n",
      "Current Iteration: 457\n",
      "Current Iteration: 458\n",
      "Current Iteration: 459\n",
      "Current Iteration: 460\n",
      "Current Iteration: 461\n",
      "Current Iteration: 462\n",
      "Current Iteration: 463\n",
      "Current Iteration: 464\n",
      "Current Iteration: 465\n",
      "Current Iteration: 466\n",
      "Current Iteration: 467\n",
      "Current Iteration: 468\n",
      "Current Iteration: 469\n",
      "Current Iteration: 470\n",
      "Current Iteration: 471\n",
      "Current Iteration: 472\n",
      "Current Iteration: 473\n",
      "Current Iteration: 474\n",
      "Current Iteration: 475\n",
      "Current Iteration: 476\n",
      "Current Iteration: 477\n",
      "Current Iteration: 478\n",
      "Current Iteration: 479\n",
      "Current Iteration: 480\n",
      "Current Iteration: 481\n",
      "Current Iteration: 482\n",
      "Current Iteration: 483\n",
      "Current Iteration: 484\n",
      "Current Iteration: 485\n",
      "Current Iteration: 486\n",
      "Current Iteration: 487\n",
      "Current Iteration: 488\n",
      "Current Iteration: 489\n",
      "Current Iteration: 490\n",
      "Current Iteration: 491\n",
      "Current Iteration: 492\n",
      "Current Iteration: 493\n",
      "Current Iteration: 494\n",
      "Current Iteration: 495\n",
      "Current Iteration: 496\n",
      "Current Iteration: 497\n",
      "Current Iteration: 498\n",
      "Current Iteration: 499\n",
      "Current Iteration: 500\n",
      "Current Iteration: 501\n",
      "Current Iteration: 502\n",
      "Current Iteration: 503\n",
      "Current Iteration: 504\n",
      "Current Iteration: 505\n",
      "Current Iteration: 506\n",
      "Current Iteration: 507\n",
      "Current Iteration: 508\n",
      "Current Iteration: 509\n",
      "Current Iteration: 510\n",
      "Current Iteration: 511\n",
      "Current Iteration: 512\n",
      "Current Iteration: 513\n",
      "Current Iteration: 514\n",
      "Current Iteration: 515\n",
      "Current Iteration: 516\n",
      "Current Iteration: 517\n",
      "Current Iteration: 518\n",
      "Current Iteration: 519\n",
      "Current Iteration: 520\n",
      "Current Iteration: 521\n",
      "Current Iteration: 522\n",
      "Current Iteration: 523\n",
      "Current Iteration: 524\n",
      "Current Iteration: 525\n",
      "Current Iteration: 526\n",
      "Current Iteration: 527\n",
      "Current Iteration: 528\n",
      "Current Iteration: 529\n",
      "Current Iteration: 530\n",
      "Current Iteration: 531\n",
      "Current Iteration: 532\n",
      "Current Iteration: 533\n",
      "Current Iteration: 534\n",
      "Current Iteration: 535\n",
      "Current Iteration: 536\n",
      "Current Iteration: 537\n",
      "Current Iteration: 538\n",
      "Current Iteration: 539\n",
      "Current Iteration: 540\n",
      "Current Iteration: 541\n",
      "Current Iteration: 542\n",
      "Current Iteration: 543\n",
      "Current Iteration: 544\n",
      "Current Iteration: 545\n",
      "Current Iteration: 546\n",
      "Current Iteration: 547\n",
      "Current Iteration: 548\n",
      "Current Iteration: 549\n",
      "Current Iteration: 550\n",
      "Current Iteration: 551\n",
      "Current Iteration: 552\n",
      "Current Iteration: 553\n",
      "Current Iteration: 554\n",
      "Current Iteration: 555\n",
      "Current Iteration: 556\n",
      "Current Iteration: 557\n",
      "Current Iteration: 558\n",
      "Current Iteration: 559\n",
      "Current Iteration: 560\n",
      "Current Iteration: 561\n",
      "Current Iteration: 562\n",
      "Current Iteration: 563\n",
      "Current Iteration: 564\n",
      "Current Iteration: 565\n",
      "Current Iteration: 566\n",
      "Current Iteration: 567\n",
      "Current Iteration: 568\n",
      "Current Iteration: 569\n",
      "Current Iteration: 570\n",
      "Current Iteration: 571\n",
      "Current Iteration: 572\n",
      "Current Iteration: 573\n",
      "Current Iteration: 574\n",
      "Current Iteration: 575\n",
      "Current Iteration: 576\n",
      "Current Iteration: 577\n",
      "Current Iteration: 578\n",
      "Current Iteration: 579\n",
      "Current Iteration: 580\n",
      "Current Iteration: 581\n",
      "Current Iteration: 582\n",
      "Current Iteration: 583\n",
      "Current Iteration: 584\n",
      "Current Iteration: 585\n",
      "Current Iteration: 586\n",
      "Current Iteration: 587\n",
      "Current Iteration: 588\n",
      "Current Iteration: 589\n",
      "Current Iteration: 590\n",
      "Current Iteration: 591\n",
      "Current Iteration: 592\n",
      "Current Iteration: 593\n",
      "Current Iteration: 594\n",
      "Current Iteration: 595\n",
      "Current Iteration: 596\n",
      "Current Iteration: 597\n",
      "Current Iteration: 598\n",
      "Current Iteration: 599\n",
      "Current Iteration: 600\n",
      "Current Iteration: 601\n",
      "Current Iteration: 602\n",
      "Current Iteration: 603\n",
      "Current Iteration: 604\n",
      "Current Iteration: 605\n",
      "Current Iteration: 606\n",
      "Current Iteration: 607\n",
      "Current Iteration: 608\n",
      "Current Iteration: 609\n",
      "Current Iteration: 610\n",
      "Current Iteration: 611\n",
      "Current Iteration: 612\n",
      "Current Iteration: 613\n",
      "Current Iteration: 614\n",
      "Current Iteration: 615\n",
      "Current Iteration: 616\n",
      "Current Iteration: 617\n",
      "Current Iteration: 618\n",
      "Current Iteration: 619\n",
      "Current Iteration: 620\n",
      "Current Iteration: 621\n",
      "Current Iteration: 622\n",
      "Current Iteration: 623\n",
      "Current Iteration: 624\n",
      "Current Iteration: 625\n",
      "Current Iteration: 626\n",
      "Current Iteration: 627\n",
      "Current Iteration: 628\n",
      "Current Iteration: 629\n",
      "Current Iteration: 630\n",
      "Current Iteration: 631\n",
      "Current Iteration: 632\n",
      "Current Iteration: 633\n",
      "Current Iteration: 634\n",
      "Current Iteration: 635\n",
      "Current Iteration: 636\n",
      "Current Iteration: 637\n",
      "Current Iteration: 638\n",
      "Current Iteration: 639\n",
      "Current Iteration: 640\n",
      "Current Iteration: 641\n",
      "Current Iteration: 642\n",
      "Current Iteration: 643\n",
      "Current Iteration: 644\n",
      "Current Iteration: 645\n",
      "Current Iteration: 646\n",
      "Current Iteration: 647\n",
      "Current Iteration: 648\n",
      "Current Iteration: 649\n",
      "Current Iteration: 650\n",
      "Current Iteration: 651\n",
      "Current Iteration: 652\n",
      "Current Iteration: 653\n",
      "Current Iteration: 654\n",
      "Current Iteration: 655\n",
      "Current Iteration: 656\n",
      "Current Iteration: 657\n",
      "Current Iteration: 658\n",
      "Current Iteration: 659\n",
      "Current Iteration: 660\n",
      "Current Iteration: 661\n",
      "Current Iteration: 662\n",
      "Current Iteration: 663\n",
      "Current Iteration: 664\n",
      "Current Iteration: 665\n",
      "Current Iteration: 666\n",
      "Current Iteration: 667\n",
      "Current Iteration: 668\n",
      "Current Iteration: 669\n",
      "Current Iteration: 670\n",
      "Current Iteration: 671\n",
      "Current Iteration: 672\n",
      "Current Iteration: 673\n",
      "Current Iteration: 674\n",
      "Current Iteration: 675\n",
      "Current Iteration: 676\n",
      "Current Iteration: 677\n",
      "Current Iteration: 678\n",
      "Current Iteration: 679\n",
      "Current Iteration: 680\n",
      "Current Iteration: 681\n",
      "Current Iteration: 682\n",
      "Current Iteration: 683\n",
      "Current Iteration: 684\n",
      "Current Iteration: 685\n",
      "Current Iteration: 686\n",
      "Current Iteration: 687\n",
      "Current Iteration: 688\n",
      "Current Iteration: 689\n",
      "Current Iteration: 690\n",
      "Current Iteration: 691\n",
      "Current Iteration: 692\n",
      "Current Iteration: 693\n",
      "Current Iteration: 694\n",
      "Current Iteration: 695\n",
      "Current Iteration: 696\n",
      "Current Iteration: 697\n",
      "Current Iteration: 698\n",
      "Current Iteration: 699\n",
      "Current Iteration: 700\n",
      "Current Iteration: 701\n",
      "Current Iteration: 702\n",
      "Current Iteration: 703\n",
      "Current Iteration: 704\n",
      "Current Iteration: 705\n",
      "Current Iteration: 706\n",
      "Current Iteration: 707\n",
      "Current Iteration: 708\n",
      "Current Iteration: 709\n",
      "Current Iteration: 710\n",
      "Current Iteration: 711\n",
      "Current Iteration: 712\n",
      "Current Iteration: 713\n",
      "Current Iteration: 714\n",
      "Current Iteration: 715\n",
      "Current Iteration: 716\n",
      "Current Iteration: 717\n",
      "Current Iteration: 718\n",
      "Current Iteration: 719\n"
     ]
    },
    {
     "name": "stdout",
     "output_type": "stream",
     "text": [
      "Current Iteration: 720\n",
      "Current Iteration: 721\n",
      "Current Iteration: 722\n",
      "Current Iteration: 723\n",
      "Current Iteration: 724\n",
      "Current Iteration: 725\n",
      "Current Iteration: 726\n",
      "Current Iteration: 727\n",
      "0.47954754821151174\n",
      "No Of Images =  354\n",
      "Time taken in seconds = 10270.106913805008\n"
     ]
    }
   ],
   "source": [
    "Predictions = dict()\n",
    "GroundTruths = dict()\n",
    "test_scores = []\n",
    "n = len(encoding_test)\n",
    "start = time()\n",
    "for z in range(n):\n",
    "  print(\"Current Iteration:\",z)\n",
    "  pic = list(encoding_test.keys())[z]\n",
    "  image = encoding_test[pic].reshape((1,1024))\n",
    "  imgName = pic.split('.')[0]\n",
    "  if imgName in indication_sent:\n",
    "    ind = indication_sent[imgName]\n",
    "    if imgName in first_sent:\n",
    "      references = first_sent[pic.split('.')[0]]\n",
    "      predicted = beam_search_predictions(pic,ind)\n",
    "      references = references[0].replace('startseq ',\"\")\n",
    "      references = references.replace('endseq',\"\")\n",
    "      score = CalculateBLUEScore(predicted,references)\n",
    "      test_scores.append(score)\n",
    "overAllScore = sum(test_scores)/len(test_scores)\n",
    "print(overAllScore)\n",
    "print(\"No Of Images = \", len(test_scores))\n",
    "print(\"Time taken in seconds =\", time()-start)"
   ]
  },
  {
   "cell_type": "code",
   "execution_count": null,
   "metadata": {},
   "outputs": [],
   "source": []
  }
 ],
 "metadata": {
  "accelerator": "GPU",
  "colab": {
   "collapsed_sections": [],
   "name": "BLUE3.ipynb",
   "provenance": []
  },
  "kernelspec": {
   "display_name": "Python 3",
   "language": "python",
   "name": "python3"
  },
  "language_info": {
   "codemirror_mode": {
    "name": "ipython",
    "version": 3
   },
   "file_extension": ".py",
   "mimetype": "text/x-python",
   "name": "python",
   "nbconvert_exporter": "python",
   "pygments_lexer": "ipython3",
   "version": "3.7.3"
  }
 },
 "nbformat": 4,
 "nbformat_minor": 1
}
